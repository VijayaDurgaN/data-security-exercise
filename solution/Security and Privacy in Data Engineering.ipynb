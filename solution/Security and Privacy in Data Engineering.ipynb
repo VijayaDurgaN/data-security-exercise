{
 "cells": [
  {
   "cell_type": "markdown",
   "metadata": {
    "application/vnd.databricks.v1+cell": {
     "cellMetadata": {},
     "inputWidgets": {},
     "nuid": "a871e723-9ac4-4ead-bc7f-77457d2d0c05",
     "showTitle": false,
     "title": ""
    }
   },
   "source": [
    "## Data Security & Privacy in Workflows\n",
    "\n",
    "In this notebook, we'll explore ways to incorporate data security and privacy into large-scale data workflows. First, you might be wondering why we need to worry about these topics. Shouldn't this be a problem solved by the privacy department, infosec or via product owners? \n",
    "\n",
    "You can think of large scale data workflows like folks who manage the internet. We don't often see their work, but we know when it's broken! They probably deserve a lot more credit and attention for it, but we somehow just expect it \"to work ubiquitously.\" And we certainly expect the data we send around the internet to be kept private and secure (although in some geographies it is less likely...). If it wasn't for the work on those large-scale packet pipelines, then we couldn't trust technologies like SSL, TLS or our web applications or mobile applications. Those are enabled, propogated and enforced by all the intermediary hops, meaning the packet and data are handled with the same promises as they arrived. Hopefully you are getting the picture here -- security and privacy have to be baked into the architecture and data flow from the start, and cannot be simply \"tacked on\" at a given endpoint.\n",
    "\n",
    "So now we understand our responsibilities as the folks building the data backbones. What privacy and security concerns do we actually have? We'll walk through a concrete example to have a look!"
   ]
  },
  {
   "cell_type": "markdown",
   "metadata": {
    "application/vnd.databricks.v1+cell": {
     "cellMetadata": {},
     "inputWidgets": {},
     "nuid": "e3b849cf-2e4e-47ed-8e8c-113ef197af08",
     "showTitle": false,
     "title": ""
    }
   },
   "source": [
    "### Example Data Product: Ingest Air Quality Sensors while Protecting User Privacy\n",
    "\n",
    "- We want to ingest air quality sensor data from users, buildings and institutions who are willing to send us data to build an air quality map (similar to the [IQAir map](https://www.iqair.com/air-quality-map).\n",
    "- Users only want to share the data if they can remain anonymous and their location is fuzzy, so that they are protected against stalkers, prying eyes and state surveillance.\n",
    "- Since the data is sensitive (from people and their homes!), we want to sure that it is secured either at collection, as well as at any intermediary hops.\n",
    "\n",
    "Let's first take a look at our data and determine what can and should be done..."
   ]
  },
  {
   "cell_type": "code",
   "execution_count": null,
   "metadata": {
    "application/vnd.databricks.v1+cell": {
     "cellMetadata": {
      "byteLimit": 2048000,
      "rowLimit": 10000
     },
     "inputWidgets": {},
     "nuid": "0f14680f-aaa0-453a-a43b-d7e0b0015284",
     "showTitle": false,
     "title": ""
    }
   },
   "outputs": [
    {
     "name": "stdout",
     "output_type": "stream",
     "text": [
      "Python interpreter will be restarted.\n",
      "Requirement already satisfied: wget in /local_disk0/.ephemeral_nfs/envs/pythonEnv-7e3ead57-e066-4c6e-abcc-3cc47720acc9/lib/python3.9/site-packages (3.2)\n",
      "Requirement already satisfied: ff3 in /local_disk0/.ephemeral_nfs/cluster_libraries/python/lib/python3.9/site-packages (1.0.0)\n",
      "Requirement already satisfied: pandas in /databricks/python3/lib/python3.9/site-packages (1.3.4)\n",
      "Requirement already satisfied: datafuzz in /local_disk0/.ephemeral_nfs/envs/pythonEnv-7e3ead57-e066-4c6e-abcc-3cc47720acc9/lib/python3.9/site-packages (0.1.0a0)\n",
      "Requirement already satisfied: pycryptodome in /local_disk0/.ephemeral_nfs/cluster_libraries/python/lib/python3.9/site-packages (from ff3) (3.17)\n",
      "Requirement already satisfied: python-dateutil>=2.7.3 in /databricks/python3/lib/python3.9/site-packages (from pandas) (2.8.2)\n",
      "Requirement already satisfied: pytz>=2017.3 in /databricks/python3/lib/python3.9/site-packages (from pandas) (2021.3)\n",
      "Requirement already satisfied: numpy>=1.17.3 in /databricks/python3/lib/python3.9/site-packages (from pandas) (1.20.3)\n",
      "Requirement already satisfied: faker in /local_disk0/.ephemeral_nfs/envs/pythonEnv-7e3ead57-e066-4c6e-abcc-3cc47720acc9/lib/python3.9/site-packages (from datafuzz) (18.3.0)\n",
      "Requirement already satisfied: pyyaml in /local_disk0/.ephemeral_nfs/envs/pythonEnv-7e3ead57-e066-4c6e-abcc-3cc47720acc9/lib/python3.9/site-packages (from datafuzz) (6.0)\n",
      "Requirement already satisfied: dataset in /local_disk0/.ephemeral_nfs/envs/pythonEnv-7e3ead57-e066-4c6e-abcc-3cc47720acc9/lib/python3.9/site-packages (from datafuzz) (1.6.0)\n",
      "Requirement already satisfied: six>=1.5 in /databricks/python3/lib/python3.9/site-packages (from python-dateutil>=2.7.3->pandas) (1.16.0)\n",
      "Requirement already satisfied: alembic>=0.6.2 in /local_disk0/.ephemeral_nfs/envs/pythonEnv-7e3ead57-e066-4c6e-abcc-3cc47720acc9/lib/python3.9/site-packages (from dataset->datafuzz) (1.10.2)\n",
      "Requirement already satisfied: sqlalchemy<2.0.0,>=1.3.2 in /local_disk0/.ephemeral_nfs/envs/pythonEnv-7e3ead57-e066-4c6e-abcc-3cc47720acc9/lib/python3.9/site-packages (from dataset->datafuzz) (1.4.47)\n",
      "Requirement already satisfied: banal>=1.0.1 in /local_disk0/.ephemeral_nfs/envs/pythonEnv-7e3ead57-e066-4c6e-abcc-3cc47720acc9/lib/python3.9/site-packages (from dataset->datafuzz) (1.0.6)\n",
      "Requirement already satisfied: Mako in /local_disk0/.ephemeral_nfs/envs/pythonEnv-7e3ead57-e066-4c6e-abcc-3cc47720acc9/lib/python3.9/site-packages (from alembic>=0.6.2->dataset->datafuzz) (1.2.4)\n",
      "Requirement already satisfied: typing-extensions>=4 in /local_disk0/.ephemeral_nfs/envs/pythonEnv-7e3ead57-e066-4c6e-abcc-3cc47720acc9/lib/python3.9/site-packages (from alembic>=0.6.2->dataset->datafuzz) (4.5.0)\n",
      "Requirement already satisfied: greenlet!=0.4.17 in /local_disk0/.ephemeral_nfs/envs/pythonEnv-7e3ead57-e066-4c6e-abcc-3cc47720acc9/lib/python3.9/site-packages (from sqlalchemy<2.0.0,>=1.3.2->dataset->datafuzz) (2.0.2)\n",
      "Requirement already satisfied: MarkupSafe>=0.9.2 in /databricks/python3/lib/python3.9/site-packages (from Mako->alembic>=0.6.2->dataset->datafuzz) (2.0.1)\n",
      "Python interpreter will be restarted.\n"
     ]
    }
   ],
   "source": [
    "%run ./init"
   ]
  },
  {
   "cell_type": "code",
   "execution_count": null,
   "metadata": {
    "application/vnd.databricks.v1+cell": {
     "cellMetadata": {
      "byteLimit": 2048000,
      "rowLimit": 10000
     },
     "inputWidgets": {},
     "nuid": "c93f364d-c4df-4ef4-a9b0-a89af6b7fbe2",
     "showTitle": false,
     "title": ""
    }
   },
   "outputs": [
    {
     "data": {
      "application/vnd.databricks.v1+bamboolib_hint": "{\"pd.DataFrames\": [], \"version\": \"0.0.1\"}",
      "text/plain": []
     },
     "metadata": {
      "application/vnd.databricks.v1+output": {
       "addedWidgets": {},
       "arguments": {},
       "data": {
        "application/vnd.databricks.v1+bamboolib_hint": "{\"pd.DataFrames\": [], \"version\": \"0.0.1\"}",
        "text/plain": ""
       },
       "datasetInfos": [],
       "executionCount": null,
       "metadata": {
        "kernelSessionId": "831ad4f7-cfbb9191ed4225789bc8971a"
       },
       "removedWidgets": [],
       "type": "mimeBundle"
      }
     },
     "output_type": "display_data"
    },
    {
     "name": "stdout",
     "output_type": "stream",
     "text": [
      "Out[1]: True"
     ]
    },
    {
     "name": "stdout",
     "output_type": "stream",
     "text": [
      "Out[4]: [FileInfo(path='dbfs:/FileStore/samvardhan.gopathy/dataSecurity/data/air_quality.csv', name='air_quality.csv', size=11244658, modificationTime=1679599690000)]"
     ]
    }
   ],
   "source": [
    "from pyspark.sql import SparkSession, Row\n",
    "from pyspark.sql.types import StringType, TimestampType\n",
    "import pyspark.sql.functions as F\n",
    "from pyspark.sql.functions import udf, lit, col\n",
    "\n",
    "import pandas as pd\n",
    "import os\n",
    "\n",
    "cwd = os.getcwd()\n",
    "root_dir = \"\"\n",
    "\n",
    "if (cwd == \"/databricks/driver\"):\n",
    "    root_dir = f\"{working_directory}/\"\n",
    "else:\n",
    "    root_dir = \"\"\n",
    "\n",
    "df = spark.read.csv(f'{root_dir}/data/air_quality.csv', header=True, inferSchema=True)"
   ]
  },
  {
   "cell_type": "markdown",
   "metadata": {
    "application/vnd.databricks.v1+cell": {
     "cellMetadata": {},
     "inputWidgets": {},
     "nuid": "66cd8aab-2d54-4f3f-b8ca-eb7c4f0790d3",
     "showTitle": false,
     "title": ""
    }
   },
   "source": [
    "I need to parse this properly in Spark... luckily there are a few helper functions that can help me with this problem! Let's explore them together :)\n",
    "\n",
    "First, I wnat to get an example row and see the schema so I can be sure that the data types are what I expect..."
   ]
  },
  {
   "cell_type": "code",
   "execution_count": null,
   "metadata": {
    "application/vnd.databricks.v1+cell": {
     "cellMetadata": {
      "byteLimit": 2048000,
      "rowLimit": 10000
     },
     "inputWidgets": {},
     "nuid": "48e742d6-0ec0-40f0-bfa1-d9082be7c71f",
     "showTitle": false,
     "title": ""
    }
   },
   "outputs": [
    {
     "name": "stdout",
     "output_type": "stream",
     "text": [
      "+-------------------------------------------------------------------------+\n",
      "|location                                                                 |\n",
      "+-------------------------------------------------------------------------+\n",
      "|('10.66668', '-61.51889', 'Port of Spain', 'TT', 'America/Port_of_Spain')|\n",
      "+-------------------------------------------------------------------------+\n",
      "only showing top 1 row\n",
      "\n"
     ]
    }
   ],
   "source": [
    "df.select('location').show(1, truncate=False)"
   ]
  },
  {
   "cell_type": "code",
   "execution_count": null,
   "metadata": {
    "application/vnd.databricks.v1+cell": {
     "cellMetadata": {
      "byteLimit": 2048000,
      "rowLimit": 10000
     },
     "inputWidgets": {},
     "nuid": "749cadfc-183b-4cca-bfff-f19b1336de13",
     "showTitle": false,
     "title": ""
    }
   },
   "outputs": [
    {
     "name": "stdout",
     "output_type": "stream",
     "text": [
      "root\n",
      " |-- air_quality_index: integer (nullable = true)\n",
      " |-- user_id: string (nullable = true)\n",
      " |-- location: string (nullable = true)\n",
      " |-- top_pollutant: string (nullable = true)\n",
      " |-- top_pollutant_concentration: string (nullable = true)\n",
      " |-- timestamp: string (nullable = true)\n",
      "\n"
     ]
    }
   ],
   "source": [
    "df.printSchema()"
   ]
  },
  {
   "cell_type": "markdown",
   "metadata": {
    "application/vnd.databricks.v1+cell": {
     "cellMetadata": {},
     "inputWidgets": {},
     "nuid": "de3687e0-21f4-49bb-8ae0-e10937c189b9",
     "showTitle": false,
     "title": ""
    }
   },
   "source": [
    "Now I want to remove some of the extra characters around the string so that it is easier to parse. I will use regular expressions to do that in a few easy-to-read commands."
   ]
  },
  {
   "cell_type": "code",
   "execution_count": null,
   "metadata": {
    "application/vnd.databricks.v1+cell": {
     "cellMetadata": {
      "byteLimit": 2048000,
      "rowLimit": 10000
     },
     "inputWidgets": {},
     "nuid": "4173e2ab-331c-4f8a-8318-9dfbbee1e206",
     "showTitle": false,
     "title": ""
    }
   },
   "outputs": [
    {
     "data": {
      "text/plain": [
       "\u001b[0;36m  File \u001b[0;32m\"<command-2812539252775323>\"\u001b[0;36m, line \u001b[0;32m2\u001b[0m\n",
       "\u001b[0;31m    # remove extra characters - \"[()']\" from the location column string\u001b[0m\n",
       "\u001b[0m                                                                           ^\u001b[0m\n",
       "\u001b[0;31mIndentationError\u001b[0m\u001b[0;31m:\u001b[0m expected an indented block\n"
      ]
     },
     "metadata": {
      "application/vnd.databricks.v1+output": {
       "arguments": {},
       "data": "\u001b[0;36m  File \u001b[0;32m\"<command-2812539252775323>\"\u001b[0;36m, line \u001b[0;32m2\u001b[0m\n\u001b[0;31m    # remove extra characters - \"[()']\" from the location column string\u001b[0m\n\u001b[0m                                                                           ^\u001b[0m\n\u001b[0;31mIndentationError\u001b[0m\u001b[0;31m:\u001b[0m expected an indented block\n",
       "errorSummary": "<span class='ansi-red-fg'>IndentationError</span>: expected an indented block (<command-2812539252775323>, line 2)",
       "errorTraceType": "ansi",
       "metadata": {},
       "type": "ipynbError"
      }
     },
     "output_type": "display_data"
    }
   ],
   "source": [
    "def replace_brackets_in_location(df): \n",
    "# remove extra characters - \"[()']\" from the location column string    "
   ]
  },
  {
   "cell_type": "code",
   "execution_count": null,
   "metadata": {
    "application/vnd.databricks.v1+cell": {
     "cellMetadata": {
      "byteLimit": 2048000,
      "rowLimit": 10000
     },
     "inputWidgets": {},
     "nuid": "01270763-495d-41ff-9cde-168dbb491432",
     "showTitle": false,
     "title": ""
    }
   },
   "outputs": [
    {
     "name": "stdout",
     "output_type": "stream",
     "text": [
      "All tests passed :)\n"
     ]
    }
   ],
   "source": [
    "def test_replace_brackets_in_location():\n",
    "  pandas_df = pd.DataFrame(\n",
    "      {\n",
    "          'id':  pd.Series([1, 2, 3]),\n",
    "          'location': pd.Series([\"New York, NY\", \"(Los Angeles), CA\", \"Chicago' IL\"]),\n",
    "      }\n",
    "  )\n",
    "  expected_pandas_df = pd.DataFrame(\n",
    "      {\n",
    "          'id':  pd.Series([1, 2, 3]),\n",
    "          'location': pd.Series([\"New York, NY\", \"Los Angeles, CA\", \"Chicago IL\"]),\n",
    "      }\n",
    "  )\n",
    "  spark_df = spark.createDataFrame(pandas_df)\n",
    "  expected_df = spark.createDataFrame(expected_pandas_df)\n",
    "\n",
    "  fixed_df = replace_brackets_in_location(spark_df)\n",
    "  \n",
    "  assert fixed_df.schema == expected_df.schema\n",
    "  assert fixed_df.collect() == expected_df.collect()\n",
    "\n",
    "  print(\"All tests passed :)\")\n",
    "  \n",
    "test_replace_brackets_in_location()"
   ]
  },
  {
   "cell_type": "markdown",
   "metadata": {
    "application/vnd.databricks.v1+cell": {
     "cellMetadata": {},
     "inputWidgets": {},
     "nuid": "fd4045d1-b6d2-4dec-9c31-b53d50db6e4c",
     "showTitle": false,
     "title": ""
    }
   },
   "source": [
    "##### Solution"
   ]
  },
  {
   "cell_type": "code",
   "execution_count": null,
   "metadata": {
    "application/vnd.databricks.v1+cell": {
     "cellMetadata": {
      "byteLimit": 2048000,
      "rowLimit": 10000
     },
     "inputWidgets": {},
     "nuid": "138fa7a3-ff66-472c-8b59-75cd2ef8b827",
     "showTitle": false,
     "title": ""
    }
   },
   "outputs": [],
   "source": [
    "def replace_brackets_in_location(df): \n",
    "    return df.withColumn(\"location\", F.regexp_replace(\"location\", \"[()']\", \"\"))"
   ]
  },
  {
   "cell_type": "code",
   "execution_count": null,
   "metadata": {
    "application/vnd.databricks.v1+cell": {
     "cellMetadata": {
      "byteLimit": 2048000,
      "rowLimit": 10000
     },
     "inputWidgets": {},
     "nuid": "4e4022e4-01c5-4ac3-9212-22e7be61c818",
     "showTitle": false,
     "title": ""
    }
   },
   "outputs": [],
   "source": [
    "df = replace_brackets_in_location(df)"
   ]
  },
  {
   "cell_type": "code",
   "execution_count": null,
   "metadata": {
    "application/vnd.databricks.v1+cell": {
     "cellMetadata": {
      "byteLimit": 2048000,
      "rowLimit": 10000
     },
     "inputWidgets": {},
     "nuid": "6f2e1afb-9e59-440e-a92d-dddee62809a4",
     "showTitle": false,
     "title": ""
    }
   },
   "outputs": [
    {
     "name": "stdout",
     "output_type": "stream",
     "text": [
      "+-------------------------------------------------------------+\n",
      "|location                                                     |\n",
      "+-------------------------------------------------------------+\n",
      "|10.66668, -61.51889, Port of Spain, TT, America/Port_of_Spain|\n",
      "+-------------------------------------------------------------+\n",
      "only showing top 1 row\n",
      "\n"
     ]
    }
   ],
   "source": [
    "df.select('location').show(1, truncate=False)"
   ]
  },
  {
   "cell_type": "markdown",
   "metadata": {
    "application/vnd.databricks.v1+cell": {
     "cellMetadata": {},
     "inputWidgets": {},
     "nuid": "a7a375bb-2031-4494-9df4-c57c8d278104",
     "showTitle": false,
     "title": ""
    }
   },
   "source": [
    "Now it's easier for me to split the string and properly parse it. Spark has a split function that can help. I will put this into a new column called location_arr for location array."
   ]
  },
  {
   "cell_type": "code",
   "execution_count": null,
   "metadata": {
    "application/vnd.databricks.v1+cell": {
     "cellMetadata": {},
     "inputWidgets": {},
     "nuid": "12a079e6-6553-4da2-af24-be32b4d7e745",
     "showTitle": false,
     "title": ""
    }
   },
   "outputs": [],
   "source": [
    "def split_location(df):\n",
    "# split the \"location\" column into an array of strings    "
   ]
  },
  {
   "cell_type": "code",
   "execution_count": null,
   "metadata": {
    "application/vnd.databricks.v1+cell": {
     "cellMetadata": {
      "byteLimit": 2048000,
      "rowLimit": 10000
     },
     "inputWidgets": {},
     "nuid": "0752a27d-5bb4-4a11-a286-092b006e0fc0",
     "showTitle": false,
     "title": ""
    }
   },
   "outputs": [
    {
     "name": "stdout",
     "output_type": "stream",
     "text": [
      "All tests passed :)\n"
     ]
    }
   ],
   "source": [
    "from  pyspark.sql.types import IntegerType, StructField, StringType, ArrayType, FloatType, StructType\n",
    "\n",
    "def test_split_location():\n",
    "  schema = StructType([\n",
    "      StructField(\"id\", IntegerType()),\n",
    "      StructField(\"location\", StringType())\n",
    "  ])\n",
    "  pandas_df = pd.DataFrame(\n",
    "      {\n",
    "          'id':  pd.Series([1, 2, 3]),\n",
    "          'location': pd.Series([\"New York, NY\", \"Los Angeles, CA\", \"Chicago, IL\"]),\n",
    "      }\n",
    "  )\n",
    "  expected_schema = StructType([\n",
    "      StructField(\"id\", IntegerType()),\n",
    "      StructField(\"location\", StringType()),\n",
    "      StructField(\"location_arr\", ArrayType(StringType(), False))\n",
    "  ])\n",
    "  expected_pandas_df = pd.DataFrame(\n",
    "      {\n",
    "          'id':  pd.Series([1, 2, 3]),\n",
    "          'location': pd.Series([\"New York, NY\", \"Los Angeles, CA\", \"Chicago, IL\"]),\n",
    "          'location_arr': pd.Series([ [\"New York\",\"NY\"], [\"Los Angeles\",\"CA\"], [\"Chicago\",\"IL\"]]),\n",
    "      }\n",
    "  )\n",
    "  spark_df = spark.createDataFrame(pandas_df,schema)\n",
    "  expected_df = spark.createDataFrame(expected_pandas_df,expected_schema)\n",
    "\n",
    "  fixed_df = split_location(spark_df)\n",
    " \n",
    "  assert fixed_df.schema == expected_df.schema\n",
    "  assert fixed_df.collect() == expected_df.collect()\n",
    "\n",
    "  print(\"All tests passed :)\")\n",
    "  \n",
    "test_split_location()"
   ]
  },
  {
   "cell_type": "markdown",
   "metadata": {
    "application/vnd.databricks.v1+cell": {
     "cellMetadata": {},
     "inputWidgets": {},
     "nuid": "1c47a012-e6c4-4122-a011-e470da5bb562",
     "showTitle": false,
     "title": ""
    }
   },
   "source": [
    "##### Solution"
   ]
  },
  {
   "cell_type": "code",
   "execution_count": null,
   "metadata": {
    "application/vnd.databricks.v1+cell": {
     "cellMetadata": {
      "byteLimit": 2048000,
      "rowLimit": 10000
     },
     "inputWidgets": {},
     "nuid": "bebf6a35-6394-4a40-8330-384252a03691",
     "showTitle": false,
     "title": ""
    }
   },
   "outputs": [],
   "source": [
    "def split_location(df):\n",
    "    return df.withColumn(\"location_arr\", F.split(\"location\", \", \"))"
   ]
  },
  {
   "cell_type": "code",
   "execution_count": null,
   "metadata": {
    "application/vnd.databricks.v1+cell": {
     "cellMetadata": {
      "byteLimit": 2048000,
      "rowLimit": 10000
     },
     "inputWidgets": {},
     "nuid": "a1d60bf8-953a-41e7-8160-d9cb9d1e2b52",
     "showTitle": false,
     "title": ""
    }
   },
   "outputs": [],
   "source": [
    "df = split_location(df)"
   ]
  },
  {
   "cell_type": "code",
   "execution_count": null,
   "metadata": {
    "application/vnd.databricks.v1+cell": {
     "cellMetadata": {
      "byteLimit": 2048000,
      "rowLimit": 10000
     },
     "inputWidgets": {},
     "nuid": "064940ed-62a3-41d6-a202-c02524003656",
     "showTitle": false,
     "title": ""
    }
   },
   "outputs": [
    {
     "name": "stdout",
     "output_type": "stream",
     "text": [
      "Out[16]: Row(air_quality_index=200, user_id='maynardmorgan', location='10.66668, -61.51889, Port of Spain, TT, America/Port_of_Spain', top_pollutant='PM10', top_pollutant_concentration='88', timestamp='2022-04-07T14:38:34.869188', location_arr=['10.66668', '-61.51889', 'Port of Spain', 'TT', 'America/Port_of_Spain'])"
     ]
    }
   ],
   "source": [
    "df.head()"
   ]
  },
  {
   "cell_type": "markdown",
   "metadata": {
    "application/vnd.databricks.v1+cell": {
     "cellMetadata": {},
     "inputWidgets": {},
     "nuid": "bae720ff-d6ad-41e2-bbba-3750c8c0b996",
     "showTitle": false,
     "title": ""
    }
   },
   "source": [
    "Looking much better!!! Now we need to fix the schema problems... and take these from the location array and put them into actual columns!"
   ]
  },
  {
   "cell_type": "code",
   "execution_count": null,
   "metadata": {
    "application/vnd.databricks.v1+cell": {
     "cellMetadata": {},
     "inputWidgets": {},
     "nuid": "0b729b1a-3dff-4f36-8026-4509e8ba8282",
     "showTitle": false,
     "title": ""
    }
   },
   "outputs": [],
   "source": [
    "def create_cols_for_location_arr_items(df):\n",
    "# The 'location' column should be split into separate columns lat,long,city,country and timezone"
   ]
  },
  {
   "cell_type": "code",
   "execution_count": null,
   "metadata": {
    "application/vnd.databricks.v1+cell": {
     "cellMetadata": {
      "byteLimit": 2048000,
      "rowLimit": 10000
     },
     "inputWidgets": {},
     "nuid": "41bd5e6d-0275-441c-88ee-f041d6b3553a",
     "showTitle": false,
     "title": ""
    }
   },
   "outputs": [
    {
     "name": "stdout",
     "output_type": "stream",
     "text": [
      "All tests passed :)\n"
     ]
    }
   ],
   "source": [
    "def test_create_cols_for_location_arr_items():\n",
    "  schema = StructType([\n",
    "      StructField(\"id\", IntegerType()),\n",
    "      StructField(\"location\", StringType()),\n",
    "       StructField(\"location_arr\", ArrayType(StringType(), False))\n",
    "  ])\n",
    "  pandas_df = pd.DataFrame(\n",
    "      {\n",
    "          'id':  pd.Series([1, 2]),\n",
    "          'location': pd.Series([\"New York, NY\", \"Los Angeles, CA\"]),\n",
    "          'location_arr' : pd.Series([ [\"40.7128\",\"-74.0060\",\"New York\",\"USA\",\"America/New_York\"], [\"34.0522\",\"-118.2437\",\"Los Angeles\",\"USA\",\"America/Los_Angeles\"]])\n",
    "      }\n",
    "  )\n",
    "  expected_schema = StructType([\n",
    "      StructField(\"id\", IntegerType()),\n",
    "      StructField(\"location\", StringType()),\n",
    "      StructField(\"location_arr\", ArrayType(StringType(), False)),\n",
    "      StructField(\"lat\", FloatType()),\n",
    "      StructField(\"long\", FloatType()),\n",
    "      StructField(\"city\", StringType()),\n",
    "      StructField(\"country\", StringType()),\n",
    "      StructField(\"timezone\", StringType())\n",
    "  ])\n",
    "  expected_pandas_df = pd.DataFrame(\n",
    "      {\n",
    "          'id':  pd.Series([1, 2]),\n",
    "          'location': pd.Series([\"New York, NY\", \"Los Angeles, CA\"]),\n",
    "          'location_arr' : pd.Series([ [\"40.7128\",\"-74.0060\",\"New York\",\"USA\",\"America/New_York\"], [\"34.0522\",\"-118.2437\",\"Los Angeles\",\"USA\",\"America/Los_Angeles\"]]),\n",
    "          'lat' : pd.Series([40.7128, 34.0522]),\n",
    "          'long' : pd.Series([-74.0060, -118.2437]),\n",
    "          'city' : pd.Series([\"New York\", \"Los Angeles\"]),\n",
    "          'country' : pd.Series([\"USA\", \"USA\"]),\n",
    "          'timezone' : pd.Series([\"America/New_York\", \"America/Los_Angeles\"]),\n",
    "      }\n",
    "  )\n",
    "  spark_df = spark.createDataFrame(pandas_df,schema)\n",
    "  expected_df = spark.createDataFrame(expected_pandas_df,expected_schema)\n",
    "\n",
    "  fixed_df = create_cols_for_location_arr_items(spark_df)\n",
    " \n",
    "\n",
    "  assert fixed_df.schema == expected_df.schema\n",
    "  assert fixed_df.collect() == expected_df.collect()\n",
    "\n",
    "  print(\"All tests passed :)\")\n",
    "  \n",
    "test_create_cols_for_location_arr_items()"
   ]
  },
  {
   "cell_type": "markdown",
   "metadata": {
    "application/vnd.databricks.v1+cell": {
     "cellMetadata": {},
     "inputWidgets": {},
     "nuid": "f67d54f5-3344-4879-bda6-1d944684c681",
     "showTitle": false,
     "title": ""
    }
   },
   "source": [
    "##### Solution"
   ]
  },
  {
   "cell_type": "code",
   "execution_count": null,
   "metadata": {
    "application/vnd.databricks.v1+cell": {
     "cellMetadata": {
      "byteLimit": 2048000,
      "rowLimit": 10000
     },
     "inputWidgets": {},
     "nuid": "ad0a07a9-e673-4f57-b120-47827a4b1d27",
     "showTitle": false,
     "title": ""
    }
   },
   "outputs": [],
   "source": [
    "def create_cols_for_location_arr_items(df):\n",
    "    return df.withColumn('lat', df.location_arr.getItem(0).cast('float')) \\\n",
    "    .withColumn('long', df.location_arr.getItem(1).cast('float')) \\\n",
    "    .withColumn('city', df.location_arr.getItem(2)) \\\n",
    "    .withColumn('country', df.location_arr.getItem(3)) \\\n",
    "    .withColumn('timezone', df.location_arr.getItem(4))"
   ]
  },
  {
   "cell_type": "code",
   "execution_count": null,
   "metadata": {
    "application/vnd.databricks.v1+cell": {
     "cellMetadata": {
      "byteLimit": 2048000,
      "rowLimit": 10000
     },
     "inputWidgets": {},
     "nuid": "029fda7b-3237-4f06-afc2-dffca6f3ab3c",
     "showTitle": false,
     "title": ""
    }
   },
   "outputs": [
    {
     "name": "stdout",
     "output_type": "stream",
     "text": [
      "root\n",
      " |-- air_quality_index: integer (nullable = true)\n",
      " |-- user_id: string (nullable = true)\n",
      " |-- location: string (nullable = true)\n",
      " |-- top_pollutant: string (nullable = true)\n",
      " |-- top_pollutant_concentration: string (nullable = true)\n",
      " |-- timestamp: string (nullable = true)\n",
      " |-- location_arr: array (nullable = true)\n",
      " |    |-- element: string (containsNull = false)\n",
      " |-- lat: float (nullable = true)\n",
      " |-- long: float (nullable = true)\n",
      " |-- city: string (nullable = true)\n",
      " |-- country: string (nullable = true)\n",
      " |-- timezone: string (nullable = true)\n",
      "\n"
     ]
    }
   ],
   "source": [
    "df = create_cols_for_location_arr_items(df)\n",
    "df.printSchema()"
   ]
  },
  {
   "cell_type": "markdown",
   "metadata": {
    "application/vnd.databricks.v1+cell": {
     "cellMetadata": {},
     "inputWidgets": {},
     "nuid": "08ea923d-09d1-46c3-a558-1c3e89ef259e",
     "showTitle": false,
     "title": ""
    }
   },
   "source": [
    "The schema above looks much better, now I will drop the old columns since they are useless to me now..."
   ]
  },
  {
   "cell_type": "code",
   "execution_count": null,
   "metadata": {
    "application/vnd.databricks.v1+cell": {
     "cellMetadata": {
      "byteLimit": 2048000,
      "rowLimit": 10000
     },
     "inputWidgets": {},
     "nuid": "b1e15e70-135b-4599-82d5-4ad6f73a4db2",
     "showTitle": false,
     "title": ""
    }
   },
   "outputs": [],
   "source": [
    "df = df.drop('location', 'location_arr')"
   ]
  },
  {
   "cell_type": "markdown",
   "metadata": {
    "application/vnd.databricks.v1+cell": {
     "cellMetadata": {},
     "inputWidgets": {},
     "nuid": "a06f2e9b-8e90-4cb5-9dc3-ff4ae84d0f25",
     "showTitle": false,
     "title": ""
    }
   },
   "source": [
    "Next I need to create my air quality categories as follows...\n",
    "\n",
    "Based on the IQAir map, the ranges look to be about:\n",
    "\n",
    "    Great: less than or equal to 50\n",
    "    Good: 51-100\n",
    "    Okay: 101-150\n",
    "    Poor: 151-200\n",
    "    Bad: 201-300\n",
    "    Extremely Bad: 301+\n",
    "\n",
    "Let's make these into integer values 1-6"
   ]
  },
  {
   "cell_type": "code",
   "execution_count": null,
   "metadata": {
    "application/vnd.databricks.v1+cell": {
     "cellMetadata": {
      "byteLimit": 2048000,
      "rowLimit": 10000
     },
     "inputWidgets": {},
     "nuid": "99446385-b05f-4edc-989d-4f91ad292be1",
     "showTitle": false,
     "title": ""
    }
   },
   "outputs": [],
   "source": [
    "df = df.withColumn('air_quality_category', F.when(\n",
    "    df.air_quality_index <= 50, 1).when(\n",
    "    df.air_quality_index <= 100, 2).when(\n",
    "    df.air_quality_index <= 150, 3).when(\n",
    "    df.air_quality_index <= 200, 4).when(\n",
    "    df.air_quality_index <= 300, 5).otherwise(6))"
   ]
  },
  {
   "cell_type": "code",
   "execution_count": null,
   "metadata": {
    "application/vnd.databricks.v1+cell": {
     "cellMetadata": {
      "byteLimit": 2048000,
      "rowLimit": 10000
     },
     "inputWidgets": {},
     "nuid": "309c7c50-55dc-4b45-b450-1f7b9a850ef5",
     "showTitle": false,
     "title": ""
    }
   },
   "outputs": [
    {
     "name": "stdout",
     "output_type": "stream",
     "text": [
      "Out[22]: Row(air_quality_index=200, user_id='maynardmorgan', top_pollutant='PM10', top_pollutant_concentration='88', timestamp='2022-04-07T14:38:34.869188', lat=10.666680335998535, long=-61.518890380859375, city='Port of Spain', country='TT', timezone='America/Port_of_Spain', air_quality_category=4)"
     ]
    }
   ],
   "source": [
    "df.head()"
   ]
  },
  {
   "cell_type": "markdown",
   "metadata": {
    "application/vnd.databricks.v1+cell": {
     "cellMetadata": {},
     "inputWidgets": {},
     "nuid": "aabb8200-8a86-4a3d-b77f-d59f6ec8f239",
     "showTitle": false,
     "title": ""
    }
   },
   "source": [
    "### So what even is sensitive information?\n",
    "\n",
    "Categories of sensitive information:\n",
    "\n",
    "- **Personally Identifiable Information (PII)**: This is information that we can directly link to a person without much effort. This includes information like email address, IP address, legal name, address, birth date, gender and so forth. Even just one of these pieces of information can be enough to directly identify someone in a dataset.\n",
    "- **Person-Related Information**: This is data that is created by a person and that likely has some personal artifacts. For example, [web browsing histories are fairly unique](https://blog.lukaszolejnik.com/web-browsing-histories-are-private-personal-data-now-what/), so is location data (i.e. Where do you sleep at night? Where do you work?) and even your likes on social media can statistically reveal sensitive attributes, such as your gender, ethnicity and your political preferences.\n",
    "- **Confidential Information**: This is sensitive information for companies, that should remain protected via similar methods as personal data. This data could reveal details about the core business model, proprietary practices, customer details (which can also contain personal information!) and internal business processes.\n",
    "\n",
    "When we define sensitive information as only PII, we tend to ignore other potential targets of sensitive data, that might be just as, if not more valuable!"
   ]
  },
  {
   "cell_type": "markdown",
   "metadata": {
    "application/vnd.databricks.v1+cell": {
     "cellMetadata": {},
     "inputWidgets": {},
     "nuid": "d3d53bbe-8f60-4ccd-89a2-23e7a2b5317c",
     "showTitle": false,
     "title": ""
    }
   },
   "source": [
    "#### What is sensitive here?"
   ]
  },
  {
   "cell_type": "code",
   "execution_count": null,
   "metadata": {
    "application/vnd.databricks.v1+cell": {
     "cellMetadata": {
      "byteLimit": 2048000,
      "rowLimit": 10000
     },
     "inputWidgets": {},
     "nuid": "ae5a9e27-34bd-48d9-b1b8-0760f8dcbf18",
     "showTitle": false,
     "title": ""
    }
   },
   "outputs": [
    {
     "name": "stdout",
     "output_type": "stream",
     "text": [
      "-RECORD 0-------------------------------------------------\n",
      " air_quality_index           | 0                          \n",
      " user_id                     | pfrost                     \n",
      " top_pollutant               | CO                         \n",
      " top_pollutant_concentration | 71                         \n",
      " timestamp                   | 2022-04-07T14:52:45.869188 \n",
      " lat                         | 23.15678                   \n",
      " long                        | -81.24441                  \n",
      " city                        | Varadero                   \n",
      " country                     | CU                         \n",
      " timezone                    | America/Havana             \n",
      " air_quality_category        | 1                          \n",
      "-RECORD 1-------------------------------------------------\n",
      " air_quality_index           | 140                        \n",
      " user_id                     | seanpreston                \n",
      " top_pollutant               | PM2.5                      \n",
      " top_pollutant_concentration | 74                         \n",
      " timestamp                   | 2022-04-07T15:14:40.869188 \n",
      " lat                         | 26.11527                   \n",
      " long                        | 86.59509                   \n",
      " city                        | Supaul                     \n",
      " country                     | IN                         \n",
      " timezone                    | Asia/Kolkata               \n",
      " air_quality_category        | 3                          \n",
      "-RECORD 2-------------------------------------------------\n",
      " air_quality_index           | 160                        \n",
      " user_id                     | ginayoung                  \n",
      " top_pollutant               | PM10                       \n",
      " top_pollutant_concentration | 61                         \n",
      " timestamp                   | 2022-04-07T15:35:16.869188 \n",
      " lat                         | 16.0438                    \n",
      " long                        | 120.4861                   \n",
      " city                        | Manaoag                    \n",
      " country                     | PH                         \n",
      " timezone                    | Asia/Manila                \n",
      " air_quality_category        | 4                          \n",
      "only showing top 3 rows\n",
      "\n"
     ]
    }
   ],
   "source": [
    "df.sample(0.01).show(3, truncate=False, vertical=True)"
   ]
  },
  {
   "cell_type": "code",
   "execution_count": null,
   "metadata": {
    "application/vnd.databricks.v1+cell": {
     "cellMetadata": {
      "byteLimit": 2048000,
      "rowLimit": 10000
     },
     "inputWidgets": {},
     "nuid": "a60d4925-7ca1-4b95-85a9-3b9e7ac42db4",
     "showTitle": false,
     "title": ""
    }
   },
   "outputs": [
    {
     "name": "stdout",
     "output_type": "stream",
     "text": [
      "+-----------------+----------------+-------------+---------------------------+--------------------+---------+---------+-------------------+-------+--------------------+--------------------+\n",
      "|air_quality_index|         user_id|top_pollutant|top_pollutant_concentration|           timestamp|      lat|     long|               city|country|            timezone|air_quality_category|\n",
      "+-----------------+----------------+-------------+---------------------------+--------------------+---------+---------+-------------------+-------+--------------------+--------------------+\n",
      "|              200|   maynardmorgan|         PM10|                         88|2022-04-07T14:38:...| 10.66668|-61.51889|      Port of Spain|     TT|America/Port_of_S...|                   4|\n",
      "|              200|millerjacqueline|         PM10|                         45|2022-04-07T14:39:...| 34.25628|-78.04471|             Leland|     US|    America/New_York|                   4|\n",
      "|                0|           ikirk|          NO2|                         31|2022-04-07T14:39:...| 43.48961|  -8.2194|             Ferrol|     ES|       Europe/Madrid|                   1|\n",
      "|              300| williamszachary|           CO|                         15|2022-04-07T14:40:...| 42.06166| -1.60452|             Tudela|     ES|       Europe/Madrid|                   5|\n",
      "|              280|        sfarrell|        PM2.5|                         62|2022-04-07T14:41:...|   -28.24|-48.67028|           Imbituba|     BR|   America/Sao_Paulo|                   5|\n",
      "|               20|     mariamartin|           CO|                          9|2022-04-07T14:41:...| 51.40944| 46.04833|       Privolzhskiy|     RU|      Europe/Saratov|                   1|\n",
      "|               80|   michaelfuller|           CO|                         99|2022-04-07T14:42:...| 53.30972| 83.62389|     Novosilikatnyy|     RU|        Asia/Barnaul|                   2|\n",
      "|              100|       acummings|          SO2|                         32|2022-04-07T14:43:...| 52.53048| 13.29371|Charlottenburg-Nord|     DE|       Europe/Berlin|                   2|\n",
      "|              140|    glorialandry|          NO2|                         77|2022-04-07T14:43:...| 37.13548| -3.67029|         Las Gabias|     ES|       Europe/Madrid|                   3|\n",
      "|               60|      martinjohn|           O3|                         73|2022-04-07T14:44:...|  5.30383| -1.98956|             Tarkwa|     GH|        Africa/Accra|                   2|\n",
      "|              360|  karenmaldonado|           O3|                          7|2022-04-07T14:45:...| 46.65581|  32.6178|            Kherson|     UA|         Europe/Kiev|                   6|\n",
      "|               60|     aaronholden|        PM2.5|                         44|2022-04-07T14:46:...| 42.22718| 14.39024|           Lanciano|     IT|         Europe/Rome|                   2|\n",
      "|              240|        johnny58|         PM10|                         29|2022-04-07T14:46:...|-22.53722|-42.98194|         Guapimirim|     BR|   America/Sao_Paulo|                   5|\n",
      "|              220|   sanderssummer|        PM2.5|                         62|2022-04-07T14:47:...| 40.87329| 14.43865|    Somma Vesuviana|     IT|         Europe/Rome|                   5|\n",
      "|              200|   bradleymosley|           CO|                         11|2022-04-07T14:47:...|  3.51667|     11.5|           Mbalmayo|     CM|       Africa/Douala|                   4|\n",
      "|               20|   atkinsrussell|          SO2|                         77|2022-04-07T14:48:...| 49.03685|  8.70745|            Bretten|     DE|       Europe/Berlin|                   1|\n",
      "|                0|          hlewis|          NO2|                         80|2022-04-07T14:49:...|  53.0233| -1.48119|             Belper|     GB|       Europe/London|                   1|\n",
      "|              180|  crystalcarlson|          NO2|                         25|2022-04-07T14:49:...| 54.58048| 16.86194|              Ustka|     PL|       Europe/Warsaw|                   4|\n",
      "|              220|        sharon04|         PM10|                         43|2022-04-07T14:50:...| 39.71734|-74.96933|       Sicklerville|     US|    America/New_York|                   5|\n",
      "|              120|        tjohnson|        PM2.5|                         43|2022-04-07T14:51:...|  19.8173|-97.35992|          Teziutlan|     MX| America/Mexico_City|                   3|\n",
      "+-----------------+----------------+-------------+---------------------------+--------------------+---------+---------+-------------------+-------+--------------------+--------------------+\n",
      "only showing top 20 rows\n",
      "\n"
     ]
    }
   ],
   "source": [
    "df.show()"
   ]
  },
  {
   "cell_type": "markdown",
   "metadata": {
    "application/vnd.databricks.v1+cell": {
     "cellMetadata": {},
     "inputWidgets": {},
     "nuid": "32ae697d-4040-46e5-a92d-e9f79b03dcae",
     "showTitle": false,
     "title": ""
    }
   },
   "source": [
    "#### How might we...?\n",
    "\n",
    "- Protect user_id while still allowing it to be linkable?\n",
    "- Remove potentially identifying precision in location?\n",
    "- Remove potentially identifying information in the timestamp?\n",
    "- Make these into scalable and repeatable actions for our workflow?\n",
    "\n",
    "Let's work on these step by step!"
   ]
  },
  {
   "cell_type": "markdown",
   "metadata": {
    "application/vnd.databricks.v1+cell": {
     "cellMetadata": {},
     "inputWidgets": {},
     "nuid": "11ce1ccb-12a9-402d-8b35-77aefebb714e",
     "showTitle": false,
     "title": ""
    }
   },
   "source": [
    "# Cryptographic Hashing\n",
    "\n",
    "\n",
    "- Protect user_id by hashing it's value \n",
    "\n",
    "Hashing is a one-way function that takes an input (e.g. a password or other data) and generates a fixed-size output (the hash value) that is unique to that input.The purpose of hashing is to provide data integrity and to protect against tampering or unauthorized modifications of the data."
   ]
  },
  {
   "cell_type": "code",
   "execution_count": null,
   "metadata": {
    "application/vnd.databricks.v1+cell": {
     "cellMetadata": {
      "byteLimit": 2048000,
      "rowLimit": 10000
     },
     "inputWidgets": {},
     "nuid": "9c3d74c3-39cd-4764-99ef-3ba37c12148b",
     "showTitle": false,
     "title": ""
    }
   },
   "outputs": [
    {
     "data": {
      "text/plain": [
       "\u001b[0;36m  File \u001b[0;32m\"<command-1661023049023575>\"\u001b[0;36m, line \u001b[0;32m1\u001b[0m\n",
       "\u001b[0;31m    def hash_column(df, column_name):\u001b[0m\n",
       "\u001b[0m                                     ^\u001b[0m\n",
       "\u001b[0;31mIndentationError\u001b[0m\u001b[0;31m:\u001b[0m expected an indented block\n"
      ]
     },
     "metadata": {
      "application/vnd.databricks.v1+output": {
       "arguments": {},
       "data": "\u001b[0;36m  File \u001b[0;32m\"<command-1661023049023575>\"\u001b[0;36m, line \u001b[0;32m1\u001b[0m\n\u001b[0;31m    def hash_column(df, column_name):\u001b[0m\n\u001b[0m                                     ^\u001b[0m\n\u001b[0;31mIndentationError\u001b[0m\u001b[0;31m:\u001b[0m expected an indented block\n",
       "errorSummary": "<span class='ansi-red-fg'>IndentationError</span>: expected an indented block (<command-1661023049023575>, line 1)",
       "errorTraceType": "ansi",
       "metadata": {},
       "type": "ipynbError"
      }
     },
     "output_type": "display_data"
    }
   ],
   "source": [
    "def hash_column(df, column_name):\n",
    "    # TODO"
   ]
  },
  {
   "cell_type": "code",
   "execution_count": null,
   "metadata": {
    "application/vnd.databricks.v1+cell": {
     "cellMetadata": {
      "byteLimit": 2048000,
      "rowLimit": 10000
     },
     "inputWidgets": {},
     "nuid": "6ecc5a6e-38e9-4268-bf79-841d6e8ee9b9",
     "showTitle": false,
     "title": ""
    }
   },
   "outputs": [],
   "source": [
    " def test_hash_column():\n",
    "     schema = StructType([StructField(\"user_id\", StringType(), True)])\n",
    "     data = [(\"12345\",), (\"67890\",), (\"abcdef\",)]\n",
    "     df = spark.createDataFrame(data, schema)\n",
    "        \n",
    "     hashed_df = hash_column(df, \"user_id\")\n",
    "        \n",
    "     original_values = [\"12345\", \"67890\", \"abcdef\"]\n",
    "     hashed_values = hashed_df.select(\"hashed_user_id\").rdd.flatMap(lambda x: x).collect()\n",
    "     for i in range(len(original_values)):\n",
    "         assert hashed_values[i] != original_values[i], \"The number of hashed values has been matched with the original value\"\n",
    "        \n",
    "test_hash_column()            "
   ]
  },
  {
   "cell_type": "code",
   "execution_count": null,
   "metadata": {
    "application/vnd.databricks.v1+cell": {
     "cellMetadata": {
      "byteLimit": 2048000,
      "rowLimit": 10000
     },
     "inputWidgets": {},
     "nuid": "db0bd939-4c90-4c64-b180-e267f6dbb58c",
     "showTitle": false,
     "title": ""
    }
   },
   "outputs": [
    {
     "name": "stdout",
     "output_type": "stream",
     "text": [
      "+-----------------+----------------+-------------+---------------------------+--------------------+---------+---------+-------------------+-------+--------------------+--------------------+--------------------+\n",
      "|air_quality_index|         user_id|top_pollutant|top_pollutant_concentration|           timestamp|      lat|     long|               city|country|            timezone|air_quality_category|      hashed_user_id|\n",
      "+-----------------+----------------+-------------+---------------------------+--------------------+---------+---------+-------------------+-------+--------------------+--------------------+--------------------+\n",
      "|              200|   maynardmorgan|         PM10|                         88|2022-04-07T14:38:...| 10.66668|-61.51889|      Port of Spain|     TT|America/Port_of_S...|                   4|ef0e8649d9000ff22...|\n",
      "|              200|millerjacqueline|         PM10|                         45|2022-04-07T14:39:...| 34.25628|-78.04471|             Leland|     US|    America/New_York|                   4|3ed407ff320fa7e1c...|\n",
      "|                0|           ikirk|          NO2|                         31|2022-04-07T14:39:...| 43.48961|  -8.2194|             Ferrol|     ES|       Europe/Madrid|                   1|d6dc43d1eddaf86a3...|\n",
      "|              300| williamszachary|           CO|                         15|2022-04-07T14:40:...| 42.06166| -1.60452|             Tudela|     ES|       Europe/Madrid|                   5|2d52a80f1269fa45a...|\n",
      "|              280|        sfarrell|        PM2.5|                         62|2022-04-07T14:41:...|   -28.24|-48.67028|           Imbituba|     BR|   America/Sao_Paulo|                   5|199fbb0cf17446f7b...|\n",
      "|               20|     mariamartin|           CO|                          9|2022-04-07T14:41:...| 51.40944| 46.04833|       Privolzhskiy|     RU|      Europe/Saratov|                   1|844263bdd99411a71...|\n",
      "|               80|   michaelfuller|           CO|                         99|2022-04-07T14:42:...| 53.30972| 83.62389|     Novosilikatnyy|     RU|        Asia/Barnaul|                   2|2b2092ab6ecde8454...|\n",
      "|              100|       acummings|          SO2|                         32|2022-04-07T14:43:...| 52.53048| 13.29371|Charlottenburg-Nord|     DE|       Europe/Berlin|                   2|7d686f976893f470a...|\n",
      "|              140|    glorialandry|          NO2|                         77|2022-04-07T14:43:...| 37.13548| -3.67029|         Las Gabias|     ES|       Europe/Madrid|                   3|f0cdc51de348d6ad2...|\n",
      "|               60|      martinjohn|           O3|                         73|2022-04-07T14:44:...|  5.30383| -1.98956|             Tarkwa|     GH|        Africa/Accra|                   2|15be00a1fb4b128a6...|\n",
      "|              360|  karenmaldonado|           O3|                          7|2022-04-07T14:45:...| 46.65581|  32.6178|            Kherson|     UA|         Europe/Kiev|                   6|e4868e74cb3abef3e...|\n",
      "|               60|     aaronholden|        PM2.5|                         44|2022-04-07T14:46:...| 42.22718| 14.39024|           Lanciano|     IT|         Europe/Rome|                   2|e9f84ce09b08c6279...|\n",
      "|              240|        johnny58|         PM10|                         29|2022-04-07T14:46:...|-22.53722|-42.98194|         Guapimirim|     BR|   America/Sao_Paulo|                   5|812e1d4421f0b8fdf...|\n",
      "|              220|   sanderssummer|        PM2.5|                         62|2022-04-07T14:47:...| 40.87329| 14.43865|    Somma Vesuviana|     IT|         Europe/Rome|                   5|8347a519499114eb9...|\n",
      "|              200|   bradleymosley|           CO|                         11|2022-04-07T14:47:...|  3.51667|     11.5|           Mbalmayo|     CM|       Africa/Douala|                   4|302198479d636635f...|\n",
      "|               20|   atkinsrussell|          SO2|                         77|2022-04-07T14:48:...| 49.03685|  8.70745|            Bretten|     DE|       Europe/Berlin|                   1|070206423832ef1e9...|\n",
      "|                0|          hlewis|          NO2|                         80|2022-04-07T14:49:...|  53.0233| -1.48119|             Belper|     GB|       Europe/London|                   1|a6b7474c78c8c6af2...|\n",
      "|              180|  crystalcarlson|          NO2|                         25|2022-04-07T14:49:...| 54.58048| 16.86194|              Ustka|     PL|       Europe/Warsaw|                   4|d724eeabf5cff077a...|\n",
      "|              220|        sharon04|         PM10|                         43|2022-04-07T14:50:...| 39.71734|-74.96933|       Sicklerville|     US|    America/New_York|                   5|66a77bd4cca8dbded...|\n",
      "|              120|        tjohnson|        PM2.5|                         43|2022-04-07T14:51:...|  19.8173|-97.35992|          Teziutlan|     MX| America/Mexico_City|                   3|25b7dc49e6bd18e1d...|\n",
      "+-----------------+----------------+-------------+---------------------------+--------------------+---------+---------+-------------------+-------+--------------------+--------------------+--------------------+\n",
      "only showing top 20 rows\n",
      "\n"
     ]
    }
   ],
   "source": [
    "df = hash_column(df, 'user_id')\n",
    "df.show()"
   ]
  },
  {
   "cell_type": "markdown",
   "metadata": {
    "application/vnd.databricks.v1+cell": {
     "cellMetadata": {},
     "inputWidgets": {},
     "nuid": "3facc2b3-113c-49e4-b437-28ef1f863abc",
     "showTitle": false,
     "title": ""
    }
   },
   "source": [
    "# Solution"
   ]
  },
  {
   "cell_type": "code",
   "execution_count": null,
   "metadata": {
    "application/vnd.databricks.v1+cell": {
     "cellMetadata": {
      "byteLimit": 2048000,
      "rowLimit": 10000
     },
     "inputWidgets": {},
     "nuid": "83761766-d7cd-4baf-82a2-3dbbc6632e84",
     "showTitle": false,
     "title": ""
    }
   },
   "outputs": [],
   "source": [
    "from pyspark.sql.functions import udf\n",
    "from pyspark.sql.types import StringType\n",
    "import hashlib\n",
    "\n",
    "def hash_column(df, column_name):\n",
    "    def sha256_hash(value):\n",
    "        return hashlib.sha256(str(value).encode('utf-8')).hexdigest()\n",
    "    udf_sha256_hash = udf(sha256_hash, StringType())\n",
    "    df = df.withColumn('hashed_' + column_name, udf_sha256_hash(column_name))\n",
    "    return df"
   ]
  },
  {
   "cell_type": "code",
   "execution_count": null,
   "metadata": {
    "application/vnd.databricks.v1+cell": {
     "cellMetadata": {
      "byteLimit": 2048000,
      "rowLimit": 10000
     },
     "inputWidgets": {},
     "nuid": "b2aa65e7-af42-4cda-9c83-8e4b2f60ae58",
     "showTitle": false,
     "title": ""
    }
   },
   "outputs": [
    {
     "name": "stdout",
     "output_type": "stream",
     "text": [
      "+-----------------+----------------+-------------+---------------------------+--------------------+---------+---------+-------------------+-------+--------------------+--------------------+--------------------+\n",
      "|air_quality_index|         user_id|top_pollutant|top_pollutant_concentration|           timestamp|      lat|     long|               city|country|            timezone|air_quality_category|      hashed_user_id|\n",
      "+-----------------+----------------+-------------+---------------------------+--------------------+---------+---------+-------------------+-------+--------------------+--------------------+--------------------+\n",
      "|              200|   maynardmorgan|         PM10|                         88|2022-04-07T14:38:...| 10.66668|-61.51889|      Port of Spain|     TT|America/Port_of_S...|                   4|ef0e8649d9000ff22...|\n",
      "|              200|millerjacqueline|         PM10|                         45|2022-04-07T14:39:...| 34.25628|-78.04471|             Leland|     US|    America/New_York|                   4|3ed407ff320fa7e1c...|\n",
      "|                0|           ikirk|          NO2|                         31|2022-04-07T14:39:...| 43.48961|  -8.2194|             Ferrol|     ES|       Europe/Madrid|                   1|d6dc43d1eddaf86a3...|\n",
      "|              300| williamszachary|           CO|                         15|2022-04-07T14:40:...| 42.06166| -1.60452|             Tudela|     ES|       Europe/Madrid|                   5|2d52a80f1269fa45a...|\n",
      "|              280|        sfarrell|        PM2.5|                         62|2022-04-07T14:41:...|   -28.24|-48.67028|           Imbituba|     BR|   America/Sao_Paulo|                   5|199fbb0cf17446f7b...|\n",
      "|               20|     mariamartin|           CO|                          9|2022-04-07T14:41:...| 51.40944| 46.04833|       Privolzhskiy|     RU|      Europe/Saratov|                   1|844263bdd99411a71...|\n",
      "|               80|   michaelfuller|           CO|                         99|2022-04-07T14:42:...| 53.30972| 83.62389|     Novosilikatnyy|     RU|        Asia/Barnaul|                   2|2b2092ab6ecde8454...|\n",
      "|              100|       acummings|          SO2|                         32|2022-04-07T14:43:...| 52.53048| 13.29371|Charlottenburg-Nord|     DE|       Europe/Berlin|                   2|7d686f976893f470a...|\n",
      "|              140|    glorialandry|          NO2|                         77|2022-04-07T14:43:...| 37.13548| -3.67029|         Las Gabias|     ES|       Europe/Madrid|                   3|f0cdc51de348d6ad2...|\n",
      "|               60|      martinjohn|           O3|                         73|2022-04-07T14:44:...|  5.30383| -1.98956|             Tarkwa|     GH|        Africa/Accra|                   2|15be00a1fb4b128a6...|\n",
      "|              360|  karenmaldonado|           O3|                          7|2022-04-07T14:45:...| 46.65581|  32.6178|            Kherson|     UA|         Europe/Kiev|                   6|e4868e74cb3abef3e...|\n",
      "|               60|     aaronholden|        PM2.5|                         44|2022-04-07T14:46:...| 42.22718| 14.39024|           Lanciano|     IT|         Europe/Rome|                   2|e9f84ce09b08c6279...|\n",
      "|              240|        johnny58|         PM10|                         29|2022-04-07T14:46:...|-22.53722|-42.98194|         Guapimirim|     BR|   America/Sao_Paulo|                   5|812e1d4421f0b8fdf...|\n",
      "|              220|   sanderssummer|        PM2.5|                         62|2022-04-07T14:47:...| 40.87329| 14.43865|    Somma Vesuviana|     IT|         Europe/Rome|                   5|8347a519499114eb9...|\n",
      "|              200|   bradleymosley|           CO|                         11|2022-04-07T14:47:...|  3.51667|     11.5|           Mbalmayo|     CM|       Africa/Douala|                   4|302198479d636635f...|\n",
      "|               20|   atkinsrussell|          SO2|                         77|2022-04-07T14:48:...| 49.03685|  8.70745|            Bretten|     DE|       Europe/Berlin|                   1|070206423832ef1e9...|\n",
      "|                0|          hlewis|          NO2|                         80|2022-04-07T14:49:...|  53.0233| -1.48119|             Belper|     GB|       Europe/London|                   1|a6b7474c78c8c6af2...|\n",
      "|              180|  crystalcarlson|          NO2|                         25|2022-04-07T14:49:...| 54.58048| 16.86194|              Ustka|     PL|       Europe/Warsaw|                   4|d724eeabf5cff077a...|\n",
      "|              220|        sharon04|         PM10|                         43|2022-04-07T14:50:...| 39.71734|-74.96933|       Sicklerville|     US|    America/New_York|                   5|66a77bd4cca8dbded...|\n",
      "|              120|        tjohnson|        PM2.5|                         43|2022-04-07T14:51:...|  19.8173|-97.35992|          Teziutlan|     MX| America/Mexico_City|                   3|25b7dc49e6bd18e1d...|\n",
      "+-----------------+----------------+-------------+---------------------------+--------------------+---------+---------+-------------------+-------+--------------------+--------------------+--------------------+\n",
      "only showing top 20 rows\n",
      "\n"
     ]
    }
   ],
   "source": [
    "new_df= spark.createDataFrame(df.rdd, df.schema)\n",
    "new_df.show()"
   ]
  },
  {
   "cell_type": "code",
   "execution_count": null,
   "metadata": {
    "application/vnd.databricks.v1+cell": {
     "cellMetadata": {
      "byteLimit": 2048000,
      "rowLimit": 10000
     },
     "inputWidgets": {},
     "nuid": "4a0e1452-4738-419c-8f97-55fe1eb7699a",
     "showTitle": false,
     "title": ""
    }
   },
   "outputs": [
    {
     "name": "stdout",
     "output_type": "stream",
     "text": [
      "b'gAAAAABkHKYmHdKGVuS1BdOIc2CPMOSSSyPQVprbCTP5wwv9qh86R8N-xrK7sYvql9aYOSjZnQBjj2rLqK1fLxmGU2DJMD-lzQ=='\n"
     ]
    }
   ],
   "source": [
    "# Example code to show how Fernet works and encrypts a text string. \n",
    " \n",
    "from cryptography.fernet import Fernet\n",
    "# >>> Put this somewhere safe!\n",
    "key = Fernet.generate_key()\n",
    "f = Fernet(key)\n",
    "token = f.encrypt(b\"secret message\")\n",
    "print(token)"
   ]
  },
  {
   "cell_type": "code",
   "execution_count": null,
   "metadata": {
    "application/vnd.databricks.v1+cell": {
     "cellMetadata": {
      "byteLimit": 2048000,
      "rowLimit": 10000
     },
     "inputWidgets": {},
     "nuid": "f6df7b17-76a3-48d2-84ab-251b6b914665",
     "showTitle": false,
     "title": ""
    }
   },
   "outputs": [
    {
     "name": "stdout",
     "output_type": "stream",
     "text": [
      "secret message\n"
     ]
    }
   ],
   "source": [
    "print(f.decrypt(token).decode())"
   ]
  },
  {
   "cell_type": "code",
   "execution_count": null,
   "metadata": {
    "application/vnd.databricks.v1+cell": {
     "cellMetadata": {
      "byteLimit": 2048000,
      "rowLimit": 10000
     },
     "inputWidgets": {},
     "nuid": "6280854e-a3f8-4c19-b30c-be63014f8199",
     "showTitle": false,
     "title": ""
    }
   },
   "outputs": [],
   "source": [
    "# generate the encryption key\n",
    "Key = Fernet.generate_key()"
   ]
  },
  {
   "cell_type": "code",
   "execution_count": null,
   "metadata": {
    "application/vnd.databricks.v1+cell": {
     "cellMetadata": {
      "byteLimit": 2048000,
      "rowLimit": 10000
     },
     "inputWidgets": {},
     "nuid": "c8bf483e-6c23-4a3f-8adb-21b3ce7d2485",
     "showTitle": false,
     "title": ""
    }
   },
   "outputs": [],
   "source": [
    "# Define Encrypt User Defined Function \n",
    "def encrypt_user_id(plain_text,MASTER_KEY):\n",
    "    f = Fernet(MASTER_KEY)\n",
    "    plain_text_bytes=bytes(plain_text, 'utf-8')\n",
    "    cipher_text = f.encrypt(plain_text_bytes)\n",
    "    cipher_text = str(cipher_text.decode('ascii'))\n",
    "    return cipher_text"
   ]
  },
  {
   "cell_type": "code",
   "execution_count": null,
   "metadata": {
    "application/vnd.databricks.v1+cell": {
     "cellMetadata": {
      "byteLimit": 2048000,
      "rowLimit": 10000
     },
     "inputWidgets": {},
     "nuid": "3efed140-46bd-4658-82ce-34ab8d247e07",
     "showTitle": false,
     "title": ""
    }
   },
   "outputs": [
    {
     "name": "stdout",
     "output_type": "stream",
     "text": [
      "All tests passed\n"
     ]
    }
   ],
   "source": [
    "import pandas as pd\n",
    "\n",
    "def test_encrypt_user_id():\n",
    "    \n",
    "    plain_df = spark.createDataFrame(\n",
    "        data=[\n",
    "            (1,\"abcd\"),\n",
    "            (2,\"efgh\"),\n",
    "            (3,\"ijkl\")\n",
    "        ],\n",
    "        schema= [\"id\",\"user_id\"],\n",
    "    )\n",
    "       \n",
    "    key = Fernet.generate_key()\n",
    "    f = Fernet(key)\n",
    "    \n",
    "    encrypted_udf = udf(encrypt_user_id, StringType())    \n",
    "    encrypted_df = plain_df.withColumn(\"user_id\", encrypted_udf(col('user_id'), lit(key))) \n",
    "    \n",
    "    expected_decrypted_list = [f.decrypt(i['user_id'].encode()).decode() for i in encrypted_df.select(col('user_id')).collect() ]\n",
    "    \n",
    "    assert plain_df.select(col('user_id')).collect() != encrypted_df.select(col('user_id')).collect(),\"The user_id column has to be encrypted after the encryption logic applied\"    \n",
    "    assert plain_df.rdd.map(lambda x: x.user_id).collect() == expected_decrypted_list,\"The decrypted values has to match the plain_df's user_id values\"\n",
    "    \n",
    "    print(\"All tests passed\")\n",
    "    \n",
    "test_encrypt_user_id()    "
   ]
  },
  {
   "cell_type": "code",
   "execution_count": null,
   "metadata": {
    "application/vnd.databricks.v1+cell": {
     "cellMetadata": {
      "byteLimit": 2048000,
      "rowLimit": 10000
     },
     "inputWidgets": {},
     "nuid": "2ff73fa3-c77f-45bc-984b-9535673e4d52",
     "showTitle": false,
     "title": ""
    }
   },
   "outputs": [],
   "source": [
    "encrypted_udf = udf(encrypt_user_id, StringType())"
   ]
  },
  {
   "cell_type": "code",
   "execution_count": null,
   "metadata": {
    "application/vnd.databricks.v1+cell": {
     "cellMetadata": {
      "byteLimit": 2048000,
      "rowLimit": 10000
     },
     "inputWidgets": {},
     "nuid": "497fa546-0468-4228-b38d-f058fc1fd093",
     "showTitle": false,
     "title": ""
    }
   },
   "outputs": [
    {
     "name": "stdout",
     "output_type": "stream",
     "text": [
      "+--------------------+\n",
      "|             user_id|\n",
      "+--------------------+\n",
      "|gAAAAABkHKYzGCGFc...|\n",
      "|gAAAAABkHKYzOyGO2...|\n",
      "|gAAAAABkHKYzx4P2E...|\n",
      "|gAAAAABkHKYzMbfpH...|\n",
      "|gAAAAABkHKYzyaGO1...|\n",
      "|gAAAAABkHKYzBg08Y...|\n",
      "|gAAAAABkHKYzyIhzf...|\n",
      "|gAAAAABkHKYz5TtI7...|\n",
      "|gAAAAABkHKYzhycc0...|\n",
      "|gAAAAABkHKYzjxhiF...|\n",
      "|gAAAAABkHKYzXOH5I...|\n",
      "|gAAAAABkHKYzMN5ea...|\n",
      "|gAAAAABkHKYzbyOA2...|\n",
      "|gAAAAABkHKYzGNJre...|\n",
      "|gAAAAABkHKYzP9IoF...|\n",
      "|gAAAAABkHKYzL7r9X...|\n",
      "|gAAAAABkHKYz9FTPS...|\n",
      "|gAAAAABkHKYzASmSe...|\n",
      "|gAAAAABkHKYzLZAyr...|\n",
      "|gAAAAABkHKYz3Wdgd...|\n",
      "+--------------------+\n",
      "only showing top 20 rows\n",
      "\n"
     ]
    }
   ],
   "source": [
    "df.select(encrypted_udf(col(\"user_id\"),lit(Key)).alias(\"user_id\")).show()"
   ]
  },
  {
   "cell_type": "markdown",
   "metadata": {
    "application/vnd.databricks.v1+cell": {
     "cellMetadata": {},
     "inputWidgets": {},
     "nuid": "e52cdf63-56b6-499c-90d6-9e276984d5e0",
     "showTitle": false,
     "title": ""
    }
   },
   "source": [
    "It looks like it's working, but with UDFs you never know. Remember, Spark function evaluation is LAZY, so it will sample a bit and test. To see if it will work on the entire dataframe, we need to call collect. Let's test it out!"
   ]
  },
  {
   "cell_type": "code",
   "execution_count": null,
   "metadata": {
    "application/vnd.databricks.v1+cell": {
     "cellMetadata": {
      "byteLimit": 2048000,
      "rowLimit": 10000
     },
     "inputWidgets": {},
     "nuid": "ce779e8a-3b5f-4524-b2c2-2214c660b17c",
     "showTitle": false,
     "title": ""
    }
   },
   "outputs": [
    {
     "name": "stdout",
     "output_type": "stream",
     "text": [
      "Out[37]: [Row(user_id='gAAAAABkHKY3514ocUr3Wo3_ONSv5jmkw9uQS8o-SPHa3cUuglx8Jv4-9ZvzUp4-uvdrcENbmKiCG5A7MmeylWGPNzEdXpl8YA=='),\n",
      " Row(user_id='gAAAAABkHKY3-QPeKTOEJTN4A3uE-6ZnF4Jpyok2MMDAteDvCkpHjjGeWLfnF_SANi5vUqGqgK3XttgT8hCkKtYKHVcxfLS6r9CgtmsGJNyjFCM892_CYj0='),\n",
      " Row(user_id='gAAAAABkHKY3-ZQX_V88ylPvpFRxzJUbmM4YhrPK9Lb291jXUo51PhZxuk1lYl9iU4jeaPWL3vgHZqOrO5ZUTZu_fHxiw44kaQ=='),\n",
      " Row(user_id='gAAAAABkHKY3Rk1rT8IHB2XO36gGhayQbYwZ4k_Av_RqcfBMYdArCq-pMyH8ogCZZL-2u-re00fXkeuPk5y44lUXodJiGhLbUg=='),\n",
      " Row(user_id='gAAAAABkHKY3klXLcOdREucsz_zDGy1uQJ_FoRgtaHNDT-i6VBRMvOIJJWagKAvUGROzZn6sjEo1ObD81kE7DNqguTBsAXtqvw=='),\n",
      " Row(user_id='gAAAAABkHKY3i4wEqU4pX3dhqQsJ5inx_IspKsxW5wQammtySO7OWK7KFYhqv06Qp1kVhUP6YQxu4mV-GfjVtIQwptIYmYhzzQ=='),\n",
      " Row(user_id='gAAAAABkHKY3KhoYZIWJjhyL_fJB-XgL7__QJl4ktiLkR1Pc3YRhEt-kAoJFcu2-Lt4fKvrK034lYnsRaWGLD1wuSmnjV4Epxw=='),\n",
      " Row(user_id='gAAAAABkHKY3SEFyTDa-jZUtbDNvjoNoN6LtYjSIR4dCZFT3IWhNSUYJX_JVyB5tT44xcHxlEVotD-B0DEZbovvNKy3KnHTeCA=='),\n",
      " Row(user_id='gAAAAABkHKY3DTSQ0D4wo75SZtQMXW5QpRtp-t8qQSGsbFkA8PzhMC1xIkypcp-F_9YE7YEpH2Ng6SgUHoeiRis8YdGyzNmV3w=='),\n",
      " Row(user_id='gAAAAABkHKY3BOV25uozXCahPTM8dGxarMVhi6F2qxIjsi_FWKS5l77L-lFL9eTgMpYDxfTXpQBIHl7v5YjNDbeA0V_Ozu4I8A=='),\n",
      " Row(user_id='gAAAAABkHKY32T_HkftakZUiXWEULzNFl1qdjD643CnPEWH41wyfr4ME9Sbx7ttgxEqW8Ab1n_CJjpN4dmaWqc6oRoDIFsCvzQ=='),\n",
      " Row(user_id='gAAAAABkHKY3h8U_HZPkoTW4d6-M-1oF6p0Pp_HsK-50HzmCTeOglXfBvofY7JFqOb0gtADW7mq_qtdMSdfDD89yU2i4SFTE9A=='),\n",
      " Row(user_id='gAAAAABkHKY3UrYIikTgjGnPpFii7YQOlIjWOpyUmVSFVT7DLhXvGQvdkw1z4eFcY0laoMEzqUOvNUKDHfkYxMFNIVzSp_yvXQ=='),\n",
      " Row(user_id='gAAAAABkHKY37z4DVVtgXC8nir3dxiJxBT8Kztu5gflJuyr57nsVFSVLdY7B94wdd1aB9k4BK_9rDehI3YhJ5vsGIEUI82UkHQ=='),\n",
      " Row(user_id='gAAAAABkHKY35m3DRwIVfK4iMSaj15SM-YEbPFinry2s-qcQ_1V2bGp8p11_yHxecorvL0J0k2y-uP_pTedf6UlnDnjgMRtHEg=='),\n",
      " Row(user_id='gAAAAABkHKY3D8M2Cet1yEDAJttDXioMhnSXOPwuA05EHJi8t_lHNzppKYViXDY2g87ZB3UsJP5AQwA9UOdyqXuq3xh7lYOqiQ=='),\n",
      " Row(user_id='gAAAAABkHKY38C0EkrJ4DmKSQpWhdqVKWi1yetgUKQFlMHUC4_uwczpWqraOlNbSXw0r6T38PpY6dud5UytbtceAzSQJwWpbxw=='),\n",
      " Row(user_id='gAAAAABkHKY3xSoad-opvEUoslBuiiCY0j8D7an6RLzRAagbijsKmEjXyML44VEjGIVps3k5jiiv-zzy73uJRxDCnXSGbSsWgw=='),\n",
      " Row(user_id='gAAAAABkHKY3sNywP4sIWFYxwTP15k_Rx_04Mbgr6gH1ct0pOeMMCU_A9MrT1ftjpunXDMk1__TPHi_fA2AEyAAkdytm6KjXVA=='),\n",
      " Row(user_id='gAAAAABkHKY3jaWy7bzv8ebSETJeImTgbXRCg9_9vTqj9At9A0Sv7bMIykeP9LHio7rHCsCBqo7De7EbqObcaiclenWjrdFxsQ=='),\n",
      " Row(user_id='gAAAAABkHKY39hwixGQJwwO8q9XLAN0cTv1FG0LrBx16a95OESPsLg-_q0swhs-2sun0HfNIWfxjxF5QvHC-KJIip9jRh8be4g=='),\n",
      " Row(user_id='gAAAAABkHKY3nS_Q8aqjlo1Da6USuqg3XkM8dkefVEPqSBN5ivRDSiIdCOdGfNaAMUDr1zezOQMtStBO5Jq8kMU92h4512miWw=='),\n",
      " Row(user_id='gAAAAABkHKY3OYbELg71XqLhzNabBZs3zeAavdjCIZsCBprMDiaYjMO_q-SuDUu_x6icuCk8Y73kddKdko6wvtHGjtDUOgFg3Q=='),\n",
      " Row(user_id='gAAAAABkHKY3yY5S_KuEWTHbyuCvM5kO_e78wizOImKUQElFKqgbM5DKJx45DuhrKtVfAHnZ2UWA5EMi0xYV9SLjjViPf0xXQA=='),\n",
      " Row(user_id='gAAAAABkHKY3v42hlngSe-Y6ZFPRZUkW-VAXkcv7cQPhmZvLJgxE0hdftT9PBzEE2hn535K5ugdrL_poUk9baP3iyKh47vr0aQ=='),\n",
      " Row(user_id='gAAAAABkHKY3o327rm5oZ7kKU6Z9vPs-IEzBoeqlSPWD33E1IecxeRyJE03dsO17w3dVka8TDDpAqr3h4uqSIUT5HVOv0cX1mg=='),\n",
      " Row(user_id='gAAAAABkHKY3t4dYYU7KQiikyYUPL8Cr7z_Fs2RxaAsX4STFYIisXmWJUsH0fvGAefL2KMHt3OA43rfQIP_BvVB6jKJIA1KCvQ=='),\n",
      " Row(user_id='gAAAAABkHKY3ac-A7gVyyXl_-1A0wo0eBr9XPI9Se7m59xFtlpeVdFfmbFKU4jJ8nJGQVFZQLB2WQg9dfT6-wqmiZZJ3astRLQ=='),\n",
      " Row(user_id='gAAAAABkHKY3DiSRHrDV6SqBhNmcc7Q2ESVrM17H0qA6NixHYm5GU32T4l_GoHV7dv8FssKuVN9yhq8ln4UnO3HHtiNka9D-AQ=='),\n",
      " Row(user_id='gAAAAABkHKY3Z0iAQHMg6gQVSQ-2lM3F_nUkPtgFmQd1lWfYs7dJQBKvJITg9HbxBwNC4ke_VDh2APQzkClP-_OivR6hWjNB7g=='),\n",
      " Row(user_id='gAAAAABkHKY3n9mR6EeHTREvgZJnvKDMi7SmlVOA6NrY05UDv6yjPnLKz-nVc6t9Hl1_hWnqAOaAu6TbwfWXo7BDXQvPmdQlug=='),\n",
      " Row(user_id='gAAAAABkHKY3oA5xCk4F8d2f4w1K8GcultM_fK9x-NFMkWFvYgNqwMlhkNzYYaxq01GUY8f6D2_-LlkPHcZVIzp8oEMWCwK9WQ=='),\n",
      " Row(user_id='gAAAAABkHKY3DToZMckX3FPgtXwftnc41MofrTMcT5OpQ89TPihIvakl7Z5DF3uHaONWmLSKvMa1hVpmxoCm8LycfIMy_wL1fQ=='),\n",
      " Row(user_id='gAAAAABkHKY3ULyGapOsWPHBsju4IXGvGk8gXyrkv8p-3Kx4lidGSMWlSehYR0S_SVCbwRSDwyk-B2ApxPy3Z_G60iiArvs9ZA=='),\n",
      " Row(user_id='gAAAAABkHKY3SZd9uxt0CQgTY8PvhJtO_By4jUpxEXZBUGa80GOMy9zrz1XQk7SVQJRctrWRh_Fiaj75z5ECsxvMB-qIcek0-Q=='),\n",
      " Row(user_id='gAAAAABkHKY3fCZLK5oOg3CGFyEYE23_Yam03a7mD7y8NhelN4sTjY-EHg15I7Nspw9pW-Sh__ifH7TpnMywXZskt8NUPdjlig=='),\n",
      " Row(user_id='gAAAAABkHKY30WX5172o6d0ztGCILvO3jJ97_Aw0754VLFmwOKQR3EG0VT4dwhUE4Ru2eDA8VWo5NIZbHlTsC_WASMhXtNCmdg=='),\n",
      " Row(user_id='gAAAAABkHKY3K3WnzMD3LrZFT4vfPvJjmnCul3AwpjXwOtBVkNBq-KEI_g94pe8ZKC0hXyJgRe5s4iip7mllFQbQdiSuNQMxBw=='),\n",
      " Row(user_id='gAAAAABkHKY35miQerhrCjgGEcKf0Rh0t8VntfnfJuGR4S3bXF-XGwvweLxRZIA6wJ_arJR5BGlTJFDy6mR9ueSOeeu2j6AbBA=='),\n",
      " Row(user_id='gAAAAABkHKY3aCChLs8qc3Tbat73-ejH8Zi9ukONs6sSoQ9CHpHqQO16EUztVF7Mqim4eCnwK7qyqnNqr1ccoDoT-ONiQNlGDg=='),\n",
      " Row(user_id='gAAAAABkHKY3F3_ZbedF_YISvYmoOxiULJmjqLXQddvxsqcKjZvWQB1HtA9-E5E4tdF6BilcifXNiH5nRDca_QtoducLqu8bwA=='),\n",
      " Row(user_id='gAAAAABkHKY3vCRGPPctWwZ55giovJr8uJhHsmt1WKIAiUIfyp8OMdjhXzd0O8Yvq1JuDsytv-9efOlaivhxQOtT0ACLbD8X2w=='),\n",
      " Row(user_id='gAAAAABkHKY3FAiWycek9D22gpFEEEkU2W83IhoIDfIQgKxXJc9M21oFFVC9QdvwZCLLX0Za9gWPWNVYxeeCJIMBm-jrapuHmw=='),\n",
      " Row(user_id='gAAAAABkHKY3EK-dHc-8ecg2YQjt7IowwXUg82YMujBQo2VNvv212x9WkSog3ue_9gffliYMOMyILy1_MayaLfRSvhfy3A-8qQ=='),\n",
      " Row(user_id='gAAAAABkHKY32ffcmVCw931UvPC0FM6c3W9frMUcTH5iiem7sSvUHtAbHMUso8iyvjLrRSe6mBH6knZQd6E7AH5NsPz7zRpi1Q=='),\n",
      " Row(user_id='gAAAAABkHKY3u0wNh312dEP9pOrb_5gqh73BcDja91RIONHvdDUwYCfCUHJbIS717VjrJStQNAG_gc8u-YwHdc6JKf3bPDvljg=='),\n",
      " Row(user_id='gAAAAABkHKY3x1ATq0hsaoxAIfDKoHIJ7kLt9tpAss35uJ5Z7LTtAj3b9gx-fd5pi9XS_HR8jKQcHTQF8lu_Pmksv6sqrjprKg=='),\n",
      " Row(user_id='gAAAAABkHKY3MryV0kdOVe1U-gMajz0-fmIt41flyfhKTRF8NB60mWVdUJV6JVoNzL5uK1o1zh_mDr9KK-qkfyqyG-nGC_dbag=='),\n",
      " Row(user_id='gAAAAABkHKY3KyHuRNPTs0Bh3BYFZMi-uQiLtGTUX7lnAjAbxZOxHH27ab-7Curf2DvY9A-KfGTrDURM2KqKGBge_oa8YjruUg=='),\n",
      " Row(user_id='gAAAAABkHKY38L85TImWMq-or0QadobZF8cUI3AVnZlGKg1-z2l7S-vNqE4ECI9SiGGHCwUmmvpG5nfbns8oXMXZbZVPRSOJb5irUGVI3WJVYMxei3LVqoU='),\n",
      " Row(user_id='gAAAAABkHKY3EZmihSi3SyLxxvbYa7FO9yW2y7OVCzDO8GLFxikbvPMMvwieHjbTbgQU7DdODNSMQVsvTTxY-_UKcfkFjjVT6A=='),\n",
      " Row(user_id='gAAAAABkHKY3Fmlh_lauGywazaZvOMT9uY8OlC_olaHxyOADGz-b3auVkezwv5sKu2MrGejgz2WbUeokaj3EVrptKs1q6KgGQQ=='),\n",
      " Row(user_id='gAAAAABkHKY3XKh-OvF9hGYKT9qIRNachFPqfZo4sE-i4n3FPIaXBG4GhaIFQfx9dPu5NJeaUYzv6_Df32VaawKYTYy2QO_-Kw=='),\n",
      " Row(user_id='gAAAAABkHKY3sMpbC8TJ_KV2dS1sywpDXz8hbjwyOVV9XXlOmSwaPhphEMWyEKxiTaKKHss6ImV0S1ruXe42dJe3Lpfh8iHJ_Q=='),\n",
      " Row(user_id='gAAAAABkHKY3bNU0i9XaLHQDvHXLF2-PG-fVzHnfATI_OBqhqyRMbjLRG9ajf51hFDUgbz8Dfje6vpwNzCdzgj3KrD30WQMEgw=='),\n",
      " Row(user_id='gAAAAABkHKY3d_VcTjtpHmFXeLVG7V1ZjWxIE1m-0eD4aY1HHIf0_79EAz0KCDydhhy-lTI69WOZyQ8swD_y5XJDBSb6zeStyw=='),\n",
      " Row(user_id='gAAAAABkHKY3j8hg7jo76XRj3BalpVaasa7VyWgMX8g9sPcbVPhiI3PUjjC7d8YoXO11ovCp5sM-rbTtmKOTFkDpx4rupc9o6g=='),\n",
      " Row(user_id='gAAAAABkHKY3uvgI_87X4EUe_HrXLxR1vc1Rxv_OyoMroj_MfGYYyjyzjA98fX-0qVqONMvy5gzm_crHvniGJXTKof9IuiQRBg=='),\n",
      " Row(user_id='gAAAAABkHKY3pDlMOA5MF74d1jLgtBumMM1Kwu-Hg2DgQr5u4XzBPYKW68Qh7__ymMwowYpUUAPIFDrUWABsjD7VUlKKKCM7zQ=='),\n",
      " Row(user_id='gAAAAABkHKY3bQicEmelUGgUwPhXWWpxMjZ9I0XzXFfMQaYyfbqWpCvi8C016RYYYZxpwqERk_OQUZyzVrGtNrplosk0lPoNGA=='),\n",
      " Row(user_id='gAAAAABkHKY3iBXvzRJgscfvrilUu2dQ-w04sHaUdmieaay-o5g8zb_MwosEEZjxkZ14eYDeevioS7SBrbA6raK-kRcH6zPqMA=='),\n",
      " Row(user_id='gAAAAABkHKY3CsynDJ-WXdRl_cIgbnkahljh4K8Nx2w-nB4YRTP2i4nI6mTJuf6SW1q3cKK9iQidDWR3H-Ap_d6b8Xd8hziNyQ=='),\n",
      " Row(user_id='gAAAAABkHKY341YjsyMw7ikJR6y1c4wuKK4vEjDQ4jUHMPdN_3XZEVCnWcRY88E-CxCScn7-9E7eRzOwYYPfU4F-C2HqBJaHCA=='),\n",
      " Row(user_id='gAAAAABkHKY3ASeqe17BemJNXrQvxD-Nu-HlBsuOTLH99wxHCXjyfX21R3wGM8R8PDgPyXoq1uc9RZtZh3QSv9e7gvr7Kpc5ew=='),\n",
      " Row(user_id='gAAAAABkHKY3Iy4txDswJxWbg81MuOc-d5ggyv2d-rijvfLR2QGh2p83KqMjXjtuTFo791oA7sZQlzNxK8xIKxl9iiI1lTyAZw=='),\n",
      " Row(user_id='gAAAAABkHKY38pc1spQ8HSlomgZHqtrv6CYm0kwPAPnbO-QbL0xrpzyDJ2xZYhCKDIEa0dlFQtbz96HYO70w0eiFGLq_K4nzrg=='),\n",
      " Row(user_id='gAAAAABkHKY3gxfu465knfNvESCQkDmxdroFZG_9N6Imc8FeaNI6a0Z2NuhWlYL0YXRAq4JiHdJ86eRKehcq75rkTG92f13IVg=='),\n",
      " Row(user_id='gAAAAABkHKY3zW7JCNGZxhyvbTVv4xCAlt915CjlOCou10QbbLE2M9mUhW6jFS3D5qlQ-PryVfAKuQEvAtGey7kHzYMEUvIR3g=='),\n",
      " Row(user_id='gAAAAABkHKY3NHqx9qe0bmEejLENENy4XLn1-vFTMgvHdq1lhZyGJTDc6Svx-xouts5hO9kFdC2ulBx8U180ph_q2rMjCxEqgA=='),\n",
      " Row(user_id='gAAAAABkHKY3JPRNwUqQuEYbta1fzshxCyrpVGEY2TyZtZEVIMhRg55e9jhgNQiHH4yYuZtiHarcyFVL4ONMdsw_bcYyXL1gvQ=='),\n",
      " Row(user_id='gAAAAABkHKY3rwMfsluZfmqZGumaqZAwp9Z4EQ7b302SIxKMfkk8sQTaKuRO2K5JqNP3p7Tm-GQrDWkL8shu0kTcYeT41n16YQ=='),\n",
      " Row(user_id='gAAAAABkHKY3nnlzGnnv6qOLsN5QxyBRBldU54Uzu3et5nRLlMAdpWg2dZcrXVwesg6PD9R5fytbojCDFUIulRqOh8kOu4SgQA=='),\n",
      " Row(user_id='gAAAAABkHKY3aMGXzvIMnmJx_zXvNnrr-ZdGWDvo8fEOfMIH4JJ8TkH-i1L275WJwub8Y535EroY-NM3EqGNbShiHA7HEeZ1vA=='),\n",
      " Row(user_id='gAAAAABkHKY3JtRbF_BrGQRjOp9hsE6ZFYIvB3HIRVKrYnT3xL4deb4Cuvvbh8MbDFRYMLdMQap3R2bzSW9uQtNBvfq8WnvjWg=='),\n",
      " Row(user_id='gAAAAABkHKY32v3af1MiYloMiQBdSlPcgbTShk_r7SdbSohRhvovdq2lcilWYQZypUczczZBjSqYxrsQJn9MrwErqgj8GEUtaQ=='),\n",
      " Row(user_id='gAAAAABkHKY3dIPpE2D6ko1NpboL1iYVEE32zj_ulbAh0f5zHynBpVz_plOjI3tfD35_HdWaq4b4Ylp0MBxSTE8PI7hR3iCicw=='),\n",
      " Row(user_id='gAAAAABkHKY3hogc-KGWKVfslGU3gjKUQNKSjmAuKDDa3Mank045Uejeg559O1SzXXEgdilIftwdOsttAx1GBKh5PtNOztSrBka8xmk2qkLwcchCVVsROkM='),\n",
      " Row(user_id='gAAAAABkHKY3tNxWzFuku_xKktJ8vzlcc6mjxh4ZYKVHRMPQ0pBPDTi3Uaa3l8V5LwLyghSHcicB6xKsPQyI_MkDj2vHt6Amqw=='),\n",
      " Row(user_id='gAAAAABkHKY3q_Et638Z2ZTFRhA1cLD8usldwJLKWzCV4uhfnew2fAivd-0DAfok_EXNx8j-jee50Pv8K3jPuY1caKnRA1FLHA=='),\n",
      " Row(user_id='gAAAAABkHKY38-J9Qlg94B-k9y4RGC8qlJ5XMRIsOtgDHWq0JxoNGg5GyFsBukFXlj66FznoZvYUwchuteU66uaakYsF09eAIg=='),\n",
      " Row(user_id='gAAAAABkHKY3OoZLU5vjG81nYvrzcT1dxCZRfr4LgWgBNRoNqnhMMazA8hOMTbpXtTV_Q5_2CuKJRtJfyXDohzH-lELDwzdQ6A=='),\n",
      " Row(user_id='gAAAAABkHKY3EB-P9nphAUuzstE4y5POB144J4NN3CkW42Gt2HgY4stcWHD6k_wFKfcfgeGkj18OjcLKevWiPo0P_n3_N-eVZQ=='),\n",
      " Row(user_id='gAAAAABkHKY3dnOPxBsbHS9K4nEGCfCyRnirdjqMA4hW44DEVZIXaDMUyvsjWdCRmksPf-BxShtAOjefS5p9pCUbiCwd8FUf2A=='),\n",
      " Row(user_id='gAAAAABkHKY3a9hO30iaEM029-IapV-fvic0-LVn-n87UBjCIL8DnocHMUiyEJrczjuQt1-P6NmIMJJa5i34SqhVIrKi6Xlm2g=='),\n",
      " Row(user_id='gAAAAABkHKY3ranFXKHRcHvLVT1PD6CeEzzGEhYcgFhFk9CF68uj8pxuM0cbVMyEknYRTVQX4wMBEuw-9asm5QS3aKxMSMPzdw=='),\n",
      " Row(user_id='gAAAAABkHKY3qQ8ZayKqO3o1Wkn8FljJg-VP5ZL9Rh-IRXmbAo-1Ukqnc3YjYfIv8VWdQ6ErLwU6b6zpHntoynq6w3CR0K9C7g=='),\n",
      " Row(user_id='gAAAAABkHKY3pu7-TkdUw4LyHP_CF0Wu1gabkv4fmrKjMvy4-M1hftGMVda3IYRpb5EuBMqM1N7mTd5ghvm3Dq326GLHYNv8vA=='),\n",
      " Row(user_id='gAAAAABkHKY3Sx4bH1okYKigvTY7RQsFDViaDhiKKVJrvDSKav7lfBoi8jRKuC_5Ia0gLOK6ZYhD7rq8eOUUQnf7Dx45bonxpg=='),\n",
      " Row(user_id='gAAAAABkHKY3kzx7iGmwUo779g2-LbDa2UH5jZdOfv0tThTykr8EJEIMQd5VZoaL13KtPzxcyLNtL1oFC1ttzHvTHVzOA-GVvw=='),\n",
      " Row(user_id='gAAAAABkHKY3kjEfp0Hvcs5__A0qz40A-4j1wRtFckFLpwsXA56xmgUyjrD1M3oxHuZsh7HFu4uQ7Y3ts8eXdfBamiYFCQBgwA=='),\n",
      " Row(user_id='gAAAAABkHKY3q1ASHJJlRXYS2aB5_7KZm0hzqANTHjHpLNB6bKYCrttf9B3azcRRsPuzd4rz_L-k3OSbEW-zmTivcjMxvjUomQ=='),\n",
      " Row(user_id='gAAAAABkHKY3LMhOmikRRD0wVKA_sKHri16B_HDwwZkEHmdoRvgtAKGslP6fWjzRetlitcbrFFcN-rb7IrmNzAZUSJAbuxWanQ=='),\n",
      " Row(user_id='gAAAAABkHKY3bpQgMyoCexSYDmnMmoPPheAU8rYnC8Lqg3-u2DNwEUJeGrTz01ey-wRUWiJsppYbYDRqPQKSO9FFJ5VyZlWwhQ=='),\n",
      " Row(user_id='gAAAAABkHKY3ea-oolhg-yUBLj_dYvns0n7Eq48dhHfFx44oxdUqdwuyKgsyPGj_S41nB9641NN53x7pAkmw0Xl8uRibG7TePQ=='),\n",
      " Row(user_id='gAAAAABkHKY3GrmD3enV97I1xJsZbdfQV59DYM8p405kpRjtm36TlxvBq-JVycnDH7pM4nagGVIXtuxiZy2qhxAd4vP1_hfShg=='),\n",
      " Row(user_id='gAAAAABkHKY36zWJV6zg9AIrG5xx5BXX01cqmlvfyjpxYsVeMYKhew3yaGdlViamaJsBbR6_QCXDVFlny36l6EESz-U5CHnUWQ=='),\n",
      " Row(user_id='gAAAAABkHKY34HaCFkzA2EZzdLjr7E-twLTIJnOLeDaeZGWzJ_MdIPKWgmgBUvERhOHJIPBNXAtGrDJp_XP3Zo20Z4e3kp_JLw=='),\n",
      " Row(user_id='gAAAAABkHKY3SqV6BgNcoFVgOnzKmLFkhCnts7FyZK4LO4r_lxGdVZmAij0olqlez1so9jAjBfwpBiVFXwRDOF8HwQMRRp0wiw=='),\n",
      " Row(user_id='gAAAAABkHKY3hTX2cs_qDSbrC1sbK8BuoRqq44sYYR2zfOQtlgqJCaPJN3voxe8HPx2A4Se1rhoRUPoxFGoepr9kLmA8l1sngw=='),\n",
      " Row(user_id='gAAAAABkHKY3zqZCnBx7I77IWua8nvoKoQbljxBjuqz_B19PL76knLOtvZxPGB3A_RvuGPQ7hqRGeQT920I_jWGdbZ1dQJw2HQ=='),\n",
      " Row(user_id='gAAAAABkHKY39MJtiX_wE7_JRsJyW4HyGbNUbUmoNzulPJsRSh2VBAVrb43VWkHh3kzzSRYo2Es44RFpGV19gbFSaBcyJoG6ZA=='),\n",
      " Row(user_id='gAAAAABkHKY3E1mEAAtB7OhmxjO_WHicQjuwepqTMHC-XrfnS3SzK80jYjRpZrN7ZaLxguH4DzUfxYVC9pKUS3I7Hf6Q9WnGJQ=='),\n",
      " Row(user_id='gAAAAABkHKY3QJQDPjwPdzXiOn8xnXGVkLEJj1NXvYKkTIkwqxAnZXb0axT8fFZ__Gv7RbbhJ_g_AEi_nfqx_eolSWl43NEhCQ=='),\n",
      " Row(user_id='gAAAAABkHKY3DihS8Jy1DW65K0tBVjKqzKIgCAxKRVWPrMoF-uGZoqVx3maBQoBOECZ9gxnmKuvmdwfBSdUNK4DuFNzAMwWXzp6S5rpY8ZxYspYelR8KGps='),\n",
      " Row(user_id='gAAAAABkHKY3pLQoeUV9YVQ4X51mWruyOy9De2mq9UwnY8SPJMkGlXD4LrclewcyM-T537HrB4eVy18ZHDtffBO5tZplISGj1g=='),\n",
      " Row(user_id='gAAAAABkHKY3qU0UX9Q9hwf-njnS5BUhh_CRlhLl1dRv5XKx0_BMe9f_vXQ2e0IHV0k07QTER1pKZbg7YmQPNCe84k5FTRyCyQ=='),\n",
      " Row(user_id='gAAAAABkHKY3l5DhCyrbWQzKvLR2kNnB76hhxnmXYhlfkuc8oD5zRoVjh_5jUhUWHcfJETwiZLaMxhz6Co-u9y7s1U7xoee7eA=='),\n",
      " Row(user_id='gAAAAABkHKY3F-xR-sg31AzAVd03Br1jW7wVUkenE_7UDy6TKz-inNccgStB0K4FWqT2ZmtQyygJllw3K8oZUlojH8VkS5IR8w=='),\n",
      " Row(user_id='gAAAAABkHKY3lQ6QGdK_wf51IzbqPNSjYz-7v5jJ3gLuuqdbdIWkaoKlJ8_pjAsWrb4t991VQ5FLsBYMChMNdWzNzZh52S_0xQ=='),\n",
      " Row(user_id='gAAAAABkHKY3Auwh9rmREem4texsugQSO-ovCWLeLwLhhsOuym1TMLP0gW7zeieU6OYIY2ghJfvpmmw9vS7edEnWN57n0kwi8Q=='),\n",
      " Row(user_id='gAAAAABkHKY3Hrn4zo2xdVP3RItO4EG_yeW3OiA5Hjt6YsctfaHJ_HcEBICWlt_WivSWoakDxAoQZ-crv2zdvgXBcniihMFAlg=='),\n",
      " Row(user_id='gAAAAABkHKY3ssnUS5DcxMqo8X6uK7ShXpInasppPu_uBEiZusxQ1rUA8Yl0bZK8MlBxLrBWlRH_NlDV1hI_2jZVZ_3aTaVj1g=='),\n",
      " Row(user_id='gAAAAABkHKY3i-1Xn4Vp1nh4vmTLpjkfqLRc5o1lWjEUX3rax6EyEc0lGLM35YdURuTz2jo4XNYDOZUfjRHeaNnqqU8vHhlI6g=='),\n",
      " Row(user_id='gAAAAABkHKY33anuY310oV3PJNCQZmqPL8uHauSx5rYygaVjggMuj_RsWy3aJWaKyUqVhZj9MF7lt6yjSZxxKt2TTrNnhGfWXg=='),\n",
      " Row(user_id='gAAAAABkHKY3IbHCHDyga4nAR9Q8kgOCBWOgDozf78Feb0E7B2kD3KItTuxo-RDGsvdVUwO-WpElTbq4AmWuGs2BjoVs5KHOTg=='),\n",
      " Row(user_id='gAAAAABkHKY3W7eThF-t7pKf5Obmr5NnYPvtiziiKi7Vw3HQM3XyrJnLeor3BxDQVveb7o-Gykh4Au30L1hbFZWyOkSN4eA5Cw=='),\n",
      " Row(user_id='gAAAAABkHKY3ymeE6JbsLu8WGutdeAOMbbLkiJiHUbTB3Fbs-Byr8L-cV7OrNW1HaF8qmYm41BCfmADmf8dwmgHb6Ld350V9rwJ7aB3PZXVhHGgm9td4Ags='),\n",
      " Row(user_id='gAAAAABkHKY3-b6FROcbxrqBFiubcypgUPxGUZ1adQJi4IESIihb_z5sPe981xbZ62rwFSZOpChFppYduPhqoO5wW6zZkszf2g=='),\n",
      " Row(user_id='gAAAAABkHKY3nNfXV53B3inaieYo4XSMnkB_-PGlIsSV5ybPOWMg3EynxInY33gsUEyqOWA3pvtXmeAFBqjdVeKQ1EuuCYDzSA=='),\n",
      " Row(user_id='gAAAAABkHKY35wYXkVslvVOrPbkXcc95q2gv6qmsPqfEkOwUQ1bIY-FJ_N_yNzLlIc4l50Or-ZRZn9EzlCASNz3z-GeVQd0UKA=='),\n",
      " Row(user_id='gAAAAABkHKY3RoArmuttjN4lDphHKGkLOu_xQxZQ-hiVBZT3ioJ2_kioB1aWgphh3eSmvd8YQQ0Ean0X1PFrYFuqM_7flkbgRA=='),\n",
      " Row(user_id='gAAAAABkHKY3-CwSs0pyJUzMt4G6awI8tcDwUN7NpoC3HaV3EwyDiCL-kVan7Gj6G5CrgJ2Ja04idNtOMMmoA7H6THyVD4sELA=='),\n",
      " Row(user_id='gAAAAABkHKY3BGyd6gqM6zhWOWqw8-GsA3C7dxykgs8ayRrcc5XQdYfQQYKXXHISfCZI5W6HRVRNtISw7ndBQy6qEbJcVAbxJQ=='),\n",
      " Row(user_id='gAAAAABkHKY3SZgJlTXYBvDK4r7gXRey2wK7rfHZSg38vY4UD400UKWKrYHbiN7JyGINJnacUQwJM-n26Y7cq0PNfvFMQCJ4bg=='),\n",
      " Row(user_id='gAAAAABkHKY3BzF5hTucxwhO7Su0ExDfcM7LT2mPyV3RUXyEVlZtz_mEzHS-l6P4CFVgeYtgMht1l2ZJbWRcg1b-5gHvAkGQmg=='),\n",
      " Row(user_id='gAAAAABkHKY3tkfVJ8-nKAJzqcqZzeMpJyH_tVxAWklKot-7jSQrwaFDZMU5LlpdGyr4zQOLmzutozYbFE03K3F5CEfnZItJGg=='),\n",
      " Row(user_id='gAAAAABkHKY3zD1oyx3eQy1EQMEkM3i-_-qAt7OXrKMkbTzXZ2eR90WcsdoEb1iKYVvtGMdO5QOmKz0IniNSFdqgyrtNv9rcKQ=='),\n",
      " Row(user_id='gAAAAABkHKY3JCpRBgwyfA_QLB1nes1Wn9XEL3Y9CFSLCljE-IwdcOvs4w9zFzGg46b2Fq3t3G5Y7kvoIO8BtNzTd67-x8HBuQ=='),\n",
      " Row(user_id='gAAAAABkHKY3HgqjPK2giaRbwLsx_QMQVDKfFHKVFqI222ueWXpORJDdZM0rXhVE1_43n9mJ1ac4bCN-FVG_4ncq2tXb9Yyiug=='),\n",
      " Row(user_id='gAAAAABkHKY3kvKNPxIQzLbZ9iANoFlcI46eSZ5DIJd5FxHIHCw1C452ECJncoNDItD29edMPRnSgGaj3jMc73K05S_OxHn5sw=='),\n",
      " Row(user_id='gAAAAABkHKY3W4q7Iy-zt51hDYvpNlPvUZGt3of4r3e4Y_zDc1t7X3QjiHa0tLq_S1Tt5Ow758MaV8vnPbpHXjiGuQITa5dDMg=='),\n",
      " Row(user_id='gAAAAABkHKY31bxLg1Jt-eMgjb4qblDbuaFLBNe3EfJ306DnJ8gxpe7qToHqrI1WIqrQDdrABA1FjFTq_txtW4mWNYWTvzz9FA=='),\n",
      " Row(user_id='gAAAAABkHKY3Y0jMqnOwT9I8dzGaV4orWXLIUtSpFfc-z187PuGSISTMxyH8CuSjW2_WJ4V5PtvuCOXDF-cDyTAPwG-fTzix9Q=='),\n",
      " Row(user_id='gAAAAABkHKY3nQFRMDCZeT8r7BXi543pP6AMLmvT3Zr4BmCHgeUoS4NsHXz00TG3ffxSMcylnwuTAJetYjycO_NlIUZwbmzFWw=='),\n",
      " Row(user_id='gAAAAABkHKY3r80tVxwz602XxofE2CRhHV48bWlKVsBreCMDL_dcCg9iAq3ny14_WENatEw54KdZ49q2eBdzG8QpMtVlP4nqxw=='),\n",
      " Row(user_id='gAAAAABkHKY3tlCpg2XD2Vi6AL699wJ4yKj8qbzWDHQu9f-c9MbUA8a3fR8e2xvXwlUQQCxwHl7yes3s1ZWBMqYtKOFNwwGE5A=='),\n",
      " Row(user_id='gAAAAABkHKY3wGP9Z8Zc0YtyWaj_CSIrq2ee9E97-8brxZurhIL8Y2vNCDq95gwcX_vu1RQTwmBPYak0w04STj0eybysBYDzlw=='),\n",
      " Row(user_id='gAAAAABkHKY34P35l1sfvw0xmIXXwOlTw8ueUM4vrLtM5CBn9heGmUCchi7S9-mVzGxj7hC7CkfTg2EPaBiQV60hwFJcc3BzkQ=='),\n",
      " Row(user_id='gAAAAABkHKY37JMVlz7Cidr4MI8ggycOjY7j103MvnAF5gcio3xwFSkyGH2Jx1JM2OKe5oqL-QHNERsfQbc4hG5tRZAKJ_lBRA=='),\n",
      " Row(user_id='gAAAAABkHKY3aq1RsMRRF9bqKq6UT35EpbsGHyGJxG2Ae48_GTjBCaMP5Fz1nXvdWslQTt7lvZDtEwxL86fTFbJ2s7HwxS75rw=='),\n",
      " Row(user_id='gAAAAABkHKY3jaFt-Yqx6oLMTuE7sZFI1Is_LigEW7qJCaev5G8-AP4kvjo4ScCPxJZ_Kmd2vNkNPlqaBumSJaj-Y0Kgh_1cig=='),\n",
      " Row(user_id='gAAAAABkHKY3-u7wBVlKRDeleSOdhUXy67Rm0VKbpRBuWjQYwiA9cz6E3vuCSajqy98F0G62yfSugy9K0rtSxmI-f9EV20z6qg=='),\n",
      " Row(user_id='gAAAAABkHKY3qa-2iki_K0unx8pfSaaZdhlAoD5LDXLEgCc8IEcmf5oRtEj3Z4giBxGyfe_wUQK4pIptEBSeq3Xote_MIosrGw=='),\n",
      " Row(user_id='gAAAAABkHKY3Fn3uAU8h06S8P_cYb_xSR9l4kWnRDZtEZWRIYZp3HZZV-tycpIt2mF3nZfyxx2hDRNwQXAvMzYNcWssMmx2N2A=='),\n",
      " Row(user_id='gAAAAABkHKY3i7D-VBj1LLV8Js-u6j5y09W1qlw89junxQ3S7ex8ql2uroK14Zdtw9zv4n8x3MyCaVPqhKPSEYufldb7kcqvtQ=='),\n",
      " Row(user_id='gAAAAABkHKY3hdKO6K64gcDqYCmLkOcJgh9znI95qsyeGfgQOpiNrvjsnt4KTYd6KAdLD8DQdkcYeG9MyhMzdqFcdroRS7ySsw=='),\n",
      " Row(user_id='gAAAAABkHKY3pzkZYDf6cYkbIcWgggRIUlqEksrFWbU_bq9ZjXQY8CdmjQbbfNb9-TxpUqsSCzLNoDFo7fbYSseXwT5QX_pFYA=='),\n",
      " Row(user_id='gAAAAABkHKY3X43ssUik1Ih26XP5x1aGaW5PYc7oEWNHZWyLbS6hA-9rfSR3H4Cgi8ZB4L8dNfOnWYs4PGTMEL6DX2eqXChIxQ=='),\n",
      " Row(user_id='gAAAAABkHKY3MQMPQOWZ5boenGsVLnVBYlV_9K8gR2Cv6silxzcn6czZiFvR_HiVn1i-3V5f3VqMzRIVqnqpfEztuI1E4wYezw=='),\n",
      " Row(user_id='gAAAAABkHKY3TyiOx-BVRzjshpNn6V0sAdSo9AHFYnUAcQETiJPXAj3sBtxoMMF8N0192uwo18j0mlenA7rumJVtEkG_MM0drA=='),\n",
      " Row(user_id='gAAAAABkHKY3sPexag3R3pRbVDTuIN8kprk4zujhEDyq7QnKWe-yE63waMk7E2O-OpJ-k-SnYffSGMBMq89Eu3qxEQ2QGbQ8nQ=='),\n",
      " Row(user_id='gAAAAABkHKY3ie50cKezzpqlq6DeH2XXgfoPhkR-t8vkdx-ePJAImup0UKUlwgyMsoHFC_0RJnWXFnEEN34cw1QpKjkq0MBHag=='),\n",
      " Row(user_id='gAAAAABkHKY3WsnvSkpnTt5eqcWYA3jKW2DLO5tXvV8aHr2kEBFUDIKcd1tONS1GVqo2Qsh7amb_lZHh9QAvqERHJnvHr2S8ww=='),\n",
      " Row(user_id='gAAAAABkHKY3nxHXlXxOD0QBAb3SFTZsmXzocKor53g_VBHLWxYivAv9hWeax2PI2B2ePeR4Msah1sg_MSF2nT99o7Ati5lDWw=='),\n",
      " Row(user_id='gAAAAABkHKY3OuRtvkms16XNYNw1Q9ztfALkjOcmqx2v6QqMZ9FSH1eJPaScPNsKd07KUDdiMgpBPnVVT9iSWyCPNeueOwQinw=='),\n",
      " Row(user_id='gAAAAABkHKY3f9TMR3iLzoVyzgJG8_KeLPMwrXKhpCdNcf1QJ_PVDXAuSiC5hV58bzNJ0ooL0ToUWh1f7th5RJrYIirA6oM5Pg=='),\n",
      " Row(user_id='gAAAAABkHKY3yTLkc4C8LzKFU7944RMGN87FNLaqwJ-g6rM1w-5P8oBE03U95VN-rydCo7OWsxk2XPGdWxubeurcpmwylUnTKQ=='),\n",
      " Row(user_id='gAAAAABkHKY3Upj5NWGYrvKDXMh3VIFqfWRF2n9tJxcHorO0vjKe1xboW8q9MVNkizMPpbz1D-UGn3DY4PR1sAwCcd_dleRQmg=='),\n",
      " Row(user_id='gAAAAABkHKY3UKusjNfjDons06CBlaZqpNwaxzA5DHd6OGoJegtn8bqScOQgvDWAeFPwZNiO4QoNkWByX7r0DqU7TQPYNGvrBA=='),\n",
      " Row(user_id='gAAAAABkHKY3-pMX6FDkjZw-zyKsXnWMUcBYUf-H4pIq7kVnqN9JRtIGiOUA5a0SdGT1Jevbk1h9oDUHtVLdoInsnNFMy7R3sA=='),\n",
      " Row(user_id='gAAAAABkHKY3N7N9RtgBnB3YHQb7wDbBQ03R2TtnmtgYBdXDj9hYneo_74590-a2f039D04Hhwi35Rwq9FOKMJkgX889ZSF2JQ=='),\n",
      " Row(user_id='gAAAAABkHKY34kDRtPWxIBgVkNLo5yEGpkLM8mpxzQHhX_miIKlvAW5ely5Z_yQXXOn4UvyM9Dyq_MJ5Gtihwd1nlnU-um67hQ=='),\n",
      " Row(user_id='gAAAAABkHKY3LZuqU7sDDd_xjIvmXUqqoq9yuh77NJpZUKe4q9KxwS3iSW4kvw7hWQPNVVMBByRsPXwOhd3P3AgON6hk1wVWPQ=='),\n",
      " Row(user_id='gAAAAABkHKY3D7SfFxN2QZZ6238G3TqDuYiOi5NPfkbaf6cCtA5qGnfQoT43UcDcNNWbh5MaGlRaEVGn-KD3AlKukIRwnFhDWQ=='),\n",
      " Row(user_id='gAAAAABkHKY3dIHwvtMcOf7uA8rCs2OT3JCCG2AutbWqUNEb5n_YPcpJFIYz2-0wzxP3QvzDNLQEH9Vm-n_tywS59p33TRPBrkvsgM1jz8Nh9fWiP1IsTWw='),\n",
      " Row(user_id='gAAAAABkHKY3dj6nB7HXD-j16TCA1df1AMC7CIhjQZa0YGX5YwZtPoUbU3RxmxwRWIrkfQPjCWN3YYAMZUdEyZD9kHX7uXiQcw=='),\n",
      " Row(user_id='gAAAAABkHKY3Q8I3lJqGw12AVz6W_ip95kEiKbRDAhuJ0EAL4_Ur6gxsYMqDjTcVbeOJsmOBkakBg5e-EmXuODjxqDOPRBkfOA=='),\n",
      " Row(user_id='gAAAAABkHKY3rYBLtlOH2BsFele-n9rj7R4MN27ZtYoNpiDMRShCtRyjIhXKlgg4FT9EX7btj5RRU35xaqwsvJaGGxm96H9wbw=='),\n",
      " Row(user_id='gAAAAABkHKY34VijK7dHbYCM-6llW0XxWgyK0W5PdxGm2G8nlLCXClh3vXl6zrn-kpoiomviAARFM9aIICg3o7UoIKIOqPGmyw=='),\n",
      " Row(user_id='gAAAAABkHKY34xo1NsGinlKDgLksXYi_GrKMAb9UGyiZUDjjduiONmNqIDheEGcSnkBDPYsiO8O71FOpdCRuG3SuHV1tjxcddA=='),\n",
      " Row(user_id='gAAAAABkHKY3oppu8eJ9kVBST9ZDviKKxLD4bGpTRmAhKKwqpW9flHq4XWagyMNjtXpTzFp2hioytsPRTJB1LPufBKWAXIBVxA=='),\n",
      " Row(user_id='gAAAAABkHKY3P_Cuw8gxz9CrziMfdtGvI0fPpaGnseiFrGbTwfYf4cOujPzk2CkDB-STagPUdAc3Hv-T66Ehf3-bbLHTaKF5ag=='),\n",
      " Row(user_id='gAAAAABkHKY3GEwGjkf7mRyxPJJtKPFeTmJLX5BMtuW8cQwXCyzFRmK4knso-6ACKMgqC95S2NsQObOR7CFLfUT0Gcce-j9PQw=='),\n",
      " Row(user_id='gAAAAABkHKY30QlqTAr3fT5KbVy86eRZ4egr-2rbicL_OdnmRCY1rzVKKi4_8L_rbZDXljT7eU8sO4vm11VQLk5_C0wNUvf3Pw=='),\n",
      " Row(user_id='gAAAAABkHKY3bd45imGKMD4G3wY839S7yJTM1XaGsr6j9vgKp6Sy0y4rjBwDlIRZeqv2_VWMc_9HZ4aNlIhshw3WeOLnElhtLw=='),\n",
      " Row(user_id='gAAAAABkHKY36Z-ZU_ykXKIFDy4EselY616KQjKscWGN7jkSxszlneU0XzuUvcSzKcv_SdSHANA3mVKqP9w71LoHDTbbmAtiNA=='),\n",
      " Row(user_id='gAAAAABkHKY3srRWlmhKM98Gn4tu-jJVoWZeLamlUfJyrlKMwiFdozRNPJY2r8vywLKAiIDRP3n3mx-hKmKIDJuE2i0RXuaC_Q=='),\n",
      " Row(user_id='gAAAAABkHKY3BbsHTxFV9-fMfLqPIR8FD_2WlFkGqAnfdiEElWIj6fZON_SNteeTt7NXgr1K4Tx8Fak43ET1dpva_Bic62qn5meN6_F8fOu3XETtHVzFgbk='),\n",
      " Row(user_id='gAAAAABkHKY3DrNYVlMxUWr5TSgKo1zgks8ht8xJjCYT3NjX9QnJTRYgk4O--MI4SMSkTGy0W0hFqNWmhYzGgbSQcABs-sykNQ=='),\n",
      " Row(user_id='gAAAAABkHKY3sfzKXOvwnxL5QOTFJ_3NvjamA4UxIEY8H79I57AcGpY-q6KAdZJ9T2cDSYHFaFVAunwnfcSmyUW32dW_VIQLkA=='),\n",
      " Row(user_id='gAAAAABkHKY3rPsDaQL3dnFdLOfwz6qAF_-m3Pa1HpuZBpBAzDw1RJpuEtagG5mwGks0oU8rn9ai6rA9uMQ-ZT4VJdXIew1nFA=='),\n",
      " Row(user_id='gAAAAABkHKY3rffFnrWe9681FKK1aeaVxFk6Y5i6lQZsJIf8lz2-mvyuOibBLhAQJKG4EssN7pGEu-bdUyyDeRbnUWWOdujYOg=='),\n",
      " Row(user_id='gAAAAABkHKY3OGp_28t3AkR3OacEt4qImhuuQcdrzFUqOq7YjqHDUTee0MRD2R6FkqCIuLo8A1TR75XUW0Cy5hXl0Ak7yZPSFg=='),\n",
      " Row(user_id='gAAAAABkHKY3LxnYVJ5T0U93n-FxfLi1KdoXKO-OxKFDQcxmx7j2LDQ5kedaW9ee3oVHrkRPusExmEz_DGIvQNqUf2JrSudW3A=='),\n",
      " Row(user_id='gAAAAABkHKY3wKZALh2qWsTBkJbX0CxtCgfj5A-PoRqgpDX2nJKYQwLmgTGgQjV579QdIQ9qSIQ_zaJQju0velrIWqZQQURU1w=='),\n",
      " Row(user_id='gAAAAABkHKY3CzwJxtMfp3EYDQTq9LtnosYv6WvIciIShT09u7bsXNXI2JPAL_ah0JqFx-uuuC1n0YzonM4np712goCxtxEdfg=='),\n",
      " Row(user_id='gAAAAABkHKY39FQmngEufcHnndRYf2dr0syIfbOB4ajzxhO-4cfUoY9kGyaZL07kxSdzur6N3nsQQXfk7AHUWLDLeGcc25eKpA=='),\n",
      " Row(user_id='gAAAAABkHKY3uPl1BquN4PGM-T_UfEMezfot4UYz7Z18WLeu4KcqmDBvhLmfv24N97Tf7snWjr_TRvpxljSIA_Jy6EFw2cDcoA=='),\n",
      " Row(user_id='gAAAAABkHKY3zQrWPZHDU-EeOLFJvjdz_9P1AVRuBNioU_LmgWU3heVpxA4eP_c9SMPyzSlPD34mfvOK72xSB_ldLMhmynMpPA=='),\n",
      " Row(user_id='gAAAAABkHKY3wMuW3BnTaiZ3Ukl7mvaeym2e5m4OtXdkwem5A-zDKvKWSlrvHeIwYKgzteo9ElRcGn5ufmH-hQYaiMM2XdPbpQ=='),\n",
      " Row(user_id='gAAAAABkHKY3axlOWJye7jlleInKeo4Rfw8gV3BcM02_s8osPG_ky20KVGJSnZlf6NA_trYS5edvqEtEn0DYz6-1dwzBBY8Gfw=='),\n",
      " Row(user_id='gAAAAABkHKY3bERzAvlWaQ-nfh11lxRcOm9gULuOviCeuuB8txEOov3zLFw9GBr3DCa-xih0ZO7_yZMZ91gabkSqIugAEjjSaQ=='),\n",
      " Row(user_id='gAAAAABkHKY3wc8u1X6PMaiOSq2LXwsuK-YQA9R6kW-VwpkIIRO4ZUpjwQ2syr8fGjCU7Me_tygRbZo8AdWpoqrJLG7QQYKlGA=='),\n",
      " Row(user_id='gAAAAABkHKY33k9fl0jGVXPUNgUolPrN2IIqQxhTVU2O8P1SOh7jNrzvujrP_MLczysp4c_nvmLs9C7LwO24yjoQ-R8DaFqhqw=='),\n",
      " Row(user_id='gAAAAABkHKY3ItxnoKtkRXy-JT1g_23h1DgtDdEsbMeJQwRxq53TDQ-e4U6uIpi-Oa8INYHMwPOBx21suPEHLPDr4fSf6Aotig=='),\n",
      " Row(user_id='gAAAAABkHKY3ETDTDAesiScbvJwUkd0d79kz4hYyDR1WNnix_ZDnFO3pP2d5NHf7WHCKCYnO1SY3D7VklJzTqrM9i1QWBA2fdQ=='),\n",
      " Row(user_id='gAAAAABkHKY3BjRCriTBW7XaGciOwyFvxRPUVjdwAAwaXSMyXc3yS-qjLPMu90Z60pHZ9MGeTATPljDmjzSi1WYGaLgMBv5ZsA=='),\n",
      " Row(user_id='gAAAAABkHKY3RH2SqhPvn64BGDjEYsJasCCRK0ima1loQ7MS34FoRt7Ha3p-KWipPV7EkBCfOi9mEd9aoC6o3RNcYocvehRwtg=='),\n",
      " Row(user_id='gAAAAABkHKY3RvxlmYxV9Nan819Ve_IjH0R5PgmT4L2wulHoG5NdPDrPiZCUONHTpfjUft-OLaBYxt5E1S4eT5DyXRQmy9TGSA=='),\n",
      " Row(user_id='gAAAAABkHKY3QUggnkP9gP8afqWc5dhfMbhsIabYa6vp7ZU1eYvyjavnecwn7TFezTTnLbw-v2VNueTynk5xs4O0dZSZM-kgPw=='),\n",
      " Row(user_id='gAAAAABkHKY3VC3GjYb2PIdVIJ4yBxuIP4Q_dLihbQ4YkTu5p_4dvs5waBxb5T0bUQ1y63uhTCG__3N6DIsP6iL-rTwDBxpp8w=='),\n",
      " Row(user_id='gAAAAABkHKY3LYp90TmEF5O5fz8rAWxImdjPW2l_HXNXnGYfLI-krUg6vkoF3-p-loJLa3AIZStQ4xhvFzeoud4XcjupMgWTgQ=='),\n",
      " Row(user_id='gAAAAABkHKY3o8VaqdKNgQtvxOEdDoee8TrW4slmO2kdSWzUZuENMsL1Wm_jwNtKb1Oq0orsDMrn63DbX469rh3MY1joWGnLKQ=='),\n",
      " Row(user_id='gAAAAABkHKY3Z5lrgbUvhzP5EYpoLnAgOhMWdAT83g4gDzkSX5HRqKtcoTwXp22--5RZcH0rFoZg8njcOyNzWAUOVD8jtYeNgw=='),\n",
      " Row(user_id='gAAAAABkHKY3TL4qg_rFnlQ59ig9zQhNDsYMXkNvfW9GMnPKJKnCQpXTx6eJpuxO91v0TXVEwHOrJAp2S_D0IGJ6TnH2pxNtgw=='),\n",
      " Row(user_id='gAAAAABkHKY36q2hDVqcnHMUE-zMCSnw2izQi9uQ-0GYl77J4LsuICC0BFPVMRYVb5AHJKHL041qJ1Ji9rLle1t6Zzfi_7ZXJcWyRN_kkkVtzCc416fA5CQ='),\n",
      " Row(user_id='gAAAAABkHKY3hhkLaauSxIZa5MUbmvlUPH9wqgyy6GjFDu4N09tnrIH4JA47rAhSolyWKb9Q3ezXCp_goyQDzvR1pdUAdNoBlg=='),\n",
      " Row(user_id='gAAAAABkHKY32yn-4neER_yl3hlBFHFMRWDdV5LPbNTmBHiMXzjh3s0JsUn4UqdZWiMTbU_qW2p8618x152hGKzRGAJtsxycaA=='),\n",
      " Row(user_id='gAAAAABkHKY3y5KDsUXIwySv0ndcHyMaPkaOa2VoD3ilNBSa7IVXV4XE2CsDIFm5-fLswLf5d5CUyZSEGmql2-aRZKNB-ijWFA=='),\n",
      " Row(user_id='gAAAAABkHKY3AR2TV84Bw_wd2sbdtOFlsZu-c03eQksv39bw0HK3rQn8I6rYN7CqoBj3K4dQ7R-GhlciFB3Un6T2MTu9LNMvxw=='),\n",
      " Row(user_id='gAAAAABkHKY3pG1XAILJjWNvdD_M4H_J4GMYV\n",
      "\n",
      "*** WARNING: max output size exceeded, skipping output. ***\n",
      "\n",
      "q8kLBUXfrT5i8SQ_KU0tv_rsqVEb6P36eOPOd7JEP8gDLUNW9BWvzd8sNmzRCu4NYzGrg=='),\n",
      " Row(user_id='gAAAAABkHKY3X-gfyuFczq1un8T0CMU3joi5_oWBhClk8H2dpPapFeklzX12WahMIw7g-xtkB_xbTUgKKWWwci7fH3A8zSxeiw=='),\n",
      " Row(user_id='gAAAAABkHKY3FEXTutiaQuHEc2wc0dAogaKLUof68nYW3WKguMZ2MwxrUCFQVGbygcQNBWfRChicb5-na8z2giQdzw1xcwnz0Q=='),\n",
      " Row(user_id='gAAAAABkHKY3QPxSyCEMmc4crPSyF00xFU6AVWPxm_FU5X04poGK_sC2TfHQeonzOTPtN9Rll56Xpzv-SdL0n6WSXy_66XGskQ=='),\n",
      " Row(user_id='gAAAAABkHKY3ZrzPwtSz_t12uQ0eYVPYMoEoPzY1kqXJVUh65MhXMfEzoDLpM-YFf5Sij1VWMG5jffqXD-qS3yBBDyUBOeTIoA=='),\n",
      " Row(user_id='gAAAAABkHKY3KJg2-lJ2CKP0fEQRqXs5lVbOU9WwkMilARwQ30CqxnlCr3CtpJQb-DplU81SZfr42QJgbAK9xzDCFJR-HHqWfA=='),\n",
      " Row(user_id='gAAAAABkHKY37cHTgrBihSQB7oTAkw8LQc6Q51UgVVr3xG3K6P3F2adEpqywR3q-WsPQdhI8dzI6HdkBRbbJDJVUhGDIVa148w=='),\n",
      " Row(user_id='gAAAAABkHKY3UxodsmgxGMn6LjXxJSRACz6paTMtOSFfpxhuB07dpfN7bV9y5kizwUCik9_SCmjkfedjmjZviUZCypBv8iIJ4g=='),\n",
      " Row(user_id='gAAAAABkHKY31uuJx-YurgTKju6pTccZpTnBxQQUJvJidcL8jK3O4wTfIXt4CwIWKtSk3qeziCpcT9Q-54cl1APekvCpHammZQ=='),\n",
      " Row(user_id='gAAAAABkHKY3y8E51Ed2tvNK2dZegKiy-json07vHW1E9wWP8nKx9MC1fwtmdyXURH6wRhfhQVPTPXCl0MkE4-ILWTTQZhP05A=='),\n",
      " Row(user_id='gAAAAABkHKY3IUxTp89Lizg7TCgRvQ-VhfC5WAzJk9FZEym0hGEIupfLVq7d_PUJyKmiWpjqiRxB-vOMR5dMKg98E-Ry2xNeBQ=='),\n",
      " Row(user_id='gAAAAABkHKY3nnx1otAKXDG9oVx2JFNdmc0yr7rCIWW5_gYJLPAiqkLC3qKiLU4tNrHMNR1cnAEJPTb0nkh11uR4n57XNHlmEA=='),\n",
      " Row(user_id='gAAAAABkHKY3ufQq-rrmASEXuNy97gOxRRWIPXVVI7j40bRdkKvL8I2789f4vsg604n9PXmLeYPUvKb_3L1J6de1XMJ0PivPlw=='),\n",
      " Row(user_id='gAAAAABkHKY3Zt5RlTOIq__AGv6XxP3bacRgEtnDIBdwDnLeXGiOiIkFd167TIPJA9TU6tn7yYkDP0hh2Rgedq5k4sn9hGeJ0g=='),\n",
      " Row(user_id='gAAAAABkHKY3Dzz_IhHApHdwYan41y87RTre4wXvXOVbppRnBuxxTLQ70ZCSL9M1DpjZ-B5eYGc0VEYddB8rw0c8c7TyIxRAtw=='),\n",
      " Row(user_id='gAAAAABkHKY3zEIXffMCFLXWJR-bHVgxBSLZ49JPXzSpCc24XrB5YmpY-haiMBBkXzlajeENXVdiK2opGc6A_CPJzVGcgo2Qhw=='),\n",
      " Row(user_id='gAAAAABkHKY3i5TBpj8NOhGsuz6WD2yXfNRkt8ytfxAYC49xr6YEubyxmNGqTzmvFTqx5pu1lq42_G7aakOHH_Y68mm1oXsnrg=='),\n",
      " Row(user_id='gAAAAABkHKY32SJyCR-zLtJEsgHOPtL66CI0OqWZluArQmzRUFqk-YqejFR6-mxWTw2dsuz3O_n8vsb16MetTzaRabhGQcMNzw=='),\n",
      " Row(user_id='gAAAAABkHKY3YCzQ9KAX3GirWQmD8aNLjoaFXScQgUw22Fo6bQCQS7fOWUvnF0W4n4v7WFkd5Y2JT8vhcC7tZIIN0wcKaPHuUw=='),\n",
      " Row(user_id='gAAAAABkHKY3gMlY2xlQMcVTACzBz_e54JWlpSfbcTOG7nwSO-WiOQoJtx2GF0LAvBBmwY_Lgy5m3YfGg5mHB9lPo9ZQ3Lr6qA=='),\n",
      " Row(user_id='gAAAAABkHKY3J-Ed9psPmAiwsC3R_atmB1602BnC5phNEqxCvuuTzoD7bXgpHGy-9cTsMRHW0rtMfRJhBWRHs-6NbcB2AxCPJg=='),\n",
      " Row(user_id='gAAAAABkHKY3R4HTeFibUkIJfB4kupiklA6uahnN9prB6xLRruJm954Sf_x2GKPKq2jAHsQCKZF6It2TPmGbO8ZBVpAxId-3Gw=='),\n",
      " Row(user_id='gAAAAABkHKY37qejalOK1tYuYQJsv57M9QMJL7irkpY1tA6F8NAxXRaf3zIvAmaW9q5P-GtrOYlluxdvJUJKMXtakxsiYNXjSQ=='),\n",
      " Row(user_id='gAAAAABkHKY3ZOvXZr5kBP0vF-ceGPyoa-NTyjLBenm9-zli_dc4vqoYJeKCi9lxTZUw81p0b0A3HjwUGcIqC9qJ098VuaZP-w=='),\n",
      " Row(user_id='gAAAAABkHKY3CkDEyEiquBs-zdOspzuDpJRRwl9b1WP9P1IkAHAembAIfy4Rt0ezpzMXMRq9_OR1YfdhtIxoyTTiq4NKTZTfEA=='),\n",
      " Row(user_id='gAAAAABkHKY3-ZPe-R6vQzk_v5osYeI_-VQA5usgDrdOpLoYRlEuxSAiPa4-lbE8K2J3h7_4wZYbO4AjFiKwoR6YTstkBcnU5Q=='),\n",
      " Row(user_id='gAAAAABkHKY368U4h-VF254pmI2-tLW4E6H6GldIKYoFOy7F4EZOV0mNDimb5hvmDetUw23vozec46JGOJQCJAhMNn8k2DK8Sg=='),\n",
      " Row(user_id='gAAAAABkHKY3YF2JUfpKccunNARKCGNJCNAQW_LO1iG1yH8Yg8s9jJMiHjQ38n7FV5xVUztD7kGp2SraATKawWczAmmqkisLRA=='),\n",
      " Row(user_id='gAAAAABkHKY38Jcyw9SQCU5caK5Xf3rRcg3d7Uwae1OEYORe5RWi6HIWpirLli0iKMh57BqwtclEwiS85Dhxs0SoMrlIAbiULA=='),\n",
      " Row(user_id='gAAAAABkHKY3IJoUMzne28zgWvMQeEIGFc5yykc4WWMdiuvJkekt7DDl-bMGioW3gCnXJEpgN0gbyygYGH97dYX0w97oitQd4bTZJt8XcmtPicjxNuJ541o='),\n",
      " Row(user_id='gAAAAABkHKY3bxBbqaGIcLL6LuKH608O0Qd1ahl78t7QjIhS4Vzjw1aeqrf3Xchw_8_JjaNRWWZ994qKm9CxkDptSt2vzNj97g=='),\n",
      " Row(user_id='gAAAAABkHKY345ivHD4rHg5Etwh5G53OptZed4bNtZnS1bArIYz7Mu_sDZjUOqpo1_qalTaEN2qvrJNivBwUULhbaIjEcTy4Eg=='),\n",
      " Row(user_id='gAAAAABkHKY3L6RsCPBgGlX_mGbhJb9OwzbN4JJ15GNvaWeqjYAXaPB976v4EOddl0Jak_-zWWP167qFYUWcCpzijA9FT2K8TQ=='),\n",
      " Row(user_id='gAAAAABkHKY3bQS_JXYQkXUjBAfLdVI-NsJ2pySRpIrm5EEEaqqMvvVxUFQprAK8yRsObk9p2W8_Jc_Vu1BpEfdwohEzQS2mug=='),\n",
      " Row(user_id='gAAAAABkHKY3wXXwP8S5NhdBgUdzCX3kTGtX0EgKHm-UHiBhTHhQvsSgGR8Ve-L8NTQIs0eLoiPx63Q43Uzmkr3jIWSNk3WolQ=='),\n",
      " Row(user_id='gAAAAABkHKY3LaO7cTFFwZtOLxbd8cc7ghRVWZYQ-uvRdOYtRdBoqNL3oTbwSfU2V56Tel_scn4OoE6lbpm6J2pbPb3BFg__Pg=='),\n",
      " Row(user_id='gAAAAABkHKY3x6WCSmvgm3X6FSbZ7Jza9AXtHcvHxuqtcS47frUFhEVft5xEQF6boqd30u3RJBZ0vuefnYQWxnh2MoGWWi1ITA=='),\n",
      " Row(user_id='gAAAAABkHKY3OJKcZPcHN5cUzGPGuL9Mlm2StNHetc_7ty_2aOXAHlU4vw7HU1eni-xD9UyBt1-rvm_OjQ0s1KPEW56HlZ665w=='),\n",
      " Row(user_id='gAAAAABkHKY3Pd8OQm3w8LC56-BkGN39GenxlYL1gE0WwlQQa2L44-zFU0BRkoF9TXkQRNiyj4Eq6xkTkjFKquu3RysNnmchxA=='),\n",
      " Row(user_id='gAAAAABkHKY3UTOKJcu8huizc5g_cOHstwLlSZUzKA3izDvNMUeCofWU4Lb2ZeyVRyBAdCBL_4TZCTyeNRC3otaLFrutOy85PA=='),\n",
      " Row(user_id='gAAAAABkHKY3uf7-uKN8A5D6654J7kAGFfA8oaugTkK2Y66veg_1gvZWiplb07CyKaCdCG7hrj77utXP8kKJmetdRsZ4Q5DQ3A=='),\n",
      " Row(user_id='gAAAAABkHKY3i6aoPZoYaxb_RBUdyOyW6OIWJLwanwmHGNV5f8uVlDDI-Bx-woHffwXkK486G95bqA3zsly0CuevLCrcDy31ag=='),\n",
      " Row(user_id='gAAAAABkHKY3Eb4WNXvl3d98Ts2ZkFNcuIM5yR5GKcVLymwO9FRegiLFjpX58AnPDuKqVA3RST-NpCgaGagNK7afUCZrGu3ZMw=='),\n",
      " Row(user_id='gAAAAABkHKY3ePx_P29Myo89ov7wx4lQN-dnuDO1VQw2QvGqfoTHsHcHf3gXRge7pgrnzY4YRj7kgj4Ceg8WUBLlhvyGG7fuA05Epqx-9D6Ph2pBQeuzzfE='),\n",
      " Row(user_id='gAAAAABkHKY3dswyO0XGlffJiFCGsL0ca9_vk4XBpFpU5q5wmyxcTgl3B1DB4i_VYNhc37A-Sl-a46026fAeQ7HbAetYr9crtQ=='),\n",
      " Row(user_id='gAAAAABkHKY3saw7pnbVR6AO1ae2ysz-LFSjBYJA-EVHp2CwmgFN9GrZzWRpUEq2WvDlJn4bg_HKpEpwhy1hnfS2h6tcRZQ0HQ=='),\n",
      " Row(user_id='gAAAAABkHKY3mMPL_P4YnmGpv6qNopcsoC9Lj5ACBbb45byY69yFpGQRvg7o38ssaXq_GplFbA2sdBbcatQmiW2ehUF5VCf51w=='),\n",
      " Row(user_id='gAAAAABkHKY3rqzlE327WPd_vA0ckxd1WHHrPNQ7pVdb_BkPJ0KB9_RV8z9bWeHeY4nBOeiRK-0Ou4du0xDLdquW7tugNtzsSQ=='),\n",
      " Row(user_id='gAAAAABkHKY3qR9QM5Xks6WRbuF1kcNt0wOkjU50eeA7i1jFa6WeK4coQJR_jZYE0BI4dTbp9QChFH84eMDVXrjfjHWUmZzz7A=='),\n",
      " Row(user_id='gAAAAABkHKY3BqS2LNAM3Z8ZWd1I0nu0POUBPtcoBgVBwH4ViXxXz-dicsDcTBweG86yq1vo50Pxus_3IGwAoaMPevjfs5tJkg=='),\n",
      " Row(user_id='gAAAAABkHKY3UmZNTZzeSjIRrYDxnfcTCglM-G-e4WVRpaBTZ51RWH8_m9cm7yZQexgzNti2TfDl1nFeoZwPSYnaCJynqMOKhA=='),\n",
      " Row(user_id='gAAAAABkHKY3AHjOJKJQnvD_WQAwSpIo47AElcTCFcZQoI8IPj-0eTSBT3gn2-BoMJKQGmkZ9_RM-0wyLr85zwSQHNSRRPfJKw=='),\n",
      " Row(user_id='gAAAAABkHKY3hfmm_3JRPo71eNi2cuIR-wxSI08vGdXG1rDjqqNsMXu9V7RD9lOGzxX0lbSC38appYkfn__akdF0xybpyWIdng=='),\n",
      " Row(user_id='gAAAAABkHKY3VPVfplplZ3HGlJTlUbiDSON01OLAJdpiFYrrI_V92lS1tCgZ4Rq1kaD8QFqmkNzh1-177dpLNBN881fiODIjlA=='),\n",
      " Row(user_id='gAAAAABkHKY3XXoUyjtMHDz47ig5DJq8DwP3GO6bAMBbHBOgwAJ-u9mQPzNIvwnkW_0dMNmlLbSbrcSOR9akYe1HMTq_-qZccQ=='),\n",
      " Row(user_id='gAAAAABkHKY35h804x9K-lhHuFShsQsmmDcjPtUjlpgKT4w29aUBIYtX3K74ymagpV1rE4OwGMBImws5Zf1n7BABCEo_nAc-Sg=='),\n",
      " Row(user_id='gAAAAABkHKY3WnEzz_wxygG0CsIio4-kIbf40fkBsXMRJQe647V7BHogjiKG-1xJk0cHpyAEKPBiJevEn4JhlYq4nHJwwS2SmA=='),\n",
      " Row(user_id='gAAAAABkHKY3FbChG-8ryMhyvmG5Ex_R2DwA1Ri65OyZ1sfVxnYlNycF8F1JMYFl1Tdqs_CkPmiA0iVE4lZYERUM_g4S5mOzgQ=='),\n",
      " Row(user_id='gAAAAABkHKY3DVVQY5p1H5krqLw9kCem-uRklnxa1iguuVr6vnxX_zrMxNyaD81M_Nt2lN_qDm4UWufwIC73VRr6fX5xDuWXKw=='),\n",
      " Row(user_id='gAAAAABkHKY36pzeCdQURKV1x98FgS8FUsJZ5kTp7OcdVydGxnnyuUGARdPoR7nPHopLLiXy5i2HlXVJTDIBZnt0GJCLuObQQg=='),\n",
      " Row(user_id='gAAAAABkHKY3Aoprht4C8ydXQCaVvjjs_S_XcpuohjmO6rgl8CyozCePsYLn4BJbE9WAQDIVfDw5jRKFQ9M791Z8wrFWBYYMdw=='),\n",
      " Row(user_id='gAAAAABkHKY38qUZdUu_MR1Lx45c_wgpHOXH6FS5sQveXwVwxW6ZSM0wYqUNRmu1ymosrUp4OIp1gh5YLymZAGay0L6h2rTLUw=='),\n",
      " Row(user_id='gAAAAABkHKY333R047asmGSxlI-4D14GSfU6kV1m0SlRZJ4NE5G7SzIUQu78lymAvEVST93QijShknUqKpmr9aMdeNKZhs3iKw=='),\n",
      " Row(user_id='gAAAAABkHKY3coqryWE93CcFVUbHwB-N2fnA7tvPW1rcy9M-Ak1Zw7VMW1iVgMfr5Ai9jUxuRSvTu209rkmtlf-FmobFFw7Vtg=='),\n",
      " Row(user_id='gAAAAABkHKY3v3tx05enBBIUybANzzG2PG3Ixd9vgTnk2suuVNs3I10qN5QYLTQNkZgseAclcXv2V2lRI_g_v8y4vCNYpHZwCQ=='),\n",
      " Row(user_id='gAAAAABkHKY3Xv1m1vrh3yO0j7-DWEbF95Y5OxD-i80W8Ihq-sEZN76ldhvtkqgC4JdCAmPKEc4Dj02hVo6Kxe8M7YUZreoLYQ=='),\n",
      " Row(user_id='gAAAAABkHKY3fTOvKnyS7A8mLjRKTxh7YiQbuhIFbaCBvYK7O4byO3vgsrM9qHNomGY6Vp-ssBJ8jI_WNBYtZVQxreQX95WVeA=='),\n",
      " Row(user_id='gAAAAABkHKY3vhspV-cudkny3yznsu96YlpJseWZJn34JOhNo3bijvfz0bx1VRrD1s4ZjxQuvUF-MR9GN6pTmUrb-JHo9RnTHQ=='),\n",
      " Row(user_id='gAAAAABkHKY3K7oqnvOvZziKjGlPs9bz4_QTMhebnGr9ni_b1fBTaQxM81o_azcTh-OLhnO-oZNOu2j9KQoo8Bc3Zxa-MHrU1Q=='),\n",
      " Row(user_id='gAAAAABkHKY3mK5DgI6KdXVMt7ZnsGqkkhBduzS-37qf0b2-h79yBhkM4I8JTYEc-8X-Clm7XWnGq4ctnXxh8xyiOeoMG7kUBQ=='),\n",
      " Row(user_id='gAAAAABkHKY37Qc5zyTEgW695_m3xMfIEtcgWH9PQVFYJbMLkl1BoVdOCvpW_wunNOwisEjHVffLNOReon4eomDt2uhJuwgkug=='),\n",
      " Row(user_id='gAAAAABkHKY38PUaVs-beT759pCOXhZGoGELWDzUs4Mcm4j9gBlqKOLWlmqsZH3sDTpHe9fgLXktUYaX_H-BalimXWuyBrURtw=='),\n",
      " Row(user_id='gAAAAABkHKY3FJGwE1O9lQ5TAjO0qZQ_Sf8ULrovuzMY3vziyhe9TMsLX6WQxK4aWIMbaJPDX-doMy0oauhdB-1lNJ6t9JQbzg=='),\n",
      " Row(user_id='gAAAAABkHKY3ClaYt7BrlEppjj23hy0-jQ8vvo9JJ8Oxr5SBFjYW28rVbB-yMefjGMQqd6egptebGY5YlIiHuK7dz2lVVLzGqw=='),\n",
      " Row(user_id='gAAAAABkHKY3HLVkNsjI-u1wZ9nlSxgU0xzPGnQbfhz6a1-p3YmIF_BMfz-k2F8ShqYFMmL5lRe5-9MpFqUZ5iZddjR1G0t7Ow=='),\n",
      " Row(user_id='gAAAAABkHKY3AJggI-4NqVG4zmZKfkTNZqDUnyTaCSIVm7qr-ohhh8jRzEitea6yTJBzvcK4BSPARaKaFJFp0nrCnUSwnQBFWw=='),\n",
      " Row(user_id='gAAAAABkHKY33KXQ2XB8KJvf-AkvZYlh04XBm7XhRc4CLGiXwsXxcDrY6RcQMxOFH3bBJYrycBdbRtjaqQ5RaiIUINJ7c2t52Q=='),\n",
      " Row(user_id='gAAAAABkHKY3NM6ntBK2OMjBwKkUSe5CNQPwCDXBzByKnJY8nfXSmaMLUl5-uIMOMC0Fk9g8YxZWZ5FtgYmYh-qnsZ5weMstGA=='),\n",
      " Row(user_id='gAAAAABkHKY3cNC_Jz7PvjIYinPt2xEphBD9yrNGL-tlrhGqYv1lj8bSg8MqVfSmgd6H1th4dsyoykryMsrVqsME81VcZtvIAw=='),\n",
      " Row(user_id='gAAAAABkHKY3V31vn2A4y1d3AqGIZtK6A0DfC3BjZNd84zhE_bQThZHJpXFeI98w6e9UC4N63a7zzZYQlpfMI7a4eaTCe2hP-Q=='),\n",
      " Row(user_id='gAAAAABkHKY3qioesgVKzKSZ4f13HZBZ_xRi_TRPiWnCkXw6OxZqIUQHDwBJcGMWd0lud_Xo7nrZ5Z6mQSefdettsK3TzX-Whg=='),\n",
      " Row(user_id='gAAAAABkHKY3GVct3ZKkn0r8HnTWaP7_a6wYfEm8KwgeHW1ZLDiWxPm85L1YIVix4Ua_4rRmoXD_EFXMpiS7799hn5nkhqvKCQ=='),\n",
      " Row(user_id='gAAAAABkHKY3QVHt38_k5fZgvjDnSDSsThOtjJ7gh8ObB8rtOC-XBds1i3mJapv_bwxtzeGBTjRzgchah1QvbHh2pJqMT3d6O6Kkm4zSA4nZcqTzLI3fmS8='),\n",
      " Row(user_id='gAAAAABkHKY3Q6KvUqU8N6GR96PMjaQzWSQG46NHNLz6aHJ1AfFuoWzWVHMHa2tuE_SwbfQcZH3WuLyUXRzXbAartGnsWQjLHg=='),\n",
      " Row(user_id='gAAAAABkHKY33bgndVIHCeb7BeXxfaiLBHPeZR78HAmGU0frNon3wH7Bp7P3QBdmRhrt10qz0QWn4LKZmzCc_FMmJVBG13_Tvg=='),\n",
      " Row(user_id='gAAAAABkHKY3sf1sFZE1-l5wnOH3aM6pJZyQ6waecLI1s84Hx-ehVt8-78Lq8iL7anS83wyqkQgnethomtNtBbBCR5CAorr6IA=='),\n",
      " Row(user_id='gAAAAABkHKY3KarZXgl94YNtvPxa_wkeeIpTR0llWykf5Kd-nRcGqBG5NkscVBgSYmXEmZ8QBI51NyqEx2A2kJ9tbAOYQnXfDw=='),\n",
      " Row(user_id='gAAAAABkHKY3_fwcnJZfj1snI8uOW1y-x0UOuoh8Mcqr95-tNXiyUV2eb1bD93o9ISfzg3W9aiFuLgoW3-2n9VIULFxBw2hN3A=='),\n",
      " Row(user_id='gAAAAABkHKY3vAYJEkc5QWQrRl84atFx_mn3-AFYVn26Oye2PN0daqs6s9C6ktIp2q_SAfuNZ9qeuwmSV5kuBSTEm5vzkhcreA=='),\n",
      " Row(user_id='gAAAAABkHKY3G0fZT-b1KGGwc_KiU57yo7OE5UHQsAEQFD-QwXDbsDA72T6p17HCN6WdPEY4o5V40AzqmnOiBpU7abXmTImfLQ=='),\n",
      " Row(user_id='gAAAAABkHKY3Rl3SjqFQicU3h__I3Tro13hfwqrI82xPa1mtquEDB8Jdq-37BvxqBqpBEr-8bZDUQWqrBz9_4ciBAnjhekdwLQ=='),\n",
      " Row(user_id='gAAAAABkHKY3pfh-ls4p2FqOPw5NVbVBoUYL8_bz7lNVpDcSpNWkd4MOjwelpR4ISa_OZKD-9GfJZX4hKtSYPzWwWJzlBoShxA=='),\n",
      " Row(user_id='gAAAAABkHKY3xeK3JuWiMXXo0HfrEeZ4jSnvC9vGIhs7m-3DmD4Ce6twYAIP0w6NSr3oj5vdJ6k0dAflCxqoBqsbP_goj6-WMQ=='),\n",
      " Row(user_id='gAAAAABkHKY38yRv-PdTIwlAwI8zOeh0ze7VI_MqO5jjDaASKCpdjPiv1BLRpUeYLOHq-i-nux1ZnFGFtnb0IGxxwAijA3ImsA=='),\n",
      " Row(user_id='gAAAAABkHKY3hcsCrZ8KXRrlFNBZPL5YWi_AoeD_uJFehE_NU4mZ5NBZy8IEAnVOFdnFLnOIG5fYoK6fibmnmqdNXxTJQJr8fQ=='),\n",
      " Row(user_id='gAAAAABkHKY3Y2lqELnFfvsyqme5tBk1VqkwocJYYyyB5q1_EoooNxthS2T5OgoJUQZCdDop_uxMkQ73itxTq9VOoNIEfN_8mg=='),\n",
      " Row(user_id='gAAAAABkHKY3VT-u6cdSBVOetiFf6t5otWDtrSFI2metqtlj_Gv4Gyt1s1eOwo84XLLCfMsDzLXNieHruMf6GEMPftYFwc3_Nw=='),\n",
      " Row(user_id='gAAAAABkHKY3WiJFzzCycAGz3GLPHddgBUkuR0ihtaZ-Me-NkjcJ23_wxxM3Hm-BFS_edOsyP0j6GGmVh605DzNndq2VdBjOsg=='),\n",
      " Row(user_id='gAAAAABkHKY3bU2s0tXv1aZKljQH7G5mv5CjUvhWkntX9Wim6JwAtvCgcGGYYQrK_IKDmNktaKckDf9bxz4Kqfvu6QNLwCuFtw=='),\n",
      " Row(user_id='gAAAAABkHKY3DF4BKSjtDbOmnvOT3B9mc8gR35LfLX39VcFupVrneAMFkh2mBBMfD_9Gn3DQZqOooRbPHxyUhEbMF12NWpmIXw=='),\n",
      " Row(user_id='gAAAAABkHKY3_DBvF8ZuiJwe9erdytfLDqN5YxwbZEUtttHqDOYkBlgao4aQF8NJAVvAat4qcC-pRbJktSXLzrzUn_Bnb_FocA=='),\n",
      " Row(user_id='gAAAAABkHKY35XuDMld8oWyhRw3ceT2a2pUrC17E_ot7tcM3fkmWQDFRSLUpsjxvLyI4xmxj_wd7hoQ6gEKcLI_CVSZgYsWh6w=='),\n",
      " Row(user_id='gAAAAABkHKY3LsCzy1OTdtLw9snqumUdE6elRcym7M0F_VDhpIs5vULY96YIizCBEHOWxxnl9raxpgC36kPR79jzUkkfcs5KPg=='),\n",
      " Row(user_id='gAAAAABkHKY3eSa8HOEiu9hU2YBY4wkPQBLlOd1KX5P_JmYucIkMXpVCEjKsBGzmzNZv2qjQ3If85os9dl4BdtQfM1BIp2hviQ=='),\n",
      " Row(user_id='gAAAAABkHKY323Stg6GVuyIGJwTQiXW2gBFz0YHRVr_Ui1BHjzbwbUxqJuDra5iAG0BhRMJwfPkovAXi2AGaV-TFgSvUv6X4qQ=='),\n",
      " Row(user_id='gAAAAABkHKY3PjlU8GE8vCBJ9FHEz-w7bcEjGsatzdfAr_62hQ1_Qzdjor3vjchyLcp6NVoyhPbcEE1SJM0ZNL1sAgB9eC4t1w=='),\n",
      " Row(user_id='gAAAAABkHKY3FLW2r22lbJPzxx2RzsL3aW7N648EwyyJaFqlUMbYMGErOjjGEc1UBPyB0Lm9rciiABdzO7BZvdwDpPtw9k9dgw=='),\n",
      " Row(user_id='gAAAAABkHKY3_bVRklMm1kpOJePCGgAkodNpv3NBEnj8i1JsQs6M_uZt5qYBiE_F-uau73WjH22uuoiOPsVe26JCjd5bPT01sA=='),\n",
      " Row(user_id='gAAAAABkHKY3gCCuZelET17cwOdOlRKxBEzwoBHqgyFAPI0y22F6mRMLwWA7aLapD8OwafrQDcaYn8VGDLc1hbPtV0DVhi9k-g=='),\n",
      " Row(user_id='gAAAAABkHKY3NmSHPxOcfGvw8jxCzY0oTUNNWyvXkL61PPOHqtCaPt--IG6p-5-nE38UzU1dkLDpU_QTrLB59N4UKJ4UG1qv5Q=='),\n",
      " Row(user_id='gAAAAABkHKY3IitTK-lfXVWdoEMIv0QcpUi9K9MXgQvvhrp9LW7ww_GDA4ZqF9xqJD3IFnCncmhQkqI-KuaJFtKngMEsu-1cQg=='),\n",
      " Row(user_id='gAAAAABkHKY3BAow9Kn89bGIxdXFBk6Z0Q7gk2pGRU_ZdZ9s5UPu-A2HiBmuYSnxH5PSbu9dMAu9smTJ9Lwojj81TAyO9a7AcA=='),\n",
      " Row(user_id='gAAAAABkHKY3eef02Rodrhb8tExDYqc0rUenWkXdvyIQnCsbQuGos1C1X-13zhBQ4OOWvfmLhG35D5dQJfM-iBo3aQlXVvH47g=='),\n",
      " Row(user_id='gAAAAABkHKY3QvqEWJawZzR0p41gacsf1Ia0prVQGobXXsL5onKnogaHDXQohtHJZadr-MsbDNz8ZZd58MqbVtsPeGiOfMeUsA=='),\n",
      " Row(user_id='gAAAAABkHKY3hB5iOnozWSevdz_HpbEfOEHY1wZt4bIfMnELYDQ_XhJjMSjxmKG5yEWigFRFFIJ-KdrDT2r4iIJmH6HTO_riWQ=='),\n",
      " Row(user_id='gAAAAABkHKY3Vp9v8wQOydcYboh_CP04m6Kjn9kew7DLFlGn5oiEYVYAoRDRJEGpdkJvs4CD1-xn3tGvUdVpELFEsOR4KQdETg=='),\n",
      " Row(user_id='gAAAAABkHKY32GbhJmcbbGU8QtVHO48XsoV3-xSsw2_EyoIc0OTVUD1Gjo0bD2u9aLLCt7PVOr8b5wGhNhriytL6ucysOeguuA=='),\n",
      " Row(user_id='gAAAAABkHKY3OatbtXWiIKNB84hK8lcwx4KLmvoIfdjBkijSHrNu9NWEFj3aLCT4IPSKaA8LUqjzTB7YBTpoz3FzWjy7-3x6Bg=='),\n",
      " Row(user_id='gAAAAABkHKY3Nv0D4ST8us_lEpsevOwaW0rAHvVCG4XlDcsYMjpSavCKhP5NKn8r2S_-PiozucuXLNSqf-lWH3eLzKRs_GiFpw=='),\n",
      " Row(user_id='gAAAAABkHKY32kbaSMtu-GlnSc182Et-UBWFoo3gB00lzUvx0-ZJ_94pN92qL420jzr5Y52j6wQsowqCAKO-W0Ik15QNR0EKBA=='),\n",
      " Row(user_id='gAAAAABkHKY3kb8IXjWPUc1lnU3ADj-9BdWOR8GovsgTb8BtDUYcxyP5rAMpXC_ZDZGFFKRzlAst7rMrozgrD1W6QVkdPtE7qQ=='),\n",
      " Row(user_id='gAAAAABkHKY3o9OZ9cY2VMsSD_zNXcyS1UAl-JxttEfEa0LL1ib0u3FwuT7QTOsgMxe2DkqDm2D2uMGugpi2Hlga6avkgRDl0g=='),\n",
      " Row(user_id='gAAAAABkHKY3G_sxqtKtyZiJ1LT-SoJMqtUV2fbdW7w6pYNkrWEyeogdChYz8dMOWgRvkOQWB8CYkq1FvZKojQSEZlqTy1Pptg=='),\n",
      " Row(user_id='gAAAAABkHKY3nDVb39dRi9epWhq2I2iFvLNmzPRynkpRl_vSO4FCqmk1j7xepqfHrsp4itj8KB4m8jJbdZrkVMEEl4EXYxRibA=='),\n",
      " Row(user_id='gAAAAABkHKY3RSvONi52a0j2w-VkUXwNHl_IQfpmAqDLJ0aQmkj3gWd_ntDhSDw19q0U5klPlhhPgO3TbEh3vVVcZejmZkxEUQ=='),\n",
      " Row(user_id='gAAAAABkHKY3BpX26MWfe1c-umjIGCun-2KoXpVbIUQDIDgRpSUZcNUiiAZyugImVYdGdtC28ncAXgfEcPb0rARgfCMcrb2lXg=='),\n",
      " Row(user_id='gAAAAABkHKY3Mh1dT709e_RWjquhg-IlAPGmLFYnuMxZ2t7mA4NH_ntqVNscaU79pwBS85T3xBeTIR6pG62pO3D2GtfSMGo1iQ=='),\n",
      " Row(user_id='gAAAAABkHKY3Kf2Vh5bvQCycECtXq5xavNX3O9SPISqlAl6bnqm2Tyb4CBLsqiYz3629ui71GBzTVVKEZS4_MX0lomffJjnnsw=='),\n",
      " Row(user_id='gAAAAABkHKY3Ez4x-_N6r97vPUYwHhndoy7wk3Z9lLgfBbar40DfgvLqx2_wIllIiJZj7vPK4w8J_GSEZl7l_2-wDmLz17XAYA=='),\n",
      " Row(user_id='gAAAAABkHKY3DYDimgoBWC82TtJRc3Q29LLHtPmJj2VMBCZUYOL1ifxMsDeQ9T0-PKCn3V4j8ftHLjlePYS12bppLJxd3c1hWA=='),\n",
      " Row(user_id='gAAAAABkHKY3oHVDcOQSRuUWrCf88FAaEWy6ZozEDg1EP3dKvoPNqwnWsA0Oem6qkiS80po9GdoO-l1YBZTLn7JnXLOUnu9Shw=='),\n",
      " Row(user_id='gAAAAABkHKY3hIRGYxBPdaw8YRAuuXeOquicNVkAliCId9jS1uD12KpZq5EvmxiYTgYIMv7iCNses7M0vfy2v14_iaMVbtGW6A=='),\n",
      " Row(user_id='gAAAAABkHKY3uAGE2N4ujPHQ4XuDBc_4D7FctP-gFzsUmVH51IYO2ewy9bOOLa-8jNGn8kLt6T0HyrnctBEBqJyf28yWSWz-Lw=='),\n",
      " Row(user_id='gAAAAABkHKY3pAF8VJQIV2TgURhyDXdHWv9HlY9H5tpefbk1QCuOpFvXyyFJlImaFVg3H9LYbBmB678FyzlC9tm9gCYq_TAzfA=='),\n",
      " Row(user_id='gAAAAABkHKY3g6a4Cbg3ClFg-6PaEcugmx5henlnHnFcve2WOq9Dflb8QULshTHMz93G9vo7eCQBoT2aRDn-r6cQAgMknQ-wrQ=='),\n",
      " Row(user_id='gAAAAABkHKY3yleozZCgySKXYt5ox3_g5l-cyIwt-mhQk8n6hPmFQzDplRTwMp1Jm87_tajKIIRwatkaS0JeeWaeRXYqxwbOjA=='),\n",
      " Row(user_id='gAAAAABkHKY3UsjW7kn6-iY-_WxBaUkWIEvtegao6OY-HWjI3l0C_qOLhjOJxeB2ritG63lppf-3MmC_IDbYinpfz04C4z1GFA=='),\n",
      " Row(user_id='gAAAAABkHKY3UlS3F_TJrj9JZs9bqnyMsbTX88UFrPayuP0iCnut9Okf0MdIoQPVjuxwWqxIHusfjQsm_ff_ucTIn8NtIqTESA=='),\n",
      " Row(user_id='gAAAAABkHKY3fn2hjT3XqenUakw5ovFKUcuOzA368fzCzD_T_aKTQJDdo-qeyynijrluxv1QslpOL9JO4d4miMnG0J-e2XXi-w=='),\n",
      " Row(user_id='gAAAAABkHKY3lbLcFQk0y7yA2v4xkpmwGx-wNlk9NH4RwfjF8F2PTqVMkG-uYLBwC6nAlbcPnvvzYksWScUAcGjaequYv6SpwA=='),\n",
      " Row(user_id='gAAAAABkHKY3GKTOx1yxuDpwgcA5IiE0ACnkahAkWMiG6qFiMPBu_lULpO6DOqTpDvZxa_LJdyImXUR5VL1Lu2uz9mXErOD8rQ=='),\n",
      " Row(user_id='gAAAAABkHKY3PVkxcRzinkm5ftOd7W7wUL8qFTjvFKn_ZacX6sY6YY2ean4WwCBoLm1OZebR5o4mX1fyzNiXhg7jG15Rj-buhQ=='),\n",
      " Row(user_id='gAAAAABkHKY3LRZi9NSNDjIxJOdIUe8dM6EqbrmZ-67lgWi3jKAkF1HIv_-fK8s0VUN9XAmKjeKwWQyNReubKIWCi3saRfQV-c71XFdyudiYGwoOKHnDeM8='),\n",
      " Row(user_id='gAAAAABkHKY3yunUGWBa2brHU2btFcLxKadk215WwDcTHFsqC2tBnv3_qfIH0xkU5-W25N6hoPWP7RO8EXBS8567sb7xv10jnw=='),\n",
      " Row(user_id='gAAAAABkHKY3Mqybg6FS__Cz_sffVpAYRAm5HQ7Vn0tScEFZKhoBau8mU4DrGbHkE3ckNPEP_3yhfe1oIcBfgWGzPU783eq3OA=='),\n",
      " Row(user_id='gAAAAABkHKY31gTBBJpGWTV8Tpf2Rzpk9tETBrSHnxRkY6Ptl1JOuMVgfbc2BvYQMrz0gMlDwm0ChdC_ohmyGs3wHJHTV0IOpg=='),\n",
      " Row(user_id='gAAAAABkHKY3IKmzAzlofxSIzqQFfZi2Q1LxrooF8L2Msk2GgGGFPi_Nk2EtpNhglyhE7_-dQvXvrPrl9tzoea066IB0K4xNJg=='),\n",
      " Row(user_id='gAAAAABkHKY31xYB4tijSI-N-_YmTuScLdLZVZWIpKwZ-mQOg-hbPbkDvE-HHdC_v7LgwLIjEdKRwB6MDbmOzS7fDf0B_kx2CA=='),\n",
      " Row(user_id='gAAAAABkHKY31PH59fwKtwIBXEUauxbK18hKI7xL1EkX9v3UX76Ne9RHzmJm17GD9HoDqQwRIsu0OzR7BSbsJq4yL1YDb7vcDQ=='),\n",
      " Row(user_id='gAAAAABkHKY3ZryAxiTMgF1fNElAthcBj-pOD0evZigmdC4HtgbbBWWJH-0zFPz5cG4QJf-uiJUVNYJdarB32P4Pqhfm297qQw=='),\n",
      " Row(user_id='gAAAAABkHKY3iO4FBLJFnNi1IWEPZslo-IaZWle6FPsekY0DEOQTHFZpq5UOglt3EKdJsp5rW3G0ru8zaFedDzHz5M385rsSTQ=='),\n",
      " Row(user_id='gAAAAABkHKY36-LuOA2WAUyCwaq23AzwhiajBOhz30njSgaywgTBMfMN4on6OIPhqCanfF7n0GXkkR_Gk4bRsyjCEbLHgpHqvQ=='),\n",
      " Row(user_id='gAAAAABkHKY3BaC0hQWTe6X3BbJ7rsJoS12Smgw1UjkAwIfoD7AjlRZIYq6u7Q06Mli1WLCpSkWUoY4-U6TG8StBf-cDGC3c2Q=='),\n",
      " Row(user_id='gAAAAABkHKY3nrdCVirTxhIyBVuOKHAYLjae5LWWjQTYV6RPm5ze_mzVPKA6wwggCBXD9MGAqwoCPZfuRQsA5WzL5I4lVAZRbA=='),\n",
      " Row(user_id='gAAAAABkHKY3OHimziCYC2ACs2__lQF_VTF5yiVeP1cqlHeG2Qu5XgvyMnsV5nsrwJ9CBNA0aSZcedoD8wzs-7DMblLECJPyXQ=='),\n",
      " Row(user_id='gAAAAABkHKY3ls2Q2k4leCqCvxuIry4fcO37Uj853N6TDsLQuAjqwhPHiVGGF2Gzxzc_kP5ClNxYExciJdYniP3K8Fn6qHvKEA=='),\n",
      " Row(user_id='gAAAAABkHKY3MQ-AyJa3LzGPY-Joj49fDrPb59TYc1BlBuxTAUtviZxtojKWoU9B5qFx-riXF1zrrU_DKe_AneaC634i1fxn8Lw7sWM_1CObO_mOXsAPWKM='),\n",
      " Row(user_id='gAAAAABkHKY3Klp2pw_Y2pHxSSz7bmYbir0BQJNUMCc3SCE6crPTOGw4czgsUkkP4Z1j7V654BGkUMgmoL8QnPS22POYNIAdhw=='),\n",
      " Row(user_id='gAAAAABkHKY3CiiIeTzUgIRhM9aTvHKkBq48bJIBrfbQSX00fWZp3wYDS1SbvI40JVCuZbLYt1Znk8P8V6mdtMCh9veFzeBEow=='),\n",
      " Row(user_id='gAAAAABkHKY3nZyz8Ntbip2NaTsW_PRDKO-L5vD8RUSeKgyNIIZed2D3aszZyyLpjON55w2TuaODlmVlVgs8YGxl0VFtMuBO-A=='),\n",
      " Row(user_id='gAAAAABkHKY3xbFnMq2FJcxlhUEInvi7Ltoi7eZz0wFZHdqDZAUddT54PBHak1kcS5H88SUmTryxHb8It2VdqT6Wvrl5q6z-Lw=='),\n",
      " Row(user_id='gAAAAABkHKY3xB0pscCVrbguOB1QqWbgxGH40jUEhVdQA0Y1UgIEZpAAcsYI7hJbhfPQ9LJkrRMvAzraQAgcExyRIikEFsndPA=='),\n",
      " Row(user_id='gAAAAABkHKY3gx8EUM2Wj_gbyxwOB1ulR_t0uTaxSsmWIzJk6anbU0VeyGsxmHqYm5tedMU1YRdOBIUjLSdMkr_m7a3nmMMUWQ=='),\n",
      " Row(user_id='gAAAAABkHKY3jgggb2-yjvJgnIcW-nc3UFzX_l-wThwRGRD2wNAAjMAwsXALUizYAShoErDSfihk5ftG1WfCCLnH6yv12cSrPA=='),\n",
      " Row(user_id='gAAAAABkHKY3fOYEbUUp_wNPkphQuybsk6-myTzhlVTK0SRamBK59D12Tk-h7YKd0XpLPr_dofxGVHQ9fsDju8dyjMbHDRhmFw=='),\n",
      " Row(user_id='gAAAAABkHKY3GvbLl1ALUY2EQBkk6LKA1mZyppy5q0tIU_6B_5KgRx55GQQamM_7zpB6BIdyDahFxCLXuFHRGlW0Zx_cd7F_SA=='),\n",
      " Row(user_id='gAAAAABkHKY3c0J_7m3erNq5CgoEN_FY4YL4kIoGutWiwc0QFJQwk-2oCk8kNIJ03iSOmdClTnPJP4Ys7OMOE-YOLDlXwrCtDA=='),\n",
      " Row(user_id='gAAAAABkHKY3FATQ_mG-xo8Jz4iYRlsULXzLphcm6Njqri_qjwj3-qd9iabcLYQOHIFtp0ZUL_oVd_3bkaTrZhM13nnoC9smHg=='),\n",
      " Row(user_id='gAAAAABkHKY3xSpLLECG-O5dMdTu6983JK5eJsRf8jRmB57la-F9Qmt0c_B4kwPjeA4YnAFT2WKTB07pLA13ivN4CF1vyvUiww=='),\n",
      " Row(user_id='gAAAAABkHKY3srWW9SjUAlszXSyiOdIdQRahSycTQrMydGT6csUkbR49aHaUHqvDeKrqZ8Cjz7CyUHYvrQFAiEowplKKAyCN3Q=='),\n",
      " Row(user_id='gAAAAABkHKY3qlxlbfPpZ5DI6FamQWTQGvadaorU4Cw7aoyBL-D__Q_NvVIALDN1AGcNNGK_yFx0qjM3qwwpT0go_46dhYFRnA=='),\n",
      " Row(user_id='gAAAAABkHKY34lG4jAlNu-JASvpfD3U8m9X_Riyi16FHGAKOWQ6qajsQOFdtkr5zyA0SiKVb9jhuJLZRRZE4HiHNUCwwQMAxaw=='),\n",
      " Row(user_id='gAAAAABkHKY3sKJxcAOddLLjKaG5MnUDSB7Yx5uvYfO8NLWdhaIanAhF3-Kwo0Mszq9opUVfEgA_e5SRiRmz-deSnfkPCeKWZQ=='),\n",
      " Row(user_id='gAAAAABkHKY3y7ZHk-c11oMRHZT6skkGCODpGnyzhcjnhK9TycKfTCcPxmGV9bCbsbfZFYmofa2ed451gu5gshFEzGDp47bsqw=='),\n",
      " Row(user_id='gAAAAABkHKY3ywFAnOpXJEx040i-KqXpmYtNu_3ohHQ8ciSWolrgSravbYqThd8m-SGIl1DmXf2b_m7drdUOzDhySsgdwH_MRg=='),\n",
      " Row(user_id='gAAAAABkHKY3avN3JiOVZ9yLx8KofmBjXH1y-KHW9LL8f1wXv5qCftEkPAak8-XwdL_JJDmDdCJ5-t2HoaoxC3snMHkA9upscA=='),\n",
      " Row(user_id='gAAAAABkHKY3eP5miOa4kuPdtORYgA-ByNqypM-KAc95azQSAJv9cRLOrXSfDp9FfVeMwjT0SqoOy-K5tugLFVJghW8bdb_cOA=='),\n",
      " Row(user_id='gAAAAABkHKY32i5DGTwfXcJRR3EjxiBOpbAAKwlu1GBOEXg8-0nsYxnUn9kJRbshihVGXdujyopmy4VLLpFNVQSNpxvrSLvWvw=='),\n",
      " Row(user_id='gAAAAABkHKY3N7qVhZ1_Sjq9axBtQ6ZsR0pCdF_zeDKG_V8AxpXZ1T461cyRwa8wxISMrwnpuymH1KkVE30J16IjIF-qjxQhXA=='),\n",
      " Row(user_id='gAAAAABkHKY3gMdDFOfT4csbDuo3jsK8SfLkGRM2iQ5IqzP5Z8ShRxZM3Hyo5Bx1k-z5c_KqEhEhrP2mTyZMYWaYNpuVR5qFow=='),\n",
      " Row(user_id='gAAAAABkHKY38HPGytuaB8l-tfyDReRtggaoYV8o2DcfTN8JSHGRjZ0xM-Ni6XkNGOX13GOjmGdrPDH2iTJO-dI_wSfZV-M9Pg=='),\n",
      " Row(user_id='gAAAAABkHKY3aTxDhJPAAJaB-pdtWc8Df6cZjLaul6mONADsbF4-J7HhU52u_ncaffimYDNTosdQo8p57EZyRoknlUXFG9jhyg=='),\n",
      " Row(user_id='gAAAAABkHKY3tGE6u2TnYIe4yTqRnTobkk75gpfsxGWV2oTor_MiHeeW1qu-WGPre-nt_VWhA15mcoRBZulxImu_e5iYMAKoHw=='),\n",
      " Row(user_id='gAAAAABkHKY3BZClAbOhFr1GLhW4IeVqdXvYFK6fzxYYHFwLaI4cdwqvNMp7FLjm4haFTJuZUC0h1TVZ-u-oLSI_PGdbFDP8_Q=='),\n",
      " Row(user_id='gAAAAABkHKY3Th29aEESup1xhDLAk59ySpLWdx-xolfGTGm93TXoZqORqLAiLarJjr_rNiGDXQlZU10V3TlFHEwrvukwDO9kwQ=='),\n",
      " Row(user_id='gAAAAABkHKY3c8wsflq89Rogue5xlDEvTMmNUldMkhsKxAc6U0iRLDaPaA9yJ7iSJNtCX1PId0F01iSzOnWjDA6t_twCLGAQfw=='),\n",
      " Row(user_id='gAAAAABkHKY3RgJtc6hb2POAeRGJ1Gz0ztXe8mcEZYRBHfMQfxea3UQxY4k69xgpjsY3Y0g1rUuvlQbqsbr2YQzAQBsxkn8-hg=='),\n",
      " Row(user_id='gAAAAABkHKY3SBN5xwMiAlPVi8DJG93-YoVR8hiVaaEnK30h__66HAZNWbtqpEYVYRE8l2qSNNgi1jPw1pxQqv7kuXjrGS1KoA=='),\n",
      " Row(user_id='gAAAAABkHKY3q3i2B85jnWnt_cCxkD2uifhjbdJGIYdyTYJd2JKzr0spL_LhS5tDTZ5IZECokvp8_vJOgFi7L9-BuDto34p42A=='),\n",
      " Row(user_id='gAAAAABkHKY3q3K0oaJmpTqqehHin15iSV9CDCozhRnk4MywCPJum0kFeBwvDW_qHdTXXfwkN43f68yarO0ngZ0WNFQ0Gq2VEQ=='),\n",
      " Row(user_id='gAAAAABkHKY3_lc70nvHNVYlP58ytd2ZnMSUx4NvBssiTpR_BKZHoakPuNZ_ZgQ6rSgWp2QyJLZNB1AR6pWpoXO-k2arqjpMWw=='),\n",
      " Row(user_id='gAAAAABkHKY3nkZ3pjZ6_RgSlJt8yESfMtSf37qKznF0yOUphkSabHpk6GOeS3sVdFHNai7HEvlJo9_U5vgOUoJS9N7bizWMiw=='),\n",
      " Row(user_id='gAAAAABkHKY31h_GWsqmYhNUZgZ4cqZx4mInatyQKdLoHfRdJhRqE3HUR6FaR4FzWIoBiNSw3qgiCHQ7Re5jixzoDKys7N00Ag=='),\n",
      " Row(user_id='gAAAAABkHKY32vKIZ_1a8UuJX_kqLd50GPIi02VW-NuuiA7Ig6dqlxNHLjZIK7eoplQX19MOcjymJZbvBIh5JFw13BerHapgYw=='),\n",
      " Row(user_id='gAAAAABkHKY3sOXtCqiqpeNUxtOYpTJcr70E00JDsJkz4HGZt5yJ2bpXGuNT0i5Mg1hryzJtf5kcRI_x_oZBsXBShTg8kpyyqw=='),\n",
      " Row(user_id='gAAAAABkHKY3GN9-3wn-ifgk8iLaWZ5BtWAbyv-sG2xSQzhNj7tHPVWrtGzdDzd3hTGvwTMnpYH-iaZy5897-VVEjWOWYtq_uw=='),\n",
      " Row(user_id='gAAAAABkHKY3ObpJtZ0TMgWqpkctQgmMG9p1gNuEONr7QoR7YgUor6aqQDqq_Js0xAZvFdQrPVVy0Fgtt2p1b8pglOLJE0xmoA=='),\n",
      " Row(user_id='gAAAAABkHKY3Nt-097MEjLiLOkzEEOK5Mv1a4tz_WXnINmLNTxZ_xcz7hg4k5BMvIaTKcYWeQ74_pDPfWBF1YVpUXzAo8FtF7Q=='),\n",
      " Row(user_id='gAAAAABkHKY3gKWWyC4UNfi-o3Id7F55LAE_fcfaPwzXEVOEuqSg0A7o3C0JzpAk16aUxvTEHSj4Kv4qFtqahUXCK-pR0NOfTQ=='),\n",
      " Row(user_id='gAAAAABkHKY34pCvGXR22IVYzoR_h2FXoCxMo_GfbLqu79ImY_pCcRVSGfJfS_ZIlya9QYVKicJr9sdvuHn9JxbrnFxKIg1Y4A=='),\n",
      " Row(user_id='gAAAAABkHKY3on3XGvI2upjZMwfy3G2KUrtTssZ0U4GAcJhnP8cIBXAKOLmfJB33jkVoBU3lwmjz85dDZxOOe8T9LmiKYp9o9A=='),\n",
      " Row(user_id='gAAAAABkHKY3wJKD4i_qi28q6Vs9f1_awTY_W5-Vf-z6-paDsNyPyE6HTxwuA7jsWsuLw_c7uf9z0aaOKVUfJ_UcsFpziNNVhA=='),\n",
      " Row(user_id='gAAAAABkHKY3Uv3ghthKZry5L6ExqnH4lGOSArBsPOs06eHdMhuEgsD-crHBPxrgjIvQ3w5QV-p8-MKOlmZ-HSrjMLhu35ppug=='),\n",
      " Row(user_id='gAAAAABkHKY38YbGzCpwueuShyDHfqnJ0LsSim8nN9h66rFf4QPGAqh3V8vqWFmzAeNp7WOCOA5PVHHrCJhEeYVSwnD3H413L1CNA_smqRBiLlKcf0n_bdY='),\n",
      " Row(user_id='gAAAAABkHKY3DvUZfYMBZ7IizJQ_K2XFG-Jbga1fhvqYeBn_9SrSAYeBQSXQKHuvQ2G8seXx1YT10F-PnKMS3GYyq9ZWfuHquw=='),\n",
      " Row(user_id='gAAAAABkHKY3M7rp_gc80S-IEMzH8MW2Y5HfVvdvvmDnePYVTuh04U2d2eojLzgZcLPvCb9QLTBWnuY8JoGR4hiXsHSp5cfk6w=='),\n",
      " Row(user_id='gAAAAABkHKY31MfejKi32r3ppHWJkal6hJw6CE64rB8pLuAVwGXYF9LXnQrWpvjjm0_JLMTD_ja2eWSCBo_tXbaZfxYX4W2bxg=='),\n",
      " Row(user_id='gAAAAABkHKY3G8jHbYzgdzbGmVx_s5MSOksFnyiE7M5KK_3e6Bi9THcPVY67qTHVY4lc9TZz2m2UZDxmAkOsX4SMYo5duGvJLGtZ-LfUchFoBe9Y6WcndW0='),\n",
      " Row(user_id='gAAAAABkHKY3zvgky0-brsHQUT1DMYoU-SXwufOAxeQ8T7pBASuax4qZB7gynO4GHG-l9N4Gnh-Oe0Xzhv_krYSABsVAwxvC8Q=='),\n",
      " Row(user_id='gAAAAABkHKY3a1iONxvmHrjKiJvyrN4HOSzri0k3WRDJPyexPnmyekuYNmftq3hbKzf3S0QxuziPzJihCYdmrN34lKcnphaDqg=='),\n",
      " Row(user_id='gAAAAABkHKY3E-hRbCW3GJRF4YGjCyRCaV6uiIW1eC6lZNr8hP-H_0emonGt8y6Fye4LjX0p72X3zbV7yAuIb1jQ-gyaBtkQAg=='),\n",
      " ...]"
     ]
    }
   ],
   "source": [
    "results = df.select(encrypted_udf(col(\"user_id\"),lit(Key)).alias(\"user_id\")).collect()\n",
    "results"
   ]
  },
  {
   "cell_type": "markdown",
   "metadata": {
    "application/vnd.databricks.v1+cell": {
     "cellMetadata": {},
     "inputWidgets": {},
     "nuid": "20c266e1-20ce-4400-bab5-2c9fd83930b6",
     "showTitle": false,
     "title": ""
    }
   },
   "source": [
    "This looks like it works now! Let's add it as a column."
   ]
  },
  {
   "cell_type": "code",
   "execution_count": null,
   "metadata": {
    "application/vnd.databricks.v1+cell": {
     "cellMetadata": {
      "byteLimit": 2048000,
      "rowLimit": 10000
     },
     "inputWidgets": {},
     "nuid": "32a7ea42-5565-45a8-a52f-72c4a013897c",
     "showTitle": false,
     "title": ""
    }
   },
   "outputs": [],
   "source": [
    "df = df.withColumn(\"user_id\", encrypted_udf(col('user_id'), lit(Key))) "
   ]
  },
  {
   "cell_type": "code",
   "execution_count": null,
   "metadata": {
    "application/vnd.databricks.v1+cell": {
     "cellMetadata": {
      "byteLimit": 2048000,
      "rowLimit": 10000
     },
     "inputWidgets": {},
     "nuid": "b7eaf73a-d931-48a1-afa5-80e8916766f7",
     "showTitle": false,
     "title": ""
    }
   },
   "outputs": [
    {
     "name": "stdout",
     "output_type": "stream",
     "text": [
      "Out[39]: Row(air_quality_index=200, user_id='gAAAAABkHKZEc__D4pYpstQX1qWV4CS5VIi03mex-03TXdx4Nzwq-haJRwWsG465wOPXnNShPF3s6L9xnZKjM9qb9hHwsnzNCw==', top_pollutant='PM10', top_pollutant_concentration='88', timestamp='2022-04-07T14:38:34.869188', lat=10.666680335998535, long=-61.518890380859375, city='Port of Spain', country='TT', timezone='America/Port_of_Spain', air_quality_category=4, hashed_user_id='ef0e8649d9000ff22cc5cb5b57a4fe8fe5d6782f74ef640d4d1da317c7aa4fba')"
     ]
    }
   ],
   "source": [
    "df.head()"
   ]
  },
  {
   "cell_type": "markdown",
   "metadata": {
    "application/vnd.databricks.v1+cell": {
     "cellMetadata": {},
     "inputWidgets": {},
     "nuid": "b9d3f15b-b55f-4cfa-847f-9d0c17624d1b",
     "showTitle": false,
     "title": ""
    }
   },
   "source": [
    "Also we could write a function to decrypt. This would be a good homework exercise"
   ]
  },
  {
   "cell_type": "code",
   "execution_count": null,
   "metadata": {
    "application/vnd.databricks.v1+cell": {
     "cellMetadata": {
      "byteLimit": 2048000,
      "rowLimit": 10000
     },
     "inputWidgets": {},
     "nuid": "37e3f691-b2cd-4ed3-b8d0-30fb845d4584",
     "showTitle": false,
     "title": ""
    }
   },
   "outputs": [],
   "source": [
    "# Define decrypt user defined function \n",
    "def decrypt_user_id(cipher_text,MASTER_KEY):\n",
    "    from cryptography.fernet import Fernet\n",
    "    f = Fernet(MASTER_KEY)\n",
    "    clear_val=f.decrypt(cipher_text.encode()).decode()\n",
    "    return clear_val"
   ]
  },
  {
   "cell_type": "code",
   "execution_count": null,
   "metadata": {
    "application/vnd.databricks.v1+cell": {
     "cellMetadata": {
      "byteLimit": 2048000,
      "rowLimit": 10000
     },
     "inputWidgets": {},
     "nuid": "0cd428f2-bad4-4613-9f5e-7109a4c255a7",
     "showTitle": false,
     "title": ""
    }
   },
   "outputs": [
    {
     "name": "stdout",
     "output_type": "stream",
     "text": [
      "Out[41]: Row(air_quality_index=200, user_id='maynardmorgan', top_pollutant='PM10', top_pollutant_concentration='88', timestamp='2022-04-07T14:38:34.869188', lat=10.666680335998535, long=-61.518890380859375, city='Port of Spain', country='TT', timezone='America/Port_of_Spain', air_quality_category=4, hashed_user_id='ef0e8649d9000ff22cc5cb5b57a4fe8fe5d6782f74ef640d4d1da317c7aa4fba')"
     ]
    }
   ],
   "source": [
    "decrypted_udf = udf(decrypt_user_id, StringType())\n",
    "dec_df = df.withColumn(\"user_id\", decrypted_udf(col('user_id'), lit(Key))) \n",
    "dec_df.head()"
   ]
  },
  {
   "cell_type": "markdown",
   "metadata": {
    "application/vnd.databricks.v1+cell": {
     "cellMetadata": {},
     "inputWidgets": {},
     "nuid": "a2a7797b-0ab2-4181-bf23-6ee8b982e701",
     "showTitle": false,
     "title": ""
    }
   },
   "source": [
    "# Format-Preserving Encryption"
   ]
  },
  {
   "cell_type": "code",
   "execution_count": null,
   "metadata": {
    "application/vnd.databricks.v1+cell": {
     "cellMetadata": {
      "byteLimit": 2048000,
      "rowLimit": 10000
     },
     "inputWidgets": {},
     "nuid": "4fa6a49b-71d7-44b5-8a4f-830a284a2571",
     "showTitle": false,
     "title": ""
    }
   },
   "outputs": [],
   "source": [
    "key = \"mysecretkey\"\n",
    "new_df = fpe_hash_column(new_df, \"user_id\", key)"
   ]
  },
  {
   "cell_type": "code",
   "execution_count": null,
   "metadata": {
    "application/vnd.databricks.v1+cell": {
     "cellMetadata": {
      "byteLimit": 2048000,
      "rowLimit": 10000
     },
     "inputWidgets": {},
     "nuid": "6fa9730f-8abd-4b7e-8ab0-fa1b656bcc4c",
     "showTitle": false,
     "title": ""
    }
   },
   "outputs": [],
   "source": [
    "from pyspark.sql.functions import lit\n",
    "from pyspark.sql.types import StructType, StructField, StringType\n",
    "from pyspark.sql import Row\n",
    "from pyspark.testing.sqlutils import ReusedSQLTestCase\n",
    "def test_fpe_encrpyt_column():\n",
    "        schema = StructType([\n",
    "            StructField(\"id\", StringType()),\n",
    "            StructField(\"name\", StringType())\n",
    "        ])\n",
    "        data = [\n",
    "            Row(\"1\", \"John\"),\n",
    "            Row(\"2\", \"Jane\"),\n",
    "            Row(\"3\", \"Bob\"),\n",
    "            Row(\"4\", \"Alice\")\n",
    "        ]\n",
    "        df = spark.createDataFrame(data, schema)\n",
    "        key = 'secret_key'\n",
    "        df_encrypted = fpe_hash_column(df, 'name', key)\n",
    "        expected_result = [\n",
    "            ('1', ffx_encrypt(key, 'John')),\n",
    "            ('2', ffx_encrypt(key, 'Jane')),\n",
    "            ('3', ffx_encrypt(key, 'Bob')),\n",
    "            ('4', ffx_encrypt(key, 'Alice'))\n",
    "        ]\n",
    "        expected_schema = StructType([\n",
    "            StructField(\"id\", StringType()),\n",
    "            StructField(\"fpe_hashed_name\", StringType())\n",
    "        ])\n",
    "        expected_df = spark.createDataFrame(expected_result, expected_schema)\n",
    "\n",
    "        assert df_encrypted.select('id', 'fpe_hashed_name').collect() == expected_df.select('id', 'fpe_hashed_name').collect() , \"The user_id column has to be encrypted after the encryption logic applied\" \n",
    "        \n",
    "test_fpe_encrpyt_column()"
   ]
  },
  {
   "cell_type": "code",
   "execution_count": null,
   "metadata": {
    "application/vnd.databricks.v1+cell": {
     "cellMetadata": {
      "byteLimit": 2048000,
      "rowLimit": 10000
     },
     "inputWidgets": {},
     "nuid": "db01e976-4dcd-4f63-8b11-8011340339ef",
     "showTitle": false,
     "title": ""
    }
   },
   "outputs": [
    {
     "name": "stdout",
     "output_type": "stream",
     "text": [
      "+-----------------+----------------+-------------+---------------------------+--------------------+---------+---------+-------------------+-------+--------------------+--------------------+--------------------+------------------+\n",
      "|air_quality_index|         user_id|top_pollutant|top_pollutant_concentration|           timestamp|      lat|     long|               city|country|            timezone|air_quality_category|      hashed_user_id|fpe_hashed_user_id|\n",
      "+-----------------+----------------+-------------+---------------------------+--------------------+---------+---------+-------------------+-------+--------------------+--------------------+--------------------+------------------+\n",
      "|              200|   maynardmorgan|         PM10|                         88|2022-04-07T14:38:...| 10.66668|-61.51889|      Port of Spain|     TT|America/Port_of_S...|                   4|ef0e8649d9000ff22...|     2JBEWtuqwxPdZ|\n",
      "|              200|millerjacqueline|         PM10|                         45|2022-04-07T14:39:...| 34.25628|-78.04471|             Leland|     US|    America/New_York|                   4|3ed407ff320fa7e1c...|  l0A6zxVgFtUfoLPf|\n",
      "|                0|           ikirk|          NO2|                         31|2022-04-07T14:39:...| 43.48961|  -8.2194|             Ferrol|     ES|       Europe/Madrid|                   1|d6dc43d1eddaf86a3...|            W9PqVu|\n",
      "|              300| williamszachary|           CO|                         15|2022-04-07T14:40:...| 42.06166| -1.60452|             Tudela|     ES|       Europe/Madrid|                   5|2d52a80f1269fa45a...|   YzAGa23KJD4PFc1|\n",
      "|              280|        sfarrell|        PM2.5|                         62|2022-04-07T14:41:...|   -28.24|-48.67028|           Imbituba|     BR|   America/Sao_Paulo|                   5|199fbb0cf17446f7b...|          zRoyPnUX|\n",
      "|               20|     mariamartin|           CO|                          9|2022-04-07T14:41:...| 51.40944| 46.04833|       Privolzhskiy|     RU|      Europe/Saratov|                   1|844263bdd99411a71...|       cNZk6NAdE4E|\n",
      "|               80|   michaelfuller|           CO|                         99|2022-04-07T14:42:...| 53.30972| 83.62389|     Novosilikatnyy|     RU|        Asia/Barnaul|                   2|2b2092ab6ecde8454...|     CF1wfgrWlOwck|\n",
      "|              100|       acummings|          SO2|                         32|2022-04-07T14:43:...| 52.53048| 13.29371|Charlottenburg-Nord|     DE|       Europe/Berlin|                   2|7d686f976893f470a...|         EVZihMoqP|\n",
      "|              140|    glorialandry|          NO2|                         77|2022-04-07T14:43:...| 37.13548| -3.67029|         Las Gabias|     ES|       Europe/Madrid|                   3|f0cdc51de348d6ad2...|      oFK8y9UvSeAq|\n",
      "|               60|      martinjohn|           O3|                         73|2022-04-07T14:44:...|  5.30383| -1.98956|             Tarkwa|     GH|        Africa/Accra|                   2|15be00a1fb4b128a6...|        zbG0lfA6ga|\n",
      "|              360|  karenmaldonado|           O3|                          7|2022-04-07T14:45:...| 46.65581|  32.6178|            Kherson|     UA|         Europe/Kiev|                   6|e4868e74cb3abef3e...|    Xs4VynDMrYndyO|\n",
      "|               60|     aaronholden|        PM2.5|                         44|2022-04-07T14:46:...| 42.22718| 14.39024|           Lanciano|     IT|         Europe/Rome|                   2|e9f84ce09b08c6279...|       44nL4ZzkzZv|\n",
      "|              240|        johnny58|         PM10|                         29|2022-04-07T14:46:...|-22.53722|-42.98194|         Guapimirim|     BR|   America/Sao_Paulo|                   5|812e1d4421f0b8fdf...|          z707KKqe|\n",
      "|              220|   sanderssummer|        PM2.5|                         62|2022-04-07T14:47:...| 40.87329| 14.43865|    Somma Vesuviana|     IT|         Europe/Rome|                   5|8347a519499114eb9...|     QPi0zRINhxdka|\n",
      "|              200|   bradleymosley|           CO|                         11|2022-04-07T14:47:...|  3.51667|     11.5|           Mbalmayo|     CM|       Africa/Douala|                   4|302198479d636635f...|     6HriH18laQHRQ|\n",
      "|               20|   atkinsrussell|          SO2|                         77|2022-04-07T14:48:...| 49.03685|  8.70745|            Bretten|     DE|       Europe/Berlin|                   1|070206423832ef1e9...|     ZWrHYDXaA9UIi|\n",
      "|                0|          hlewis|          NO2|                         80|2022-04-07T14:49:...|  53.0233| -1.48119|             Belper|     GB|       Europe/London|                   1|a6b7474c78c8c6af2...|            47lb7h|\n",
      "|              180|  crystalcarlson|          NO2|                         25|2022-04-07T14:49:...| 54.58048| 16.86194|              Ustka|     PL|       Europe/Warsaw|                   4|d724eeabf5cff077a...|    xpOpSCwiTkpg8L|\n",
      "|              220|        sharon04|         PM10|                         43|2022-04-07T14:50:...| 39.71734|-74.96933|       Sicklerville|     US|    America/New_York|                   5|66a77bd4cca8dbded...|          0AWWEqM0|\n",
      "|              120|        tjohnson|        PM2.5|                         43|2022-04-07T14:51:...|  19.8173|-97.35992|          Teziutlan|     MX| America/Mexico_City|                   3|25b7dc49e6bd18e1d...|          pCUjid6P|\n",
      "+-----------------+----------------+-------------+---------------------------+--------------------+---------+---------+-------------------+-------+--------------------+--------------------+--------------------+------------------+\n",
      "only showing top 20 rows\n",
      "\n"
     ]
    }
   ],
   "source": [
    "new_df.show()"
   ]
  },
  {
   "cell_type": "markdown",
   "metadata": {
    "application/vnd.databricks.v1+cell": {
     "cellMetadata": {},
     "inputWidgets": {},
     "nuid": "cd5c5d77-32c0-4e7f-81a4-b536e0141233",
     "showTitle": false,
     "title": ""
    }
   },
   "source": [
    "# Solution"
   ]
  },
  {
   "cell_type": "code",
   "execution_count": null,
   "metadata": {
    "application/vnd.databricks.v1+cell": {
     "cellMetadata": {
      "byteLimit": 2048000,
      "rowLimit": 10000
     },
     "inputWidgets": {},
     "nuid": "fc8c026b-5b1d-481c-8635-8d7881a91db8",
     "showTitle": false,
     "title": ""
    }
   },
   "outputs": [],
   "source": [
    "from pyspark.sql.functions import udf, col\n",
    "from pyspark.sql.types import StringType\n",
    "import pyffx\n",
    "\n",
    "def ffx_encrypt(key, value):\n",
    "    if len(value) < 6:\n",
    "       value += \"X\" * (6-len(value))\n",
    "    ffx = pyffx.String(key.encode(), alphabet='abcdefghijklmnopqrstuvwxyz0123456789ABCDEFGHIJKLMNOPQRSTUVWXYZ', length=len(value))\n",
    "    return ffx.encrypt(value)\n",
    "\n",
    "def fpe_hash_column(df, column_name, key):\n",
    "    ffx_udf = udf(lambda x: ffx_encrypt(key, x), StringType())\n",
    "    df = df.withColumn(\"fpe_hashed_\" + column_name, ffx_udf(col(column_name)))\n",
    "    return df"
   ]
  },
  {
   "cell_type": "markdown",
   "metadata": {
    "application/vnd.databricks.v1+cell": {
     "cellMetadata": {},
     "inputWidgets": {},
     "nuid": "9ee019e7-414c-4c71-a018-6a838959227b",
     "showTitle": false,
     "title": ""
    }
   },
   "source": [
    "# Format-Preserving Decryption"
   ]
  },
  {
   "cell_type": "code",
   "execution_count": null,
   "metadata": {
    "application/vnd.databricks.v1+cell": {
     "cellMetadata": {},
     "inputWidgets": {},
     "nuid": "a341992a-3923-4572-b430-b7db99c9a842",
     "showTitle": false,
     "title": ""
    }
   },
   "outputs": [],
   "source": [
    "def fpe_decrypt_column\n",
    "# Todo"
   ]
  },
  {
   "cell_type": "code",
   "execution_count": null,
   "metadata": {
    "application/vnd.databricks.v1+cell": {
     "cellMetadata": {
      "byteLimit": 2048000,
      "rowLimit": 10000
     },
     "inputWidgets": {},
     "nuid": "d934a299-1dfb-49f5-b65f-d6da8f40fd54",
     "showTitle": false,
     "title": ""
    }
   },
   "outputs": [
    {
     "name": "stdout",
     "output_type": "stream",
     "text": [
      "+----------------+---------------------+\n",
      "|         user_id|fpe_decrypted_user_id|\n",
      "+----------------+---------------------+\n",
      "|   maynardmorgan|        maynardmorgan|\n",
      "|millerjacqueline|     millerjacqueline|\n",
      "|           ikirk|               ikirkX|\n",
      "| williamszachary|      williamszachary|\n",
      "|        sfarrell|             sfarrell|\n",
      "|     mariamartin|          mariamartin|\n",
      "|   michaelfuller|        michaelfuller|\n",
      "|       acummings|            acummings|\n",
      "|    glorialandry|         glorialandry|\n",
      "|      martinjohn|           martinjohn|\n",
      "|  karenmaldonado|       karenmaldonado|\n",
      "|     aaronholden|          aaronholden|\n",
      "|        johnny58|             johnny58|\n",
      "|   sanderssummer|        sanderssummer|\n",
      "|   bradleymosley|        bradleymosley|\n",
      "|   atkinsrussell|        atkinsrussell|\n",
      "|          hlewis|               hlewis|\n",
      "|  crystalcarlson|       crystalcarlson|\n",
      "|        sharon04|             sharon04|\n",
      "|        tjohnson|             tjohnson|\n",
      "+----------------+---------------------+\n",
      "only showing top 20 rows\n",
      "\n"
     ]
    }
   ],
   "source": [
    "df_decrypted = fpe_decrypt_column(new_df ,\"fpe_hashed_user_id\", key)\n",
    "df_decrypted.select(\"user_id\", \"fpe_decrypted_user_id\").show()"
   ]
  },
  {
   "cell_type": "code",
   "execution_count": null,
   "metadata": {
    "application/vnd.databricks.v1+cell": {
     "cellMetadata": {
      "byteLimit": 2048000,
      "rowLimit": 10000
     },
     "inputWidgets": {},
     "nuid": "81811dfa-7562-4770-b35d-b75919e6b1b3",
     "showTitle": false,
     "title": ""
    }
   },
   "outputs": [],
   "source": [
    "from pyspark.sql import SparkSession, Row\n",
    "from pyspark.sql.functions import col\n",
    "from pyspark.sql.types import StringType\n",
    "\n",
    "def test_fpe_decrypt_column():\n",
    "    schema = StructType([\n",
    "        StructField(\"id\", StringType()),\n",
    "        StructField(\"name\", StringType())\n",
    "    ])\n",
    "    data = [\n",
    "        Row(\"1\", \"John\"),\n",
    "        Row(\"2\", \"Jane\"),\n",
    "        Row(\"3\", \"Bob\"),\n",
    "        Row(\"4\", \"Alice\")\n",
    "    ]\n",
    "    df = spark.createDataFrame(data, schema)\n",
    "    key = 'secret_key'\n",
    "    df_encrypted = fpe_hash_column(df, 'name', key)\n",
    "    df_decrypted = fpe_decrypt_column(df_encrypted, \"fpe_hashed_name\",key)\n",
    "        \n",
    "    actual_rows = sorted(df_decrypted.select(\"id\", \"fpe_decrypted_user_id\").collect(), key=lambda row: row.id)\n",
    "    expected_rows = sorted(df.collect(), key=lambda row: row.id)\n",
    "    assert len(actual_rows) == len(expected_rows)\n",
    "\n",
    "test_fpe_decrypt_column()"
   ]
  },
  {
   "cell_type": "markdown",
   "metadata": {
    "application/vnd.databricks.v1+cell": {
     "cellMetadata": {},
     "inputWidgets": {},
     "nuid": "8f4873e8-7635-4dbd-9ae0-c18f530a7955",
     "showTitle": false,
     "title": ""
    }
   },
   "source": [
    "# Solution"
   ]
  },
  {
   "cell_type": "code",
   "execution_count": null,
   "metadata": {
    "application/vnd.databricks.v1+cell": {
     "cellMetadata": {
      "byteLimit": 2048000,
      "rowLimit": 10000
     },
     "inputWidgets": {},
     "nuid": "964746c3-e736-40df-825f-c73cd5d2e874",
     "showTitle": false,
     "title": ""
    }
   },
   "outputs": [],
   "source": [
    "def ffx_decrypt(key, value):\n",
    "    ffx = pyffx.String(key.encode(), alphabet='abcdefghijklmnopqrstuvwxyz0123456789ABCDEFGHIJKLMNOPQRSTUVWXYZ', length=len(value))\n",
    "    return ffx.decrypt(value)\n",
    " \n",
    "def fpe_decrypt_column(df, column_name, key):\n",
    "    ffx_udf = udf(lambda x: ffx_decrypt(key, x), StringType())\n",
    "    df = df.withColumn(\"fpe_decrypted_user_id\", ffx_udf(col(column_name)))\n",
    "    return df"
   ]
  },
  {
   "cell_type": "markdown",
   "metadata": {
    "application/vnd.databricks.v1+cell": {
     "cellMetadata": {},
     "inputWidgets": {},
     "nuid": "9c1a7e7b-0838-4b1c-8663-ff1d9fc7bf2c",
     "showTitle": false,
     "title": ""
    }
   },
   "source": [
    "Now we can move onto our GPS data!\n",
    "\n",
    "How precise is GPS data anyways? 🤔 (from [wikipedia](https://en.wikipedia.org/wiki/Decimal_degrees))\n",
    "\n",
    "\n",
    "decimal places  | degrees  |distance\n",
    "------- | -------          |--------\n",
    "0        |1                |111  km\n",
    "1        |0.1              |11.1 km\n",
    "2        |0.01             |1.11 km\n",
    "3        |0.001            |111  m\n",
    "4        |0.0001           |11.1 m\n",
    "5        |0.00001          |1.11 m\n",
    "6        |0.000001         |11.1 cm\n",
    "7        |0.0000001        |1.11 cm\n",
    "8        |0.00000001       |1.11 mm"
   ]
  },
  {
   "cell_type": "code",
   "execution_count": null,
   "metadata": {
    "application/vnd.databricks.v1+cell": {
     "cellMetadata": {
      "byteLimit": 2048000,
      "rowLimit": 10000
     },
     "inputWidgets": {},
     "nuid": "765bd860-0fd6-4c6f-9741-c405ee9b8c2f",
     "showTitle": false,
     "title": ""
    }
   },
   "outputs": [
    {
     "name": "stdout",
     "output_type": "stream",
     "text": [
      "-RECORD 0-------------------------------------------\n",
      " air_quality_index           | 200                  \n",
      " user_id                     | gAAAAABkHKbK_IKPz... \n",
      " top_pollutant               | PM10                 \n",
      " top_pollutant_concentration | 88                   \n",
      " timestamp                   | 2022-04-07T14:38:... \n",
      " lat                         | 10.66668             \n",
      " long                        | -61.51889            \n",
      " city                        | Port of Spain        \n",
      " country                     | TT                   \n",
      " timezone                    | America/Port_of_S... \n",
      " air_quality_category        | 4                    \n",
      " hashed_user_id              | ef0e8649d9000ff22... \n",
      "-RECORD 1-------------------------------------------\n",
      " air_quality_index           | 200                  \n",
      " user_id                     | gAAAAABkHKbKi4uW-... \n",
      " top_pollutant               | PM10                 \n",
      " top_pollutant_concentration | 45                   \n",
      " timestamp                   | 2022-04-07T14:39:... \n",
      " lat                         | 34.25628             \n",
      " long                        | -78.04471            \n",
      " city                        | Leland               \n",
      " country                     | US                   \n",
      " timezone                    | America/New_York     \n",
      " air_quality_category        | 4                    \n",
      " hashed_user_id              | 3ed407ff320fa7e1c... \n",
      "only showing top 2 rows\n",
      "\n"
     ]
    }
   ],
   "source": [
    "df.show(2, vertical=True)"
   ]
  },
  {
   "cell_type": "markdown",
   "metadata": {
    "application/vnd.databricks.v1+cell": {
     "cellMetadata": {},
     "inputWidgets": {},
     "nuid": "1484d325-e30f-4722-abc9-edd980b6e110",
     "showTitle": false,
     "title": ""
    }
   },
   "source": [
    "To reduce precision in Spark, take a look at F.pys_round !"
   ]
  },
  {
   "cell_type": "code",
   "execution_count": null,
   "metadata": {
    "application/vnd.databricks.v1+cell": {
     "cellMetadata": {},
     "inputWidgets": {},
     "nuid": "353bc260-b3e0-4642-9362-924213fb10e2",
     "showTitle": false,
     "title": ""
    }
   },
   "outputs": [
    {
     "name": "stdout",
     "output_type": "stream",
     "text": [
      "All tests passed :)\n"
     ]
    }
   ],
   "source": [
    "#TODO reduce precision for the lat and long columns!\n",
    "def remove_column_precision(df,column_name):\n",
    "    #TODO\n",
    "    pass"
   ]
  },
  {
   "cell_type": "code",
   "execution_count": null,
   "metadata": {
    "application/vnd.databricks.v1+cell": {
     "cellMetadata": {
      "byteLimit": 2048000,
      "rowLimit": 10000
     },
     "inputWidgets": {},
     "nuid": "806be8b4-4d5d-4230-a01c-a585d45f7607",
     "showTitle": false,
     "title": ""
    }
   },
   "outputs": [
    {
     "name": "stdout",
     "output_type": "stream",
     "text": [
      "All tests passed :)\n"
     ]
    }
   ],
   "source": [
    "def test_remove_column_precision():\n",
    "  pandas_df = pd.DataFrame(\n",
    "      {\n",
    "          'id':  pd.Series([1, 2, 3]),\n",
    "          'lat': pd.Series([40.1234567, 42.9876543, 45.67890]),\n",
    "      }\n",
    "  )\n",
    "  expected_pandas_df = pd.DataFrame(\n",
    "      {\n",
    "          'id':  pd.Series([1, 2, 3]),\n",
    "          'lat': pd.Series([40.123, 42.988, 45.679]),\n",
    "      }\n",
    "  )\n",
    "  spark_df = spark.createDataFrame(pandas_df)\n",
    "  expected_df = spark.createDataFrame(expected_pandas_df)\n",
    "\n",
    "  fixed_df = remove_column_precision(spark_df,'lat')\n",
    "\n",
    "  assert fixed_df.schema == expected_df.schema\n",
    "  assert fixed_df.collect() == expected_df.collect()\n",
    "\n",
    "  print(\"All tests passed :)\")\n",
    "  \n",
    "test_remove_column_precision()"
   ]
  },
  {
   "cell_type": "markdown",
   "metadata": {
    "application/vnd.databricks.v1+cell": {
     "cellMetadata": {},
     "inputWidgets": {},
     "nuid": "57808e91-4bf0-4f24-b559-912c76dee2de",
     "showTitle": false,
     "title": ""
    }
   },
   "source": [
    "##### Solution"
   ]
  },
  {
   "cell_type": "code",
   "execution_count": null,
   "metadata": {
    "application/vnd.databricks.v1+cell": {
     "cellMetadata": {
      "byteLimit": 2048000,
      "rowLimit": 10000
     },
     "inputWidgets": {},
     "nuid": "62b2b673-ae8e-4de9-9c80-d42ee7423906",
     "showTitle": false,
     "title": ""
    }
   },
   "outputs": [],
   "source": [
    "#TODO reduce precision for the lat and long columns!\n",
    "def remove_column_precision(df,column_name):\n",
    "    return df.withColumn(column_name, F.round(column_name, 3))"
   ]
  },
  {
   "cell_type": "markdown",
   "metadata": {
    "application/vnd.databricks.v1+cell": {
     "cellMetadata": {},
     "inputWidgets": {},
     "nuid": "c7d8b083-9f34-45db-82fe-3647831f7289",
     "showTitle": false,
     "title": ""
    }
   },
   "source": [
    "Once you get the above working without error, you can fix the lat and long columns in your dataframe."
   ]
  },
  {
   "cell_type": "code",
   "execution_count": null,
   "metadata": {
    "application/vnd.databricks.v1+cell": {
     "cellMetadata": {
      "byteLimit": 2048000,
      "rowLimit": 10000
     },
     "inputWidgets": {},
     "nuid": "4d5acfb1-51ec-4af3-a659-2cd42e1821d2",
     "showTitle": false,
     "title": ""
    }
   },
   "outputs": [],
   "source": [
    "df = remove_column_precision(df,'lat')\n",
    "df = remove_column_precision(df,'long')"
   ]
  },
  {
   "cell_type": "markdown",
   "metadata": {
    "application/vnd.databricks.v1+cell": {
     "cellMetadata": {},
     "inputWidgets": {},
     "nuid": "6e93cfc4-f19e-4667-973e-06669762d2c9",
     "showTitle": false,
     "title": ""
    }
   },
   "source": [
    "What type of risk should we be aware of with regard to timestamp precision? When and how do we need to de-risk this  type of information?"
   ]
  },
  {
   "cell_type": "code",
   "execution_count": null,
   "metadata": {
    "application/vnd.databricks.v1+cell": {
     "cellMetadata": {
      "byteLimit": 2048000,
      "rowLimit": 10000
     },
     "inputWidgets": {},
     "nuid": "f836e490-7f82-4042-a182-0ad09425d774",
     "showTitle": false,
     "title": ""
    }
   },
   "outputs": [],
   "source": [
    "df = df.withColumn('timestamp', F.to_timestamp('timestamp'))\n"
   ]
  },
  {
   "cell_type": "markdown",
   "metadata": {
    "application/vnd.databricks.v1+cell": {
     "cellMetadata": {},
     "inputWidgets": {},
     "nuid": "ddd33a55-e8e5-4929-9932-06d22dacfa06",
     "showTitle": false,
     "title": ""
    }
   },
   "source": [
    "Try adding a new column called new_timestamp where you use F.unix_timestamp and F.rand to build a small amount of noise..."
   ]
  },
  {
   "cell_type": "code",
   "execution_count": null,
   "metadata": {
    "application/vnd.databricks.v1+cell": {
     "cellMetadata": {
      "byteLimit": 2048000,
      "rowLimit": 10000
     },
     "inputWidgets": {},
     "nuid": "1ed18a72-c0f5-491d-917a-2934c061a1fc",
     "showTitle": false,
     "title": ""
    }
   },
   "outputs": [
    {
     "data": {
      "text/plain": [
       "\u001b[0;36m  File \u001b[0;32m\"<command-4276697378240479>\"\u001b[0;36m, line \u001b[0;32m2\u001b[0m\n",
       "\u001b[0;31m    .withColumn(\"new_timestamp\", #TODO: finish this to add the column to your DF once you have experimented and like the result!)\u001b[0m\n",
       "\u001b[0m    ^\u001b[0m\n",
       "\u001b[0;31mIndentationError\u001b[0m\u001b[0;31m:\u001b[0m unexpected indent\n"
      ]
     },
     "metadata": {
      "application/vnd.databricks.v1+output": {
       "arguments": {},
       "data": "\u001b[0;36m  File \u001b[0;32m\"<command-4276697378240479>\"\u001b[0;36m, line \u001b[0;32m2\u001b[0m\n\u001b[0;31m    .withColumn(\"new_timestamp\", #TODO: finish this to add the column to your DF once you have experimented and like the result!)\u001b[0m\n\u001b[0m    ^\u001b[0m\n\u001b[0;31mIndentationError\u001b[0m\u001b[0;31m:\u001b[0m unexpected indent\n",
       "errorSummary": "<span class='ansi-red-fg'>IndentationError</span>: unexpected indent (<command-4276697378240479>, line 2)",
       "errorTraceType": "ansi",
       "metadata": {},
       "type": "ipynbError"
      }
     },
     "output_type": "display_data"
    }
   ],
   "source": [
    "new_df = cleaned_df\n",
    "  .withColumn(\"new_timestamp\", #TODO: finish this to add the column to your DF once you have experimented and like the result!)\n",
    "  .select(col(\"timestamp\"), col(\"new_timestamp\"))\n",
    "\n",
    "new_df.show(false)"
   ]
  },
  {
   "cell_type": "code",
   "execution_count": null,
   "metadata": {
    "application/vnd.databricks.v1+cell": {
     "cellMetadata": {
      "byteLimit": 2048000,
      "rowLimit": 10000
     },
     "inputWidgets": {},
     "nuid": "f9e1beed-58c7-41ae-9d03-3d5f33e85310",
     "showTitle": false,
     "title": ""
    }
   },
   "outputs": [],
   "source": [
    "from pyspark.sql.functions import to_timestamp, unix_timestamp, rand\n",
    "\n",
    "def test_add_random_time_intervals():\n",
    "    # create a sample DataFrame\n",
    "    df = spark.createDataFrame([\n",
    "        ('2022-01-01 00:00:00', 1),\n",
    "        ('2022-01-01 01:00:00', 2),\n",
    "        ('2022-01-01 02:00:00', 3),\n",
    "        ('2022-01-01 03:00:00', 4),\n",
    "        ('2022-01-01 04:00:00', 5),\n",
    "    ], ['timestamp', 'value'])\n",
    "    cleaned_df = df.withColumn('timestamp', (unix_timestamp('timestamp') + \n",
    "                            (rand() * 60) + (rand() * 60 * 20)).cast('timestamp'))\n",
    "    assert 'timestamp' in cleaned_df.columns\n",
    "    assert 'value' in cleaned_df.columns\n",
    "    assert cleaned_df.filter(cleaned_df.timestamp != df.timestamp).count() == df.count()\n",
    "test_add_random_time_intervals()"
   ]
  },
  {
   "cell_type": "markdown",
   "metadata": {
    "application/vnd.databricks.v1+cell": {
     "cellMetadata": {},
     "inputWidgets": {},
     "nuid": "cab1566d-db75-4e12-8a1e-0c1988413de1",
     "showTitle": false,
     "title": ""
    }
   },
   "source": [
    "##### Solution"
   ]
  },
  {
   "cell_type": "code",
   "execution_count": null,
   "metadata": {
    "application/vnd.databricks.v1+cell": {
     "cellMetadata": {
      "byteLimit": 2048000,
      "rowLimit": 10000
     },
     "inputWidgets": {},
     "nuid": "ef8121e3-2a21-4295-b419-776d7a10f6e3",
     "showTitle": false,
     "title": ""
    }
   },
   "outputs": [],
   "source": [
    "df = df.withColumn(\"timestamp\", (unix_timestamp(col(\"timestamp\")) +\n",
    "                  (rand() * 60) + (rand() * 60 * 20)).cast(\"timestamp\"))"
   ]
  },
  {
   "cell_type": "markdown",
   "metadata": {
    "application/vnd.databricks.v1+cell": {
     "cellMetadata": {},
     "inputWidgets": {},
     "nuid": "b569611a-5261-455a-9642-615ec62deba6",
     "showTitle": false,
     "title": ""
    }
   },
   "source": [
    "Now we want to reorder so the data comes into the map in the proper order (for timeseries analysis)"
   ]
  },
  {
   "cell_type": "code",
   "execution_count": null,
   "metadata": {
    "application/vnd.databricks.v1+cell": {
     "cellMetadata": {
      "byteLimit": 2048000,
      "rowLimit": 10000
     },
     "inputWidgets": {},
     "nuid": "b76d5856-a256-4215-9a11-d9cde3f09ba1",
     "showTitle": false,
     "title": ""
    }
   },
   "outputs": [],
   "source": [
    "df = df.orderBy(df.timestamp.asc())\n"
   ]
  },
  {
   "cell_type": "code",
   "execution_count": null,
   "metadata": {
    "application/vnd.databricks.v1+cell": {
     "cellMetadata": {},
     "inputWidgets": {},
     "nuid": "8f9a24b2-9f22-4957-b9c8-99c3422d266a",
     "showTitle": false,
     "title": ""
    }
   },
   "outputs": [],
   "source": [
    "df.write.format('csv').save(f'{root_dir}/data/data_for_map.csv')"
   ]
  },
  {
   "cell_type": "markdown",
   "metadata": {
    "application/vnd.databricks.v1+cell": {
     "cellMetadata": {},
     "inputWidgets": {},
     "nuid": "9de7fdef-ff40-4a00-8719-b0f5641bde9e",
     "showTitle": false,
     "title": ""
    }
   },
   "source": [
    "This is a graphic from Wikipedia showing the so-called \"CIA\" triad, showing some of the core concepts we want to ensure to guarantee data security. Let's review them together:\n",
    "\n",
    "- **Confidentiality:** Data is kept confidential, meaning only those who should be able to access it can do so, and fine-tuned access is available and enforced.\n",
    "- **Integrity:** Data is accurate and cannot easily be changed or tampered with by internal or external actors in a malicious way.\n",
    "- **Availability:** Data fulfills any service-level objectives (SLOs) or service-level agreements (SLAs) and is made available in a secure and user-friendly manner. \n",
    "\n",
    "So translated into data engineering context, this means that:\n",
    "\n",
    "- Our data workflows enforce access-control restrictions, data protections or minimizations related to confidentiality and ensure sinks and sources match the encryption requirements we expect for the data sensitivity.\n",
    "- Our data workflows do not mangle data, maintain data quality principles outlined by governance processes and alert should malicious activity be detected.\n",
    "- Our data wofkflows meet SLOs/SLAs outlined by the data consumers and dependant data products."
   ]
  },
  {
   "cell_type": "markdown",
   "metadata": {
    "application/vnd.databricks.v1+cell": {
     "cellMetadata": {},
     "inputWidgets": {},
     "nuid": "7adbd130-830b-4239-9527-651f18387dc6",
     "showTitle": false,
     "title": ""
    }
   },
   "source": [
    "### What about Privacy? 🦹🏻\n",
    "\n",
    "A foundational concept when it comes to designing privacy-respecting systems is the Privacy by Design principles outlined by [Anne Cavoukian in 2006](https://iapp.org/media/pdf/resource_center/pbd_implement_7found_principles.pdf).\n",
    "\n",
    "Let's pull out a few of the principles that relate to our work as data engineers...\n",
    "\n",
    "- **Proactive not Reactive; Preventative not Remedial:** Privacy is built into our architecture and data flows as we start building them. Think of this as the privacy version of TDD -- we write the privacy requirements first and design and build systems to fit them, not the other way around!\n",
    "- **Privacy as the Default Setting:** We optimize systems so that privacy is on by default, and changes to that are user-driven! This means tracking things like consent, implementing processes for data minimization and ensuring lineage and governance data is available to data consumers or dependant data products.\n",
    "- **Full Functionality – Positive-Sum, not Zero-Sum:** Data privacy is a benefit for the business, technologists and users, meaning we ensure that it is not a tradeoff in our product design. Users who choose privacy protections (or users who have them on automatically, by default, right?) receive full functionality.\n",
    "- **End-to-End Security – Full Lifecycle Protection:** Data is secured properly and for it's entire lifecycle (from collection endpoint to deletion!). Here is our big intersection with the security requirements.\n",
    "\n",
    "\n",
    "What does this mean for our data engineering work?\n",
    "\n",
    "- Our data workflows have privacy protections outlined and architected in before any code is written. We test for these and ensure they are working properly, should anything change.\n",
    "- Privacy is turned on by default, and any \"unknown\" data flows have privacy added to them when they enter into our systems or are discovered (e.g. in cases of unknown data storages or data from third parties).\n",
    "- We work directly with data producers and consumers (and other stakeholders, such as legal or privacy professionals) to find sweet spots that offer the appropriate protection for users and utility for business needs. Approach this as a postive-sum game and remember that user-centric choices are always a good business investment.\n",
    "- We design secure workflows that ensure that all user-related or person-related data is properly secured using standards from data security best practices (like our CIA triad!)\n",
    "\n",
    "\n",
    "#### Privacy and Information Continuum\n",
    "\n",
    "One useful way to begin shifting your understanding of privacy is to start thinking about it as a point on a spectrum instead of something that is \"on\" or \"off\". Here we can see that we can have a full range of points on a continuum, where privacy and information are somewhat at odds with one another. When we have full information, we have no privacy guarantees. When we have complete privacy, we cannot do our job as data people! Finding the right balance is the difficult and fun part of privacy in data science!"
   ]
  },
  {
   "cell_type": "markdown",
   "metadata": {
    "application/vnd.databricks.v1+cell": {
     "cellMetadata": {},
     "inputWidgets": {},
     "nuid": "5d6983e4-ff33-4fa8-a51d-15e25e4c94b3",
     "showTitle": false,
     "title": ""
    }
   },
   "source": [
    "### Congratulations!! \n",
    "\n",
    "You've walked through potential privacy snags and helped increase the protection for the individuals sending you their air quality details! Now developers can use this dataset and we have ensured that there are some base protections. As you may have noticed, it wasn't always obvious what we should do -- but by thinking through each data type and determining what worked to balance the utility of the data and the privacy we want to offer, we were able to find some ways to protect individuals. \n",
    "\n",
    "A good set of questions to ask for guidance is:\n",
    "\n",
    "- Where will this data be accessed and used? How safe is this environment?\n",
    "- What person-related data do we actually need to use to deliver this service or product? (data minimization!)\n",
    "- What other protections will be added to this data before it is seen or used? (i.e. encryption at rest, access control systems, or other protections when it reaches another processing point or sink!)\n",
    "- What privacy and security expectations do we want to set for the individuals in this dataset?\n",
    "- Where can we opportunistically add more protection while not hindering the work of data scientists, data analysts, software engineers and other colleagues?\n",
    "\n",
    "\n",
    "As you continue on in your data engineering journey, you'll likely encounter many more situations where you'll need to make privacy and security decisions. If you'd like to learn more and even work as a privacy or security champion -- feel free to join in your organizations' programs to support topics like this!"
   ]
  },
  {
   "cell_type": "code",
   "execution_count": null,
   "metadata": {
    "application/vnd.databricks.v1+cell": {
     "cellMetadata": {},
     "inputWidgets": {},
     "nuid": "4432fbaf-023f-4848-bc22-7cca4a8bc4e2",
     "showTitle": false,
     "title": ""
    }
   },
   "outputs": [],
   "source": []
  },
  {
   "cell_type": "code",
   "execution_count": null,
   "metadata": {
    "application/vnd.databricks.v1+cell": {
     "cellMetadata": {},
     "inputWidgets": {},
     "nuid": "ec34615b-740a-48c1-8961-be5e59067605",
     "showTitle": false,
     "title": ""
    }
   },
   "outputs": [],
   "source": []
  }
 ],
 "metadata": {
  "application/vnd.databricks.v1+notebook": {
   "dashboards": [],
   "language": "python",
   "notebookMetadata": {
    "pythonIndentUnit": 4
   },
   "notebookName": "Security and Privacy in Data Engineering",
   "notebookOrigID": 4276697378240391,
   "widgets": {}
  },
  "kernelspec": {
   "display_name": "Python 3.7.15 64-bit ('3.7.15')",
   "language": "python",
   "name": "python3"
  },
  "language_info": {
   "codemirror_mode": {
    "name": "ipython",
    "version": 3
   },
   "file_extension": ".py",
   "mimetype": "text/x-python",
   "name": "python",
   "nbconvert_exporter": "python",
   "pygments_lexer": "ipython3",
   "version": "3.7.15"
  },
  "vscode": {
   "interpreter": {
    "hash": "e1754bd76ad55f657f0f06e45786eb0039857ccaca0a92f6e80f8ff4a9b231b8"
   }
  }
 },
 "nbformat": 4,
 "nbformat_minor": 0
}
