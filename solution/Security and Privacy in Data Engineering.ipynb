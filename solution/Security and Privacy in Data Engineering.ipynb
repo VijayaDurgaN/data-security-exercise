{
 "cells": [
  {
   "cell_type": "markdown",
   "metadata": {
    "application/vnd.databricks.v1+cell": {
     "cellMetadata": {
      "byteLimit": 2048000,
      "rowLimit": 10000
     },
     "inputWidgets": {},
     "nuid": "a871e723-9ac4-4ead-bc7f-77457d2d0c05",
     "showTitle": false,
     "title": ""
    }
   },
   "source": [
    "## Data Security & Privacy in Workflows\n",
    "\n",
    "In this notebook, we'll explore ways to incorporate data security and privacy into large-scale data workflows. First, you might be wondering why we need to worry about these topics. Shouldn't this be a problem solved by the privacy department, infosec or via product owners? \n",
    "\n",
    "You can think of large scale data workflows like folks who manage the internet. We don't often see their work, but we know when it's broken! They probably deserve a lot more credit and attention for it, but we somehow just expect it \"to work ubiquitously.\" And we certainly expect the data we send around the internet to be kept private and secure (although in some geographies it is less likely...). If it wasn't for the work on those large-scale packet pipelines, then we couldn't trust technologies like SSL, TLS or our web applications or mobile applications. Those are enabled, propogated and enforced by all the intermediary hops, meaning the packet and data are handled with the same promises as they arrived. Hopefully you are getting the picture here -- security and privacy have to be baked into the architecture and data flow from the start, and cannot be simply \"tacked on\" at a given endpoint.\n",
    "\n",
    "So now we understand our responsibilities as the folks building the data backbones. What privacy and security concerns do we actually have? We'll walk through a concrete example to have a look!"
   ]
  },
  {
   "cell_type": "markdown",
   "metadata": {
    "application/vnd.databricks.v1+cell": {
     "cellMetadata": {
      "byteLimit": 2048000,
      "rowLimit": 10000
     },
     "inputWidgets": {},
     "nuid": "e3b849cf-2e4e-47ed-8e8c-113ef197af08",
     "showTitle": false,
     "title": ""
    }
   },
   "source": [
    "### Example Data Product: Ingest Air Quality Sensors while Protecting User Privacy\n",
    "\n",
    "- We want to ingest air quality sensor data from users, buildings and institutions who are willing to send us data to build an air quality map (similar to the [IQAir map](https://www.iqair.com/air-quality-map).\n",
    "- Users only want to share the data if they can remain anonymous and their location is fuzzy, so that they are protected against stalkers, prying eyes and state surveillance.\n",
    "- Since the data is sensitive (from people and their homes!), we want to sure that it is secured either at collection, as well as at any intermediary hops.\n",
    "\n",
    "Let's first take a look at our data and determine what can and should be done..."
   ]
  },
  {
   "cell_type": "code",
   "execution_count": 0,
   "metadata": {
    "application/vnd.databricks.v1+cell": {
     "cellMetadata": {
      "byteLimit": 2048000,
      "rowLimit": 10000
     },
     "inputWidgets": {},
     "nuid": "0f14680f-aaa0-453a-a43b-d7e0b0015284",
     "showTitle": false,
     "title": ""
    }
   },
   "outputs": [
    {
     "output_type": "stream",
     "name": "stdout",
     "output_type": "stream",
     "text": [
      "Python interpreter will be restarted.\nRequirement already satisfied: wget in /local_disk0/.ephemeral_nfs/envs/pythonEnv-b2d4bdc6-cab4-4c94-99bd-7927d800d7c2/lib/python3.9/site-packages (3.2)\nRequirement already satisfied: ff3 in /local_disk0/.ephemeral_nfs/envs/pythonEnv-b2d4bdc6-cab4-4c94-99bd-7927d800d7c2/lib/python3.9/site-packages (1.0.1)\nRequirement already satisfied: pandas in /databricks/python3/lib/python3.9/site-packages (1.3.4)\nRequirement already satisfied: datafuzz in /local_disk0/.ephemeral_nfs/envs/pythonEnv-b2d4bdc6-cab4-4c94-99bd-7927d800d7c2/lib/python3.9/site-packages (0.1.2)\nRequirement already satisfied: pyffx in /local_disk0/.ephemeral_nfs/envs/pythonEnv-b2d4bdc6-cab4-4c94-99bd-7927d800d7c2/lib/python3.9/site-packages (0.3.0)\nRequirement already satisfied: pycryptodome in /local_disk0/.ephemeral_nfs/envs/pythonEnv-b2d4bdc6-cab4-4c94-99bd-7927d800d7c2/lib/python3.9/site-packages (from ff3) (3.17)\nRequirement already satisfied: python-dateutil>=2.7.3 in /databricks/python3/lib/python3.9/site-packages (from pandas) (2.8.2)\nRequirement already satisfied: pytz>=2017.3 in /databricks/python3/lib/python3.9/site-packages (from pandas) (2021.3)\nRequirement already satisfied: numpy>=1.17.3 in /databricks/python3/lib/python3.9/site-packages (from pandas) (1.20.3)\nRequirement already satisfied: faker in /local_disk0/.ephemeral_nfs/envs/pythonEnv-b2d4bdc6-cab4-4c94-99bd-7927d800d7c2/lib/python3.9/site-packages (from datafuzz) (18.3.1)\nRequirement already satisfied: pyyaml in /local_disk0/.ephemeral_nfs/envs/pythonEnv-b2d4bdc6-cab4-4c94-99bd-7927d800d7c2/lib/python3.9/site-packages (from datafuzz) (6.0)\nRequirement already satisfied: dataset in /local_disk0/.ephemeral_nfs/envs/pythonEnv-b2d4bdc6-cab4-4c94-99bd-7927d800d7c2/lib/python3.9/site-packages (from datafuzz) (1.6.0)\nRequirement already satisfied: six in /databricks/python3/lib/python3.9/site-packages (from pyffx) (1.16.0)\nRequirement already satisfied: alembic>=0.6.2 in /local_disk0/.ephemeral_nfs/envs/pythonEnv-b2d4bdc6-cab4-4c94-99bd-7927d800d7c2/lib/python3.9/site-packages (from dataset->datafuzz) (1.10.2)\nRequirement already satisfied: sqlalchemy<2.0.0,>=1.3.2 in /local_disk0/.ephemeral_nfs/envs/pythonEnv-b2d4bdc6-cab4-4c94-99bd-7927d800d7c2/lib/python3.9/site-packages (from dataset->datafuzz) (1.4.47)\nRequirement already satisfied: banal>=1.0.1 in /local_disk0/.ephemeral_nfs/envs/pythonEnv-b2d4bdc6-cab4-4c94-99bd-7927d800d7c2/lib/python3.9/site-packages (from dataset->datafuzz) (1.0.6)\nRequirement already satisfied: Mako in /local_disk0/.ephemeral_nfs/envs/pythonEnv-b2d4bdc6-cab4-4c94-99bd-7927d800d7c2/lib/python3.9/site-packages (from alembic>=0.6.2->dataset->datafuzz) (1.2.4)\nRequirement already satisfied: typing-extensions>=4 in /local_disk0/.ephemeral_nfs/envs/pythonEnv-b2d4bdc6-cab4-4c94-99bd-7927d800d7c2/lib/python3.9/site-packages (from alembic>=0.6.2->dataset->datafuzz) (4.5.0)\nRequirement already satisfied: greenlet!=0.4.17 in /local_disk0/.ephemeral_nfs/envs/pythonEnv-b2d4bdc6-cab4-4c94-99bd-7927d800d7c2/lib/python3.9/site-packages (from sqlalchemy<2.0.0,>=1.3.2->dataset->datafuzz) (2.0.2)\nRequirement already satisfied: MarkupSafe>=0.9.2 in /databricks/python3/lib/python3.9/site-packages (from Mako->alembic>=0.6.2->dataset->datafuzz) (2.0.1)\nPython interpreter will be restarted.\n"
     ]
    }
   ],
   "source": [
    "%run ./init"
   ]
  },
  {
   "cell_type": "code",
   "execution_count": 0,
   "metadata": {
    "application/vnd.databricks.v1+cell": {
     "cellMetadata": {
      "byteLimit": 2048000,
      "rowLimit": 10000
     },
     "inputWidgets": {},
     "nuid": "c93f364d-c4df-4ef4-a9b0-a89af6b7fbe2",
     "showTitle": false,
     "title": ""
    }
   },
   "outputs": [
    {
     "output_type": "display_data",
     "data": {
      "application/vnd.databricks.v1+bamboolib_hint": "{\"pd.DataFrames\": [], \"version\": \"0.0.1\"}",
      "text/plain": ""
     },
     "metadata": {
      "application/vnd.databricks.v1+output": {
       "addedWidgets": {},
       "arguments": {},
       "data": {
        "application/vnd.databricks.v1+bamboolib_hint": "{\"pd.DataFrames\": [], \"version\": \"0.0.1\"}",
        "text/plain": ""
       },
       "datasetInfos": [],
       "executionCount": null,
       "metadata": {
        "kernelSessionId": "f7e31d97-4fe375a5d644878b34026fb5"
       },
       "removedWidgets": [],
       "type": "mimeBundle"
      }
     },
     "output_type": "display_data"
    },
    {
     "output_type": "stream",
     "name": "stdout",
     "output_type": "stream",
     "text": [
      "Out[1]: True"
     ]
    }
   ],
   "source": [
    "from pyspark.sql import SparkSession, Row\n",
    "from pyspark.sql.types import StringType, TimestampType\n",
    "import pyspark.sql.functions as F\n",
    "from pyspark.sql.functions import udf, lit, col\n",
    "\n",
    "import pandas as pd\n",
    "import os\n",
    "\n",
    "cwd = os.getcwd()\n",
    "root_dir = \"\"\n",
    "\n",
    "if (cwd == \"/databricks/driver\"):\n",
    "    root_dir = f\"{working_directory}/\"\n",
    "else:\n",
    "    root_dir = \"\"\n",
    "\n",
    "df = spark.read.csv(f'{root_dir}/data/air_quality.csv', header=True, inferSchema=True)"
   ]
  },
  {
   "cell_type": "code",
   "execution_count": 0,
   "metadata": {
    "application/vnd.databricks.v1+cell": {
     "cellMetadata": {
      "byteLimit": 2048000,
      "rowLimit": 10000
     },
     "inputWidgets": {},
     "nuid": "1d750314-43d6-44ab-9e11-ab03034ba161",
     "showTitle": false,
     "title": ""
    }
   },
   "outputs": [
    {
     "output_type": "stream",
     "name": "stdout",
     "output_type": "stream",
     "text": [
      "+-----------------+----------------+--------------------+-------------+---------------------------+--------------------+\n|air_quality_index|         user_id|            location|top_pollutant|top_pollutant_concentration|           timestamp|\n+-----------------+----------------+--------------------+-------------+---------------------------+--------------------+\n|              200|   maynardmorgan|('10.66668', '-61...|         PM10|                         88|2022-04-07T14:38:...|\n|              200|millerjacqueline|('34.25628', '-78...|         PM10|                         45|2022-04-07T14:39:...|\n|                0|           ikirk|('43.48961', '-8....|          NO2|                         31|2022-04-07T14:39:...|\n|              300| williamszachary|('42.06166', '-1....|           CO|                         15|2022-04-07T14:40:...|\n|              280|        sfarrell|('-28.24', '-48.6...|        PM2.5|                         62|2022-04-07T14:41:...|\n+-----------------+----------------+--------------------+-------------+---------------------------+--------------------+\nonly showing top 5 rows\n\n"
     ]
    },
    {
     "output_type": "stream",
     "name": "stdout",
     "output_type": "stream",
     "text": [
      "Out[4]: [FileInfo(path='dbfs:/FileStore/antony.prince/dataSecurity/data/air_quality.csv', name='air_quality.csv', size=11244658, modificationTime=1680175602000)]"
     ]
    }
   ],
   "source": [
    "df.show(5)"
   ]
  },
  {
   "cell_type": "code",
   "execution_count": 0,
   "metadata": {
    "application/vnd.databricks.v1+cell": {
     "cellMetadata": {
      "byteLimit": 2048000,
      "rowLimit": 10000
     },
     "inputWidgets": {},
     "nuid": "48e742d6-0ec0-40f0-bfa1-d9082be7c71f",
     "showTitle": false,
     "title": ""
    }
   },
   "outputs": [
    {
     "output_type": "stream",
     "name": "stdout",
     "output_type": "stream",
     "text": [
      "+-------------------------------------------------------------------------+\n|location                                                                 |\n+-------------------------------------------------------------------------+\n|('10.66668', '-61.51889', 'Port of Spain', 'TT', 'America/Port_of_Spain')|\n+-------------------------------------------------------------------------+\nonly showing top 1 row\n\n"
     ]
    }
   ],
   "source": [
    "df.select('location').show(1, truncate=False)"
   ]
  },
  {
   "cell_type": "code",
   "execution_count": 0,
   "metadata": {
    "application/vnd.databricks.v1+cell": {
     "cellMetadata": {
      "byteLimit": 2048000,
      "rowLimit": 10000
     },
     "inputWidgets": {},
     "nuid": "749cadfc-183b-4cca-bfff-f19b1336de13",
     "showTitle": false,
     "title": ""
    }
   },
   "outputs": [
    {
     "output_type": "stream",
     "name": "stdout",
     "output_type": "stream",
     "text": [
      "root\n |-- air_quality_index: integer (nullable = true)\n |-- user_id: string (nullable = true)\n |-- location: string (nullable = true)\n |-- top_pollutant: string (nullable = true)\n |-- top_pollutant_concentration: string (nullable = true)\n |-- timestamp: string (nullable = true)\n\n"
     ]
    }
   ],
   "source": [
    "df.printSchema()"
   ]
  },
  {
   "cell_type": "markdown",
   "metadata": {
    "application/vnd.databricks.v1+cell": {
     "cellMetadata": {
      "byteLimit": 2048000,
      "rowLimit": 10000
     },
     "inputWidgets": {},
     "nuid": "de3687e0-21f4-49bb-8ae0-e10937c189b9",
     "showTitle": false,
     "title": ""
    }
   },
   "source": [
    "Remove some of the extra characters around the string so that it is easier to parse using regular expressions"
   ]
  },
  {
   "cell_type": "markdown",
   "metadata": {
    "application/vnd.databricks.v1+cell": {
     "cellMetadata": {
      "byteLimit": 2048000,
      "rowLimit": 10000
     },
     "inputWidgets": {},
     "nuid": "5eabbd1a-9843-473e-8610-93ee63a389e4",
     "showTitle": false,
     "title": ""
    }
   },
   "source": [
    "## Exercise 1 - To remove extra characters"
   ]
  },
  {
   "cell_type": "code",
   "execution_count": 0,
   "metadata": {
    "application/vnd.databricks.v1+cell": {
     "cellMetadata": {
      "byteLimit": 2048000,
      "rowLimit": 10000
     },
     "inputWidgets": {},
     "nuid": "4173e2ab-331c-4f8a-8318-9dfbbee1e206",
     "showTitle": false,
     "title": ""
    }
   },
   "outputs": [
    {
     "output_type": "display_data",
     "data": {
      "text/plain": [
       "\u001B[0;36m  File \u001B[0;32m\"<command-2617513078609861>\"\u001B[0;36m, line \u001B[0;32m2\u001B[0m\n\u001B[0;31m    # remove extra characters - \"[()']\" from the location column string\u001B[0m\n\u001B[0m                                                                           ^\u001B[0m\n\u001B[0;31mIndentationError\u001B[0m\u001B[0;31m:\u001B[0m expected an indented block\n"
      ]
     },
     "metadata": {
      "application/vnd.databricks.v1+output": {
       "arguments": {},
       "data": "\u001B[0;36m  File \u001B[0;32m\"<command-2617513078609861>\"\u001B[0;36m, line \u001B[0;32m2\u001B[0m\n\u001B[0;31m    # remove extra characters - \"[()']\" from the location column string\u001B[0m\n\u001B[0m                                                                           ^\u001B[0m\n\u001B[0;31mIndentationError\u001B[0m\u001B[0;31m:\u001B[0m expected an indented block\n",
       "errorSummary": "<span class='ansi-red-fg'>IndentationError</span>: expected an indented block (<command-2617513078609861>, line 2)",
       "errorTraceType": "ansi",
       "metadata": {},
       "type": "ipynbError"
      }
     },
     "output_type": "display_data"
    }
   ],
   "source": [
    "def replace_brackets_in_location(df): \n",
    "# remove extra characters - \"[()']\" from the location column string    "
   ]
  },
  {
   "cell_type": "code",
   "execution_count": 0,
   "metadata": {
    "application/vnd.databricks.v1+cell": {
     "cellMetadata": {
      "byteLimit": 2048000,
      "rowLimit": 10000
     },
     "inputWidgets": {},
     "nuid": "f0c6dfb7-2ff7-48ef-985b-bc333a932c95",
     "showTitle": false,
     "title": ""
    }
   },
   "outputs": [],
   "source": [
    "#Solution\n",
    "def replace_brackets_in_location(df): \n",
    "    return df.withColumn(\"location\", F.regexp_replace(\"location\", \"[()']\", \"\"))"
   ]
  },
  {
   "cell_type": "code",
   "execution_count": 0,
   "metadata": {
    "application/vnd.databricks.v1+cell": {
     "cellMetadata": {
      "byteLimit": 2048000,
      "rowLimit": 10000
     },
     "inputWidgets": {},
     "nuid": "01270763-495d-41ff-9cde-168dbb491432",
     "showTitle": false,
     "title": ""
    }
   },
   "outputs": [
    {
     "output_type": "stream",
     "name": "stdout",
     "output_type": "stream",
     "text": [
      "All tests passed :)\n"
     ]
    }
   ],
   "source": [
    "def test_replace_brackets_in_location():\n",
    "  pandas_df = pd.DataFrame(\n",
    "      {\n",
    "          'id':  pd.Series([1, 2, 3]),\n",
    "          'location': pd.Series([\"New York, NY\", \"(Los Angeles), CA\", \"Chicago' IL\"]),\n",
    "      }\n",
    "  )\n",
    "  expected_pandas_df = pd.DataFrame(\n",
    "      {\n",
    "          'id':  pd.Series([1, 2, 3]),\n",
    "          'location': pd.Series([\"New York, NY\", \"Los Angeles, CA\", \"Chicago IL\"]),\n",
    "      }\n",
    "  )\n",
    "  spark_df = spark.createDataFrame(pandas_df)\n",
    "  expected_df = spark.createDataFrame(expected_pandas_df)\n",
    "\n",
    "  fixed_df = replace_brackets_in_location(spark_df)\n",
    "  \n",
    "  assert fixed_df.schema == expected_df.schema\n",
    "  assert fixed_df.collect() == expected_df.collect()\n",
    "\n",
    "  print(\"All tests passed :)\")\n",
    "  \n",
    "test_replace_brackets_in_location()"
   ]
  },
  {
   "cell_type": "code",
   "execution_count": 0,
   "metadata": {
    "application/vnd.databricks.v1+cell": {
     "cellMetadata": {
      "byteLimit": 2048000,
      "rowLimit": 10000
     },
     "inputWidgets": {},
     "nuid": "4e4022e4-01c5-4ac3-9212-22e7be61c818",
     "showTitle": false,
     "title": ""
    }
   },
   "outputs": [],
   "source": [
    "df = replace_brackets_in_location(df)"
   ]
  },
  {
   "cell_type": "code",
   "execution_count": 0,
   "metadata": {
    "application/vnd.databricks.v1+cell": {
     "cellMetadata": {
      "byteLimit": 2048000,
      "rowLimit": 10000
     },
     "inputWidgets": {},
     "nuid": "6f2e1afb-9e59-440e-a92d-dddee62809a4",
     "showTitle": false,
     "title": ""
    }
   },
   "outputs": [
    {
     "output_type": "stream",
     "name": "stdout",
     "output_type": "stream",
     "text": [
      "+-------------------------------------------------------------+\n|location                                                     |\n+-------------------------------------------------------------+\n|10.66668, -61.51889, Port of Spain, TT, America/Port_of_Spain|\n+-------------------------------------------------------------+\nonly showing top 1 row\n\n"
     ]
    }
   ],
   "source": [
    "df.select('location').show(1, truncate=False)"
   ]
  },
  {
   "cell_type": "markdown",
   "metadata": {
    "application/vnd.databricks.v1+cell": {
     "cellMetadata": {
      "byteLimit": 2048000,
      "rowLimit": 10000
     },
     "inputWidgets": {},
     "nuid": "a7a375bb-2031-4494-9df4-c57c8d278104",
     "showTitle": false,
     "title": ""
    }
   },
   "source": [
    "Split the location string to properly parse it. Spark has a split function that can help. Put this into a new column called location_arr for location array."
   ]
  },
  {
   "cell_type": "markdown",
   "metadata": {
    "application/vnd.databricks.v1+cell": {
     "cellMetadata": {
      "byteLimit": 2048000,
      "rowLimit": 10000
     },
     "inputWidgets": {},
     "nuid": "f8fe9ffe-1660-4cdb-808c-1e23427eb03e",
     "showTitle": false,
     "title": ""
    }
   },
   "source": [
    "## Exercise 2 - To split the \"location\" column into an array of strings"
   ]
  },
  {
   "cell_type": "code",
   "execution_count": 0,
   "metadata": {
    "application/vnd.databricks.v1+cell": {
     "cellMetadata": {
      "byteLimit": 2048000,
      "rowLimit": 10000
     },
     "inputWidgets": {},
     "nuid": "12a079e6-6553-4da2-af24-be32b4d7e745",
     "showTitle": false,
     "title": ""
    }
   },
   "outputs": [
    {
     "output_type": "display_data",
     "data": {
      "text/plain": [
       "\u001B[0;36m  File \u001B[0;32m\"<command-2617513078609867>\"\u001B[0;36m, line \u001B[0;32m2\u001B[0m\n\u001B[0;31m    # split the \"location\" column into an array of strings\u001B[0m\n\u001B[0m                                                              ^\u001B[0m\n\u001B[0;31mIndentationError\u001B[0m\u001B[0;31m:\u001B[0m expected an indented block\n"
      ]
     },
     "metadata": {
      "application/vnd.databricks.v1+output": {
       "arguments": {},
       "data": "\u001B[0;36m  File \u001B[0;32m\"<command-2617513078609867>\"\u001B[0;36m, line \u001B[0;32m2\u001B[0m\n\u001B[0;31m    # split the \"location\" column into an array of strings\u001B[0m\n\u001B[0m                                                              ^\u001B[0m\n\u001B[0;31mIndentationError\u001B[0m\u001B[0;31m:\u001B[0m expected an indented block\n",
       "errorSummary": "<span class='ansi-red-fg'>IndentationError</span>: expected an indented block (<command-2617513078609867>, line 2)",
       "errorTraceType": "ansi",
       "metadata": {},
       "type": "ipynbError"
      }
     },
     "output_type": "display_data"
    }
   ],
   "source": [
    "def split_location(df):\n",
    "# split the \"location\" column into an array of strings    "
   ]
  },
  {
   "cell_type": "code",
   "execution_count": 0,
   "metadata": {
    "application/vnd.databricks.v1+cell": {
     "cellMetadata": {
      "byteLimit": 2048000,
      "rowLimit": 10000
     },
     "inputWidgets": {},
     "nuid": "e045652a-c902-4120-866e-1f71907d23d9",
     "showTitle": false,
     "title": ""
    }
   },
   "outputs": [],
   "source": [
    "#Solution\n",
    "def split_location(df):\n",
    "    return df.withColumn(\"location_arr\", F.split(\"location\", \", \"))"
   ]
  },
  {
   "cell_type": "code",
   "execution_count": 0,
   "metadata": {
    "application/vnd.databricks.v1+cell": {
     "cellMetadata": {
      "byteLimit": 2048000,
      "rowLimit": 10000
     },
     "inputWidgets": {},
     "nuid": "0752a27d-5bb4-4a11-a286-092b006e0fc0",
     "showTitle": false,
     "title": ""
    }
   },
   "outputs": [
    {
     "output_type": "stream",
     "name": "stdout",
     "output_type": "stream",
     "text": [
      "All tests passed :)\n"
     ]
    }
   ],
   "source": [
    "from  pyspark.sql.types import IntegerType, StructField, StringType, ArrayType, FloatType, StructType\n",
    "\n",
    "def test_split_location():\n",
    "  schema = StructType([\n",
    "      StructField(\"id\", IntegerType()),\n",
    "      StructField(\"location\", StringType())\n",
    "  ])\n",
    "  pandas_df = pd.DataFrame(\n",
    "      {\n",
    "          'id':  pd.Series([1, 2, 3]),\n",
    "          'location': pd.Series([\"New York, NY\", \"Los Angeles, CA\", \"Chicago, IL\"]),\n",
    "      }\n",
    "  )\n",
    "  expected_schema = StructType([\n",
    "      StructField(\"id\", IntegerType()),\n",
    "      StructField(\"location\", StringType()),\n",
    "      StructField(\"location_arr\", ArrayType(StringType(), False))\n",
    "  ])\n",
    "  expected_pandas_df = pd.DataFrame(\n",
    "      {\n",
    "          'id':  pd.Series([1, 2, 3]),\n",
    "          'location': pd.Series([\"New York, NY\", \"Los Angeles, CA\", \"Chicago, IL\"]),\n",
    "          'location_arr': pd.Series([ [\"New York\",\"NY\"], [\"Los Angeles\",\"CA\"], [\"Chicago\",\"IL\"]]),\n",
    "      }\n",
    "  )\n",
    "  spark_df = spark.createDataFrame(pandas_df,schema)\n",
    "  expected_df = spark.createDataFrame(expected_pandas_df,expected_schema)\n",
    "\n",
    "  fixed_df = split_location(spark_df)\n",
    " \n",
    "  assert fixed_df.schema == expected_df.schema\n",
    "  assert fixed_df.collect() == expected_df.collect()\n",
    "\n",
    "  print(\"All tests passed :)\")\n",
    "  \n",
    "test_split_location()"
   ]
  },
  {
   "cell_type": "code",
   "execution_count": 0,
   "metadata": {
    "application/vnd.databricks.v1+cell": {
     "cellMetadata": {
      "byteLimit": 2048000,
      "rowLimit": 10000
     },
     "inputWidgets": {},
     "nuid": "a1d60bf8-953a-41e7-8160-d9cb9d1e2b52",
     "showTitle": false,
     "title": ""
    }
   },
   "outputs": [],
   "source": [
    "df = split_location(df)"
   ]
  },
  {
   "cell_type": "code",
   "execution_count": 0,
   "metadata": {
    "application/vnd.databricks.v1+cell": {
     "cellMetadata": {
      "byteLimit": 2048000,
      "rowLimit": 10000
     },
     "inputWidgets": {},
     "nuid": "064940ed-62a3-41d6-a202-c02524003656",
     "showTitle": false,
     "title": ""
    }
   },
   "outputs": [
    {
     "output_type": "stream",
     "name": "stdout",
     "output_type": "stream",
     "text": [
      "Out[18]: Row(air_quality_index=200, user_id='maynardmorgan', location='10.66668, -61.51889, Port of Spain, TT, America/Port_of_Spain', top_pollutant='PM10', top_pollutant_concentration='88', timestamp='2022-04-07T14:38:34.869188', location_arr=['10.66668', '-61.51889', 'Port of Spain', 'TT', 'America/Port_of_Spain'])"
     ]
    }
   ],
   "source": [
    "df.head()"
   ]
  },
  {
   "cell_type": "markdown",
   "metadata": {
    "application/vnd.databricks.v1+cell": {
     "cellMetadata": {
      "byteLimit": 2048000,
      "rowLimit": 10000
     },
     "inputWidgets": {},
     "nuid": "bae720ff-d6ad-41e2-bbba-3750c8c0b996",
     "showTitle": false,
     "title": ""
    }
   },
   "source": [
    "To fix the schema problems... split the location array and put them into actual columns!"
   ]
  },
  {
   "cell_type": "markdown",
   "metadata": {
    "application/vnd.databricks.v1+cell": {
     "cellMetadata": {
      "byteLimit": 2048000,
      "rowLimit": 10000
     },
     "inputWidgets": {},
     "nuid": "e7d2d253-0725-487f-b8b6-0629ed32d195",
     "showTitle": false,
     "title": ""
    }
   },
   "source": [
    "## Exercise 3 - The 'location' column should be split into separate columns lat,long,city,country and timezone"
   ]
  },
  {
   "cell_type": "code",
   "execution_count": 0,
   "metadata": {
    "application/vnd.databricks.v1+cell": {
     "cellMetadata": {
      "byteLimit": 2048000,
      "rowLimit": 10000
     },
     "inputWidgets": {},
     "nuid": "0b729b1a-3dff-4f36-8026-4509e8ba8282",
     "showTitle": false,
     "title": ""
    }
   },
   "outputs": [
    {
     "output_type": "display_data",
     "data": {
      "text/plain": [
       "\u001B[0;36m  File \u001B[0;32m\"<command-2617513078609873>\"\u001B[0;36m, line \u001B[0;32m2\u001B[0m\n\u001B[0;31m    # The 'location' column should be split into separate columns lat,long,city,country and timezone\u001B[0m\n\u001B[0m                                                                                                    ^\u001B[0m\n\u001B[0;31mIndentationError\u001B[0m\u001B[0;31m:\u001B[0m expected an indented block\n"
      ]
     },
     "metadata": {
      "application/vnd.databricks.v1+output": {
       "arguments": {},
       "data": "\u001B[0;36m  File \u001B[0;32m\"<command-2617513078609873>\"\u001B[0;36m, line \u001B[0;32m2\u001B[0m\n\u001B[0;31m    # The 'location' column should be split into separate columns lat,long,city,country and timezone\u001B[0m\n\u001B[0m                                                                                                    ^\u001B[0m\n\u001B[0;31mIndentationError\u001B[0m\u001B[0;31m:\u001B[0m expected an indented block\n",
       "errorSummary": "<span class='ansi-red-fg'>IndentationError</span>: expected an indented block (<command-2617513078609873>, line 2)",
       "errorTraceType": "ansi",
       "metadata": {},
       "type": "ipynbError"
      }
     },
     "output_type": "display_data"
    }
   ],
   "source": [
    "def create_cols_for_location_arr_items(df):\n",
    "# The 'location' column should be split into separate columns lat,long,city,country and timezone"
   ]
  },
  {
   "cell_type": "code",
   "execution_count": 0,
   "metadata": {
    "application/vnd.databricks.v1+cell": {
     "cellMetadata": {
      "byteLimit": 2048000,
      "rowLimit": 10000
     },
     "inputWidgets": {},
     "nuid": "ef6ba72e-91ad-4031-b4fc-3a4381daede4",
     "showTitle": false,
     "title": ""
    }
   },
   "outputs": [],
   "source": [
    "#Solution\n",
    "def create_cols_for_location_arr_items(df):\n",
    "    return df.withColumn('lat', df.location_arr.getItem(0).cast('float')) \\\n",
    "    .withColumn('long', df.location_arr.getItem(1).cast('float')) \\\n",
    "    .withColumn('city', df.location_arr.getItem(2)) \\\n",
    "    .withColumn('country', df.location_arr.getItem(3)) \\\n",
    "    .withColumn('timezone', df.location_arr.getItem(4))"
   ]
  },
  {
   "cell_type": "code",
   "execution_count": 0,
   "metadata": {
    "application/vnd.databricks.v1+cell": {
     "cellMetadata": {
      "byteLimit": 2048000,
      "rowLimit": 10000
     },
     "inputWidgets": {},
     "nuid": "41bd5e6d-0275-441c-88ee-f041d6b3553a",
     "showTitle": false,
     "title": ""
    }
   },
   "outputs": [
    {
     "output_type": "stream",
     "name": "stdout",
     "output_type": "stream",
     "text": [
      "All tests passed :)\n"
     ]
    }
   ],
   "source": [
    "def test_create_cols_for_location_arr_items():\n",
    "  schema = StructType([\n",
    "      StructField(\"id\", IntegerType()),\n",
    "      StructField(\"location\", StringType()),\n",
    "       StructField(\"location_arr\", ArrayType(StringType(), False))\n",
    "  ])\n",
    "  pandas_df = pd.DataFrame(\n",
    "      {\n",
    "          'id':  pd.Series([1, 2]),\n",
    "          'location': pd.Series([\"New York, NY\", \"Los Angeles, CA\"]),\n",
    "          'location_arr' : pd.Series([ [\"40.7128\",\"-74.0060\",\"New York\",\"USA\",\"America/New_York\"], [\"34.0522\",\"-118.2437\",\"Los Angeles\",\"USA\",\"America/Los_Angeles\"]])\n",
    "      }\n",
    "  )\n",
    "  expected_schema = StructType([\n",
    "      StructField(\"id\", IntegerType()),\n",
    "      StructField(\"location\", StringType()),\n",
    "      StructField(\"location_arr\", ArrayType(StringType(), False)),\n",
    "      StructField(\"lat\", FloatType()),\n",
    "      StructField(\"long\", FloatType()),\n",
    "      StructField(\"city\", StringType()),\n",
    "      StructField(\"country\", StringType()),\n",
    "      StructField(\"timezone\", StringType())\n",
    "  ])\n",
    "  expected_pandas_df = pd.DataFrame(\n",
    "      {\n",
    "          'id':  pd.Series([1, 2]),\n",
    "          'location': pd.Series([\"New York, NY\", \"Los Angeles, CA\"]),\n",
    "          'location_arr' : pd.Series([ [\"40.7128\",\"-74.0060\",\"New York\",\"USA\",\"America/New_York\"], [\"34.0522\",\"-118.2437\",\"Los Angeles\",\"USA\",\"America/Los_Angeles\"]]),\n",
    "          'lat' : pd.Series([40.7128, 34.0522]),\n",
    "          'long' : pd.Series([-74.0060, -118.2437]),\n",
    "          'city' : pd.Series([\"New York\", \"Los Angeles\"]),\n",
    "          'country' : pd.Series([\"USA\", \"USA\"]),\n",
    "          'timezone' : pd.Series([\"America/New_York\", \"America/Los_Angeles\"]),\n",
    "      }\n",
    "  )\n",
    "  spark_df = spark.createDataFrame(pandas_df,schema)\n",
    "  expected_df = spark.createDataFrame(expected_pandas_df,expected_schema)\n",
    "\n",
    "  fixed_df = create_cols_for_location_arr_items(spark_df)\n",
    " \n",
    "\n",
    "  assert fixed_df.schema == expected_df.schema\n",
    "  assert fixed_df.collect() == expected_df.collect()\n",
    "\n",
    "  print(\"All tests passed :)\")\n",
    "  \n",
    "test_create_cols_for_location_arr_items()"
   ]
  },
  {
   "cell_type": "code",
   "execution_count": 0,
   "metadata": {
    "application/vnd.databricks.v1+cell": {
     "cellMetadata": {
      "byteLimit": 2048000,
      "rowLimit": 10000
     },
     "inputWidgets": {},
     "nuid": "029fda7b-3237-4f06-afc2-dffca6f3ab3c",
     "showTitle": false,
     "title": ""
    }
   },
   "outputs": [
    {
     "output_type": "stream",
     "name": "stdout",
     "output_type": "stream",
     "text": [
      "root\n |-- air_quality_index: integer (nullable = true)\n |-- user_id: string (nullable = true)\n |-- location: string (nullable = true)\n |-- top_pollutant: string (nullable = true)\n |-- top_pollutant_concentration: string (nullable = true)\n |-- timestamp: string (nullable = true)\n |-- location_arr: array (nullable = true)\n |    |-- element: string (containsNull = false)\n |-- lat: float (nullable = true)\n |-- long: float (nullable = true)\n |-- city: string (nullable = true)\n |-- country: string (nullable = true)\n |-- timezone: string (nullable = true)\n\n"
     ]
    }
   ],
   "source": [
    "df = create_cols_for_location_arr_items(df)\n",
    "df.printSchema()"
   ]
  },
  {
   "cell_type": "markdown",
   "metadata": {
    "application/vnd.databricks.v1+cell": {
     "cellMetadata": {
      "byteLimit": 2048000,
      "rowLimit": 10000
     },
     "inputWidgets": {},
     "nuid": "08ea923d-09d1-46c3-a558-1c3e89ef259e",
     "showTitle": false,
     "title": ""
    }
   },
   "source": [
    "The schema above looks much better, drop the old columns..."
   ]
  },
  {
   "cell_type": "code",
   "execution_count": 0,
   "metadata": {
    "application/vnd.databricks.v1+cell": {
     "cellMetadata": {
      "byteLimit": 2048000,
      "rowLimit": 10000
     },
     "inputWidgets": {},
     "nuid": "b1e15e70-135b-4599-82d5-4ad6f73a4db2",
     "showTitle": false,
     "title": ""
    }
   },
   "outputs": [],
   "source": [
    "df = df.drop('location', 'location_arr')"
   ]
  },
  {
   "cell_type": "markdown",
   "metadata": {
    "application/vnd.databricks.v1+cell": {
     "cellMetadata": {
      "byteLimit": 2048000,
      "rowLimit": 10000
     },
     "inputWidgets": {},
     "nuid": "a06f2e9b-8e90-4cb5-9dc3-ff4ae84d0f25",
     "showTitle": false,
     "title": ""
    }
   },
   "source": [
    "Next I need to create my air quality categories as follows...\n",
    "\n",
    "Based on the IQAir map, the ranges look to be about:\n",
    "\n",
    "    Great: less than or equal to 50\n",
    "    Good: 51-100\n",
    "    Okay: 101-150\n",
    "    Poor: 151-200\n",
    "    Bad: 201-300\n",
    "    Extremely Bad: 301+\n",
    "\n",
    "Let's make these into integer values 1-6"
   ]
  },
  {
   "cell_type": "code",
   "execution_count": 0,
   "metadata": {
    "application/vnd.databricks.v1+cell": {
     "cellMetadata": {
      "byteLimit": 2048000,
      "rowLimit": 10000
     },
     "inputWidgets": {},
     "nuid": "99446385-b05f-4edc-989d-4f91ad292be1",
     "showTitle": false,
     "title": ""
    }
   },
   "outputs": [],
   "source": [
    "df = df.withColumn('air_quality_category', F.when(\n",
    "    df.air_quality_index <= 50, 1).when(\n",
    "    df.air_quality_index <= 100, 2).when(\n",
    "    df.air_quality_index <= 150, 3).when(\n",
    "    df.air_quality_index <= 200, 4).when(\n",
    "    df.air_quality_index <= 300, 5).otherwise(6))"
   ]
  },
  {
   "cell_type": "code",
   "execution_count": 0,
   "metadata": {
    "application/vnd.databricks.v1+cell": {
     "cellMetadata": {
      "byteLimit": 2048000,
      "rowLimit": 10000
     },
     "inputWidgets": {},
     "nuid": "309c7c50-55dc-4b45-b450-1f7b9a850ef5",
     "showTitle": false,
     "title": ""
    }
   },
   "outputs": [
    {
     "output_type": "stream",
     "name": "stdout",
     "output_type": "stream",
     "text": [
      "Out[25]: Row(air_quality_index=200, user_id='maynardmorgan', top_pollutant='PM10', top_pollutant_concentration='88', timestamp='2022-04-07T14:38:34.869188', lat=10.666680335998535, long=-61.518890380859375, city='Port of Spain', country='TT', timezone='America/Port_of_Spain', air_quality_category=4)"
     ]
    }
   ],
   "source": [
    "df.head()"
   ]
  },
  {
   "cell_type": "markdown",
   "metadata": {
    "application/vnd.databricks.v1+cell": {
     "cellMetadata": {
      "byteLimit": 2048000,
      "rowLimit": 10000
     },
     "inputWidgets": {},
     "nuid": "aabb8200-8a86-4a3d-b77f-d59f6ec8f239",
     "showTitle": false,
     "title": ""
    }
   },
   "source": [
    "### So what even is sensitive information?\n",
    "\n",
    "Categories of sensitive information:\n",
    "\n",
    "- **Personally Identifiable Information (PII)**: This is information that we can directly link to a person without much effort. This includes information like email address, IP address, legal name, address, birth date, gender and so forth. Even just one of these pieces of information can be enough to directly identify someone in a dataset.\n",
    "- **Person-Related Information**: This is data that is created by a person and that likely has some personal artifacts. For example, [web browsing histories are fairly unique](https://blog.lukaszolejnik.com/web-browsing-histories-are-private-personal-data-now-what/), so is location data (i.e. Where do you sleep at night? Where do you work?) and even your likes on social media can statistically reveal sensitive attributes, such as your gender, ethnicity and your political preferences.\n",
    "- **Confidential Information**: This is sensitive information for companies, that should remain protected via similar methods as personal data. This data could reveal details about the core business model, proprietary practices, customer details (which can also contain personal information!) and internal business processes.\n",
    "\n",
    "When we define sensitive information as only PII, we tend to ignore other potential targets of sensitive data, that might be just as, if not more valuable!"
   ]
  },
  {
   "cell_type": "markdown",
   "metadata": {
    "application/vnd.databricks.v1+cell": {
     "cellMetadata": {
      "byteLimit": 2048000,
      "rowLimit": 10000
     },
     "inputWidgets": {},
     "nuid": "d3d53bbe-8f60-4ccd-89a2-23e7a2b5317c",
     "showTitle": false,
     "title": ""
    }
   },
   "source": [
    "#### What is sensitive here?"
   ]
  },
  {
   "cell_type": "code",
   "execution_count": 0,
   "metadata": {
    "application/vnd.databricks.v1+cell": {
     "cellMetadata": {
      "byteLimit": 2048000,
      "rowLimit": 10000
     },
     "inputWidgets": {},
     "nuid": "ae5a9e27-34bd-48d9-b1b8-0760f8dcbf18",
     "showTitle": false,
     "title": ""
    }
   },
   "outputs": [
    {
     "output_type": "stream",
     "name": "stdout",
     "output_type": "stream",
     "text": [
      "-RECORD 0-------------------------------------------------\n air_quality_index           | 120                        \n user_id                     | kathysolis                 \n top_pollutant               | SO2                        \n top_pollutant_concentration | 58                         \n timestamp                   | 2022-04-07T14:56:31.869188 \n lat                         | 40.56754                   \n long                        | -89.64066                  \n city                        | Pekin                      \n country                     | US                         \n timezone                    | America/Chicago            \n air_quality_category        | 3                          \n-RECORD 1-------------------------------------------------\n air_quality_index           | 40                         \n user_id                     | cortezdavid                \n top_pollutant               | PM2.5                      \n top_pollutant_concentration | 35                         \n timestamp                   | 2022-04-07T15:46:21.869188 \n lat                         | 30.24706                   \n long                        | 115.04814                  \n city                        | Huangshi                   \n country                     | CN                         \n timezone                    | Asia/Shanghai              \n air_quality_category        | 1                          \n-RECORD 2-------------------------------------------------\n air_quality_index           | 320                        \n user_id                     | foxlisa                    \n top_pollutant               | PM10                       \n top_pollutant_concentration | 97                         \n timestamp                   | 2022-04-07T16:08:24.869188 \n lat                         | -7.81667                   \n long                        | 112.01667                  \n city                        | Kediri                     \n country                     | ID                         \n timezone                    | Asia/Jakarta               \n air_quality_category        | 6                          \nonly showing top 3 rows\n\n"
     ]
    }
   ],
   "source": [
    "df.sample(0.01).show(3, truncate=False, vertical=True)"
   ]
  },
  {
   "cell_type": "markdown",
   "metadata": {
    "application/vnd.databricks.v1+cell": {
     "cellMetadata": {
      "byteLimit": 2048000,
      "rowLimit": 10000
     },
     "inputWidgets": {},
     "nuid": "32ae697d-4040-46e5-a92d-e9f79b03dcae",
     "showTitle": false,
     "title": ""
    }
   },
   "source": [
    "#### How might we...?\n",
    "\n",
    "- Protect user_id while still allowing it to be linkable?\n",
    "- Remove potentially identifying precision in location?\n",
    "- Remove potentially identifying information in the timestamp?\n",
    "- Make these into scalable and repeatable actions for our workflow?\n",
    "\n",
    "Let's work on these step by step!"
   ]
  },
  {
   "cell_type": "markdown",
   "metadata": {
    "application/vnd.databricks.v1+cell": {
     "cellMetadata": {
      "byteLimit": 2048000,
      "rowLimit": 10000
     },
     "inputWidgets": {},
     "nuid": "11ce1ccb-12a9-402d-8b35-77aefebb714e",
     "showTitle": false,
     "title": ""
    }
   },
   "source": [
    "# Cryptographic Hashing\n",
    "\n",
    "\n",
    "- Protect user_id by hashing it's value \n",
    "\n",
    "Hashing is a one-way function that takes an input (e.g. a password or other data) and generates a fixed-size output (the hash value) that is unique to that input.The purpose of hashing is to provide data integrity and to protect against tampering or unauthorized modifications of the data."
   ]
  },
  {
   "cell_type": "code",
   "execution_count": 0,
   "metadata": {
    "application/vnd.databricks.v1+cell": {
     "cellMetadata": {
      "byteLimit": 2048000,
      "rowLimit": 10000
     },
     "inputWidgets": {},
     "nuid": "16a880a0-3849-475d-96d0-62eaf5791a8c",
     "showTitle": false,
     "title": ""
    }
   },
   "outputs": [
    {
     "output_type": "stream",
     "name": "stdout",
     "output_type": "stream",
     "text": [
      "Out[27]: '031edd7d41651593c5fe5c006fa5752b37fddff7bc4e843aa6af0c950f4b9406'"
     ]
    }
   ],
   "source": [
    "# The hashlib module in python implements a common interface for many secure cryptographic hash and message digest algorithms.\n",
    "# Example code to show how hashlib works and hashes a string. \n",
    "import hashlib\n",
    "hashlib.sha256(b\"Nobody inspects the spammish repetition\").hexdigest()"
   ]
  },
  {
   "cell_type": "markdown",
   "metadata": {
    "application/vnd.databricks.v1+cell": {
     "cellMetadata": {
      "byteLimit": 2048000,
      "rowLimit": 10000
     },
     "inputWidgets": {},
     "nuid": "f98153ac-ec16-4076-aba8-b24645f9c7d5",
     "showTitle": false,
     "title": ""
    }
   },
   "source": [
    "## Exercise 4 - Define function to hash column values"
   ]
  },
  {
   "cell_type": "code",
   "execution_count": 0,
   "metadata": {
    "application/vnd.databricks.v1+cell": {
     "cellMetadata": {
      "byteLimit": 2048000,
      "rowLimit": 10000
     },
     "inputWidgets": {},
     "nuid": "9c3d74c3-39cd-4764-99ef-3ba37c12148b",
     "showTitle": false,
     "title": ""
    }
   },
   "outputs": [
    {
     "output_type": "display_data",
     "data": {
      "text/plain": [
       "\u001B[0;36m  File \u001B[0;32m\"<command-2617513078609888>\"\u001B[0;36m, line \u001B[0;32m2\u001B[0m\n\u001B[0;31m    # TODO\u001B[0m\n\u001B[0m          ^\u001B[0m\n\u001B[0;31mIndentationError\u001B[0m\u001B[0;31m:\u001B[0m expected an indented block\n"
      ]
     },
     "metadata": {
      "application/vnd.databricks.v1+output": {
       "arguments": {},
       "data": "\u001B[0;36m  File \u001B[0;32m\"<command-2617513078609888>\"\u001B[0;36m, line \u001B[0;32m2\u001B[0m\n\u001B[0;31m    # TODO\u001B[0m\n\u001B[0m          ^\u001B[0m\n\u001B[0;31mIndentationError\u001B[0m\u001B[0;31m:\u001B[0m expected an indented block\n",
       "errorSummary": "<span class='ansi-red-fg'>IndentationError</span>: expected an indented block (<command-2617513078609888>, line 2)",
       "errorTraceType": "ansi",
       "metadata": {},
       "type": "ipynbError"
      }
     },
     "output_type": "display_data"
    }
   ],
   "source": [
    "def hash_column(df, column_name):\n",
    "    # TODO"
   ]
  },
  {
   "cell_type": "code",
   "execution_count": 0,
   "metadata": {
    "application/vnd.databricks.v1+cell": {
     "cellMetadata": {
      "byteLimit": 2048000,
      "rowLimit": 10000
     },
     "inputWidgets": {},
     "nuid": "fca81e7d-7b3f-4124-a025-c45b9e13daad",
     "showTitle": false,
     "title": ""
    }
   },
   "outputs": [],
   "source": [
    "#solution\n",
    "from pyspark.sql.functions import udf\n",
    "from pyspark.sql.types import StringType\n",
    "import hashlib\n",
    "\n",
    "def hash_column(df, column_name):\n",
    "    def sha256_hash(value):\n",
    "        return hashlib.sha256(str(value).encode('utf-8')).hexdigest()\n",
    "    udf_sha256_hash = udf(sha256_hash, StringType())\n",
    "    df = df.withColumn('hashed_' + column_name, udf_sha256_hash(column_name))\n",
    "    return df"
   ]
  },
  {
   "cell_type": "code",
   "execution_count": 0,
   "metadata": {
    "application/vnd.databricks.v1+cell": {
     "cellMetadata": {
      "byteLimit": 2048000,
      "rowLimit": 10000
     },
     "inputWidgets": {},
     "nuid": "6ecc5a6e-38e9-4268-bf79-841d6e8ee9b9",
     "showTitle": false,
     "title": ""
    }
   },
   "outputs": [
    {
     "output_type": "stream",
     "name": "stdout",
     "output_type": "stream",
     "text": [
      "All tests passed :)\n"
     ]
    }
   ],
   "source": [
    "def test_hash_column():\n",
    "    schema = StructType([StructField(\"user_id\", StringType(),True)])\n",
    "    pandas_df = pd.DataFrame(\n",
    "      {\n",
    "          'user_id':  pd.Series([\"12345\", \"67890\", \"abcdef\"])\n",
    "      }\n",
    "    )\n",
    "    expected_schema = StructType([\n",
    "        StructField(\"user_id\", StringType(),True),\n",
    "        StructField(\"hashed_user_id\", StringType(),True)\n",
    "    ])\n",
    "    expected_pandas_df = pd.DataFrame(\n",
    "      {\n",
    "          'user_id':  pd.Series([\"12345\", \"67890\", \"abcdef\"]),\n",
    "          'hashed_user_id':  pd.Series(\n",
    "              [\"5994471abb01112afcc18159f6cc74b4f511b99806da59b3caf5a9c173cacfc5\", \n",
    "               \"e2217d3e4e120c6a3372a1890f03e232b35ad659d71f7a62501a4ee204a3e66d\", \n",
    "               \"bef57ec7f53a6d40beb640a780a639c83bc29ac8a9816f1fc6c5c6dcd93c4721\"\n",
    "              ])\n",
    "      }\n",
    "    )    \n",
    "    df = spark.createDataFrame(pandas_df,schema)\n",
    "    expected_df = spark.createDataFrame(expected_pandas_df,expected_schema)\n",
    "    \n",
    "    hashed_df = hash_column(df, \"user_id\")\n",
    "\n",
    "    assert hashed_df.schema == expected_df.schema\n",
    "    assert hashed_df.collect() == expected_df.collect()\n",
    "    print(\"All tests passed :)\")\n",
    "    \n",
    "test_hash_column()            "
   ]
  },
  {
   "cell_type": "code",
   "execution_count": 0,
   "metadata": {
    "application/vnd.databricks.v1+cell": {
     "cellMetadata": {
      "byteLimit": 2048000,
      "rowLimit": 10000
     },
     "inputWidgets": {},
     "nuid": "db0bd939-4c90-4c64-b180-e267f6dbb58c",
     "showTitle": false,
     "title": ""
    }
   },
   "outputs": [
    {
     "output_type": "stream",
     "name": "stdout",
     "output_type": "stream",
     "text": [
      "+-----------------+----------------+-------------+---------------------------+--------------------+---------+---------+-------------------+-------+--------------------+--------------------+--------------------+\n|air_quality_index|         user_id|top_pollutant|top_pollutant_concentration|           timestamp|      lat|     long|               city|country|            timezone|air_quality_category|      hashed_user_id|\n+-----------------+----------------+-------------+---------------------------+--------------------+---------+---------+-------------------+-------+--------------------+--------------------+--------------------+\n|              200|   maynardmorgan|         PM10|                         88|2022-04-07T14:38:...| 10.66668|-61.51889|      Port of Spain|     TT|America/Port_of_S...|                   4|ef0e8649d9000ff22...|\n|              200|millerjacqueline|         PM10|                         45|2022-04-07T14:39:...| 34.25628|-78.04471|             Leland|     US|    America/New_York|                   4|3ed407ff320fa7e1c...|\n|                0|           ikirk|          NO2|                         31|2022-04-07T14:39:...| 43.48961|  -8.2194|             Ferrol|     ES|       Europe/Madrid|                   1|d6dc43d1eddaf86a3...|\n|              300| williamszachary|           CO|                         15|2022-04-07T14:40:...| 42.06166| -1.60452|             Tudela|     ES|       Europe/Madrid|                   5|2d52a80f1269fa45a...|\n|              280|        sfarrell|        PM2.5|                         62|2022-04-07T14:41:...|   -28.24|-48.67028|           Imbituba|     BR|   America/Sao_Paulo|                   5|199fbb0cf17446f7b...|\n|               20|     mariamartin|           CO|                          9|2022-04-07T14:41:...| 51.40944| 46.04833|       Privolzhskiy|     RU|      Europe/Saratov|                   1|844263bdd99411a71...|\n|               80|   michaelfuller|           CO|                         99|2022-04-07T14:42:...| 53.30972| 83.62389|     Novosilikatnyy|     RU|        Asia/Barnaul|                   2|2b2092ab6ecde8454...|\n|              100|       acummings|          SO2|                         32|2022-04-07T14:43:...| 52.53048| 13.29371|Charlottenburg-Nord|     DE|       Europe/Berlin|                   2|7d686f976893f470a...|\n|              140|    glorialandry|          NO2|                         77|2022-04-07T14:43:...| 37.13548| -3.67029|         Las Gabias|     ES|       Europe/Madrid|                   3|f0cdc51de348d6ad2...|\n|               60|      martinjohn|           O3|                         73|2022-04-07T14:44:...|  5.30383| -1.98956|             Tarkwa|     GH|        Africa/Accra|                   2|15be00a1fb4b128a6...|\n|              360|  karenmaldonado|           O3|                          7|2022-04-07T14:45:...| 46.65581|  32.6178|            Kherson|     UA|         Europe/Kiev|                   6|e4868e74cb3abef3e...|\n|               60|     aaronholden|        PM2.5|                         44|2022-04-07T14:46:...| 42.22718| 14.39024|           Lanciano|     IT|         Europe/Rome|                   2|e9f84ce09b08c6279...|\n|              240|        johnny58|         PM10|                         29|2022-04-07T14:46:...|-22.53722|-42.98194|         Guapimirim|     BR|   America/Sao_Paulo|                   5|812e1d4421f0b8fdf...|\n|              220|   sanderssummer|        PM2.5|                         62|2022-04-07T14:47:...| 40.87329| 14.43865|    Somma Vesuviana|     IT|         Europe/Rome|                   5|8347a519499114eb9...|\n|              200|   bradleymosley|           CO|                         11|2022-04-07T14:47:...|  3.51667|     11.5|           Mbalmayo|     CM|       Africa/Douala|                   4|302198479d636635f...|\n|               20|   atkinsrussell|          SO2|                         77|2022-04-07T14:48:...| 49.03685|  8.70745|            Bretten|     DE|       Europe/Berlin|                   1|070206423832ef1e9...|\n|                0|          hlewis|          NO2|                         80|2022-04-07T14:49:...|  53.0233| -1.48119|             Belper|     GB|       Europe/London|                   1|a6b7474c78c8c6af2...|\n|              180|  crystalcarlson|          NO2|                         25|2022-04-07T14:49:...| 54.58048| 16.86194|              Ustka|     PL|       Europe/Warsaw|                   4|d724eeabf5cff077a...|\n|              220|        sharon04|         PM10|                         43|2022-04-07T14:50:...| 39.71734|-74.96933|       Sicklerville|     US|    America/New_York|                   5|66a77bd4cca8dbded...|\n|              120|        tjohnson|        PM2.5|                         43|2022-04-07T14:51:...|  19.8173|-97.35992|          Teziutlan|     MX| America/Mexico_City|                   3|25b7dc49e6bd18e1d...|\n+-----------------+----------------+-------------+---------------------------+--------------------+---------+---------+-------------------+-------+--------------------+--------------------+--------------------+\nonly showing top 20 rows\n\n"
     ]
    }
   ],
   "source": [
    "df = hash_column(df, 'user_id')\n",
    "df.show()"
   ]
  },
  {
   "cell_type": "code",
   "execution_count": 0,
   "metadata": {
    "application/vnd.databricks.v1+cell": {
     "cellMetadata": {
      "byteLimit": 2048000,
      "rowLimit": 10000
     },
     "inputWidgets": {},
     "nuid": "e3a18a57-49ca-4c89-9535-2650bb3baed2",
     "showTitle": false,
     "title": ""
    }
   },
   "outputs": [
    {
     "output_type": "stream",
     "name": "stdout",
     "output_type": "stream",
     "text": [
      "+-----------------+----------------+-------------+---------------------------+--------------------+---------+---------+-------------------+-------+--------------------+--------------------+--------------------+\n|air_quality_index|         user_id|top_pollutant|top_pollutant_concentration|           timestamp|      lat|     long|               city|country|            timezone|air_quality_category|      hashed_user_id|\n+-----------------+----------------+-------------+---------------------------+--------------------+---------+---------+-------------------+-------+--------------------+--------------------+--------------------+\n|              200|   maynardmorgan|         PM10|                         88|2022-04-07T14:38:...| 10.66668|-61.51889|      Port of Spain|     TT|America/Port_of_S...|                   4|ef0e8649d9000ff22...|\n|              200|millerjacqueline|         PM10|                         45|2022-04-07T14:39:...| 34.25628|-78.04471|             Leland|     US|    America/New_York|                   4|3ed407ff320fa7e1c...|\n|                0|           ikirk|          NO2|                         31|2022-04-07T14:39:...| 43.48961|  -8.2194|             Ferrol|     ES|       Europe/Madrid|                   1|d6dc43d1eddaf86a3...|\n|              300| williamszachary|           CO|                         15|2022-04-07T14:40:...| 42.06166| -1.60452|             Tudela|     ES|       Europe/Madrid|                   5|2d52a80f1269fa45a...|\n|              280|        sfarrell|        PM2.5|                         62|2022-04-07T14:41:...|   -28.24|-48.67028|           Imbituba|     BR|   America/Sao_Paulo|                   5|199fbb0cf17446f7b...|\n|               20|     mariamartin|           CO|                          9|2022-04-07T14:41:...| 51.40944| 46.04833|       Privolzhskiy|     RU|      Europe/Saratov|                   1|844263bdd99411a71...|\n|               80|   michaelfuller|           CO|                         99|2022-04-07T14:42:...| 53.30972| 83.62389|     Novosilikatnyy|     RU|        Asia/Barnaul|                   2|2b2092ab6ecde8454...|\n|              100|       acummings|          SO2|                         32|2022-04-07T14:43:...| 52.53048| 13.29371|Charlottenburg-Nord|     DE|       Europe/Berlin|                   2|7d686f976893f470a...|\n|              140|    glorialandry|          NO2|                         77|2022-04-07T14:43:...| 37.13548| -3.67029|         Las Gabias|     ES|       Europe/Madrid|                   3|f0cdc51de348d6ad2...|\n|               60|      martinjohn|           O3|                         73|2022-04-07T14:44:...|  5.30383| -1.98956|             Tarkwa|     GH|        Africa/Accra|                   2|15be00a1fb4b128a6...|\n|              360|  karenmaldonado|           O3|                          7|2022-04-07T14:45:...| 46.65581|  32.6178|            Kherson|     UA|         Europe/Kiev|                   6|e4868e74cb3abef3e...|\n|               60|     aaronholden|        PM2.5|                         44|2022-04-07T14:46:...| 42.22718| 14.39024|           Lanciano|     IT|         Europe/Rome|                   2|e9f84ce09b08c6279...|\n|              240|        johnny58|         PM10|                         29|2022-04-07T14:46:...|-22.53722|-42.98194|         Guapimirim|     BR|   America/Sao_Paulo|                   5|812e1d4421f0b8fdf...|\n|              220|   sanderssummer|        PM2.5|                         62|2022-04-07T14:47:...| 40.87329| 14.43865|    Somma Vesuviana|     IT|         Europe/Rome|                   5|8347a519499114eb9...|\n|              200|   bradleymosley|           CO|                         11|2022-04-07T14:47:...|  3.51667|     11.5|           Mbalmayo|     CM|       Africa/Douala|                   4|302198479d636635f...|\n|               20|   atkinsrussell|          SO2|                         77|2022-04-07T14:48:...| 49.03685|  8.70745|            Bretten|     DE|       Europe/Berlin|                   1|070206423832ef1e9...|\n|                0|          hlewis|          NO2|                         80|2022-04-07T14:49:...|  53.0233| -1.48119|             Belper|     GB|       Europe/London|                   1|a6b7474c78c8c6af2...|\n|              180|  crystalcarlson|          NO2|                         25|2022-04-07T14:49:...| 54.58048| 16.86194|              Ustka|     PL|       Europe/Warsaw|                   4|d724eeabf5cff077a...|\n|              220|        sharon04|         PM10|                         43|2022-04-07T14:50:...| 39.71734|-74.96933|       Sicklerville|     US|    America/New_York|                   5|66a77bd4cca8dbded...|\n|              120|        tjohnson|        PM2.5|                         43|2022-04-07T14:51:...|  19.8173|-97.35992|          Teziutlan|     MX| America/Mexico_City|                   3|25b7dc49e6bd18e1d...|\n+-----------------+----------------+-------------+---------------------------+--------------------+---------+---------+-------------------+-------+--------------------+--------------------+--------------------+\nonly showing top 20 rows\n\n"
     ]
    }
   ],
   "source": [
    "new_df= spark.createDataFrame(df.rdd, df.schema)\n",
    "new_df.show()"
   ]
  },
  {
   "cell_type": "markdown",
   "metadata": {
    "application/vnd.databricks.v1+cell": {
     "cellMetadata": {
      "byteLimit": 2048000,
      "rowLimit": 10000
     },
     "inputWidgets": {},
     "nuid": "72d8bfaf-ae4e-4ac0-9446-e14604891ece",
     "showTitle": false,
     "title": ""
    }
   },
   "source": [
    "# Encryption"
   ]
  },
  {
   "cell_type": "markdown",
   "metadata": {
    "application/vnd.databricks.v1+cell": {
     "cellMetadata": {
      "byteLimit": 2048000,
      "rowLimit": 10000
     },
     "inputWidgets": {},
     "nuid": "44b2f0e3-98a7-4377-bda0-99b5b0e2c616",
     "showTitle": false,
     "title": ""
    }
   },
   "source": [
    "The fernet module of the cryptography package has inbuilt functions for the generation of the key, encryption of plaintext into ciphertext, and decryption of ciphertext into plaintext using the encrypt and decrypt methods respectively. The fernet module guarantees that data encrypted using it cannot be further manipulated or read without the key."
   ]
  },
  {
   "cell_type": "code",
   "execution_count": 0,
   "metadata": {
    "application/vnd.databricks.v1+cell": {
     "cellMetadata": {
      "byteLimit": 2048000,
      "rowLimit": 10000
     },
     "inputWidgets": {},
     "nuid": "4a0e1452-4738-419c-8f97-55fe1eb7699a",
     "showTitle": false,
     "title": ""
    }
   },
   "outputs": [
    {
     "output_type": "stream",
     "name": "stdout",
     "output_type": "stream",
     "text": [
      "b'gAAAAABkJXIfg7msvSL7xkBmiWFOEnGO1ZK4H-URPv3h-zTljXPNACamnke0qbeFMqehaS6l7obOCFVApqHT702wJasiY4GS2w=='\n"
     ]
    }
   ],
   "source": [
    "# Example code to show how Fernet works and encrypts a string.  \n",
    "from cryptography.fernet import Fernet\n",
    "# >>> Put this somewhere safe!\n",
    "key = Fernet.generate_key()\n",
    "f = Fernet(key)\n",
    "token = f.encrypt(b\"secret message\")\n",
    "print(token)"
   ]
  },
  {
   "cell_type": "code",
   "execution_count": 0,
   "metadata": {
    "application/vnd.databricks.v1+cell": {
     "cellMetadata": {
      "byteLimit": 2048000,
      "rowLimit": 10000
     },
     "inputWidgets": {},
     "nuid": "f6df7b17-76a3-48d2-84ab-251b6b914665",
     "showTitle": false,
     "title": ""
    }
   },
   "outputs": [
    {
     "output_type": "stream",
     "name": "stdout",
     "output_type": "stream",
     "text": [
      "secret message\n"
     ]
    }
   ],
   "source": [
    "print(f.decrypt(token).decode())"
   ]
  },
  {
   "cell_type": "code",
   "execution_count": 0,
   "metadata": {
    "application/vnd.databricks.v1+cell": {
     "cellMetadata": {
      "byteLimit": 2048000,
      "rowLimit": 10000
     },
     "inputWidgets": {},
     "nuid": "6280854e-a3f8-4c19-b30c-be63014f8199",
     "showTitle": false,
     "title": ""
    }
   },
   "outputs": [],
   "source": [
    "# generate the encryption key\n",
    "Key = Fernet.generate_key()"
   ]
  },
  {
   "cell_type": "code",
   "execution_count": 0,
   "metadata": {
    "application/vnd.databricks.v1+cell": {
     "cellMetadata": {
      "byteLimit": 2048000,
      "rowLimit": 10000
     },
     "inputWidgets": {},
     "nuid": "d40b0a21-c6ea-4daa-9ff2-e635ee5dd054",
     "showTitle": false,
     "title": ""
    }
   },
   "outputs": [
    {
     "output_type": "stream",
     "name": "stdout",
     "output_type": "stream",
     "text": [
      "Out[36]: b'heSSFoGYL6CYzEEn6VuGIH3sfNDDTzREMD9KZ3OglWE='"
     ]
    }
   ],
   "source": [
    "Key"
   ]
  },
  {
   "cell_type": "markdown",
   "metadata": {
    "application/vnd.databricks.v1+cell": {
     "cellMetadata": {
      "byteLimit": 2048000,
      "rowLimit": 10000
     },
     "inputWidgets": {},
     "nuid": "7ccb93c0-7fb4-4ec7-b76a-dbb15b966153",
     "showTitle": false,
     "title": ""
    }
   },
   "source": [
    "## Exercise 5 - Define Encrypt User Defined Function"
   ]
  },
  {
   "cell_type": "code",
   "execution_count": 0,
   "metadata": {
    "application/vnd.databricks.v1+cell": {
     "cellMetadata": {
      "byteLimit": 2048000,
      "rowLimit": 10000
     },
     "inputWidgets": {},
     "nuid": "c8bf483e-6c23-4a3f-8adb-21b3ce7d2485",
     "showTitle": false,
     "title": ""
    }
   },
   "outputs": [
    {
     "output_type": "display_data",
     "data": {
      "text/plain": [
       "\u001B[0;36m  File \u001B[0;32m\"<command-2617513078609898>\"\u001B[0;36m, line \u001B[0;32m3\u001B[0m\n\u001B[0;31m    \u001B[0m\n\u001B[0m    ^\u001B[0m\n\u001B[0;31mIndentationError\u001B[0m\u001B[0;31m:\u001B[0m expected an indented block\n"
      ]
     },
     "metadata": {
      "application/vnd.databricks.v1+output": {
       "arguments": {},
       "data": "\u001B[0;36m  File \u001B[0;32m\"<command-2617513078609898>\"\u001B[0;36m, line \u001B[0;32m3\u001B[0m\n\u001B[0;31m    \u001B[0m\n\u001B[0m    ^\u001B[0m\n\u001B[0;31mIndentationError\u001B[0m\u001B[0;31m:\u001B[0m expected an indented block\n",
       "errorSummary": "<span class='ansi-red-fg'>IndentationError</span>: expected an indented block (<command-2617513078609898>, line 3)",
       "errorTraceType": "ansi",
       "metadata": {},
       "type": "ipynbError"
      }
     },
     "output_type": "display_data"
    }
   ],
   "source": [
    "# Define Encrypt User Defined Function \n",
    "def encrypt_user_id(plain_text,MASTER_KEY):\n",
    "    "
   ]
  },
  {
   "cell_type": "code",
   "execution_count": 0,
   "metadata": {
    "application/vnd.databricks.v1+cell": {
     "cellMetadata": {
      "byteLimit": 2048000,
      "rowLimit": 10000
     },
     "inputWidgets": {},
     "nuid": "2875d4ac-05f8-4f28-8249-e7a764861822",
     "showTitle": false,
     "title": ""
    }
   },
   "outputs": [],
   "source": [
    "#Solution\n",
    "def encrypt_user_id(plain_text,MASTER_KEY):\n",
    "    f = Fernet(MASTER_KEY)\n",
    "    plain_text_bytes=bytes(plain_text, 'utf-8')\n",
    "    cipher_text = f.encrypt(plain_text_bytes)\n",
    "    cipher_text = str(cipher_text.decode('ascii'))\n",
    "    return cipher_text"
   ]
  },
  {
   "cell_type": "code",
   "execution_count": 0,
   "metadata": {
    "application/vnd.databricks.v1+cell": {
     "cellMetadata": {
      "byteLimit": 2048000,
      "rowLimit": 10000
     },
     "inputWidgets": {},
     "nuid": "3efed140-46bd-4658-82ce-34ab8d247e07",
     "showTitle": false,
     "title": ""
    }
   },
   "outputs": [
    {
     "output_type": "stream",
     "name": "stdout",
     "output_type": "stream",
     "text": [
      "All tests passed :)\n"
     ]
    }
   ],
   "source": [
    "\n",
    "def test_encrypt_user_id():\n",
    "    \n",
    "    plain_df = spark.createDataFrame(\n",
    "        data=[\n",
    "            (1,\"abcd\"),\n",
    "            (2,\"efgh\"),\n",
    "            (3,\"ijkl\")\n",
    "        ],\n",
    "        schema= [\"id\",\"user_id\"],\n",
    "    )\n",
    "       \n",
    "    key = Fernet.generate_key()\n",
    "    f = Fernet(key)\n",
    "    \n",
    "    encrypted_udf = udf(encrypt_user_id, StringType())    \n",
    "    encrypted_df = plain_df.withColumn(\"user_id\", encrypted_udf(col('user_id'), lit(key))) \n",
    "    \n",
    "    expected_decrypted_list = [f.decrypt(i['user_id'].encode()).decode() for i in encrypted_df.select(col('user_id')).collect() ]\n",
    "    \n",
    "    assert plain_df.select(col('user_id')).collect() != encrypted_df.select(col('user_id')).collect(),\"The user_id column has to be encrypted after the encryption logic applied\"    \n",
    "    assert plain_df.rdd.map(lambda x: x.user_id).collect() == expected_decrypted_list,\"The decrypted values has to match the plain_df's user_id values\"\n",
    "    \n",
    "    print(\"All tests passed :)\")\n",
    "    \n",
    "test_encrypt_user_id() "
   ]
  },
  {
   "cell_type": "code",
   "execution_count": 0,
   "metadata": {
    "application/vnd.databricks.v1+cell": {
     "cellMetadata": {
      "byteLimit": 2048000,
      "rowLimit": 10000
     },
     "inputWidgets": {},
     "nuid": "2ff73fa3-c77f-45bc-984b-9535673e4d52",
     "showTitle": false,
     "title": ""
    }
   },
   "outputs": [],
   "source": [
    "encrypted_udf = udf(encrypt_user_id, StringType())"
   ]
  },
  {
   "cell_type": "code",
   "execution_count": 0,
   "metadata": {
    "application/vnd.databricks.v1+cell": {
     "cellMetadata": {
      "byteLimit": 2048000,
      "rowLimit": 10000
     },
     "inputWidgets": {},
     "nuid": "497fa546-0468-4228-b38d-f058fc1fd093",
     "showTitle": false,
     "title": ""
    }
   },
   "outputs": [
    {
     "output_type": "stream",
     "name": "stdout",
     "output_type": "stream",
     "text": [
      "+--------------------+\n|             user_id|\n+--------------------+\n|gAAAAABkJXIrhbl5g...|\n|gAAAAABkJXIriY_Ss...|\n|gAAAAABkJXIrdhVru...|\n|gAAAAABkJXIrswXRT...|\n|gAAAAABkJXIrffWAp...|\n|gAAAAABkJXIrMVLCa...|\n|gAAAAABkJXIrsJhuY...|\n|gAAAAABkJXIr-hzsm...|\n|gAAAAABkJXIrNYpzG...|\n|gAAAAABkJXIrTfuUp...|\n|gAAAAABkJXIrWwYzs...|\n|gAAAAABkJXIrCsMwh...|\n|gAAAAABkJXIrov7P2...|\n|gAAAAABkJXIr0oWH7...|\n|gAAAAABkJXIra974Q...|\n|gAAAAABkJXIr3XjfS...|\n|gAAAAABkJXIrBvf4t...|\n|gAAAAABkJXIrpdFBb...|\n|gAAAAABkJXIrf0LXZ...|\n|gAAAAABkJXIrNc3xA...|\n+--------------------+\nonly showing top 20 rows\n\n"
     ]
    }
   ],
   "source": [
    "df.select(encrypted_udf(col(\"user_id\"),lit(Key)).alias(\"user_id\")).show()"
   ]
  },
  {
   "cell_type": "markdown",
   "metadata": {
    "application/vnd.databricks.v1+cell": {
     "cellMetadata": {
      "byteLimit": 2048000,
      "rowLimit": 10000
     },
     "inputWidgets": {},
     "nuid": "e52cdf63-56b6-499c-90d6-9e276984d5e0",
     "showTitle": false,
     "title": ""
    }
   },
   "source": [
    "It looks like it's working, but with UDFs you never know. Remember, Spark function evaluation is LAZY, so it will sample a bit and test. To see if it will work on the entire dataframe, we need to call collect. Let's test it out!"
   ]
  },
  {
   "cell_type": "code",
   "execution_count": 0,
   "metadata": {
    "application/vnd.databricks.v1+cell": {
     "cellMetadata": {
      "byteLimit": 2048000,
      "rowLimit": 10000
     },
     "inputWidgets": {},
     "nuid": "ce779e8a-3b5f-4524-b2c2-2214c660b17c",
     "showTitle": false,
     "title": ""
    }
   },
   "outputs": [
    {
     "output_type": "stream",
     "name": "stdout",
     "output_type": "stream",
     "text": [
      "Out[42]: [Row(user_id='gAAAAABkJXIu8Tmffif8G6QmGdGEXZ-bzWwxI3B-BFRlzS1-kIJoNZwl52Po7EjAMguIOsTcqkefLRCg1_UrsrDe6lljV7vvPQ=='),\n Row(user_id='gAAAAABkJXIuQbWzGuncHvb15QlGexvaKs1awtxWJ6R6fIXXOzbsf7mUGdVZMZz9u6ejb3hzwPhEAEbpwJNWu1PySY1fHqp-egELZDSioc8cQa9oYYRpo6s='),\n Row(user_id='gAAAAABkJXIuupVXeXDZCVUZLZr04L0kNLHxiIMuH7tP_ZnKKn7gow3tVBfm6Ppxk4OkGNogsxK4lg9m3q37YC3EPdVupTst9Q=='),\n Row(user_id='gAAAAABkJXIuc6-LTwP1e7m3UJsX4SHYXx0q9G6kM4u99HwRWnGFKpKqqFKqWFi74mBYiSFtb1qrd_B6cxqeN9qLpL5b3XSlcg=='),\n Row(user_id='gAAAAABkJXIucWtg9_7yLDJySfnwoRLikhc89u0KMm3iElRx3XD4ne-fIvWSuGn1uzhWc_RZE9_5DnT_DqSVwXFVZBTs-L1SxQ=='),\n Row(user_id='gAAAAABkJXIumCfl46RHmHPXBI28pTE3PzRPaFeZG_j3KaSeKMOBD5dyvwqP_6Pz9v12nh3hyhR6OTnqdfbwjc9xJi2OW_nz1g=='),\n Row(user_id='gAAAAABkJXIuZYlhkAgN0HLNFLjpC48cH3IshJpqa7HOW_4QhJVOiO4wKKPJHDmGqomsFUZ4npKb1pgjp21D3l4RTckg2PCAVg=='),\n Row(user_id='gAAAAABkJXIuyhHOoyKjvzuLYGEkZ7wCEHFBLsll-pMhuH-Kn0CGknJMuJ6tJsXojKDbZQDKxIlqhfpeYEIxUHEfQFIVjOBfeg=='),\n Row(user_id='gAAAAABkJXIubhzXYJKPm8Stkyy04v3umxsq4EbMHeCP9qQ2NcukyjZeQm58a6j6z8h1qQLj0TE3n3fMewYTa4dtPkXTEOcTlA=='),\n Row(user_id='gAAAAABkJXIu1ENpzxbZz3mMW6U1OKNv1VHYO52YuT8uQO2npTq99Wpu3-9pnhxNOfOXyxQyhKheTaOk5SvIADNwVZhiyV50lQ=='),\n Row(user_id='gAAAAABkJXIu6f1cAEcv_RBGBs44YAWNYWQ8TzxVqBqolDAMwuRpDlar_XBFSHaJwe9YzcDbuDsNjTjfoLqU1L167tHar2jC-Q=='),\n Row(user_id='gAAAAABkJXIuXiCuzYp2HWNKHPXLLsuo9aVaS-YufEnAfspasUio1NqJ9N-ks5qFL_e7pnnWoC_Xg7LhxxUNR80mEWCknHTf8w=='),\n Row(user_id='gAAAAABkJXIujaPVPq_VhiW9bMnuizJ_JXaeJs4pFGNM2GGGyQm3TJkgd5XIfoSNVKMQIeZF2WV3yqEa1RW4KXfjyvAtaGwfDA=='),\n Row(user_id='gAAAAABkJXIuiIEWdLdSyaP0-Cp26fJxDmx81EQ3NgUkHW7B65yyQGgBiO-340MPN4UvLFu6_LAxOxq_9t3baKb2CEH85G5-Tw=='),\n Row(user_id='gAAAAABkJXIuS35ExAd3x4R5aqwjScFU6HYXCnU9LKkJI9yjOfyZvLVMyjA6CCsJloD0YER5PNd_lPk9YQfQABLD_9VJ6ORrqA=='),\n Row(user_id='gAAAAABkJXIun37XnVjJJ_Mg5GA7BB3kuYf0tlwsXvSoq4BYCh4w1I1Z-i5E2qYMq3tbAl3iHGw69rhRzsr_-BLPm61oTWaDow=='),\n Row(user_id='gAAAAABkJXIu9hKk-ILwF-9-CKxhwZ8TO9bDRJ7U4SHeMje0VY3KUcjEDQvh86rI8XJLJdcqntvSBo98rV1Hac7p3esJNzjW-A=='),\n Row(user_id='gAAAAABkJXIuLfXU7mAOW5iIqfuJyxdyxci2hxt0tUR-qt59sULzhh19XVcXE3NKXCcZZMiAku4SXFyE00MWssaWXqfI-dhuIQ=='),\n Row(user_id='gAAAAABkJXIu95Bb5ECVNOsZMFBqZuILi_tup4DysX-Htisdj0OSYp8zU-yp0ylOKKkGqRoRgfgesDTQSFbh_-rIb5IrvPuZMQ=='),\n Row(user_id='gAAAAABkJXIuzJzkH8X8wKHDfGTIXz_NLX6a7Jr7gqG4-SwzLgCowxb_KXpiNHCBTXHxmz4-8rYvg5gE8BvJZq38QUCDI2RdTA=='),\n Row(user_id='gAAAAABkJXIuZlyG8eDzAwG3o1w2HvZTx-PHuYTJI40VQ2AZ4NG8NsHOYlPfZihVJBiZeCrxceLGiamntTdGOi683Kjf9H6H4w=='),\n Row(user_id='gAAAAABkJXIuwHQGGEWf1YpYYZEgRUKxr9vskj38S6QqcN04cLfp-JqjjW36G_Kx9ibdf0tVaBZvq5O_8pVB87cgnzS_tDcHgg=='),\n Row(user_id='gAAAAABkJXIuomrmnR9saiH2rCiyBBzvOCN6PRfzLkkw_sgeG342QemvL10jJFxp4x9Ui1jM-3sQkJtd3_7vP7PCuguqLkzU0g=='),\n Row(user_id='gAAAAABkJXIuTy7wUwR69dLpgJvdQ5lqVyYwI4p_MMbHwHtsSdiOJsTtNIMtgBd79Re0ZOJsVdNMTb6vqLfqpgnOTpTb5h6okA=='),\n Row(user_id='gAAAAABkJXIu7BK-AkroGRwoBIJ6qkUvwEktvOe-ovKE89MGnmFjiAYyM4-DIdwstBZK-MeffDjfajYG6pqT8CmZa0FYxp_f8A=='),\n Row(user_id='gAAAAABkJXIun1P26Ut49D8VXbCHrHliZpKoIlaUX2jdLBZIaK7vtqW3GbSaeUCEfZe4A4nVENdlFbKbD_MOo8qUz3kfGI2pmA=='),\n Row(user_id='gAAAAABkJXIuBVQmlh0V-_grg1l7MStn21XudIRWhdbnIGF7ZJTrmGrEfbp718EXkuuOuuSySDepi09SO0hbfg_uo1Vd2Hm1og=='),\n Row(user_id='gAAAAABkJXIunqI0pZgkNzkWnmuV2j2X-hwNL5CvCuJ-UJ5EzHqzEJRNrB3riDOX6BCqxQ_2Gv1wlsTHR64RaFKF5Xdgx18Pqg=='),\n Row(user_id='gAAAAABkJXIu2wU_J3_E2UOqsc0oBjlta1JZiBtgkifhhCmWR5PVpGxHEsKwMPMTQhxcdffNjR_qIP6hdqfm-IkalMrEN2ZH9A=='),\n Row(user_id='gAAAAABkJXIuRbqDk4FF71RL6IIlfa-dZ3FEjEGCnv6wFC5R0xn-izfWNs0AsVffhu971_o5SwiWo8qQGVY01L_5ydlKa76avA=='),\n Row(user_id='gAAAAABkJXIu67mknh9c9dBtzJdXsvKvikkB-NVJyYE_umR4WnQAiq86JdGTSA75p6V2904IlJlVewnnCjK8Io0YpTyOdmQ-7Q=='),\n Row(user_id='gAAAAABkJXIukf1Fv3MncAVcxNS0Xp9CGIYVuO1jIWz-Idz46wLlIamBfWLw54phPvZ1LMEvr_Xlfm2HbvdGDWX_nv_O9faxaQ=='),\n Row(user_id='gAAAAABkJXIufVcXFyawowZFHQN4Mp3bWMMAL2p6UWMQ9w_f1kYjDKs9b2WBhLW7hAtgVahw_NSwNDJX6TKBu4ic5vo09ZXH3g=='),\n Row(user_id='gAAAAABkJXIuCxjfixnidR9f_tA-jL3stGr-9SRGCQqFLyvjbxM0WWmiq6OgB9kTspg9nFcADvbeAXcGCMF1v0mQKNCJdOES5g=='),\n Row(user_id='gAAAAABkJXIuWBf7i4OZVOTWtI6hyR48M_K2axf-y3QVIEiq2x8mQGGbiap5TSeSLEZd7_Z3giZTbZqoXpfPD3ZnjqFkESS0Cw=='),\n Row(user_id='gAAAAABkJXIu9BHSs0tDLTXyVpRH1Dv9pUNdey3qmFVgB_YLCDTu72Vv6KqGiN8kgGiqV3FJyeAd8cxsx3Na8qQUGQajybuDqQ=='),\n Row(user_id='gAAAAABkJXIutBvQdEjJnXi11Z54aX_fmeFZUN3k3ZBdLg6UmpD2E6iYz7cBTyH6iyKFmT97izmPQbNaiJ_542KZqibC2qyZMQ=='),\n Row(user_id='gAAAAABkJXIu5k785BaJ65yeFLuZI4HcFR3jRLWLqF8f0zE9K9Orc0AuJonFjKOvMTp_XY179vLTcLU_Y7c29GGSLSW-tDqUfw=='),\n Row(user_id='gAAAAABkJXIuHg77ISHzMDudGwohdbAc9hk6jJxmv_-_E5aThyeKWpX1t_M423Hr7s_unN5aTHPjeYwiBA_IwFNc3S4i-nizsQ=='),\n Row(user_id='gAAAAABkJXIuws82eiT3bXvoQxbNW0wSovqB3V5pCnC8DnYfTnvZgP_xDtmKLazBYddt-kKhsoB7J6vf89zz8fc9G4K-wY2mLg=='),\n Row(user_id='gAAAAABkJXIuyqlHazoeH32wssqaiIJu26j8_FvDL7VT4tgu13AxDfPOVGKcCHMv_zDUxYp5GJhcpovCNX9OEBlKWyvtE9xnuQ=='),\n Row(user_id='gAAAAABkJXIuARdGTkZasOlvVyUtnt5sdPVFLLmHF1yp2FFTWBAeTqXFYjjJpRVn0cPEaxhbrccQbRk1R2Pqnek_7QJZTSNExg=='),\n Row(user_id='gAAAAABkJXIuTumrfV7D7HwxSoSj9enyBvb2MEJvI6E8v1NxPzsKXzfQR63fyqWjeOwQiTO1ZKMwt45Mlfs9_g2cuTQbW6KjGw=='),\n Row(user_id='gAAAAABkJXIu_f97vfdgyGnQtDgCdw4oqGFT6qooPbeUGey66Ux84KyVP12dAcaUC5JsR0tCwavj-hQeDmK5r-4pz3OrEdQwbw=='),\n Row(user_id='gAAAAABkJXIuAk6En6wvqSz3LrXObQVTQ4l8FjmNK9GllftXAooCkYGHedK1rkDwA99mezpFRJ2fpJz3Q5SUcxPI8mK6MX_uaw=='),\n Row(user_id='gAAAAABkJXIuDiCMY8NZrs0lnO_5jArcbKiAYcckgXCwY1nEwSPcIWCdZNFk9IkL2Kyau4TqYX0tEZsrhplLneINmfemutJGPQ=='),\n Row(user_id='gAAAAABkJXIu3sx4ZvC-z4U6_zSRdK4Ef7WHjr8-pBGD_TUAiMNuIwqCJGV0FVhGmw__-Qu6sS0K75WhR11XuUovCo9xfpktYw=='),\n Row(user_id='gAAAAABkJXIugY2L6BGRXzl9XtcD7uW8RD-4G-R7imw6WrYvJvtDyjTi6a7lWR-PGeC9En_77J3AHC6MTokJqwuMgMFwqKjkcg=='),\n Row(user_id='gAAAAABkJXIuhtaSVq2E5zicVW_OocGlsC7Y-2UVu3Gc02OdquCAHBy24Rf9h7B1iHCox_wFTgUit90LiMJaK6qRBLOKrpc0uQ=='),\n Row(user_id='gAAAAABkJXIuPBMMCGQ_Jhh_2Mc_3gWdnD5lvCl-oW6ZktuXXL9mVTWTCgnNm6oN0K7njDyK9RSRzCCGLW6DXCAY_LjkRVuQSqELeb-HiK1pkObqeJckJeY='),\n Row(user_id='gAAAAABkJXIuNnkQfX_oceCzZMoRkj393v4sEJURdwYwAkdgSKxYxthSa8bR99ptS3EnG6LjjIKt5W3eGvbenRtFwGrvj3VhZA=='),\n Row(user_id='gAAAAABkJXIuAJnuJRDxIYF7BcdbWAFxpwEx-kJiL-SnB4KP4sutPMdJjsLOzWM5VFY0tCekBVQ9Imp8M0r7_pDIrbNBgVOxhg=='),\n Row(user_id='gAAAAABkJXIup-t0J51p1CjD38ScAPWcTtP3xg9LIV2PPWayMTRsf2ZSfADtOWLeRMkz7PLYCzROnh1SbH8upEYg69-eFIEIuw=='),\n Row(user_id='gAAAAABkJXIuSSxYmMBk5myFZoOMNB7rnLP5fbp40Pdc44DoiZ4vKUJbwgCwqvhE_y2hPO7lBtAn0jNP8lEqHhAMFUkCUvGaeQ=='),\n Row(user_id='gAAAAABkJXIuO3X4_wNgvDHa2hLW97qMhZCg1aWjQLrMi0gTBQ7OSWx82VagDn_lEV9xlpHiZz_wDvy9RcHgvlOT0YAwX1a1Qg=='),\n Row(user_id='gAAAAABkJXIuKzUy7Gf1OCZpF-tU2mxSUbfbtYNv9lSEkd8ZRpd_66kN7uqOnkx14gq3qxRH8yPTA48UHSIh-qblK46TA4V6Kg=='),\n Row(user_id='gAAAAABkJXIuw76ApSSjVhbFfxswn_RUy3pHd9up-y1gXNDgREB9GlOUbk6Z9F5YpcGR10x3hDZgTvylVhdiwDdcUO5yAeCjDA=='),\n Row(user_id='gAAAAABkJXIuQjqJZpv9R0fzGSpAB-sGgEbdI2uwOsZ6_heyWP7E8sxEZRnVuiYwnr_-lsadUCuCuEnB3Q4EeiAajQMrVR_cjQ=='),\n Row(user_id='gAAAAABkJXIuvHSGG0ZEgOHV39yJ_rYK8MnMMm563ROH9ZqzBtDVPrfoSH-b35uR8BKWF0qPMn6aKmiZ4CSkic1NId-piVfhwQ=='),\n Row(user_id='gAAAAABkJXIuwHn8ssGinM2SPM9FUvKgiYMSiAZ1jUQgULhXb1UDk3UhEyhPhL3MOsxsdICjDvnkQGabMury5Ywix_OO9ueAAQ=='),\n Row(user_id='gAAAAABkJXIu5TTkAB6Dg26Ts_xope64VtVAcCZAW3wkmy1ffaJp06L-0uZnF1tZ0eBp6-4NbvMSVGOJbr26wNPzt4n9k4RszA=='),\n Row(user_id='gAAAAABkJXIukabAq_y1TExCRrYATGTyct590m3KtBLtZCMP1kv89o6ZdYDM7OPz-E6100C2s8NXnrj9TH_CYNQcIc8EfOcc_w=='),\n Row(user_id='gAAAAABkJXIu52WaSQID9OY5D7E6FzDzVIwMU29mAU_nBGGNW9eJdn8B5Jp6KzCk6ZVovRij10nt9qgABAfe_W12ZAO9dr1JCA=='),\n Row(user_id='gAAAAABkJXIuFZGUvVrMzxNfWEbiapL4loKtIQJXErnSRbJftvloQriStbPoIv76v3gi1VxgK8-mA_eDyp6WPpyOLol6TaafmA=='),\n Row(user_id='gAAAAABkJXIuXiyZS3iNpiRw2rCCscNI6HGJ33MHmDmdbL4XDNw35ABGFY8EKNp3Je-_GILYPnmSBXKDI1lrXyZ86yZhYQk16Q=='),\n Row(user_id='gAAAAABkJXIuV2I--1t1NgcP7BDTZQfiM-XP_MibJCIg162289KQto3GCUNVFdwVXMvag2KAdpMVazGoLsiWUdEDc3Vua8Duaw=='),\n Row(user_id='gAAAAABkJXIuMsEgjmRLZupm4SSdeiVrEZlA93prFY4xk1JiaT98zdPkisHWZxhYCiOKCM5PzbIM4pu6wkOu1eTZZl-XFjpMMw=='),\n Row(user_id='gAAAAABkJXIuQ90vn1IBz2KHrZTEvcpGTMwyspv3pHAitkqu_cwOIVr60_n_nFlPE2A0FbmzFFjKR5dTUThnFlmdj84d-Et-Wg=='),\n Row(user_id='gAAAAABkJXIuXicsIIPnaLpsurNBQL6HKIiQCXHsMkNVe0eixaeH8FZZwiNuVotPbrRGXOdxod_SdiG0PKd-NVC989xnVmu6HA=='),\n Row(user_id='gAAAAABkJXIu0HJG-UzlCXzDFtM-f3L-8_Z9jAQ0JRl7_aCaICL2yeV8xak4dmJY4z8kIzqCRtHsgrfq42MbsK6kccjOR7G_0g=='),\n Row(user_id='gAAAAABkJXIu0OQNpD3Ju_w5IRQ_mHQBawpsyZ0cHHkHnwIdhRSSuyp4ojHVKEGXkxFEw_rlXiqGI3K1FQcloY7Ktdp0s85h7A=='),\n Row(user_id='gAAAAABkJXIuViobjNT6pkFiJCjfaHutqlefn0qGIZ6kEjsW1KuiMlB6bFT_3yu0QZpmCzRV44mYsTgZp6t4sZTPVBFbfcEZ2w=='),\n Row(user_id='gAAAAABkJXIu8OVlbkN5zSCrBfQIAWpLQrKLQfEVP_D6ZSJa7BpWylIGgB-ifFL8q2ECqs-02LlUtNcD3VnUKAidJQXQTS2ZBw=='),\n Row(user_id='gAAAAABkJXIumqxKlOFUcPwxnEkkBeDs80EAZhACMeYcUVZT0LM5fxB_CLehaviRphRJybDEaR_xE6Oq_nw9kVneFKBpixj_HQ=='),\n Row(user_id='gAAAAABkJXIu0vrhd0oizGQTwsoZLNHIGvgiWuQrjw6yTTqb_DzEthFjZfsjpBIwubjHALU7kzXCrqjR7WGVvGHDfdnkLK2WTQ=='),\n Row(user_id='gAAAAABkJXIuzP35LYnJ__XOgegcj2nUGBlZMR25S-YGNJycp0C49IkGQlGd24bZr1JGfQ2yJu6nJ3F3oMA-uJAOkYHr6oRBqg=='),\n Row(user_id='gAAAAABkJXIuU2f8zdhG4pvMVD6eTPK-4B_nziuBYjNpUg8MW7RdhF6GyQ6xZSwKI-b1vUTDc2YCqxYz_2hwHLP4Rkd2G3hVGQ1FmlEafCjpYOx6vccyHLY='),\n Row(user_id='gAAAAABkJXIuGD04Ohmm87CieI9PL4n6TqzZyZRkyti54BXSELzvxQvSoI1hNltdDYjmiuIq1bisEtxpOMVZ5NxW-VU9QZug8w=='),\n Row(user_id='gAAAAABkJXIulGNoaj-lnUvf4uJOrH_BayuATfDh1LLMQo1mHBjfHLTsFKGOrNcnKCZ13Ao4NJQqgjRMDq1A8fwHOG_5z53PNA=='),\n Row(user_id='gAAAAABkJXIuqyszqYWah3b6GWPyFCeBAbci7wCABLjt7z_1tTMsQ72G6XGVfJSFQ7TDls0fpsUfTOv6TFMy7mWRhse9QbBY7g=='),\n Row(user_id='gAAAAABkJXIu0pVtyqvlItWQfiZj6YgP4bkLluyPZQpPPdL3uq556LTOHcfIlwpVonte8mrm6HVy9kZOoiC9gVnhbW8f0wSPWQ=='),\n Row(user_id='gAAAAABkJXIuQMT96x5TjxezTQm2JvbdeqJn42pDrAQiRGz_I-2bhSXYqAcBvydHTPBB4Rlc0mpdv-s8abgXl7ns8z2_8wKmyQ=='),\n Row(user_id='gAAAAABkJXIuSv2ubawkJbR8W_pwTlmw3sGBifKFPOtBPkTZyhCAU6ILyCB9TmNhQq_RAXnPGwAaS5WPNoM65XEUIo1KvAgEYg=='),\n Row(user_id='gAAAAABkJXIu2ucFEmZBImncwNHv95tM1UPo5xBpeNhwg50tpFL5y7z6Gcb51lGor_3SnB5WXao6tjU1k4pwjiJEUb-L7zNGMg=='),\n Row(user_id='gAAAAABkJXIulWiTrsBqJxOPZGfk8HXRfEAykE8Ek234i8cSuxEs_deJm8YwThwMBFXerIBbScD1iymiSxXUugnG18F4JUcbVw=='),\n Row(user_id='gAAAAABkJXIuF2wdFjmG_ScyVp3OfMTlD0e1HEpkijAH_e2JthJ07fz_v5HFrupqO95SyO72RJrv8zr3tTbTtjZkm4dA_PKhsQ=='),\n Row(user_id='gAAAAABkJXIuBZSvA8Mi6P_oX6-z9EaFQcDYZY7Y0Mc4XByLAAz6H6mZZhaAIV-S73-nM2GfeK9WodVu3Ygze6qLZheSRBLU7w=='),\n Row(user_id='gAAAAABkJXIuCsT7UJqtLvHCKBX5wogG-w3UyRGzQuTe07soRQZoj2UzPIPUUyYaa_dxjlrIM5-cB4Vm4U2Drty9Xc-sWltWJQ=='),\n Row(user_id='gAAAAABkJXIuO15bq8iin0UXWssjN1s_5Q63HLjXsELFC_aJ5epMTuyN1PXKWcb-P_9BEjz-vteTRTGszCmdzlpbsC74ebhhHQ=='),\n Row(user_id='gAAAAABkJXIuYViPgjMu_Ovw_Pjr50jeGGzWTeCMwxcAfFSNX37Un4zXz2dfoZAZMrWlIseUUcVhVmEXP_XILOjqvD-GNWlRoQ=='),\n Row(user_id='gAAAAABkJXIuGcuzkXeupY2ZYnlxAqvzBqcyLAyf2AbeGQ3A87Gk6H_ox_oCURnTu7eOVxiuuOYj9G8sdum9d2U0lewv9UIztA=='),\n Row(user_id='gAAAAABkJXIu657-e5x0Dt7xs5g8Ar38YpS-NW7N7M-aWLcvrSmMZwRPn75XhHts37YcAjI6IuEF7e_dmwIBE6fRo8mxLlTgxw=='),\n Row(user_id='gAAAAABkJXIu3u4XXmdcd5izMoTY4uVWP2uoepn3RQUEWaP3RW3x1CY9Is1ESdiDuc7rnkA4ngSxE-TjMipdjQ04d1xluA3IHQ=='),\n Row(user_id='gAAAAABkJXIudnBYsv_TgmWFeaWRzADduO7mokj2QB7Ucp0Sv2N9_krnxyXJmrVSgAKV31gmZIRTsMVLn3mcSA9537HMLdym1w=='),\n Row(user_id='gAAAAABkJXIukm_caSz9Ga3idrwaH7u6CoJyR5JZv9AensyIerRrOzCqiJ4AnDlxc9eYByCooqDn33vzfQiPL8VK_UpNkWMwaw=='),\n Row(user_id='gAAAAABkJXIubzX9YRj19zeUtuO8NyOXeznJrwyOgfWudIK6LMQ3O4r9bLRCacASxm9MFnO_QIccYsy80kQS66KE6NLABECs0A=='),\n Row(user_id='gAAAAABkJXIuiDEiHSLriJ-gHdLTGO2q48v9QA4FVPS8HhHDuZIt8vopk0u68wkAOJwIaqYGpZX6fXYa0KOEdzvk1q11sgPk0w=='),\n Row(user_id='gAAAAABkJXIuAXKK1R54b5Nden1HKsRKquI8wInQW3p3wpaIGOVXZ-snHaDwvXRKodtnrBuCp2V6_NIY7Mn72w8UQPftm7PM4A=='),\n Row(user_id='gAAAAABkJXIuplg2DOArFly546VjoiIVQ5Im6tK7QZuT1RtrLi9sL7bmJj-UHnq5h4XzOUnPsxyDJDY8e40PgEHTiMNPqtmyBA=='),\n Row(user_id='gAAAAABkJXIu1ltvJiFdUXsb2zO3ARB4EG0kjYEVMLzWnYU--oC_wYfEmCii92DtVRLNX6RDHzqFu_pVohinogFTNwsiq1Q9Qg=='),\n Row(user_id='gAAAAABkJXIuJcJu9_US5U9TlrF5upKc-gs4flKczWdx8RfVj2EXcJ-Mz6vXZ2_N7EW1fgRTI9SKR9MInBrqjMZ5IqEsgu4QxQ=='),\n Row(user_id='gAAAAABkJXIutOGSqKzd3hk5LBrtrngychYXzrcsKJpMLrvcrlXDJ0HSq8Pe4IpxG3FEaK8l_p40vbW0-PNtYwChYYag5aLZbw=='),\n Row(user_id='gAAAAABkJXIuubnblOrxqRtu4fW1y8Mh1gq6sxKHAzS_6y7L7u4fYWEDJ7AkAKSpja1ONEFYR4AXFNEKEBhuYGR7Jy6UTSfVuQ=='),\n Row(user_id='gAAAAABkJXIub7Pyut-OTUF7WPflgH8hUpVjT8cKEM9Ijo9o15VWq4F26zDP1e8mvf2CtPW7nVM3qCthc1VmPYWsefihN2wSSyyzSZ9nRRDG2XO3kIhhhvo='),\n Row(user_id='gAAAAABkJXIu1fKjg14aB4eu90Ow1fHi1gafpW-3j-OFUFNIqIVdjKV78B_57_TpJ2uGPhAQm0nM3a9ufY6ukIWLdg0Haiir_Q=='),\n Row(user_id='gAAAAABkJXIu9I2DuOXocUrP7UXfBJgD9koddOL75D76SI1zPxb8kNB-uiXXgS_Vl5Cm5GPV2vi9f3xXW5Xsks9ZVsbNEm6nvQ=='),\n Row(user_id='gAAAAABkJXIuqIMIDw1V-zucupH94i4i40sbxN3uipYYIkEKQA1qVClbwXmAiO83CL3-QAuo_RnHRd9bLotS1-Wpan_t_jfU6A=='),\n Row(user_id='gAAAAABkJXIuYyAd6ZI_YhntdNzTVaZbx6ssdEBM_pEp_cuinZbYc4tIrdUvsV08oSBv11CzVFB6VLZU1__EOEmNvQWnXs_BrA=='),\n Row(user_id='gAAAAABkJXIu2qvF6B1_iYQs8UX9u5ht8fKCvSxW3HaEm4m2RxPxV_dI-XOBkVSrO3CavnGXR7q-qjG_x7DI4I3jRkUYJzShyg=='),\n Row(user_id='gAAAAABkJXIuxN01pLTaPP9CQ4G2SluFtVW1mPCflwlkJ2pKrnBDsOn_5cjmrg-BpuDPSwG7dTLsxq3CvDWnM2d4zY3-xJAQ3Q=='),\n Row(user_id='gAAAAABkJXIuL_8mu0WGsKNICVNqi-4YpfnYiLTt3oqT0IVyjfNobgMLLNT7t3Mb6pWXfwqbCzFQqVcx3uEoZolzT4boPHzKDw=='),\n Row(user_id='gAAAAABkJXIu_1SR1u_xWPzys0Uev8izN6wgUolXjCO3LPIwP4AgsWmCneeFNdEXOTXHc5ABvf6QE_JVtWjnWr_384eH2QG7sw=='),\n Row(user_id='gAAAAABkJXIuoaNXzo5YHC1fJQFGvSrIVCYrd_yNuujcodTJLr0s_Q7PojY0aqtNFGb16pOq5XtKLy_J0e9iApl07WIsvicd6A=='),\n Row(user_id='gAAAAABkJXIumM4gxizSdwQ55-XVAD-RaYo4lT2o6X_EyVJVhqQX11uZmWBF7cPhBrqm4YvDvbX5xXilksXd6BtVzmIigUE0QA=='),\n Row(user_id='gAAAAABkJXIudl-9S7ElorS8-c1ZezUUlONzjoK-ooHLy_uTXRjtZ7fO7zpOlGtC1NraGzMQoimCpEac5HJzkhNjNbND26ERgw=='),\n Row(user_id='gAAAAABkJXIuPJjtT9NgYVC6tmlVurOFMJ7VYdwcL3nY9vut84VeRBYy9y1HRCqZTCyU_mIP8py_51cAXjFuj4rBslyrXwtz5g=='),\n Row(user_id='gAAAAABkJXIu0lvw5LBfNlRotyYwFvSxl_9T_Xp7f7zxHFprkFZ5v_ONECQhOaRiV-jPxS5aH9iB08wta_P38jcGEJbeCpXCVUUrDNVL7pHIXLLlE3__I1M='),\n Row(user_id='gAAAAABkJXIur3ISrukhy1MtG-y-pfGBmC0Ll1oAhuDCXo0_Dt6r_bfpolcUw-CODXDqnYbvC48rZplaXTZpfoC7PHsbq_brfg=='),\n Row(user_id='gAAAAABkJXIubhMtApJFwY6fQrl6u9fyGjWT0K7m80xCucMkAdugaAdLDwjuC5HNwWk7Zb4HhAZZcM-jndPrd0w1FDpQOq0d7Q=='),\n Row(user_id='gAAAAABkJXIuJeaBZSW6VXeFfv0D7w8Xo9C9SGHpAG-H4EMQzymN8HkCAvC5pIdMFBfnAcfoV0oAKUr6Tqs5yEEnM7LeuBhttA=='),\n Row(user_id='gAAAAABkJXIu5vrwTNYAW0czNTKC5KCBl5m3jGv_NlPwwtvujJQTmfH21q24HYqy8KllUAtI3paImMyYCLJ-IP84hgyNv97-Yg=='),\n Row(user_id='gAAAAABkJXIuqYQCeH3RBv3Xl7z8rY7dziqP1BoUFfpLBLc2VZuVSMsG3eSEbtxynCmFSewZqzhktWk6QfKHk5HsWDU1AtQpRg=='),\n Row(user_id='gAAAAABkJXIuhn8c2Ga1PZeesEolxzZYXIRVfrilvOe2wOjmn5LgvStiaHo-x3NWjIxxC59KL4Fqu_u0KJall1BoRnHFSGKk_Q=='),\n Row(user_id='gAAAAABkJXIujwEwUmvXAGVxY4eEwPUOyDXh5xjZmCFg-czKVWjZ7bfZTJTy562VrLdwlimaGPixAgyf5LWFnPsxEcFce_xizA=='),\n Row(user_id='gAAAAABkJXIuAMBePcV62jLzpmEhR1KFgrKu5qPoMMVx1mi6sC8v9hAd4rlHfxQ5-G2QdBi1cTCrWvFy5x-_tU8M5ieFnBkhWA=='),\n Row(user_id='gAAAAABkJXIu37VZV0ZSr72xD55qknkqEdBLzFXlN-PwxxBiRWU4AedLTo1fFas5fFzI-s7Z5PcpIFSPCZT11hkNTsasOMcikQ=='),\n Row(user_id='gAAAAABkJXIuVbKlmtJYLabnu7g_7V9rrF_U-RlsTXD4dPmziiqzeB4T1j28UZ3_AddNFCFhBHiYo_wcJBHQMWZCbkb9RaHR1Q=='),\n Row(user_id='gAAAAABkJXIuV7mDCNoHqiVFrleV91WJ2B5yW0gRcUEoLfVUQUeSDyQx0EJJmSFkTpqczEGrdzUTgJ2CFw9_xF8uLjDOUH7PUQ=='),\n Row(user_id='gAAAAABkJXIu_KOLlGh-vJsZzxr_pzphMycvctNeNnjOmpbTbeDGsrnJmwPBu758OezQCxfJxJpWY4CXJaF_F-TLMHcGxKJE7w=='),\n Row(user_id='gAAAAABkJXIu9xAvyDcNz5QUuoGVirhWWJavvuF9SMbuUCTbZKTQewIe97DvO5Vn6kgltzUTC5sogHYP1ZXoyk0WSygQD86EkA=='),\n Row(user_id='gAAAAABkJXIu-ZD4eINP5OdCkeXfAX0BlyUvH1fKNKHbTUfFhyHZscE5gGcMyPzlG28KaKGPITNKRAtx4MBffniQFZPIWAE-Mw=='),\n Row(user_id='gAAAAABkJXIugRgudrUDtPKHFOw6U_T5dF0E78UgwznZ_qMQqjXXCX6WKrx-ERgdJhlpHJzZtxQCN9P7F8FJjeWQ87BAwkbuzQ=='),\n Row(user_id='gAAAAABkJXIuL38ckSBLx0tI3I8jzoXZHjrlUuEhLokEh_tfyFHFn1S3AO38hf8jkEpOlYSo1rdkcLol3p6a0LL9MRTe9yhj-A=='),\n Row(user_id='gAAAAABkJXIuu2dOHAgySIvV9Z9BEjCUA0JOTsS8qYNNnRe3IAwiTKrNKf82l-ljEhuwyOHCQft6GGL9UToFlZGgFhcI0pX1bg=='),\n Row(user_id='gAAAAABkJXIuouqK_gVzvDzwwqm9_g8Kr_D17GTVqaBc4qMWkFwGMPM1aEvo8Nv5DPJzjWAZLhzWHve-gIKIpyv9ZGdpPdEfGQ=='),\n Row(user_id='gAAAAABkJXIu9xyIw0ojvskw6V5_KgHfYU4PWVfbeXncw5xggoHWAwFwyyS7l6LPjIZefSX4SycXPbfDj5_mNaTM2KzTYIYJYA=='),\n Row(user_id='gAAAAABkJXIuWQJO7JZ68R2lHOqsJTNIvdklRsTKYXOUxK07rusAHJMWsRC59lo-2eKGdWTIy2rK8JSJCVdhcGix12TTeYMTFw=='),\n Row(user_id='gAAAAABkJXIuuXMYHlqIhc8dmceoOxoidm0leeXy14Zs7ague2N4Hjet1HtfLu--m9iR-KVH4wZWtGZBM4IkWC3T0xHOb3T8bg=='),\n Row(user_id='gAAAAABkJXIu5oULzR1TZj7uZ4wdFaxebYPuusAAG0EyRp_zLRGf3ouq2bYh8zvR07pVlignLclRqzBsdrRqptSDSADPHUXxnQ=='),\n Row(user_id='gAAAAABkJXIu3ES1UHmH634N61Ruafh-f1csoCM3wb0bEeokMkQsq2754jqp4PyaVtKbH1q38wbGfUe3M2Wup1QpMlpezKSCdA=='),\n Row(user_id='gAAAAABkJXIugSo_FbOMXqjSydNvklxRtA3CYRJq1q8WhP9ucDbg9kU_msQusPhWWdEPhrMgwIG-S1aLp_vg_8FNwN3fC8WFFw=='),\n Row(user_id='gAAAAABkJXIuaZkTzC8TPzPbG1z_QphYt-0kG8QO2WUrEWx27fTBeaoLLFWza2xESC1EddndyND5g-uKwMQWmf92_OqPLBDM0w=='),\n Row(user_id='gAAAAABkJXIula1cVWKf3C2Bm9QqOpMVt7EhdVNJxGSQ3pnHYPJnxufaYTRB-2qnepKrKNgsXpiYhpdMErf6Jc6crIWYSQFV_g=='),\n Row(user_id='gAAAAABkJXIurRk3I_Yt__glR7q8Q5Z8aUVYjh3i6TdLLza1phmlQKwBio7gwvD2hzrIuUHI7DJaH23YbHf04t7bPhKfYii2ZQ=='),\n Row(user_id='gAAAAABkJXIui_G_nBtQVU6IczryehrOOTSAj9E0DF1Uf61bso0ktd9ja0LojkiROhK6XcwZCNy7z4rhAS3n_FGDD-nHNTgSgg=='),\n Row(user_id='gAAAAABkJXIuvJyoH56aYFTx8O_p4WuZdYPoU5mwJVukFWkAR1aNgn3ImXmLiB1UEiHBB53GcX9PvDaZK33AIm-2UcczdIkN6Q=='),\n Row(user_id='gAAAAABkJXIupH8Xbm1qLMnSfvPVMX0M8XezbPiUi3eDM6pTfjNt0WPzw6r0fC29_DmCDj2P4WvRzPkPAdzUAWNuYBnNpDwpRQ=='),\n Row(user_id='gAAAAABkJXIujpNlVhPncl8iDqGccpgb2um1Oi0lcCnlVulyLuj6Dm1Gz-t695AQe-ZnCDE0RPfpHL4k9F01nfDIugcmr2bhfg=='),\n Row(user_id='gAAAAABkJXIuF4PWNBRPaq4bOtjbtpwXd6GwHIzS3zbkWWbz355QoTjhbdhlAwR5E-5DgwE3QOGlc6mLZ48JpBkQm-xTWltqAg=='),\n Row(user_id='gAAAAABkJXIudLJwdTkVH8E5WfnMrt8mSRkAvdIoIwqsuJsWcOUCRziBJQOx_Qw5M57Kb82FFruRirgK9PJCBkaczPXnQ-tkQQ=='),\n Row(user_id='gAAAAABkJXIucRE400pEhQwPAhWYDI4qrPOMbdMw0u6hsLV88GuWYFszDPSxZs4SfUQjt0XTPK_ZnAzBP-imeRR4IHJhkzk-2Q=='),\n Row(user_id='gAAAAABkJXIufRM1eITWqgh5NxJV2sYSby2SIql4Z1qTfvuzyIAkMMcs4_or62TmAeNv0oMofEfnG3l5kneWaWMXaaraD5bKtQ=='),\n Row(user_id='gAAAAABkJXIufsvBMCq7Pzvvbvlwn6_EDqSMVpg6dRcvbCpkMzk92RBPVfOAacHB2k9sN8xXdDagQHMvuFxvsIMrsuunZ_g0ig=='),\n Row(user_id='gAAAAABkJXIu6sjmAA_XucXvhADxo7gNj1BSVFSeHB-pLQkWYAp3UkWXLz0IATpFBMNefik8d_cj8X7XHxZ-N-Uz2_SgSRvCiA=='),\n Row(user_id='gAAAAABkJXIurH30Tx2HfmdM3ENOcJBWT_-UNo-cQNeiwU6vB7ZrEbNu5NvDAEf7A10uI1yq8P97vYejJtrJQPlkg3nWgauBzQ=='),\n Row(user_id='gAAAAABkJXIukU6e1Jx4-1F8EEiwW7hjXhlJVKdyvvw1uwpM90lOLvhtC5C4NxFCYmP1t1Ns6x7vUWmu5yecaA5unIAOdPAzjw=='),\n Row(user_id='gAAAAABkJXIun1UmOmHmy32lj-q1EkFnZRH5sQ-jjUYIsbKeCjPFtTlJ6vG5EdpaDAG_Z-FzR3IKNeLxBkjbyClnVMPLHuBGoQ=='),\n Row(user_id='gAAAAABkJXIuGff-PmYxe9VrJLMiDkt4E3s6KhmOZCI_wgPkwfiFoKm1iP35hDFuUHosi85QH7BMCHZcn1AYcN4FNKZP4qglfg=='),\n Row(user_id='gAAAAABkJXIux9K-TVSzBCzj22UgPtH-pyjwJnB3M5yPOFwLR09GUzznsAYm_PlsRlDG9NbZae7CrLOB8jYBH7PKV4pwfLeYzw=='),\n Row(user_id='gAAAAABkJXIuKCzMlpKZgPEeTKgqW3HA7j_Zrtb-lJ9ObJLtUUDEVnr_YYSYYeYDr40ZXPSMezm7uPN1ngzsG8mQiHYbrlxwhA=='),\n Row(user_id='gAAAAABkJXIuyhy7Ru8C2oVkGruc2aD1GmOw5tKziO8smBXxMSzzfL0yveyvdhbLT0UDkjfqqO0hkVAtUe8zBel6vzK3AQmlOQ=='),\n Row(user_id='gAAAAABkJXIuoKM5-mMLbZr25E-2msZ6EhAeXaRzzpMdQ-sxDpMWxvCSmV97OJgFy46THmBILiM6OlV60U59epjYD-CquQATaA=='),\n Row(user_id='gAAAAABkJXIuhukWGXA189k2zsiu7uOH2GVaLe_Hqf5wT2nw_Abjw2YxxvSSBeeDKsqcglqhnd5cNDHDe6WXJ9lHub8L3xtTtQ=='),\n Row(user_id='gAAAAABkJXIuUTD7wxqvtHFxi8ZDFAQsKqO4z36u8kkIc9to8IZ2RDlaJpZuAr1ryYfDQLeCOsIZixljHyS2Ix1BcXHAST94YQ=='),\n Row(user_id='gAAAAABkJXIu5OragMY-mfBEYSeGyJANcBWtHdcaxTIVZvzgwRMDUdZpnNVfUaUlDNZgMoxF8GtRX2J9drluECghQ_CKhP_qtp3c1EtfsSikNO949o6JMBQ='),\n Row(user_id='gAAAAABkJXIu1JqpTMic90dgrF3A_DD5vByTZ-WG3xqctLjYaV43Y2w4ku8XrQhDtWNHDlcDm0ukkUg7JIFImaMNNYi_eki2Lw=='),\n Row(user_id='gAAAAABkJXIuTyPKBJMUFgT9hzW5W7VdwIXEi9kW12RBjK-jDlIpqspjEpD63m8PA39oahMPefdkLFIkpZwa7N3GlYUpE-Ut-g=='),\n Row(user_id='gAAAAABkJXIuzKcvQngF3hCFrcLC5NalkV9KMGove5lb1jsMeEKQK3r0lA25OAgOZexionDiPt9cC-OidIIDIg8LmpENPcGrpQ=='),\n Row(user_id='gAAAAABkJXIuMeL_brLu916YR3gmWBtLb5UmfbYx9bm2gxosvJbIiP7WpV-TjHmV4hpDGuwHVChE4K-BokdTLnfpHl9gtLgURg=='),\n Row(user_id='gAAAAABkJXIuZuaz1kL6XPe_Ltr4tonD3Nf4V49Sf_kp0d3ofJR0wszUEANWKd_SDMp1uIPgrOGTZERY5uMVv7yTTveAp8Q3tw=='),\n Row(user_id='gAAAAABkJXIu9gfx4Kj0WyZ4h2nhQYXicCIs2PISzZpKtDYpyY3JWI8tHH7fTDP4HfuRICQDjtkUCKjImETIAo06vrB9pzC25g=='),\n Row(user_id='gAAAAABkJXIu2EjnaV77lvcZygtNkhVa5UTzB_JhoiSmI9PV7mvpiqSCt2MQ1mUrdaNnVUVx5dV4Dn8LzEvjdCVPamFv8xqG6Q=='),\n Row(user_id='gAAAAABkJXIuPUg7wKzdyZCdhJVBaNmUztYII7UbT1j7gy59oUIsRW0UCZaAfU3LMbl-JfuYpDFWi5piQH2aQcmH8IBt2zaqEQ=='),\n Row(user_id='gAAAAABkJXIuRM0Cw1a_G26k0KPsiTMBoCtHFFusr86SdV-Yfg49hzdyz4jiwr_JbxKhurLqOGvjMUrYG1ntLA5JigUkF4hSWw=='),\n Row(user_id='gAAAAABkJXIuWaF7cbZAYZARKHEk7HhBUEiBeI7XfzDZUUR4On4V5C_dAt9fp8TTDW3m-kHbB_4sCmq8YeieCUUBCMdJP2MFkg=='),\n Row(user_id='gAAAAABkJXIuM-XblN1Cz8TmGOBGGYfqtlmU9vLdeNTCuBUlZJA_JtaWU_PqX-1XaDc0rHx0LeDRfKhnIO27LZJJNv3UF0xaww=='),\n Row(user_id='gAAAAABkJXIu4mqJms9qD0rxxGekRQ5vRWNVYnYtXdFH-HxZ7uaT8UItY09QkzclReRE0v4LN3vSC8KdQsoycBqi_wOJwrV83g=='),\n Row(user_id='gAAAAABkJXIuWtF4M5HYoadMo3ngwuXq1fp9PA6JFJkJh-3b3HyWybQn4QPnZ-YpGNxLJpRJz8hPSurfEZvF3lqquPHtw9vd4aCMhLm5vp3WPkKFqlP4SkQ='),\n Row(user_id='gAAAAABkJXIuRKQv1ivIDlOAaeNa7coQWGSKbx84iqj0tZuHVRv7eqyhnpyfiiJq4-5v4uO7AkN9uq6Edoe2mqg9I9RlGQzNaA=='),\n Row(user_id='gAAAAABkJXIu2T8KWwI7WrJ0kHbW_nXHoQ0NstwS4UKTCSWcj8QxSayqjBnyiuVns1vJcz3xt-nmXqRO2bDsg0tnHw37q0px2w=='),\n Row(user_id='gAAAAABkJXIuYtcKunLBKhaKWoQbLo3w7y2_DOYWVuKCUh4FF3s5_KhSmQXU93m8eGMOVwsdnGGWnQSvUrrR0i5TONTNUkDLKw=='),\n Row(user_id='gAAAAABkJXIuq8fQ8ffg9nba2NQZrf7laOxg993IVGNSOORahsdO5eHM9c7Quy5wXNOYmcbSWUAZmzfI8b-iavUK6geE7qZZqw=='),\n Row(user_id='gAAAAABkJXIut39mLT8-i0tBj5iTdkWZ85joafywTBPfGBf1vwBcYXSQ-TJrXEm1TpW8cXyp-tfuilQN6DALJ4PntBFPHvYKIQ=='),\n Row(user_id='gAAAAABkJXIuyVTAY8sDTVW86oNBkqcLKHwPCdReUqd8mosraZflmXUQI9wIwgHZuPc-thGZQAYbFKVE74yvtLHcu8LozUzDZg=='),\n Row(user_id='gAAAAABkJXIuq9rLsU6221dXoU1OeL-IyG6L-D2pWS080ii6ZjB3poRbzwO47kRZN2w9ZnRFMGDPBPqkMSWzr-mvs0BmoDBUcw=='),\n Row(user_id='gAAAAABkJXIuVr-utXFr86k5lAdNqN-8EVMCjosxDQDTLDSTQt_U01kwRfuT2IqxtwJUhMYu1wJAVIbALsPU7xJcB75LW6mVdA=='),\n Row(user_id='gAAAAABkJXIuSbghCGtRdZIa7s6WHl6cEVSg4AlFt7dqLy2KLnx1-8Z4x7D-JyzvyIYh0bYAyM6SPPEIsNHTMoEgDPi0v0M2Iw=='),\n Row(user_id='gAAAAABkJXIuzJEK7wjFW80nbE75tAr0LnAIsEXkPI4pjaxXG7tPgzRkOK0MqZVtRiung88Q3UAGuY2aY-JgGaPpgYyVwUmQAA=='),\n Row(user_id='gAAAAABkJXIu1wIhQ345fWAHStvUS177JJlHqy4Otv-z1nWt-lupDbJ0r3gb_nOzAz7ZjWYg8lQ6e70Z043Mzh1iyowo3buUvg=='),\n Row(user_id='gAAAAABkJXIuUJh-n3FUnlyY-xx2SdMW8pFauyzrLGZnmL_9ZfVeWI_ij_ll74memT13DzZ--144J0Hw-piUDsL_tn0CMFa43g=='),\n Row(user_id='gAAAAABkJXIuxopj9j5K1l6BgmbwtnZCYVVRin6lzrluOjTgmCl3tfGc10I35kmDgQBhJOOqhFGFebE2wsmeHvf9Fx2kcLgI7A=='),\n Row(user_id='gAAAAABkJXIuAoLe8FwFS6KX1SnJsIVfGW5oH_Oeo7utu3ICvoCHKlhsafFiy1-xusmTFoV0tS6ic5y2fBccMMc0ZmqTKlG5CA=='),\n Row(user_id='gAAAAABkJXIuEySx9U175SruUjV6Azy2ss5g2Kqdpm41DnVQBS5yp3qefk2E3DYKLWPvXkkc8qqtHManfpkWGBlpTeD82-89nw=='),\n Row(user_id='gAAAAABkJXIu6ihNq1lxUJL1PSWHPQqnF-g5-HiC03V3-Nz0hpseifuh-xel-FnUvsfM95kX1Y9UcSQn0m1pNlXFEr0rM5xnlA=='),\n Row(user_id='gAAAAABkJXIu_i8doL1MzjuAUfoTA0GULH5ExFRwu1XjJ-YtG7JS3ElMMAXhpZEqXGixjr1xaiJqGHoU3t8rfIu7LxrEcWoV-w=='),\n Row(user_id='gAAAAABkJXIureIaVC-up3Y-9mTk7PC9kJtOjq26FHZiiydnmcGEyyKm3eBfMYi3aoHF2qFl8l-J-N4FpESXQfU2lgTX01gjbg=='),\n Row(user_id='gAAAAABkJXIuTLR_laF-d5dRJv1zwtLzfOptHZgDW3uyLCifGuSzSfqWTWHpoJHsReE476b6fS6Lv2aNOtzljIkgpdf1OpfIPA=='),\n Row(user_id='gAAAAABkJXIuowPsKZKQuR2I8jMgj3rk6FZZpSsFR3x24cCmrx2VCLtijPFifU7R-p5RHeWRaU5Of-1UIfiCMwZHIXOt2ZqaNA=='),\n Row(user_id='gAAAAABkJXIuHj5PfAuW9r-_HbD3kEYQdNPdEhoqwExxuS_dFEvpXw0ckFDCsyawzM-NLLnOAr101apKR2Wi7zRI0NHh75DYOw=='),\n Row(user_id='gAAAAABkJXIu4MknK5k-5gFkkZ1le53TslfuZ7-Y7tCFQr66L-Uy2J68pblKX8yQTO-31HDcJk_dpLvucyiRdPCoITyh1Z0row=='),\n Row(user_id='gAAAAABkJXIudKfrr2C1pbhyfeKXwVeNP-IT_bW-RIyEDhJ2HL_MnB_JvHdJvS7YFmebGB5TtURQ32ywhD9CN0VoSf7zT90uFQ=='),\n Row(user_id='gAAAAABkJXIuGgHxI65v4I7P4Yi-NIO-pcsAIib2q_shYDBmgZ9llEq6XzqCMSX2edvWc5k398bTZXYaNhr-PR9kiNG92oXyqQ=='),\n Row(user_id='gAAAAABkJXIuEjhMeXbZbUX55g3CvcNiJ06FC14_0JjWL6JFU3GQy9CtECna9GCveGsFBXNy5TimAw9hpaBro-Ad-sbBh-WJag=='),\n Row(user_id='gAAAAABkJXIuYuvNODIQikjJgJSKWczdKH7BvwGn5ITvOQzBMbEuK3x3XpFj9AANWRZG-YjmymQ6AxXHr09J9-CohNgyFXprHA=='),\n Row(user_id='gAAAAABkJXIuZH5W0Zm1BqqGA3SPPfzBYmDxOIIWpch1SX0S5JDxLdcfdhioyCo8ev76aOr0723Qs0wz6T76DltbfwARsDK7sw=='),\n Row(user_id='gAAAAABkJXIuf3B8xIr1CUQsSoLlu66dXf9w894gsVs0vSrwID0BzmyxI3KE1N8Mk2K55mxoC1RpVZNI-QMNXpVHnjTtyn2W_pLCLIZHMzzB1An7dZtdymE='),\n Row(user_id='gAAAAABkJXIu6IfyoXvI7bSdqS_AAxUDM3EZyA8B-Zjgwl7X_c-mWArMbLc6kIqulWKkYXGw9tXSgM5nFEvx0Q36I2o3MwdXRw=='),\n Row(user_id='gAAAAABkJXIuAJVHurbnV4PTllxLR5jWw9dtQCvgFjkFCkbU7gboG-hE4VKLgTA1uihFVdYEIuI7VIXnvEnf1HW0nmb7QrfjfQ=='),\n Row(user_id='gAAAAABkJXIu3pLh56o9OXvwwZ5YgKx6uql6h9RFz6pUAjcSNEKGONT87NPbc8a911um8_ib9bVqhXVu-hyT9K2eIPgssAai1w=='),\n Row(user_id='gAAAAABkJXIuqzh1PB-oboqA-pV9HR5uczhC05rmQtH2xMVEr5kqvjv6V_K6yY9DR4rJOnrGm_Rw5oD6XAj2EnRoBFAVb8pQNw=='),\n Row(user_id='gAAAAABkJXIut2OQZOt22jVZtfpcQqfA3NB8U\n\n*** WARNING: max output size exceeded, skipping output. ***\n\nBeKAMCpsvrdqlZt4pN29jsgeCaUTaKB-UlshClKF8gBRFT_h9xPGiWWgZI4yqTJ_K4oXQ=='),\n Row(user_id='gAAAAABkJXIv1o_odS0U0KMsw15xKyKGv_Us0HEldwR1izv3o3mW93IPPl3GGMBID7C0wWlWv2a0RjqXHlxExgx3yWEXMuIybQ=='),\n Row(user_id='gAAAAABkJXIv8i9Rr-iQSIWzX9sKaSboufFyd6aLZv8XdC9Q2XlVPVrxn-V3IT8TDwIXCA25ns5N6VccEXA_YZ2zVLtaKhz-jg=='),\n Row(user_id='gAAAAABkJXIvMshGAFDSJio_Uk6_baDf-mdk2zB7FRVOks1NR3BElD1TwGLO745mYnI_CAG2d3SmNY2L6dmmUidf0ftQf8oQPQ=='),\n Row(user_id='gAAAAABkJXIvdYIh77PQ2RvGVZ1pm23HOB0vrvdF4ATeiSVNliWbgXog3URYmQT-De4Pp5M3xhAbMmi59-17mT61YmGdT0Txew=='),\n Row(user_id='gAAAAABkJXIv6XyrOzIlgZcZPJiPB8kZKsJhBacifjXx8g0g9YsxqZYj60_IF1NrDuaCBR58yu77pVvJc96pNCLjUrYw6IhLNQ=='),\n Row(user_id='gAAAAABkJXIvmR1ar149jtLi5inhkxSOu5jPaA2bJ_RslF56AY7_7qCKrRMDGnsKMNUG9P7OvP7xA_m0eZouqq5s5WsDanykWw=='),\n Row(user_id='gAAAAABkJXIvG7LJU5kY4Xeq3zK7NKC4-48aLsU5w07YrhtH6TxuzrlOUohFtyxVYL1taofktN9VglSic_YVVTJqrw3gmef9EA=='),\n Row(user_id='gAAAAABkJXIv2KcuKu6CuI7tW9pwd5WjAK3F52m5WvKFDa1MCyWzlHUQt6XXi3YYFT4jkDwJncpftn61bMR9W7yQEcqw9YigxQ=='),\n Row(user_id='gAAAAABkJXIveHyb69Q6mGWyOBKgLMSTzQ-6706xbYI09i7zBBHFIdrSF_wNl9cM7XCT3_mUL2qKLIiSjEnCVY3FBWMlo-WjVw=='),\n Row(user_id='gAAAAABkJXIv-jN9ji2CKB2jCEQF_kauK1E8_tMzDVj_UWuu1sQiCjVpZC_vUT-ZGiPEP2D27PPYHbddv7LAOeyFw_zUGnbcSA=='),\n Row(user_id='gAAAAABkJXIv3kR83r9k9jKfurgctrb4lvna3ARYbq8rgh_-RcdW2PHHy-aLeBO1S4ySdcvyB_P1miovkmbw694f-zW5v4cN6g=='),\n Row(user_id='gAAAAABkJXIve3IM-GBGatZvVN2H3AkKvC8IKCm0XiFb_RhvDoNRbfWOs9qhbDj-fXKDz_3BsqsA1Pkz67lvEngvjmSK_1ecUw=='),\n Row(user_id='gAAAAABkJXIvp8K05rjvTtpHE0AoveTk99Q7NPPF7sR2-hRILye3WuZtS6p-515K5WLW_xYKjufOFS9ZqNh7mZVpF9_LNzUVaQ=='),\n Row(user_id='gAAAAABkJXIveYVC0Q2gr2g80AEH2VDDQKRwRQr7Wvfp5l9T6fLUcWN4kqC2ZQSlxUMrsGLbLJdlgrBCoxHEQhaqmhO6SXKh4g=='),\n Row(user_id='gAAAAABkJXIvWjDOE6yWkhISYwii6sW7-lCSfC-qFBNdU9YNZ9I_nXzhfSY--4Fy211V_BWvRwFwnoajU0UFxqXiG54p9eaDBA=='),\n Row(user_id='gAAAAABkJXIvYmNoCwnsN3EiDQxorcXCuXS12yjR3TNKPILmkguXxMxG3WTMcBWq_2NBRcPw6sVVzIgYwh-7DjavKVCdSFkCKQ=='),\n Row(user_id='gAAAAABkJXIvnxuTxCjqQ49SwRjBJ2h8ePVUCBQHKuIA7dt75NBkww7eLjQuPT2S0o1eqktx5p18PcT1lZ0gq6KhL9Dqu9UCcA=='),\n Row(user_id='gAAAAABkJXIvLcPqGob3cWduL3O8_iqVmGUWNhFEv5ahv4j6ZClltVDVfzOR7Sx35W1D53cydd0p4gz5diqroqV7MDi2SfHPug=='),\n Row(user_id='gAAAAABkJXIvyKuJ-529WRAKmJSnio0U8AMIBwAJYxc_m9csc6Ago4aDI9RAFX49-8Z-OISQ8TFxjwlf_EOByrmJ8sWl44bAHQ=='),\n Row(user_id='gAAAAABkJXIv0Ov2fVBDzcPh4rsN8WJ3s2VnuTOmvQTP0ZZ3BpIVo4-d0rWbDZnOPJZuaQ9Jq1bFHREKElJlIN4WLhraiwHxlw=='),\n Row(user_id='gAAAAABkJXIv1NU6OJawlBRbXdLdKmekoqBuosRrLdxTtsQI7SC29S-cdzcmJbdH75yXnyCkg2L1VNNsLkXEFH3244lI5y3IXg=='),\n Row(user_id='gAAAAABkJXIv17LFVXV3kkE49LcP5othaEG7T8w0sFMAiHx1eDsovTSKa7E55PdHkddk9v-eXwRvT_u1AoDw9Jd-PwySZdxnuQ=='),\n Row(user_id='gAAAAABkJXIvh0mAuwTLCtqjpAeDDiYGWvm5EHwl2uQfmtnxEz_cO0PiDXjePtUpeUeRwLq08sY_2BXCEiivWlB-mDLZWuXfVQ=='),\n Row(user_id='gAAAAABkJXIvi2pzd6YtKWJ7R_AXY1IvsAul-OesdtCDsjKelPrQvxgu7eaM7REb7g18TucrYHOou18a-Uy8kvNG3iCCY9vbwg=='),\n Row(user_id='gAAAAABkJXIv_iRGjzWW80naHGjjf6T8k7Tk_Mm3K1ROOx2d6uN_JhsZDi6OqFHuCWAaL_KqZwY6IcXpONKM1S4D3kVY1dxQRA=='),\n Row(user_id='gAAAAABkJXIv8DdIXv_0xo8_mLvbPUbN3bvk3WRT3Pv66aWCPx0WpqQ99-ZOeltE6l4WQO25u3MUmi2YDpGp3cVz1WTi3in5RA=='),\n Row(user_id='gAAAAABkJXIvSk5I4pdbNGZoYEvVrLRPtynO2Gi_oFmw6LfNMvTb3Nx1LCWtK5UJaSeYyqfnPTmOzrLB3JBEuSmI5Fot9paTkg=='),\n Row(user_id='gAAAAABkJXIvUt5hU8VRfDJYwO1atJUA7cy_cotLzcBcBGJnv6cfnlKCY7kefiPcZszrC6uCJyCEe9hSjsfVIVlA6kBoSjo9Xg=='),\n Row(user_id='gAAAAABkJXIvHWixJdnvUP81QejDmyCFnVH_RCzbymGDEYgL62vPwESK15gUCKm0FUWx9Zpvn8pt-V3YoPxNfPFgZAlXvwIoab0KA44HNKnkBVqiNXD9Ve8='),\n Row(user_id='gAAAAABkJXIvftWZr1eHKhRyZYZOH6VCS4P5NIvfqbBdKJsHldTLXf0lJAR6oeIde5WJgr7SZklnvql0D52AX_B1PzAoW4Ko9w=='),\n Row(user_id='gAAAAABkJXIvmG0lleTdRJeK81Lqbjww54pEBeTuXcx4KwvqI4m7D4gznCgovgwsOzxbAjQ6mtYk4ebVrTSHI5HeGgh6hhXQIA=='),\n Row(user_id='gAAAAABkJXIvujy9Vfj4XlqQ6_KypNyygCgsEW7SnTDu7TfJvQW7yc2TbrIE3f1_WRW0pBFrbomCDna28zHRTCUwWJl5JjK-AQ=='),\n Row(user_id='gAAAAABkJXIvWysTbBB3pF0c_bkrfjKyaXHXPsdzXL9dDLVMnKkSBENF1nmaYrRehiJUUCHKJvkS-6xPrZ6wDCIF8U15omdQ9Q=='),\n Row(user_id='gAAAAABkJXIv08uzfe6nsEc9NUlMnWsUVtXrmVMT5acdpzUoNMUuAbRNlTCZ5hKdJcUXP9Prwo4-l1gVY4A3OLU8GYtX_sLeog=='),\n Row(user_id='gAAAAABkJXIvYHy4n2RJzPcaaia-yh_2NAFuUXFxQYuePFCxvsIndRwUZx5WSx7_noUD3f0P7Tk65tt1IqgvT-z2G0AsBIwujA=='),\n Row(user_id='gAAAAABkJXIvTHjeGT0IHL8HyEHLKGCFk-FKrRdBbQOUx9cI817Q2u6jhnXrXl6tYIpDrlEKOC_uz2nSVmgQI-vo2MOXyTMDdA=='),\n Row(user_id='gAAAAABkJXIv71RtmsT8-s0E76SSG88iS8irNdCfFNQkiaHEwICLtQOM3lZxKjsZZLi0pbELMlJ9JFMH64MURlx12XHKpiDVUA=='),\n Row(user_id='gAAAAABkJXIvT7kVaxDwlg5A9GeHo5DtsGn7GyxYI5ddt2ohaF3hVSJVEu9YcADBTIr8g8_FQgZFk0x5XPFxwTdrkuuHdvEo4A=='),\n Row(user_id='gAAAAABkJXIvqqgqaEimo68CilqxfAPbuk9_8bFKDZfYc8_t6JLW8GoEJ3XFsxXCgjSfvyrYZpR_XWhqvOPZK_BsOC617lj6xA=='),\n Row(user_id='gAAAAABkJXIvXTR--91SqSeQiYf3durNgRrkxu7irRX2IDqeXhHnXX0rNGw2ck5A73DqfcZr1j_2q_Ck1QVO2EnGvx6CuSQUJw=='),\n Row(user_id='gAAAAABkJXIvxRwn2mtRZ4raP5tw8qMFBC1GUzF3OgvV-OeyCxjeO4o9Us4SUFA8BiIJu7rgE5tiFmjipTrgB0laIWh1gReEpg=='),\n Row(user_id='gAAAAABkJXIvWS1JvIay7GzIA488i0n_O4DEzdYYiqotNPb8SILG-0t0GVlEi8tdsK53rG6U3u1PzqeXulePafilidJQLaV-ug=='),\n Row(user_id='gAAAAABkJXIvdRUzuSHV10fV0vLFYsYatBbGgo5Sp1ao50q_M1_oA1fFVaCMDlHbwi8xO1bheQ57Uv-r2C-QlCqmFrqkkvjms7NxvS88KyBsMnI3FbGG-p4='),\n Row(user_id='gAAAAABkJXIvc28YW-Kl_dpgl9WjxqDSd3TD_nrykzFx5drvoRUtdeuZarQPGaR0myJnVH4Pj_0gClQA6sl8tShC5B3GHX1x1w=='),\n Row(user_id='gAAAAABkJXIvutxrzqxoRD4rcr8ECIRCH4Z_igXz7r5pyC-GxHa1whwPD-2Cz7GvpGlvBgZTL9G8tlc5Fc6Pe5Wmu3poa6O8ZQ=='),\n Row(user_id='gAAAAABkJXIvNsKrRytRoSnnvwKZOeBCXW3JUDDM-g9IH6eTIqe5PJLPFDQsKokJdwfYjqjCsrgY9xLiJlEyz674PIHKnJKZuQ=='),\n Row(user_id='gAAAAABkJXIvzrY_HV0jX93xzoC58ogCm9Op8S_fJ32lXfVN84ItYAa506LGpMnIPOooYLmsZcvlQt0CrqBURcI6BjlfpGlJzg=='),\n Row(user_id='gAAAAABkJXIv5TrAXATZfZ0qYuid8nZFJQtpfeH9ZWAFKrorHURcl3KTNMJTbjp-hWKqTnL9hk8JocPZDKyn9EK7qeWX7UHJlQ=='),\n Row(user_id='gAAAAABkJXIv6iYvZh5qIXcBCDAQnp_UZPnt2AxJwU5q6yO9TTqR85rxbRKyjkFjZzLzV_1hTxcjc8OpVVOGIOJ8wsusLNKCNA=='),\n Row(user_id='gAAAAABkJXIvwk25-MuxckFF2qk_3TdUC_y1fEi9b-ybr045_5j14GB6Z0xWyR7TTC-QKj4_CmgXZcGyKVzE1Rb4RzPbfJkN3w=='),\n Row(user_id='gAAAAABkJXIvBHTksaZactRXMdTXTCkULteyIgIHkD4PYBVx9y2WIuN15j_W9jl4wqkbNveKIYT1Tkrvlcl3jMWofrMOybfRcA=='),\n Row(user_id='gAAAAABkJXIv_Fnf1CwAfQ8vRPA3TTVMmoygfnU4qrryHpzOc9nLb7sRoq6UeDYU3-VudOCXSW0TD4kWMHPmEtMoYuTu8_-srA=='),\n Row(user_id='gAAAAABkJXIvW98Yw3eF_elF1Q2plBrBmLabaDfyOgV_PW-8Mfjk0gDldZJxSdxbqFJ24qZw74rUpMPEN2UGiUzWNmhH41_J3w=='),\n Row(user_id='gAAAAABkJXIvF2teF2jNB7-q6uPi7AFJj_ET1CCP8AULHkb_OJKAo85YHMmRXTkmiGuCkvwcqZzbV4HDVaGeqlb3-CgiUJgf-A=='),\n Row(user_id='gAAAAABkJXIvdBWbsxD2TqJa8gmJlTgCJ7qU_4Q9CFqrqnsL-GYCmSS7QcGslIYzwFPH4xrTibF7ww0LqyeHBCwNLfgbmTcUKQ=='),\n Row(user_id='gAAAAABkJXIv4Jm2fXSTw45UsnYFOT9yxhBpvpQ_FNrm1Hd5OJQ8B_1Bve2crf95GOdKwQRkEyMfm4Jnj85ENy44-3ED2qz8Dg=='),\n Row(user_id='gAAAAABkJXIvba1YhvCuFJplWntYWPom-ANap9qkzp7ZG6-eRdOJ9vt2BT6R4--ux-gKPC_uAWkTnxRIyhM6nNqWWnYHQ66t-Q=='),\n Row(user_id='gAAAAABkJXIv66uqrv9hhyCwPtxwX3NbW2TLZqWGKgsrp13r06UtdpUSlkGT8QDfS99GCbEe--rFNWjg1UG4m_CiePlTxETRCw=='),\n Row(user_id='gAAAAABkJXIvczulzmEVIIjsbvu9UPlPE8iM8vjlYUSiPQBc77-mS1EWc2Ak-Oj1yHCutjW3qU-GIjliz5bKn4_bjswcDDSqSw=='),\n Row(user_id='gAAAAABkJXIvgXBOUxsa8j6HDJ_Br919xaWHqK7sG6fcL8t4ppUTJrdnNMrNVXYtfEpzAMpeP-R1q-DFEVGocLdRRJ0npE9_aQ=='),\n Row(user_id='gAAAAABkJXIvpbeupOiomZgP07cO-uchc3qSuMKRI6cQQ_8lEzLzBFcoAVjFUo-SDYGOmKMoqfPhN3dIXBJqnGWMl6v7Tx9HXA=='),\n Row(user_id='gAAAAABkJXIvLGT3_s4StxKBg_iYQP8gupd2whKbe83TmlJ4bKOWlwq5g6m7eNkyPCl9rAeUx8u9eT0ov8XhblGKon3xiz2T7A=='),\n Row(user_id='gAAAAABkJXIv1WMzHMFCu_I7G4UAvvrM8fF86iQLPDPCKuWH_Elh1V3FjS7am5zSzNL2NsPV1YykJcZuUGDYvCTlasUaLgBwFQ=='),\n Row(user_id='gAAAAABkJXIvgtIlY3HryzWXqe68tMsoc_TVdVnnHIaiZZWATY9IWg3MdWwOHkpjFkLhQdW-EZb4O5NmjTJiszUHdm9EO1E5aA=='),\n Row(user_id='gAAAAABkJXIv8IjSfOa20NbCV5QwHv8RxRBWPoxBVJmupIU7BLhjkxGrnSh3jYasP-nukjwjDcp2nrAJdKG4zHLP5jieysk4-A=='),\n Row(user_id='gAAAAABkJXIvp6PxCjfvLG9VA8kQGUjMRem0WwaY7uioY9wUVhyIUatQJ7h23qmuzLMk0pu4z0Xw6I_kSr74gFp45N05eO0KtQ=='),\n Row(user_id='gAAAAABkJXIvu9ECkX7iZY-e3jV74OVVsrJDZ3e52cx1eBQeBw5z1OgmJ_3uQ2Ge4HkgQmSXjbNqqjzI1st5ZwOCYNlyYJbvUw=='),\n Row(user_id='gAAAAABkJXIv_DP-jcGFnq2Od97X_6vDx2S6C1-sEcZxwoPMEQlkGfSjkIt1IGLOYlSBkwxUBJPHT2Tzd-CcrLqVrekguQZYCg=='),\n Row(user_id='gAAAAABkJXIvpuD-pjz0bwCtsj8Sr5g2rATIMPMBveGLZXiVa3JWJSibg-ZSDE3PyYNcR1XFjSnZkJV9D4nDcqbysJbt9YaZ1g=='),\n Row(user_id='gAAAAABkJXIvLi4jQUcEddfDfAXqyiuabt-FY_GEvFicTc6rDDiOOIpitMJzX95ZwytDM0FVemTR7H1hpzVh9nTGDHxvEgMvZg=='),\n Row(user_id='gAAAAABkJXIv3Irtj4QLvIzKIY4arL2wIBEsyF6EKAH-x3PV2lPOr3p8Gy-cYP_Y-Z-BYOrq7Xu3yofItNJrNxUPnirCl-4jzA=='),\n Row(user_id='gAAAAABkJXIv8ElWqjjgjoyVLVVasqTl8QaA_89dNu8QPRsCcaFuA1JvyKQqmekiCz4exTyMWkiNTVFm4tthT9Lj62KBjvFffg=='),\n Row(user_id='gAAAAABkJXIv09ahCNf0l0_gUk-Gd-bKQbMZIXN6xsY4bo5Gy3EhNh0Sjg408JlSuR1ot9DX17UYM-kFOs8zU_i5sTAXKHGnaA=='),\n Row(user_id='gAAAAABkJXIviYH9_CttYFYJC9ujyRePa4nBFRWn1iEFb8ZoaMsaxdYnCrdsC0ST3YkccDrLwams8_lNFPyBg6J8iPbuSWTAWQ=='),\n Row(user_id='gAAAAABkJXIvGkaUOJTcQ6iRgjRBE4Gr_Ozwv83GiUeIR__k8pic9WqXv4rmDXbnyDbV63JGQmgWzdervDgVYyY0e7Xru5e2Lg=='),\n Row(user_id='gAAAAABkJXIvKncn9zlidNhjPntJp71bnl1v7gBy57rvEhi5HY3B8ZZs1HMu2F6NUqqSPjkSy50FNwwOgnD6VLdIQl6uOLcLFA=='),\n Row(user_id='gAAAAABkJXIvh38k7We3a6jYa9-1vOqbx9cu4MW8YyikEMYcElPKO9lWazyyCgrLPV6X4Fv84UaE1YqYXMzvUZiUKH6Jl44BjA=='),\n Row(user_id='gAAAAABkJXIvL3dI6b026uT-2oeR8ZNeRat-KZkMdxxwnClxfruqEoJKuhFOPiPsCPEorcznHphGuCQIyu8UZXaLuXnr5rUcgA=='),\n Row(user_id='gAAAAABkJXIvGqLYUOj0F6hQggIwxDEPdmWNI77cdyZVFftt5Yt-mET1WFN9BWOti7h2uJa7e4pfPYqeFmrQmVfDjm7X_RyQDw=='),\n Row(user_id='gAAAAABkJXIvzizFd1TA3l55EOKCBCr1ogOLu2eiGeU38wVXxLAkfgqnXkzjtj9Ue2CLy9CJIDxHdxQ77m8cno8CLMij50mdiw=='),\n Row(user_id='gAAAAABkJXIvaW9-IeSC7iAYobR9FE5vojEVC7MQ5NhozDGtkmL4wMQp6e578yPVUJHVLGZwz8KVhhfuK5dOsUeWO_T7Gy86Rw=='),\n Row(user_id='gAAAAABkJXIvZdpBlOSrYXLlEBieufsaprtyS00eP05r3s1xrGFY6zY_yCVn1cFCsP9IzpoVIGydlPkFQeR3SH8aXacG1um6qHHLVq3GDGOoH4aF57fqfZM='),\n Row(user_id='gAAAAABkJXIvk6pGzm2Z9ZGYO3T-CmuGKL1nwcQNjXQmXVWHPXLyuwMcG5CiGuNYMIrUUXKrajTg3ODcFTwDOZRlIfNWRCwhlg=='),\n Row(user_id='gAAAAABkJXIvjth64WX8-Uv503AcYj5M1I--d-XOQr0mF0pqvnOtI9M31o4Ov73v5Uhdr7-TbgsGDaMqqdrKVuVVOAmHKdgiaA=='),\n Row(user_id='gAAAAABkJXIvKmRrE4L-ADC7UjqEXIcfS527jqYhHv7qnavP2wZhjm09odRgKI75LgqKw1lvikdluX-Z65JBxH7V7-_lnE-giw=='),\n Row(user_id='gAAAAABkJXIvtubkvV2iwEOHH3mfSL25HzVovJVqdMX05aNMw6SQuhYQ8F77akodC_m_-vn6j7F-TtRxWu_AH0VKGvO0VUy6qA=='),\n Row(user_id='gAAAAABkJXIvfPWCyrOZnBfHiO1w5WQPCP-NLqkh4GSQ9WyY60VG60WE3YGUSkAic57Q_d_pPmTLlGiMUZ-O_lgSDELQK0yRKw=='),\n Row(user_id='gAAAAABkJXIvHfeySb7nL-lvlvuJhGO_PzjgoEuGsYrsFopZl0Bdz4FEd2gZrQ3uSEAPv6KpPE71oe9G-IBHHqWuJSzS7_2FXw=='),\n Row(user_id='gAAAAABkJXIvyM94X__Rv6mP_qnDq_51i0AtuVd-hKOFQFogoIIjuIPnQSjcH1GImTbI7s2zEUThNM2gZ52Q--1fbEIyeo-QQQ=='),\n Row(user_id='gAAAAABkJXIvctm97CrAMJRRmaGYRFQpgF1nUr7C-pWdK9lpeb5FeIWn4h8u0ymq34CZoM3BaiN-azIqpN2ic_J1ZgsnwfvmRQ=='),\n Row(user_id='gAAAAABkJXIvEpCl3zYKOoe7oPUx71WnmoD3u9Np8OJywVTReIBEWlrjk6BRW1sXbnASVC2SwMg508exRldhfiJfQgQ_Gyv_mQ=='),\n Row(user_id='gAAAAABkJXIv7S4-dWQjOjJnh1QWF4CR68qHoVWuqQK-AkQhvW90lkhVDU-R67vB3VESUXHVHeamk14Dxw1f3UJEV1LZgCg89g=='),\n Row(user_id='gAAAAABkJXIvBAAkDEHhqlYuHIebLzPfKIyl49rktbRPRfq4QUvOYJMb3zJZM2z4BiL5nA33-6rW1rSsX-U_fzRzUfJkYFVpsA=='),\n Row(user_id='gAAAAABkJXIvoyNfnV53RLHdyTJWJAaCOol3XF7cI-w3vcvTDdcnRIYy73fGaseaIMsFkU1nI9MMIi84DMM_eOR9B6GU-8QdXw=='),\n Row(user_id='gAAAAABkJXIvPrKGGgWZ3JXD8wSiwLd-HMB4Skc84Gb1_p2aWTYEMddUw_XDF8Q88yl8hbfcxfeg7wxBKIWTSgNmquuEg7O8rQ=='),\n Row(user_id='gAAAAABkJXIv9CsfUkPkb4d8yO4iy3JTvyQbuFSU75qFe0hcRzmiB3GvfCnWiVLHTsrzFnU61XwmVP7xFuoTRvNQfifG_w1VmA=='),\n Row(user_id='gAAAAABkJXIv-2E8cd1EWHDDdRkzVo7zanh0jNsMSmp7IhXcWc25PfE11couI5gzJlWxa3cxojdjnOcAcIbUqFJ1lSV2HMZqwA=='),\n Row(user_id='gAAAAABkJXIvZJxxFpQWQC37e4_D4rO44z7fIXj9MEUysDOXb0-RuVMjO-EgexUuN3KPM5qruftbsCjZorXmqsRtd_-nOWkkaQ=='),\n Row(user_id='gAAAAABkJXIvOehE7CC5Oxnca-HvfUENP1S2JByL75O_q2ieDi6o-naQkAdG0GQ-pbNis5_32JZBVwI_P2YJLLDCCWGG3YbuAA=='),\n Row(user_id='gAAAAABkJXIvZIcjAcBRBFBzfB5KHb9TtsG4LzeCZZ6MNoORkEiC5DHO8bTICJYAWgy2NJrKVBwb701c_SY61mGvlBzpKohtxg=='),\n Row(user_id='gAAAAABkJXIvRaMvwlpfSTwnXJ92WDRb-Z52o2lv13GM5ccMsVYieWtM89rj42yukvgCSZRms_IwfPuGdHe1HJKFTOyvfdVOow=='),\n Row(user_id='gAAAAABkJXIvzjHAbjTQM_Cvso8YxF_nwpS4gJAKgA_fBkd-71BYqU_AaLrUNwYHU9n8aTo8tnlul-T6uAeQi-Hv7x9EEplTOw=='),\n Row(user_id='gAAAAABkJXIvNOaJzlEdGdO3x_x0CFRVvSO3Hj47d-b8RBcA2yvVhy2rrdLRuF_HZgSb79gEeHBeM5xqPLyi84368PYRI0qwvA=='),\n Row(user_id='gAAAAABkJXIvjojnmlO1TF9isZDlC2GcFb1VHyB5k57999oU2i5CLFv2RqGVWD0IVl3tdSkgM1I411jlukU8jEJt4YEPofv5YQ=='),\n Row(user_id='gAAAAABkJXIv35u_wbcK469bf1f7LMIvsbeMcODsrN2jgGVT2d-RBcOUxWwYxONUJDMn9P8WohpgJXl81YLdKfUF-rXky2uroQ=='),\n Row(user_id='gAAAAABkJXIvwRtKRBfyAZuOjbuLahN-3WM_n47hln1n9WWOq0hW7w6qXpEKUoG03r22WnRSg4y7T0QvrGRgN1CA6ZjaKktk1Q=='),\n Row(user_id='gAAAAABkJXIvBfp0VDm2nohF4lnVg_Ngf0zIbESejp7ttkFn6tJWQaW8ktC6-LoXrByMu5ZhxFrV34EF5Bvju42W4twxr93sXQ=='),\n Row(user_id='gAAAAABkJXIvCMbmy5g7joALhsUx85Q7w7VlSWKuDZ4rGEbpGP953ZU1QsOWr0OmFiSpPFrCNnyLYItJnuUJCyMgYWOk8yiBQw=='),\n Row(user_id='gAAAAABkJXIvRY07brSIT1mQV6BumKgzSC2n0VckdxE1jD_jWd-lZFFTKCi1W6E6qEuVqPVGrmLH4VVw46MjqZVYfBKjTin9Cg=='),\n Row(user_id='gAAAAABkJXIvnmU1KTb8aVUxWKk8iWkPvSjdta8osmuOHtqOqF5jzjzmJtmiJZzv72lUEpsBpXfWeb6QpoPpw95sdn6mG58ejg=='),\n Row(user_id='gAAAAABkJXIvV_v_B2MBrhaP6o_D63ri1jVEMvJ3mqn8WW3wiSWzYipMpt-PN4oreUEsDuFHrbiQU0SvVGqINu-lID5zQhDG9g=='),\n Row(user_id='gAAAAABkJXIvzuCu0qn2M8reA8lXb4S-KFzTu5eAb5sy6hy3d0iLkvvEQApNU5fVlYTod-fA75VUwx8K_L4oeRQSuqhFsajYyw=='),\n Row(user_id='gAAAAABkJXIvjAQJkkN5y2wRrba31LJw0fOQM9Da_bfrGubCKmH-E6olVega8XrQ4KzbZbdXnxZ0Y6hT2SE_Fyqtp10BkxpNXw=='),\n Row(user_id='gAAAAABkJXIvZouySldE1pE493Mc7p6yd7T0mp-FfyDYnu2VoZz7yvAKhIEsiiVne5tZDccF6MPA-DF2qyLYOa4ig0Hg88ox4Q=='),\n Row(user_id='gAAAAABkJXIv2JNvo4u7zHeEGlYkctDRiuOT8YDpL52LqNTCXl7eC98vaGevUvUOvF1gYINWTPTGcrNdKipqhPIaRLcv156wEQ=='),\n Row(user_id='gAAAAABkJXIv6uranNB2MyGmKZzuH_e-Z7IcPjtvhHPKkFZzhLQdAGFf3RUbN9i8mvqCOUyo5QCMNz_KoSdYj1B4KPx1SIUXjg=='),\n Row(user_id='gAAAAABkJXIvfP0FiJlzrcFQEYxASGjGyDf8YvrTTB1hD_31Wemvc6LwSvPSfxyYxqZdodiMQzQ8NNZbDj3YelEGKSzp-FxoNg=='),\n Row(user_id='gAAAAABkJXIvNI1f4Cnfn2i94fBGJjwpWwaWgONND1HxQRDmzrD_wLhnSH4lqFq07aw0spuS94naa5lZ0HLAq3PKAmC0dEiz8w=='),\n Row(user_id='gAAAAABkJXIvBL9F8-bLTIa3HX71qpk-9tibKppB8iTv4yLdHpSjMKEWxPOE5y0hKadKROC-gTdQ76S7IIadB_RPPK03S8ycMA=='),\n Row(user_id='gAAAAABkJXIv4nongUwgiPDZlBDUZ-XbmDhq7yvV5nVcjLYOKEkL7dHtHgVDdSwpFmr-y6yvheuKlgCu0-yZJ1Ye_0SDnkAiBw=='),\n Row(user_id='gAAAAABkJXIv2k8w5VH-nVsQWNjqbMGuJ_YXfIHVaMMjuaXWfvO8K6CCYE0jGFuClwfVZysj_NI_DgSuGKbj21jPt3f1nyAyhA=='),\n Row(user_id='gAAAAABkJXIvbe7wwnET7V5TXmCkFQuYIZm8imx056etBsNIcjP-ewJGwbnfh1QaGfheb89S1Urs6nDNpSB5hXZ3fqWp5sFQFA=='),\n Row(user_id='gAAAAABkJXIv4ccF0rLaEvzG2dio__DH1O3k5A4oR8FdNymym-9OGBOL5DZ5MrdGVCAz8mk1RscEbpQr9nexkZYBmrtM6-E41g=='),\n Row(user_id='gAAAAABkJXIvSPt-AzE6bHNl0bOIHBk39iUAhMZUhBCOYkHHq4TiXUen752Kn61bygxRh-Jv9CZDk39s7spxlDfXBRDnGW9U4A=='),\n Row(user_id='gAAAAABkJXIvYea9WWp-iuivn1bgkaHh2NrykSib9Cd10dbnBW-sYW5fW01sVXqgHfkyrY_-PMNbyVIcA2lvsvhRN3dxAurFBQ=='),\n Row(user_id='gAAAAABkJXIvQiDMq5d-4Hb_55Vsbujw7tUd4auCd6WIWP28vbmah05_eFdvob8c0hyLlV9WbRS32yrE2MeHpExoPs_5bZ2huw=='),\n Row(user_id='gAAAAABkJXIv5lK9JOQ2bLRrRLXrCynNfWBRDxMemhIGbTsGxQNTJNXwxCJ--phWRVeiwEsM5Jn8kQa1H-eO1XZr0BYdw_PqpA=='),\n Row(user_id='gAAAAABkJXIvoxKORdtukoOdvu21y4qZXpIGUkPbx9u7rnZKKErsqSdCaWuKnKEmymdCl0ozVbVgso3H9wdNPJ6PZkEoniLhCg=='),\n Row(user_id='gAAAAABkJXIveVWAfFh0BEXK8gZvkws3bnDvVrkY-aQEsszB9dHMU_WBpLUOXsYhGMjlim_BGOpVghf3zkHaNCsEY_Dpf7oyVQ=='),\n Row(user_id='gAAAAABkJXIvllWEevZwp-YhSvCqaxFgqsAVnZlh4L_58-w4Wu_53HT653GO418NRJk6nB3giNSXr37HHqMuyJGR2qg3jLoSqg=='),\n Row(user_id='gAAAAABkJXIvcvtTIUbPgByfMp4GB-qCEfp-ViBJjY2QlU_0ClxxJiV24wTOk2iKmW_PNmuA_0dcdSOb5g-FLUu4M56_ULBVVQ=='),\n Row(user_id='gAAAAABkJXIvVyoIpaBOAP0qWsCWPeBtnFUR6oGydEiv8duc9Q0DHcDfpWv9J3wJN1O2csZgwb0I0ahoVnFk34xrP2Q2ebqh7A=='),\n Row(user_id='gAAAAABkJXIvvCrWnUySeW3TJywPfFSU6lsWVmCKsMHP-0Lv2PYGdsHOaqMfHnXI0JnSBDSjVcqxg-7w-zESZc0kb24PE1RMAQ=='),\n Row(user_id='gAAAAABkJXIv-sVT87BQV-c9Kl7DQK0JbvSSAxf169ojRbchdIvt8oHAiqy7yrP4mdFA-X-cDGVUyPLF9zoE38mGaNRvdhVJqQ=='),\n Row(user_id='gAAAAABkJXIvTnzBah2WPwZT1DIzApDINTjmKc3YQ6PT0riML054OIpA-FEGwsQXZ6FAvxh4Dj6EaYMbn269R19l5kZBBXflAA=='),\n Row(user_id='gAAAAABkJXIvucxwmF2KUZdsUZpYuMqOrDPvfGtI6GQHqjt7qV_9SiK0mFukIJAHYasgyFzUJ7J2JEVYVgOKLt_ewXsEqG1LDg=='),\n Row(user_id='gAAAAABkJXIv8MM3SQFsVOjXJk5As3vEt9LOIqXcBo83qwYUSaghM7KSCCXjNh7fbXynArNwIAGERWub_yaif7EGpcrbMpMmSQ=='),\n Row(user_id='gAAAAABkJXIvDUVf4bNBMiMClo3RGjgFhfiWkylTRlfXZtVTIiUyHTQzybeOtCShXX4ccDzWqpia8ZHe1O13d36Xiz2aUjT4Xw=='),\n Row(user_id='gAAAAABkJXIvABomaUQWqlwRLmhngII2wup1VhQ2Lw-VA6D2f9ZAdBTcp5owAon1rFUuQqVRxjeSCvUi1YJRiTmJUtHgR9AkXQ=='),\n Row(user_id='gAAAAABkJXIv9H5v1v2-U4N9YQqgv9Fch-JXg2rW1rrxBuYja7wmSSKXuR1DCJmnA1UFkbmuSEP5oWt1X0wGtt-3fCCwOgYVcQ=='),\n Row(user_id='gAAAAABkJXIvnItsVdGWJ7Rp9RbLYiNtru6Vybb2EtN7S6IrFR5Eu9tYHP2YNMgc_H7S648X4rXr9yRm4stFj7F7gBwOv831gg=='),\n Row(user_id='gAAAAABkJXIvcdPqrIKh7ZfvBw5OGWz-QQQoOp2On7IazXexrCq0KUYX0o0TkzaAfm0wJ5j8dWw-85pxrTjalz0iiX9oip-qviZrun-5uMiSfguqlaWrIDk='),\n Row(user_id='gAAAAABkJXIvY8r8eb6JCsrydcdugW_DKMQD0zVss4owLUsF8FrdNpM1swXD56PTsBp6Ph7Jh9qZFE7uY05ZL0BKkjvs1EiS4g=='),\n Row(user_id='gAAAAABkJXIvR8yRiwB1DfF5RHW2ykiuxZFTyZyedQIY46D35onvS5a0BVREtgOvsBZkF48Ne-jfKE9wDNEQZEz6fsjwo-PFqw=='),\n Row(user_id='gAAAAABkJXIvlvlVC0ii0cc4KdeR0oLWrCO7jp7zQPl-qW3snCuWUdS0UlGCAg1vzLUPtXsBOJYOKxq1UyG7LrKXrmA1IZZHsg=='),\n Row(user_id='gAAAAABkJXIvTMXUDETwaZMRD-Ha6IXo19T7T7Ggs0ixXiQKZughLzdlhHw9M7VkqN2tIwkpDX6fHgoHGJ0sjDnRFtwBIUG-7w=='),\n Row(user_id='gAAAAABkJXIvi-qBoA9FzlUI--PhWSfePWwtoF9mWSqBVkK8CNjmCYhyejLb3mPl7Pt6YDTqd8SpB6dQWpFNNtMmRLEDcke74w=='),\n Row(user_id='gAAAAABkJXIvNYIyYgsInOtVgeTXzPNHnl2N_jPaso0VMYnuNCvfWenSdynCDYB3QCHACYESynyWA5YGrmsXjocoa7bRkiocQA=='),\n Row(user_id='gAAAAABkJXIv_N6N7ML9vKbH1Is1TJDIWr_FtFrrSYVG9iR49gsG05BsAd-YpI3Y0UNh3TjqMMA1JT0YFZEFR6z5j8VeNmqFtQ=='),\n Row(user_id='gAAAAABkJXIvOmrESKhucljdAhFtFabg1nRWp3WxgVEgQPdwajaH4DJQJhZoOxxAWv2MFRvQwmnHqh_dzgLe9ZlpznYt5wSjSA=='),\n Row(user_id='gAAAAABkJXIvJgWbF-xYBFRp4N0RvLvBM7A8hf9KBQ-R80p9K_RbJnRl_i9vywZ1lU0C1js4ayHIvxN2dv4Xiijhg0YV-Hu_0w=='),\n Row(user_id='gAAAAABkJXIvKwFr3kNWN47EHCyWSaM0goHOkaqWaSoOj5_QYVxNlchaERl5w6dr3QVvcJhWmqXBcInpmLUbwdzosy81cYXm8g=='),\n Row(user_id='gAAAAABkJXIvlw1dH-ATRArWTuYYakvY5x0fT6J5qD5-2jxvClFl5UU36nFCTbkz4ZDlOEe1fjzggP-32vhK8oEs9dyRsRoZpQ=='),\n Row(user_id='gAAAAABkJXIvJkHIrTe0AiflEPhCSeJOQLbgAXrUb5PEX60Jk8W7i7OLcZpiMF-f_5vNEeVHLLD0zOtfkmVkPv7GE3MYlHWyVw=='),\n Row(user_id='gAAAAABkJXIvQ3d-5leru6nyc_kPBK3XWK32lSOXQbwmxJJ8sUWlf22LrWevA_VkqIKR6WHKAteYUClEbcWHkBeMDB6skZI72Q=='),\n Row(user_id='gAAAAABkJXIvLjWodYv3F5dsbhbX1wpwI2GEAjjw2RUvnPJbHbgy-U9GK5O3gGIl34Lyiq-7JpXPlCCP2Tmgiy-lMb6rvvjbipHmmIa6Eh6BHFJ3G205UTw='),\n Row(user_id='gAAAAABkJXIv4rzIgwWjSPwR6wn_kqvyPX8Pqkm1fHjhXxyuPcZkPb6ZgefgMLbS_QnNJCLROO8y_nqxQc5m8iR3oqSW7-HcIw=='),\n Row(user_id='gAAAAABkJXIva6UbfkM_A8kMP0nGlSKbBkBwVnNdJvnzu7HOC2pg9QbnJ8FWKJWi-Zqp5Rb0i36N1d81LK24jPe2yjAJbkLiug=='),\n Row(user_id='gAAAAABkJXIvtnq-G55Y3cwMMpAYLp3IdgkRRfNI9edEcu7VjpdnkEarRXMFygwQuLT-KHqvBDkkC8hkDg-35IwTzL2JrqndSA=='),\n Row(user_id='gAAAAABkJXIv4USF11e9MsU25Nt1ggi-_KJGmzrp19QCVBYgQOX0lsqZgqUvwq9g2vKCkmxb3b6gk7asGsCVkHqcE1JV8Q1IAQ=='),\n Row(user_id='gAAAAABkJXIvkLgxN4lBHObq7lq94tUrO063NWMkmoPt4rhHcvIllK6H3jEMyAihqeaCnIxkhnOSQxl-EAKFMckLXfKyRH0vYA=='),\n Row(user_id='gAAAAABkJXIvzuiJ5JGzdCb_0z62dd-UJpyWjwJoW4BcfISOWDGlP-up___oIW9WkJ2Z8pcBtPnzLCOEucLXpe3rvbENuBq10w=='),\n Row(user_id='gAAAAABkJXIvpv85BvjSP8_xU9NDz1tuYRZToO2mw9vfC4KxsicQhDQUPyMJzhyNvgVa2eQJTHQaCeUYKerq1yFhO66ZSZyfMw=='),\n Row(user_id='gAAAAABkJXIvjyNJPXa8TQwI6pv3h-Y39ciCdpBE_frNjupv49fio1l0V0h-cqZzFbOoo1L_dtvlhfekYIFDHHrTKVwaeKlgnQ=='),\n Row(user_id='gAAAAABkJXIvG6ZrpS6Hh9RUfXpUUxzj2uBbS7SPTwBLMpcu5xH-Awtzu8SCSvcM4KE_jDh98ZcqeH_piplzCMmOXq2yFxl_nw=='),\n Row(user_id='gAAAAABkJXIv_09JX6ol3-8KOXRwCQlnr8Te6yilFDAKj06gbxhpN1aDyMwX4AIo9gce058VPrzE3Azg5lizmDbytw7Kuaw45g=='),\n Row(user_id='gAAAAABkJXIv5f8xBI1wX-9Sol2CIiuoOZRqapXpsE7JoRsLZUuCGzaqCA82PIG6OQd-9Us_whpI94-XRr1ooLBXs7D41p8rEQ=='),\n Row(user_id='gAAAAABkJXIvPFsKEIQIGtMn5mauwJJu3KjCYSZU4vjlY4UREb5DfO7bcqmRMDi_6QXIjE0qC8GLY1MB0SpOF2Vw7_MVwjaMMA=='),\n Row(user_id='gAAAAABkJXIv5SDk_KTa0nqDLDPH8MYlYDZJ04tViStGMyPqwUx-cU_iPhFebJ-LlToXaSovM04e-Bw41CSGua6ksZR3cswWkQ=='),\n Row(user_id='gAAAAABkJXIvi69a5wnDCq0hbwS5vwjc8hl9flQ6lxwD1FR7W8sK7uDoIwIqKiMozaWb3hwExHDVqs83whUFRaOfTBISbzVj4w=='),\n Row(user_id='gAAAAABkJXIvwWfT8Eq9a0pVT-XrWUTCraZoqMH85E360ogRShyaKZc-W4tDJaE0LJcZoJL0XmB_estkjNLLXNpQ4WCsoVZl6g=='),\n Row(user_id='gAAAAABkJXIvdVtkg1zuSEKBbluouIfc3aRgBSjfsnHfVvOqPo1lj86fPClzL9uxPyp3qepuCKWfQbXAXW7b_566KAQMYx57BA=='),\n Row(user_id='gAAAAABkJXIv-kCEga7SXUMKIsT86R2fzRUbdV5g3aBHKuXyOFlTmEoaxkyLIzt1QG-dSlsNZazv6k1322hlxOPb1WiBlnwsiQ=='),\n Row(user_id='gAAAAABkJXIvW_UXxA2rJ7wl0e3r6aI5XHzgWeh1rA89X24qi0BzMrGqBAGuVWjUqY_zMNTinBicT_-ne04vkwIhEuJJk5DnUw=='),\n Row(user_id='gAAAAABkJXIvXQ1IC9ZpzV-DUo0IG6OmVhD96I4Ey1qLOBhe6lPSwpMmWkAunWNw1SREEKVxhtviAy42qrWPEsYAFBbbZgFptg=='),\n Row(user_id='gAAAAABkJXIvI8uwXEOrOd7EFIvJid0-NCS7Q8puSAv2oQcATS9v8Lgo6ocYgNRYiE1HGoR3ZMSaNfMUAvSZAV0EMobxmY4pKg=='),\n Row(user_id='gAAAAABkJXIvWB91vlHSC3qOmYyAEyVuXLffexPxBUeqyKRpIMTDVdkvhMfOpRkQKus56son9nHj2s4n-5JaJeAr2TIFxkyCwg=='),\n Row(user_id='gAAAAABkJXIvgRUULZVpmp-HpOWOVOT4ueaZPW5EgxoRfenezeGyZUCF4JnN6QAHrB3IaWtBw1tkeMSnm42A99Zw6kVw9j0nkg=='),\n Row(user_id='gAAAAABkJXIvuwBDAvlE_HcZJtsuFdnG91BUPaJzlEdWpz_ppytuTcZ7oeZSlGZ8UAFcfWcktBWo_Z7KTntjr-Q5wz9wiN5jdw=='),\n Row(user_id='gAAAAABkJXIvRnTmYXFXyAyQtgwGH_jN5lD1Y1ovQf2MbS9DzWnXsGqnG15YdzzHEcvLJasggwKxxkpm7icVAhBAd8ZD7iR8pA=='),\n Row(user_id='gAAAAABkJXIvTOllyNyMieJSvi_4QdUeLuIFKetsNHz10Rw2oCZEzMyAc-4hoZ3_LgR0BJ-nNn5XQi3tOm4P2p-kKhprVR0AMw=='),\n Row(user_id='gAAAAABkJXIvWghOMkxrjHS0CIX2MSJTmXoKWqdBDThP2v6z6gAH_S374uMQYDPYSqF6h1HH2a0c9o_Lnm51oHoSjpT60C3ZbQ=='),\n Row(user_id='gAAAAABkJXIv3Vt6UvKGUee572mf0js_dpy0KHPZ_SyAoEsfNcuquzwdwlKTwZ9XNY6vDtntmCARJELw26wZoSnhBV4Jluat6w=='),\n Row(user_id='gAAAAABkJXIvGXdydELTGzXO2b59DSMRs7YZCAnLg1VQidX1fcmJpoZQEvKh083bQjUa4in5lrBGXkwdsX4F-A3H5W-bFXiUhQ=='),\n Row(user_id='gAAAAABkJXIvcT93kuLIEy8bV5QYneEA28eYcxlIfbj4wWZc5P-LWbTkh3HeOehuEiTxzIzASTk8yC9j6ssXf5xxxW0QaJ_Q-Q=='),\n Row(user_id='gAAAAABkJXIv3fkDPibzZlIaIS6dOxGCdLtszMw-doz4K1ZoiXAY_KhcCxGE-UIQr9aI764sDhCMEvYdRQrkrO2M9BTTpFvE1g=='),\n Row(user_id='gAAAAABkJXIv7uCg1lDjc1qLM_Gx8sVOdrzWDilTUaeBl-B0Ta05a8_bHLh6UsddjsVhl6BWYAyarWlyyVq3dIIEpCe-Umj_NQ=='),\n Row(user_id='gAAAAABkJXIveX1dQvbnjafFmwLd7WKHof7VEi845yO46LXk3tjkRo7NMxHEoHeGdOZ2d7UwrUne3TnnbH1yDlSVFFvbRFXifw=='),\n Row(user_id='gAAAAABkJXIvHgXGdw0fKHXDlFIMotD7vBr94Pf5tbkFJnJ-Tz75UIH__sv8Sbkn8BE0gMt09AfNkS0Swh99hhLp3sdC9uqlPA=='),\n Row(user_id='gAAAAABkJXIvF1FsWi72QNIcjAk_4DJybTyyp7UO304I5oAcjiPSiX5yuRqGWf_ZkOPmjHnRrW-1zEejqPzvMIpN9Dt6ZLgn1A=='),\n Row(user_id='gAAAAABkJXIvYqL515S5VN6wnIZw3kAg2zQVfnJRpr0q59ZINUrA6vjOYicKkbb6izc0as2mTqhRfBq_5tZC-i3ulDF02l5Vaw=='),\n Row(user_id='gAAAAABkJXIvtuWErV_TUpY4sVJdLgFgkJIaVQcI7v3YPvW1uBNAkbqAF4vaabwDIe-cZSeL4yp4xR6xtxaA8W5MIH_dgOrRpw=='),\n Row(user_id='gAAAAABkJXIvwzyK5MOEihWl4BeKrQG1G96IdxpiUIZD8JxMoePjYmTInCD9AJMc5HKySJeUI-ipgnsBjPy15xINm_N3fu7IzQ=='),\n Row(user_id='gAAAAABkJXIvpXL-Bbjj1w5e5FqUqobpKgnMA993QHXLCrq-IDCNsNiVFpoX4Do1QmVBAjzRNjaq24O0TZlSArSh6Fn0f5nUGQ=='),\n Row(user_id='gAAAAABkJXIvMV167OltltcUURqkzza1ZEI_BfPaCgYSxJptaoCLIHzA-5KuwGLOgNDRyfwzkc4BZ_QyCkmZsIBz7_bjdr_3sQ=='),\n Row(user_id='gAAAAABkJXIvYvOomc9lVlfdYTpoAyJPdjUcjbs2kfyZjs5w_oP1LjyYFOdsPMRsxg59o1e6kI1x2cub_K907yYwutKsqYkbxA=='),\n Row(user_id='gAAAAABkJXIvyal8uvpXOmHCTOBYVtVUZypQvs62lUk0IfVK9eWtLpp843kTQpWJ8spCCEHeSLBnZGZVxuiKOwtk8Xif6YvfvQ=='),\n Row(user_id='gAAAAABkJXIv1TxQnYwrGWNhQyax_xAlrfeKSEfaZPBBbkVkJwzqe_QNDaVX-xdfTJ4HXYB060tewMZO89-28TXuYTMcTWdMCg=='),\n Row(user_id='gAAAAABkJXIv2h3Z2t1vvWZRbpnidjfHe1dolcBaW3hQK-oe2ICNi3zUumIiYea_UcudeeCgTqF7Z9qB0FzV2hf6hGTl8wI_JQ=='),\n Row(user_id='gAAAAABkJXIvPdMqyfaeiRj0dJpO5A7EfuhJAbx8LMmCr6GUX64SZBM6XQv93ixVSqkNZnD0td_oSAsG1wCPq5xDqTWqYEXvkA=='),\n Row(user_id='gAAAAABkJXIv9wkxA7RJiP2j50orLY-Gwqp-O47aI_FQlFjncmVDDBdsIJ-UPzIHFGmFIbEKiyeyHU1G61qWpnE36Q_5krtCFg=='),\n Row(user_id='gAAAAABkJXIvhIvqcESlyWNyhc14c7wbPz3cqIs9RY0KchWXcTXdLib7kTeJpY0NsLnxWFWJYhwx7TtBzIQ84qNrEJCtmXjGmg=='),\n Row(user_id='gAAAAABkJXIvMsnJT4rHmSgY5sySVcUIQGnAFSYTelQ5upofYifzGCoNzgSbKgOeFwBh8rg_NWwuvUnS5t2mwR7LVbPuaG0HZtEeFeZpQ-E8oR4k7ErBv9I='),\n Row(user_id='gAAAAABkJXIvVkMuWatzkmfImRvFshcJcg0xtH_Mko87YGo6TOx33R1pgl4KJotEGx50oFqFu0gIZK9e3XrYuOOvyYXr8d4QBw=='),\n Row(user_id='gAAAAABkJXIvWDgS0fs5_LJnZoyHfUr45kU3Je78qCpKbrwWdhfOp7tZ6QQ-aetuhz3BYrWzlOONF7LQElZOZGlmtXa-_9bugQ=='),\n Row(user_id='gAAAAABkJXIv9MnPJCmqJy_mFnsYf5tLCAPeLs2vBkTvHfP2PP_Q4Cvjw1Q2UtDaSkCVnetKS9cgOW4SJNi40ejHqxlSUoH-uQ=='),\n Row(user_id='gAAAAABkJXIvVeD6NulBBE5ZJq26DBL-Gq18Q-AdW0tk-tAS8q6lKE113oJ6f38Gt_bGLxToyHk8OMiVPQkBT6iiw7momgmaPOty_TDhJ4WfyLl2r7qB_xY='),\n Row(user_id='gAAAAABkJXIvryBEdYWV6YCWz91bxdqywM6tpIlE5-eG5VCStuqhsewjqXVvzgx7UeHefmzdwaJ9lamx9YMBATN6mAe_vN_KbQ=='),\n Row(user_id='gAAAAABkJXIv4RAkORRwt5zqDw9KIhxXz_Bg9oRbdRNl8idXEj2osyNLIBxNsYsLq-9lM9Z94FX1if_lSJ6bFONoj21Juw5pDw=='),\n Row(user_id='gAAAAABkJXIv2meU6sBm1GdD3gCZHbSH-_M8RwCLZNBfgWxSDNbuA7XCYVEO27GIb35k6_26_QP_yXZNzDGTFGewBWxPrJBC4A=='),\n ...]"
     ]
    }
   ],
   "source": [
    "results = df.select(encrypted_udf(col(\"user_id\"),lit(Key)).alias(\"user_id\")).collect()\n",
    "results"
   ]
  },
  {
   "cell_type": "markdown",
   "metadata": {
    "application/vnd.databricks.v1+cell": {
     "cellMetadata": {
      "byteLimit": 2048000,
      "rowLimit": 10000
     },
     "inputWidgets": {},
     "nuid": "20c266e1-20ce-4400-bab5-2c9fd83930b6",
     "showTitle": false,
     "title": ""
    }
   },
   "source": [
    "This looks like it works now! Let's add it as a column."
   ]
  },
  {
   "cell_type": "code",
   "execution_count": 0,
   "metadata": {
    "application/vnd.databricks.v1+cell": {
     "cellMetadata": {
      "byteLimit": 2048000,
      "rowLimit": 10000
     },
     "inputWidgets": {},
     "nuid": "32a7ea42-5565-45a8-a52f-72c4a013897c",
     "showTitle": false,
     "title": ""
    }
   },
   "outputs": [],
   "source": [
    "df = df.withColumn(\"user_id\", encrypted_udf(col('user_id'), lit(Key))) "
   ]
  },
  {
   "cell_type": "code",
   "execution_count": 0,
   "metadata": {
    "application/vnd.databricks.v1+cell": {
     "cellMetadata": {
      "byteLimit": 2048000,
      "rowLimit": 10000
     },
     "inputWidgets": {},
     "nuid": "b7eaf73a-d931-48a1-afa5-80e8916766f7",
     "showTitle": false,
     "title": ""
    }
   },
   "outputs": [
    {
     "output_type": "stream",
     "name": "stdout",
     "output_type": "stream",
     "text": [
      "Out[44]: Row(air_quality_index=200, user_id='gAAAAABkJXI53vDLh6sG6YL-hcO28njzSmK5IP5D1QLqy5j70SJuwxRC_4kTGaIBu7KKt_wxnQahG9q-6r4Rp7cmPNhYFVGNrg==', top_pollutant='PM10', top_pollutant_concentration='88', timestamp='2022-04-07T14:38:34.869188', lat=10.666680335998535, long=-61.518890380859375, city='Port of Spain', country='TT', timezone='America/Port_of_Spain', air_quality_category=4, hashed_user_id='ef0e8649d9000ff22cc5cb5b57a4fe8fe5d6782f74ef640d4d1da317c7aa4fba')"
     ]
    }
   ],
   "source": [
    "df.head()"
   ]
  },
  {
   "cell_type": "markdown",
   "metadata": {
    "application/vnd.databricks.v1+cell": {
     "cellMetadata": {
      "byteLimit": 2048000,
      "rowLimit": 10000
     },
     "inputWidgets": {},
     "nuid": "b9d3f15b-b55f-4cfa-847f-9d0c17624d1b",
     "showTitle": false,
     "title": ""
    }
   },
   "source": [
    "Also we could write a function to decrypt."
   ]
  },
  {
   "cell_type": "code",
   "execution_count": 0,
   "metadata": {
    "application/vnd.databricks.v1+cell": {
     "cellMetadata": {
      "byteLimit": 2048000,
      "rowLimit": 10000
     },
     "inputWidgets": {},
     "nuid": "37e3f691-b2cd-4ed3-b8d0-30fb845d4584",
     "showTitle": false,
     "title": ""
    }
   },
   "outputs": [],
   "source": [
    "# Define decrypt user defined function \n",
    "def decrypt_user_id(cipher_text,MASTER_KEY):\n",
    "    from cryptography.fernet import Fernet\n",
    "    f = Fernet(MASTER_KEY)\n",
    "    clear_val=f.decrypt(cipher_text.encode()).decode()\n",
    "    return clear_val"
   ]
  },
  {
   "cell_type": "code",
   "execution_count": 0,
   "metadata": {
    "application/vnd.databricks.v1+cell": {
     "cellMetadata": {
      "byteLimit": 2048000,
      "rowLimit": 10000
     },
     "inputWidgets": {},
     "nuid": "0cd428f2-bad4-4613-9f5e-7109a4c255a7",
     "showTitle": false,
     "title": ""
    }
   },
   "outputs": [
    {
     "output_type": "stream",
     "name": "stdout",
     "output_type": "stream",
     "text": [
      "Out[46]: Row(air_quality_index=200, user_id='maynardmorgan', top_pollutant='PM10', top_pollutant_concentration='88', timestamp='2022-04-07T14:38:34.869188', lat=10.666680335998535, long=-61.518890380859375, city='Port of Spain', country='TT', timezone='America/Port_of_Spain', air_quality_category=4, hashed_user_id='ef0e8649d9000ff22cc5cb5b57a4fe8fe5d6782f74ef640d4d1da317c7aa4fba')"
     ]
    }
   ],
   "source": [
    "decrypted_udf = udf(decrypt_user_id, StringType())\n",
    "dec_df = df.withColumn(\"user_id\", decrypted_udf(col('user_id'), lit(Key))) \n",
    "dec_df.head()"
   ]
  },
  {
   "cell_type": "markdown",
   "metadata": {
    "application/vnd.databricks.v1+cell": {
     "cellMetadata": {
      "byteLimit": 2048000,
      "rowLimit": 10000
     },
     "inputWidgets": {},
     "nuid": "a2a7797b-0ab2-4181-bf23-6ee8b982e701",
     "showTitle": false,
     "title": ""
    }
   },
   "source": [
    "# Format-Preserving Encryption"
   ]
  },
  {
   "cell_type": "markdown",
   "metadata": {
    "application/vnd.databricks.v1+cell": {
     "cellMetadata": {
      "byteLimit": 2048000,
      "rowLimit": 10000
     },
     "inputWidgets": {},
     "nuid": "ecbcf314-272a-401b-84d7-1b26be04216f",
     "showTitle": false,
     "title": ""
    }
   },
   "source": [
    "### What is FPE?\n",
    "\n",
    "Format-preserving encryption (FPE) is the process of encrypting data in such a way that the output (ciphertext) remains in the same format as the input (plaintext). The meaning of “format” varies. Typically only finite sets of characters are used; numeric, alphabetic or alphanumeric. \n",
    "\n",
    "For example:\n",
    "\n",
    "- A 9-digit social security number is encrypted into a 9-digit ciphertext string\n",
    "- A 16-digit credit card number is encrypted into a 16-digit ciphertext string\n",
    "- A 10-digit phone number is encrypted into a 10-digit ciphertext string\n",
    "\n",
    "Reference : https://www.ubiqsecurity.com/what-is-format-preserving-encryption-fpe-and-its-benefits%EF%BF%BC/"
   ]
  },
  {
   "cell_type": "code",
   "execution_count": 0,
   "metadata": {
    "application/vnd.databricks.v1+cell": {
     "cellMetadata": {
      "byteLimit": 2048000,
      "rowLimit": 10000
     },
     "inputWidgets": {},
     "nuid": "8e8e93a7-4f83-487d-a7db-86329b063e05",
     "showTitle": false,
     "title": ""
    }
   },
   "outputs": [
    {
     "output_type": "stream",
     "name": "stdout",
     "output_type": "stream",
     "text": [
      "Out[47]: 'acbacc'"
     ]
    }
   ],
   "source": [
    "# pyffx is a pure Python implementation of Format-preserving, Feistel-based encryption (FFX).\n",
    "# Example code to show how pyffx works and encrypts a string. \n",
    "import pyffx\n",
    "e = pyffx.String(b'secret-key', alphabet='abc', length=6)\n",
    "e.encrypt('aaabbb')"
   ]
  },
  {
   "cell_type": "code",
   "execution_count": 0,
   "metadata": {
    "application/vnd.databricks.v1+cell": {
     "cellMetadata": {
      "byteLimit": 2048000,
      "rowLimit": 10000
     },
     "inputWidgets": {},
     "nuid": "08d506b6-350d-447b-99be-55bf6b0bfa3d",
     "showTitle": false,
     "title": ""
    }
   },
   "outputs": [
    {
     "output_type": "stream",
     "name": "stdout",
     "output_type": "stream",
     "text": [
      "Out[48]: 'aaabbb'"
     ]
    }
   ],
   "source": [
    "e.decrypt('acbacc')"
   ]
  },
  {
   "cell_type": "markdown",
   "metadata": {
    "application/vnd.databricks.v1+cell": {
     "cellMetadata": {
      "byteLimit": 2048000,
      "rowLimit": 10000
     },
     "inputWidgets": {},
     "nuid": "63acbdb1-9a21-457f-a36b-d4cf73646095",
     "showTitle": false,
     "title": ""
    }
   },
   "source": [
    "## Exercise 6 - Define Format Preserving Encryption Function"
   ]
  },
  {
   "cell_type": "markdown",
   "metadata": {
    "application/vnd.databricks.v1+cell": {
     "cellMetadata": {
      "byteLimit": 2048000,
      "rowLimit": 10000
     },
     "inputWidgets": {},
     "nuid": "f3241e12-eb20-4bdb-b93d-75b117c05e1e",
     "showTitle": false,
     "title": ""
    }
   },
   "source": [
    "Using the Format Preserving Encryption, we are now technically leaking length information... which we could determine is okay, so long as access to this data and the real data is fairly controlled. \n",
    "We could also say that we want to by default add padding to every username to make them consistent."
   ]
  },
  {
   "cell_type": "code",
   "execution_count": 0,
   "metadata": {
    "application/vnd.databricks.v1+cell": {
     "cellMetadata": {
      "byteLimit": 2048000,
      "rowLimit": 10000
     },
     "inputWidgets": {},
     "nuid": "11caf936-9656-4b4e-a31b-ddd947ff82b3",
     "showTitle": false,
     "title": ""
    }
   },
   "outputs": [
    {
     "output_type": "display_data",
     "data": {
      "text/plain": [
       "\u001B[0;36m  File \u001B[0;32m\"<command-2617513078609915>\"\u001B[0;36m, line \u001B[0;32m13\u001B[0m\n\u001B[0;31m    \u001B[0m\n\u001B[0m    ^\u001B[0m\n\u001B[0;31mIndentationError\u001B[0m\u001B[0;31m:\u001B[0m expected an indented block\n"
      ]
     },
     "metadata": {
      "application/vnd.databricks.v1+output": {
       "arguments": {},
       "data": "\u001B[0;36m  File \u001B[0;32m\"<command-2617513078609915>\"\u001B[0;36m, line \u001B[0;32m13\u001B[0m\n\u001B[0;31m    \u001B[0m\n\u001B[0m    ^\u001B[0m\n\u001B[0;31mIndentationError\u001B[0m\u001B[0;31m:\u001B[0m expected an indented block\n",
       "errorSummary": "<span class='ansi-red-fg'>IndentationError</span>: expected an indented block (<command-2617513078609915>, line 13)",
       "errorTraceType": "ansi",
       "metadata": {},
       "type": "ipynbError"
      }
     },
     "output_type": "display_data"
    }
   ],
   "source": [
    "from pyspark.sql.functions import udf, col\n",
    "from pyspark.sql.types import StringType\n",
    "import pyffx\n",
    "\n",
    "def add_padding(value):\n",
    "    if len(value) < 6:\n",
    "        value += \"X\" * (6-len(value))\n",
    "    return value\n",
    "\n",
    "def ffx_encrypt(key, value):\n",
    "#     TODO : Add padding to the value and perform format preserving encryption\n",
    "\n",
    "\n"
   ]
  },
  {
   "cell_type": "code",
   "execution_count": 0,
   "metadata": {
    "application/vnd.databricks.v1+cell": {
     "cellMetadata": {
      "byteLimit": 2048000,
      "rowLimit": 10000
     },
     "inputWidgets": {},
     "nuid": "35ea3abe-c659-4e04-ad31-8525c5b8ef26",
     "showTitle": false,
     "title": ""
    }
   },
   "outputs": [],
   "source": [
    "#Solution\n",
    "from pyspark.sql.functions import udf, col\n",
    "from pyspark.sql.types import StringType\n",
    "import pyffx\n",
    "\n",
    "def add_padding(value):\n",
    "    if len(value) < 6:\n",
    "        value += \"X\" * (6-len(value))\n",
    "    return value\n",
    "\n",
    "def ffx_encrypt(key, value):\n",
    "    padded_value = add_padding(value)\n",
    "    ffx = pyffx.String(key.encode(), alphabet='abcdefghijklmnopqrstuvwxyz0123456789ABCDEFGHIJKLMNOPQRSTUVWXYZ', length=len(padded_value))\n",
    "    return ffx.encrypt(padded_value)"
   ]
  },
  {
   "cell_type": "code",
   "execution_count": 0,
   "metadata": {
    "application/vnd.databricks.v1+cell": {
     "cellMetadata": {
      "byteLimit": 2048000,
      "rowLimit": 10000
     },
     "inputWidgets": {},
     "nuid": "444bed13-d8ac-4bd5-90e9-98509807daa0",
     "showTitle": false,
     "title": ""
    }
   },
   "outputs": [],
   "source": [
    "def fpe_encrypt_column(df, column_name, key):\n",
    "    ffx_udf = udf(lambda x: ffx_encrypt(key, x), StringType())\n",
    "    df = df.withColumn(\"fpe_encrypted_\" + column_name, ffx_udf(col(column_name)))\n",
    "    return df"
   ]
  },
  {
   "cell_type": "code",
   "execution_count": 0,
   "metadata": {
    "application/vnd.databricks.v1+cell": {
     "cellMetadata": {
      "byteLimit": 2048000,
      "rowLimit": 10000
     },
     "inputWidgets": {},
     "nuid": "6fa9730f-8abd-4b7e-8ab0-fa1b656bcc4c",
     "showTitle": false,
     "title": ""
    }
   },
   "outputs": [
    {
     "output_type": "stream",
     "name": "stdout",
     "output_type": "stream",
     "text": [
      "All tests passed :)\n"
     ]
    }
   ],
   "source": [
    "from pyspark.sql.functions import lit\n",
    "from pyspark.sql.types import StructType, StructField, StringType\n",
    "from pyspark.sql import Row\n",
    "\n",
    "def test_fpe_encrpyt_column():\n",
    "    schema = StructType([\n",
    "        StructField(\"id\", StringType()),\n",
    "        StructField(\"name\", StringType())\n",
    "    ])\n",
    "    data = [\n",
    "        Row(\"1\", \"John\"),\n",
    "        Row(\"2\", \"Jane\"),\n",
    "        Row(\"3\", \"Bob\"),\n",
    "        Row(\"4\", \"Alice\")\n",
    "    ]\n",
    "    expected_schema = StructType([\n",
    "        StructField(\"id\", StringType()),\n",
    "        StructField(\"name\", StringType()),\n",
    "        StructField(\"fpe_encrypted_name\", StringType())\n",
    "    ])\n",
    "    expected_result = [\n",
    "        ('1', \"John\", \"pYzuM5\"),\n",
    "        ('2', \"Jane\", \"Vlqeg2\"),\n",
    "        ('3', \"Bob\", \"BCDYUh\"),\n",
    "        ('4', \"Alice\", \"Wn9JRa\")\n",
    "    ]\n",
    "    df = spark.createDataFrame(data, schema)\n",
    "    expected_df = spark.createDataFrame(expected_result, expected_schema)\n",
    "    key = 'secret_key'\n",
    "    \n",
    "    encrypted_df = fpe_encrypt_column(df, 'name', key)\n",
    "\n",
    "    assert encrypted_df.collect() == expected_df.collect() , \"The user_id column has to be encrypted after the encryption logic applied\" \n",
    "    print(\"All tests passed :)\")\n",
    "    \n",
    "test_fpe_encrpyt_column()"
   ]
  },
  {
   "cell_type": "code",
   "execution_count": 0,
   "metadata": {
    "application/vnd.databricks.v1+cell": {
     "cellMetadata": {
      "byteLimit": 2048000,
      "rowLimit": 10000
     },
     "inputWidgets": {},
     "nuid": "4fa6a49b-71d7-44b5-8a4f-830a284a2571",
     "showTitle": false,
     "title": ""
    }
   },
   "outputs": [],
   "source": [
    "key = \"mysecretkey\"\n",
    "new_df = fpe_encrypt_column(new_df, \"user_id\", key)"
   ]
  },
  {
   "cell_type": "code",
   "execution_count": 0,
   "metadata": {
    "application/vnd.databricks.v1+cell": {
     "cellMetadata": {
      "byteLimit": 2048000,
      "rowLimit": 10000
     },
     "inputWidgets": {},
     "nuid": "db01e976-4dcd-4f63-8b11-8011340339ef",
     "showTitle": false,
     "title": ""
    }
   },
   "outputs": [
    {
     "output_type": "stream",
     "name": "stdout",
     "output_type": "stream",
     "text": [
      "+-----------------+----------------+-------------+---------------------------+--------------------+---------+---------+-------------------+-------+--------------------+--------------------+--------------------+---------------------+\n|air_quality_index|         user_id|top_pollutant|top_pollutant_concentration|           timestamp|      lat|     long|               city|country|            timezone|air_quality_category|      hashed_user_id|fpe_encrypted_user_id|\n+-----------------+----------------+-------------+---------------------------+--------------------+---------+---------+-------------------+-------+--------------------+--------------------+--------------------+---------------------+\n|              200|   maynardmorgan|         PM10|                         88|2022-04-07T14:38:...| 10.66668|-61.51889|      Port of Spain|     TT|America/Port_of_S...|                   4|ef0e8649d9000ff22...|        2JBEWtuqwxPdZ|\n|              200|millerjacqueline|         PM10|                         45|2022-04-07T14:39:...| 34.25628|-78.04471|             Leland|     US|    America/New_York|                   4|3ed407ff320fa7e1c...|     l0A6zxVgFtUfoLPf|\n|                0|           ikirk|          NO2|                         31|2022-04-07T14:39:...| 43.48961|  -8.2194|             Ferrol|     ES|       Europe/Madrid|                   1|d6dc43d1eddaf86a3...|               W9PqVu|\n|              300| williamszachary|           CO|                         15|2022-04-07T14:40:...| 42.06166| -1.60452|             Tudela|     ES|       Europe/Madrid|                   5|2d52a80f1269fa45a...|      YzAGa23KJD4PFc1|\n|              280|        sfarrell|        PM2.5|                         62|2022-04-07T14:41:...|   -28.24|-48.67028|           Imbituba|     BR|   America/Sao_Paulo|                   5|199fbb0cf17446f7b...|             zRoyPnUX|\n|               20|     mariamartin|           CO|                          9|2022-04-07T14:41:...| 51.40944| 46.04833|       Privolzhskiy|     RU|      Europe/Saratov|                   1|844263bdd99411a71...|          cNZk6NAdE4E|\n|               80|   michaelfuller|           CO|                         99|2022-04-07T14:42:...| 53.30972| 83.62389|     Novosilikatnyy|     RU|        Asia/Barnaul|                   2|2b2092ab6ecde8454...|        CF1wfgrWlOwck|\n|              100|       acummings|          SO2|                         32|2022-04-07T14:43:...| 52.53048| 13.29371|Charlottenburg-Nord|     DE|       Europe/Berlin|                   2|7d686f976893f470a...|            EVZihMoqP|\n|              140|    glorialandry|          NO2|                         77|2022-04-07T14:43:...| 37.13548| -3.67029|         Las Gabias|     ES|       Europe/Madrid|                   3|f0cdc51de348d6ad2...|         oFK8y9UvSeAq|\n|               60|      martinjohn|           O3|                         73|2022-04-07T14:44:...|  5.30383| -1.98956|             Tarkwa|     GH|        Africa/Accra|                   2|15be00a1fb4b128a6...|           zbG0lfA6ga|\n|              360|  karenmaldonado|           O3|                          7|2022-04-07T14:45:...| 46.65581|  32.6178|            Kherson|     UA|         Europe/Kiev|                   6|e4868e74cb3abef3e...|       Xs4VynDMrYndyO|\n|               60|     aaronholden|        PM2.5|                         44|2022-04-07T14:46:...| 42.22718| 14.39024|           Lanciano|     IT|         Europe/Rome|                   2|e9f84ce09b08c6279...|          44nL4ZzkzZv|\n|              240|        johnny58|         PM10|                         29|2022-04-07T14:46:...|-22.53722|-42.98194|         Guapimirim|     BR|   America/Sao_Paulo|                   5|812e1d4421f0b8fdf...|             z707KKqe|\n|              220|   sanderssummer|        PM2.5|                         62|2022-04-07T14:47:...| 40.87329| 14.43865|    Somma Vesuviana|     IT|         Europe/Rome|                   5|8347a519499114eb9...|        QPi0zRINhxdka|\n|              200|   bradleymosley|           CO|                         11|2022-04-07T14:47:...|  3.51667|     11.5|           Mbalmayo|     CM|       Africa/Douala|                   4|302198479d636635f...|        6HriH18laQHRQ|\n|               20|   atkinsrussell|          SO2|                         77|2022-04-07T14:48:...| 49.03685|  8.70745|            Bretten|     DE|       Europe/Berlin|                   1|070206423832ef1e9...|        ZWrHYDXaA9UIi|\n|                0|          hlewis|          NO2|                         80|2022-04-07T14:49:...|  53.0233| -1.48119|             Belper|     GB|       Europe/London|                   1|a6b7474c78c8c6af2...|               47lb7h|\n|              180|  crystalcarlson|          NO2|                         25|2022-04-07T14:49:...| 54.58048| 16.86194|              Ustka|     PL|       Europe/Warsaw|                   4|d724eeabf5cff077a...|       xpOpSCwiTkpg8L|\n|              220|        sharon04|         PM10|                         43|2022-04-07T14:50:...| 39.71734|-74.96933|       Sicklerville|     US|    America/New_York|                   5|66a77bd4cca8dbded...|             0AWWEqM0|\n|              120|        tjohnson|        PM2.5|                         43|2022-04-07T14:51:...|  19.8173|-97.35992|          Teziutlan|     MX| America/Mexico_City|                   3|25b7dc49e6bd18e1d...|             pCUjid6P|\n+-----------------+----------------+-------------+---------------------------+--------------------+---------+---------+-------------------+-------+--------------------+--------------------+--------------------+---------------------+\nonly showing top 20 rows\n\n"
     ]
    }
   ],
   "source": [
    "new_df.show()"
   ]
  },
  {
   "cell_type": "markdown",
   "metadata": {
    "application/vnd.databricks.v1+cell": {
     "cellMetadata": {
      "byteLimit": 2048000,
      "rowLimit": 10000
     },
     "inputWidgets": {},
     "nuid": "9ee019e7-414c-4c71-a018-6a838959227b",
     "showTitle": false,
     "title": ""
    }
   },
   "source": [
    "# Format-Preserving Decryption"
   ]
  },
  {
   "cell_type": "markdown",
   "metadata": {
    "application/vnd.databricks.v1+cell": {
     "cellMetadata": {
      "byteLimit": 2048000,
      "rowLimit": 10000
     },
     "inputWidgets": {},
     "nuid": "8cb36727-d2ec-4fcf-869d-4178b82ea4e2",
     "showTitle": false,
     "title": ""
    }
   },
   "source": [
    "## Exercise 7 - Define Format Preserving Decryption Function"
   ]
  },
  {
   "cell_type": "code",
   "execution_count": 0,
   "metadata": {
    "application/vnd.databricks.v1+cell": {
     "cellMetadata": {
      "byteLimit": 2048000,
      "rowLimit": 10000
     },
     "inputWidgets": {},
     "nuid": "e5774558-2a86-4fb2-9464-79beac6836fd",
     "showTitle": false,
     "title": ""
    }
   },
   "outputs": [
    {
     "output_type": "display_data",
     "data": {
      "text/plain": [
       "\u001B[0;36m  File \u001B[0;32m\"<command-2617513078609922>\"\u001B[0;36m, line \u001B[0;32m2\u001B[0m\n\u001B[0;31m    #     TODO\u001B[0m\n\u001B[0m              ^\u001B[0m\n\u001B[0;31mIndentationError\u001B[0m\u001B[0;31m:\u001B[0m expected an indented block\n"
      ]
     },
     "metadata": {
      "application/vnd.databricks.v1+output": {
       "arguments": {},
       "data": "\u001B[0;36m  File \u001B[0;32m\"<command-2617513078609922>\"\u001B[0;36m, line \u001B[0;32m2\u001B[0m\n\u001B[0;31m    #     TODO\u001B[0m\n\u001B[0m              ^\u001B[0m\n\u001B[0;31mIndentationError\u001B[0m\u001B[0;31m:\u001B[0m expected an indented block\n",
       "errorSummary": "<span class='ansi-red-fg'>IndentationError</span>: expected an indented block (<command-2617513078609922>, line 2)",
       "errorTraceType": "ansi",
       "metadata": {},
       "type": "ipynbError"
      }
     },
     "output_type": "display_data"
    }
   ],
   "source": [
    "def ffx_decrypt(key, value):\n",
    "#     TODO"
   ]
  },
  {
   "cell_type": "code",
   "execution_count": 0,
   "metadata": {
    "application/vnd.databricks.v1+cell": {
     "cellMetadata": {
      "byteLimit": 2048000,
      "rowLimit": 10000
     },
     "inputWidgets": {},
     "nuid": "597b5511-df0d-47b0-8931-f71b7b2ce2d0",
     "showTitle": false,
     "title": ""
    }
   },
   "outputs": [],
   "source": [
    "#Solution\n",
    "def ffx_decrypt(key, value):\n",
    "    ffx = pyffx.String(key.encode(), alphabet='abcdefghijklmnopqrstuvwxyz0123456789ABCDEFGHIJKLMNOPQRSTUVWXYZ', length=len(value))\n",
    "    return ffx.decrypt(value)"
   ]
  },
  {
   "cell_type": "code",
   "execution_count": 0,
   "metadata": {
    "application/vnd.databricks.v1+cell": {
     "cellMetadata": {
      "byteLimit": 2048000,
      "rowLimit": 10000
     },
     "inputWidgets": {},
     "nuid": "a341992a-3923-4572-b430-b7db99c9a842",
     "showTitle": false,
     "title": ""
    }
   },
   "outputs": [],
   "source": [
    "def fpe_decrypt_column(df, column_name, key):\n",
    "    ffx_udf = udf(lambda x: ffx_decrypt(key, x), StringType())\n",
    "    df = df.withColumn(\"fpe_decrypted_user_id\", ffx_udf(col(column_name)))\n",
    "    return df"
   ]
  },
  {
   "cell_type": "code",
   "execution_count": 0,
   "metadata": {
    "application/vnd.databricks.v1+cell": {
     "cellMetadata": {
      "byteLimit": 2048000,
      "rowLimit": 10000
     },
     "inputWidgets": {},
     "nuid": "81811dfa-7562-4770-b35d-b75919e6b1b3",
     "showTitle": false,
     "title": ""
    }
   },
   "outputs": [
    {
     "output_type": "stream",
     "name": "stdout",
     "output_type": "stream",
     "text": [
      "All tests passed :)\n"
     ]
    }
   ],
   "source": [
    "from pyspark.sql import SparkSession, Row\n",
    "from pyspark.sql.functions import col\n",
    "from pyspark.sql.types import StringType\n",
    "\n",
    "def test_fpe_decrypt_column():\n",
    "    schema = StructType([\n",
    "        StructField(\"id\", StringType()),\n",
    "        StructField(\"fpe_encrypted_user_id\", StringType())\n",
    "    ])\n",
    "    data = [\n",
    "        Row('1', \"pYzuM5\"),\n",
    "        Row('2', \"Vlqeg2\"),\n",
    "        Row('3', \"BCDYUh\"),\n",
    "        Row('4', \"Wn9JRa\")\n",
    "    ]\n",
    "    expected_schema = StructType([\n",
    "        StructField(\"id\", StringType()),\n",
    "        StructField(\"fpe_encrypted_user_id\", StringType()),\n",
    "        StructField(\"fpe_decrypted_user_id\", StringType()),\n",
    "    ])\n",
    "    expected_data = [\n",
    "        Row(\"1\", \"pYzuM5\", \"JohnXX\"),\n",
    "        Row(\"2\", \"Vlqeg2\", \"JaneXX\"),\n",
    "        Row(\"3\", \"BCDYUh\", \"BobXXX\"),\n",
    "        Row(\"4\", \"Wn9JRa\", \"AliceX\")\n",
    "    ]\n",
    "    df = spark.createDataFrame(data, schema)\n",
    "    expected_df = spark.createDataFrame(expected_data, expected_schema)\n",
    "    key = 'secret_key'\n",
    "\n",
    "    decrypted_df = fpe_decrypt_column(df, \"fpe_encrypted_user_id\",key)\n",
    "\n",
    "    assert decrypted_df.schema == expected_df.schema\n",
    "    assert decrypted_df.collect() == expected_df.collect()\n",
    "    \n",
    "    print(\"All tests passed :)\")\n",
    "test_fpe_decrypt_column()"
   ]
  },
  {
   "cell_type": "code",
   "execution_count": 0,
   "metadata": {
    "application/vnd.databricks.v1+cell": {
     "cellMetadata": {
      "byteLimit": 2048000,
      "rowLimit": 10000
     },
     "inputWidgets": {},
     "nuid": "d934a299-1dfb-49f5-b65f-d6da8f40fd54",
     "showTitle": false,
     "title": ""
    }
   },
   "outputs": [
    {
     "output_type": "stream",
     "name": "stdout",
     "output_type": "stream",
     "text": [
      "+----------------+---------------------+\n|         user_id|fpe_decrypted_user_id|\n+----------------+---------------------+\n|   maynardmorgan|        maynardmorgan|\n|millerjacqueline|     millerjacqueline|\n|           ikirk|               ikirkX|\n| williamszachary|      williamszachary|\n|        sfarrell|             sfarrell|\n|     mariamartin|          mariamartin|\n|   michaelfuller|        michaelfuller|\n|       acummings|            acummings|\n|    glorialandry|         glorialandry|\n|      martinjohn|           martinjohn|\n|  karenmaldonado|       karenmaldonado|\n|     aaronholden|          aaronholden|\n|        johnny58|             johnny58|\n|   sanderssummer|        sanderssummer|\n|   bradleymosley|        bradleymosley|\n|   atkinsrussell|        atkinsrussell|\n|          hlewis|               hlewis|\n|  crystalcarlson|       crystalcarlson|\n|        sharon04|             sharon04|\n|        tjohnson|             tjohnson|\n+----------------+---------------------+\nonly showing top 20 rows\n\n"
     ]
    }
   ],
   "source": [
    "df_decrypted = fpe_decrypt_column(new_df ,\"fpe_encrypted_user_id\", key)\n",
    "df_decrypted.select(\"user_id\", \"fpe_decrypted_user_id\").show()"
   ]
  },
  {
   "cell_type": "markdown",
   "metadata": {
    "application/vnd.databricks.v1+cell": {
     "cellMetadata": {},
     "inputWidgets": {},
     "nuid": "f70da94f-d79a-4a82-9321-c5f333fdd688",
     "showTitle": false,
     "title": ""
    }
   },
   "source": [
    "This would be a good homework exercise to write a function to decrypt which also removes padding!!. One challenge, what happens if the username ends in X???"
   ]
  },
  {
   "cell_type": "markdown",
   "metadata": {
    "application/vnd.databricks.v1+cell": {
     "cellMetadata": {
      "byteLimit": 2048000,
      "rowLimit": 10000
     },
     "inputWidgets": {},
     "nuid": "9c1a7e7b-0838-4b1c-8663-ff1d9fc7bf2c",
     "showTitle": false,
     "title": ""
    }
   },
   "source": [
    "Now we can move onto our GPS data!\n",
    "\n",
    "How precise is GPS data anyways? 🤔 (from [wikipedia](https://en.wikipedia.org/wiki/Decimal_degrees))\n",
    "\n",
    "\n",
    "decimal places  | degrees  |distance\n",
    "------- | -------          |--------\n",
    "0        |1                |111  km\n",
    "1        |0.1              |11.1 km\n",
    "2        |0.01             |1.11 km\n",
    "3        |0.001            |111  m\n",
    "4        |0.0001           |11.1 m\n",
    "5        |0.00001          |1.11 m\n",
    "6        |0.000001         |11.1 cm\n",
    "7        |0.0000001        |1.11 cm\n",
    "8        |0.00000001       |1.11 mm"
   ]
  },
  {
   "cell_type": "code",
   "execution_count": 0,
   "metadata": {
    "application/vnd.databricks.v1+cell": {
     "cellMetadata": {
      "byteLimit": 2048000,
      "rowLimit": 10000
     },
     "inputWidgets": {},
     "nuid": "765bd860-0fd6-4c6f-9741-c405ee9b8c2f",
     "showTitle": false,
     "title": ""
    }
   },
   "outputs": [
    {
     "output_type": "stream",
     "name": "stdout",
     "output_type": "stream",
     "text": [
      "-RECORD 0-------------------------------------------\n air_quality_index           | 200                  \n user_id                     | gAAAAABkJXJ4PWYsL... \n top_pollutant               | PM10                 \n top_pollutant_concentration | 88                   \n timestamp                   | 2022-04-07T14:38:... \n lat                         | 10.66668             \n long                        | -61.51889            \n city                        | Port of Spain        \n country                     | TT                   \n timezone                    | America/Port_of_S... \n air_quality_category        | 4                    \n hashed_user_id              | ef0e8649d9000ff22... \n-RECORD 1-------------------------------------------\n air_quality_index           | 200                  \n user_id                     | gAAAAABkJXJ4ENAcD... \n top_pollutant               | PM10                 \n top_pollutant_concentration | 45                   \n timestamp                   | 2022-04-07T14:39:... \n lat                         | 34.25628             \n long                        | -78.04471            \n city                        | Leland               \n country                     | US                   \n timezone                    | America/New_York     \n air_quality_category        | 4                    \n hashed_user_id              | 3ed407ff320fa7e1c... \nonly showing top 2 rows\n\n"
     ]
    }
   ],
   "source": [
    "df.show(2, vertical=True)"
   ]
  },
  {
   "cell_type": "markdown",
   "metadata": {
    "application/vnd.databricks.v1+cell": {
     "cellMetadata": {
      "byteLimit": 2048000,
      "rowLimit": 10000
     },
     "inputWidgets": {},
     "nuid": "1484d325-e30f-4722-abc9-edd980b6e110",
     "showTitle": false,
     "title": ""
    }
   },
   "source": [
    "To reduce precision in Spark, take a look at F.pys_round !"
   ]
  },
  {
   "cell_type": "markdown",
   "metadata": {
    "application/vnd.databricks.v1+cell": {
     "cellMetadata": {
      "byteLimit": 2048000,
      "rowLimit": 10000
     },
     "inputWidgets": {},
     "nuid": "a6bf30b7-380c-4a52-9c2e-820624265624",
     "showTitle": false,
     "title": ""
    }
   },
   "source": [
    "## Exercise 8 - To reduce column precision"
   ]
  },
  {
   "cell_type": "code",
   "execution_count": 0,
   "metadata": {
    "application/vnd.databricks.v1+cell": {
     "cellMetadata": {
      "byteLimit": 2048000,
      "rowLimit": 10000
     },
     "inputWidgets": {},
     "nuid": "353bc260-b3e0-4642-9362-924213fb10e2",
     "showTitle": false,
     "title": ""
    }
   },
   "outputs": [],
   "source": [
    "#TODO reduce precision for the lat and long columns!\n",
    "def remove_column_precision(df,column_name):\n",
    "    #TODO\n",
    "    pass"
   ]
  },
  {
   "cell_type": "code",
   "execution_count": 0,
   "metadata": {
    "application/vnd.databricks.v1+cell": {
     "cellMetadata": {
      "byteLimit": 2048000,
      "rowLimit": 10000
     },
     "inputWidgets": {},
     "nuid": "04ecf232-f74a-44e9-b230-56fbf8c172d5",
     "showTitle": false,
     "title": ""
    }
   },
   "outputs": [],
   "source": [
    "#Solution\n",
    "def remove_column_precision(df,column_name):\n",
    "    return df.withColumn(column_name, F.round(column_name, 3))"
   ]
  },
  {
   "cell_type": "code",
   "execution_count": 0,
   "metadata": {
    "application/vnd.databricks.v1+cell": {
     "cellMetadata": {
      "byteLimit": 2048000,
      "rowLimit": 10000
     },
     "inputWidgets": {},
     "nuid": "806be8b4-4d5d-4230-a01c-a585d45f7607",
     "showTitle": false,
     "title": ""
    }
   },
   "outputs": [
    {
     "output_type": "stream",
     "name": "stdout",
     "output_type": "stream",
     "text": [
      "All tests passed :)\n"
     ]
    }
   ],
   "source": [
    "def test_remove_column_precision():\n",
    "  pandas_df = pd.DataFrame(\n",
    "      {\n",
    "          'id':  pd.Series([1, 2, 3]),\n",
    "          'lat': pd.Series([40.1234567, 42.9876543, 45.67890]),\n",
    "      }\n",
    "  )\n",
    "  expected_pandas_df = pd.DataFrame(\n",
    "      {\n",
    "          'id':  pd.Series([1, 2, 3]),\n",
    "          'lat': pd.Series([40.123, 42.988, 45.679]),\n",
    "      }\n",
    "  )\n",
    "  spark_df = spark.createDataFrame(pandas_df)\n",
    "  expected_df = spark.createDataFrame(expected_pandas_df)\n",
    "\n",
    "  fixed_df = remove_column_precision(spark_df,'lat')\n",
    "\n",
    "  assert fixed_df.schema == expected_df.schema\n",
    "  assert fixed_df.collect() == expected_df.collect()\n",
    "\n",
    "  print(\"All tests passed :)\")\n",
    "  \n",
    "test_remove_column_precision()"
   ]
  },
  {
   "cell_type": "markdown",
   "metadata": {
    "application/vnd.databricks.v1+cell": {
     "cellMetadata": {
      "byteLimit": 2048000,
      "rowLimit": 10000
     },
     "inputWidgets": {},
     "nuid": "c7d8b083-9f34-45db-82fe-3647831f7289",
     "showTitle": false,
     "title": ""
    }
   },
   "source": [
    "Once you get the above working without error, you can fix the lat and long columns in your dataframe."
   ]
  },
  {
   "cell_type": "code",
   "execution_count": 0,
   "metadata": {
    "application/vnd.databricks.v1+cell": {
     "cellMetadata": {
      "byteLimit": 2048000,
      "rowLimit": 10000
     },
     "inputWidgets": {},
     "nuid": "4d5acfb1-51ec-4af3-a659-2cd42e1821d2",
     "showTitle": false,
     "title": ""
    }
   },
   "outputs": [],
   "source": [
    "df = remove_column_precision(df,'lat')\n",
    "df = remove_column_precision(df,'long')"
   ]
  },
  {
   "cell_type": "markdown",
   "metadata": {
    "application/vnd.databricks.v1+cell": {
     "cellMetadata": {
      "byteLimit": 2048000,
      "rowLimit": 10000
     },
     "inputWidgets": {},
     "nuid": "6e93cfc4-f19e-4667-973e-06669762d2c9",
     "showTitle": false,
     "title": ""
    }
   },
   "source": [
    "What type of risk should we be aware of with regard to timestamp precision? When and how do we need to de-risk this  type of information?"
   ]
  },
  {
   "cell_type": "code",
   "execution_count": 0,
   "metadata": {
    "application/vnd.databricks.v1+cell": {
     "cellMetadata": {
      "byteLimit": 2048000,
      "rowLimit": 10000
     },
     "inputWidgets": {},
     "nuid": "f836e490-7f82-4042-a182-0ad09425d774",
     "showTitle": false,
     "title": ""
    }
   },
   "outputs": [],
   "source": [
    "df = df.withColumn('timestamp', F.to_timestamp('timestamp'))\n"
   ]
  },
  {
   "cell_type": "markdown",
   "metadata": {
    "application/vnd.databricks.v1+cell": {
     "cellMetadata": {
      "byteLimit": 2048000,
      "rowLimit": 10000
     },
     "inputWidgets": {},
     "nuid": "ddd33a55-e8e5-4929-9932-06d22dacfa06",
     "showTitle": false,
     "title": ""
    }
   },
   "source": [
    "Try adding a new column called new_timestamp where you use F.unix_timestamp and F.rand to build a small amount of noise..."
   ]
  },
  {
   "cell_type": "markdown",
   "metadata": {
    "application/vnd.databricks.v1+cell": {
     "cellMetadata": {
      "byteLimit": 2048000,
      "rowLimit": 10000
     },
     "inputWidgets": {},
     "nuid": "c9aa0011-b5bf-4337-a5f8-a120cf25215f",
     "showTitle": false,
     "title": ""
    }
   },
   "source": [
    "## Exercise 9 - To add random time intervals to timestamp column"
   ]
  },
  {
   "cell_type": "code",
   "execution_count": 0,
   "metadata": {
    "application/vnd.databricks.v1+cell": {
     "cellMetadata": {
      "byteLimit": 2048000,
      "rowLimit": 10000
     },
     "inputWidgets": {},
     "nuid": "1ed18a72-c0f5-491d-917a-2934c061a1fc",
     "showTitle": false,
     "title": ""
    }
   },
   "outputs": [
    {
     "output_type": "display_data",
     "data": {
      "text/plain": [
       ""
      ]
     },
     "metadata": {
      "application/vnd.databricks.v1+output": {
       "arguments": {},
       "data": "",
       "errorSummary": "Command skipped",
       "errorTraceType": "ansi",
       "metadata": {},
       "type": "ipynbError"
      }
     },
     "output_type": "display_data"
    }
   ],
   "source": [
    "from pyspark.sql.functions import to_timestamp, unix_timestamp, rand\n",
    "new_df = cleaned_df\n",
    "  .withColumn(\"new_timestamp\", #TODO: finish this to add the column to your DF once you have experimented and like the result!)\n",
    "  .select(col(\"timestamp\"), col(\"new_timestamp\"))\n",
    "\n",
    "new_df.show(false)"
   ]
  },
  {
   "cell_type": "code",
   "execution_count": 0,
   "metadata": {
    "application/vnd.databricks.v1+cell": {
     "cellMetadata": {
      "byteLimit": 2048000,
      "rowLimit": 10000
     },
     "inputWidgets": {},
     "nuid": "06b36ddf-6414-4354-b3c8-62fc37edfc16",
     "showTitle": false,
     "title": ""
    }
   },
   "outputs": [],
   "source": [
    "#Solution \n",
    "from pyspark.sql.functions import to_timestamp, unix_timestamp, rand\n",
    "df = df.withColumn(\"timestamp\", (unix_timestamp(col(\"timestamp\")) +\n",
    "                  (rand() * 60) + (rand() * 60 * 20)).cast(\"timestamp\"))"
   ]
  },
  {
   "cell_type": "code",
   "execution_count": 0,
   "metadata": {
    "application/vnd.databricks.v1+cell": {
     "cellMetadata": {
      "byteLimit": 2048000,
      "rowLimit": 10000
     },
     "inputWidgets": {},
     "nuid": "f9e1beed-58c7-41ae-9d03-3d5f33e85310",
     "showTitle": false,
     "title": ""
    }
   },
   "outputs": [
    {
     "output_type": "stream",
     "name": "stdout",
     "output_type": "stream",
     "text": [
      "All tests Passed :)\n"
     ]
    }
   ],
   "source": [
    "def test_add_random_time_intervals():\n",
    "    # create a sample DataFrame\n",
    "    df = spark.createDataFrame([\n",
    "        ('2022-01-01 00:00:00', 1),\n",
    "        ('2022-01-01 01:00:00', 2),\n",
    "        ('2022-01-01 02:00:00', 3),\n",
    "        ('2022-01-01 03:00:00', 4),\n",
    "        ('2022-01-01 04:00:00', 5),\n",
    "    ], ['timestamp', 'value'])\n",
    "    cleaned_df = df.withColumn('timestamp', (unix_timestamp('timestamp') + \n",
    "                            (rand() * 60) + (rand() * 60 * 20)).cast('timestamp'))\n",
    "    assert 'timestamp' in cleaned_df.columns\n",
    "    assert 'value' in cleaned_df.columns\n",
    "    assert cleaned_df.filter(cleaned_df.timestamp != df.timestamp).count() == df.count()\n",
    "    print(\"All tests Passed :)\")\n",
    "test_add_random_time_intervals()"
   ]
  },
  {
   "cell_type": "markdown",
   "metadata": {
    "application/vnd.databricks.v1+cell": {
     "cellMetadata": {
      "byteLimit": 2048000,
      "rowLimit": 10000
     },
     "inputWidgets": {},
     "nuid": "b569611a-5261-455a-9642-615ec62deba6",
     "showTitle": false,
     "title": ""
    }
   },
   "source": [
    "Now we want to reorder so the data comes into the map in the proper order (for timeseries analysis)"
   ]
  },
  {
   "cell_type": "code",
   "execution_count": 0,
   "metadata": {
    "application/vnd.databricks.v1+cell": {
     "cellMetadata": {
      "byteLimit": 2048000,
      "rowLimit": 10000
     },
     "inputWidgets": {},
     "nuid": "b76d5856-a256-4215-9a11-d9cde3f09ba1",
     "showTitle": false,
     "title": ""
    }
   },
   "outputs": [],
   "source": [
    "df = df.orderBy(df.timestamp.asc())\n"
   ]
  },
  {
   "cell_type": "code",
   "execution_count": 0,
   "metadata": {
    "application/vnd.databricks.v1+cell": {
     "cellMetadata": {
      "byteLimit": 2048000,
      "rowLimit": 10000
     },
     "inputWidgets": {},
     "nuid": "8f9a24b2-9f22-4957-b9c8-99c3422d266a",
     "showTitle": false,
     "title": ""
    }
   },
   "outputs": [],
   "source": [
    "df.write.format('csv').save(f'{root_dir}/data/data_for_map.csv')"
   ]
  },
  {
   "cell_type": "markdown",
   "metadata": {
    "application/vnd.databricks.v1+cell": {
     "cellMetadata": {
      "byteLimit": 2048000,
      "rowLimit": 10000
     },
     "inputWidgets": {},
     "nuid": "d2a5771b-63f4-46d0-920c-812a8d1bb293",
     "showTitle": false,
     "title": ""
    }
   },
   "source": [
    "<img src=\"https://raw.githubusercontent.com/VijayaDurgaN/data-security-exercise/master/images/cia_triad.png\" width=\"400\" height=\"400\" />"
   ]
  },
  {
   "cell_type": "markdown",
   "metadata": {
    "application/vnd.databricks.v1+cell": {
     "cellMetadata": {
      "byteLimit": 2048000,
      "rowLimit": 10000
     },
     "inputWidgets": {},
     "nuid": "9de7fdef-ff40-4a00-8719-b0f5641bde9e",
     "showTitle": false,
     "title": ""
    }
   },
   "source": [
    "This is a graphic from Wikipedia showing the so-called \"CIA\" triad, showing some of the core concepts we want to ensure to guarantee data security. Let's review them together:\n",
    "\n",
    "- **Confidentiality:** Data is kept confidential, meaning only those who should be able to access it can do so, and fine-tuned access is available and enforced.\n",
    "- **Integrity:** Data is accurate and cannot easily be changed or tampered with by internal or external actors in a malicious way.\n",
    "- **Availability:** Data fulfills any service-level objectives (SLOs) or service-level agreements (SLAs) and is made available in a secure and user-friendly manner. \n",
    "\n",
    "So translated into data engineering context, this means that:\n",
    "\n",
    "- Our data workflows enforce access-control restrictions, data protections or minimizations related to confidentiality and ensure sinks and sources match the encryption requirements we expect for the data sensitivity.\n",
    "- Our data workflows do not mangle data, maintain data quality principles outlined by governance processes and alert should malicious activity be detected.\n",
    "- Our data wofkflows meet SLOs/SLAs outlined by the data consumers and dependant data products."
   ]
  },
  {
   "cell_type": "markdown",
   "metadata": {
    "application/vnd.databricks.v1+cell": {
     "cellMetadata": {
      "byteLimit": 2048000,
      "rowLimit": 10000
     },
     "inputWidgets": {},
     "nuid": "7adbd130-830b-4239-9527-651f18387dc6",
     "showTitle": false,
     "title": ""
    }
   },
   "source": [
    "### What about Privacy? 🦹🏻\n",
    "\n",
    "A foundational concept when it comes to designing privacy-respecting systems is the Privacy by Design principles outlined by [Anne Cavoukian in 2006](https://iapp.org/media/pdf/resource_center/pbd_implement_7found_principles.pdf).\n",
    "\n",
    "Let's pull out a few of the principles that relate to our work as data engineers...\n",
    "\n",
    "- **Proactive not Reactive; Preventative not Remedial:** Privacy is built into our architecture and data flows as we start building them. Think of this as the privacy version of TDD -- we write the privacy requirements first and design and build systems to fit them, not the other way around!\n",
    "- **Privacy as the Default Setting:** We optimize systems so that privacy is on by default, and changes to that are user-driven! This means tracking things like consent, implementing processes for data minimization and ensuring lineage and governance data is available to data consumers or dependant data products.\n",
    "- **Full Functionality – Positive-Sum, not Zero-Sum:** Data privacy is a benefit for the business, technologists and users, meaning we ensure that it is not a tradeoff in our product design. Users who choose privacy protections (or users who have them on automatically, by default, right?) receive full functionality.\n",
    "- **End-to-End Security – Full Lifecycle Protection:** Data is secured properly and for it's entire lifecycle (from collection endpoint to deletion!). Here is our big intersection with the security requirements.\n",
    "\n",
    "\n",
    "What does this mean for our data engineering work?\n",
    "\n",
    "- Our data workflows have privacy protections outlined and architected in before any code is written. We test for these and ensure they are working properly, should anything change.\n",
    "- Privacy is turned on by default, and any \"unknown\" data flows have privacy added to them when they enter into our systems or are discovered (e.g. in cases of unknown data storages or data from third parties).\n",
    "- We work directly with data producers and consumers (and other stakeholders, such as legal or privacy professionals) to find sweet spots that offer the appropriate protection for users and utility for business needs. Approach this as a postive-sum game and remember that user-centric choices are always a good business investment.\n",
    "- We design secure workflows that ensure that all user-related or person-related data is properly secured using standards from data security best practices (like our CIA triad!)\n",
    "\n",
    "\n",
    "#### Privacy and Information Continuum\n",
    "\n",
    "One useful way to begin shifting your understanding of privacy is to start thinking about it as a point on a spectrum instead of something that is \"on\" or \"off\". Here we can see that we can have a full range of points on a continuum, where privacy and information are somewhat at odds with one another. When we have full information, we have no privacy guarantees. When we have complete privacy, we cannot do our job as data people! Finding the right balance is the difficult and fun part of privacy in data science!"
   ]
  },
  {
   "cell_type": "markdown",
   "metadata": {
    "application/vnd.databricks.v1+cell": {
     "cellMetadata": {
      "byteLimit": 2048000,
      "rowLimit": 10000
     },
     "inputWidgets": {},
     "nuid": "b669039c-c6e5-4164-9f44-9d823c86319e",
     "showTitle": false,
     "title": ""
    }
   },
   "source": [
    "<img src=\"https://raw.githubusercontent.com/VijayaDurgaN/data-security-exercise/master/images/privacy_and_information_continuum.png\" />"
   ]
  },
  {
   "cell_type": "markdown",
   "metadata": {
    "application/vnd.databricks.v1+cell": {
     "cellMetadata": {
      "byteLimit": 2048000,
      "rowLimit": 10000
     },
     "inputWidgets": {},
     "nuid": "5d6983e4-ff33-4fa8-a51d-15e25e4c94b3",
     "showTitle": false,
     "title": ""
    }
   },
   "source": [
    "### Congratulations!! \n",
    "\n",
    "You've walked through potential privacy snags and helped increase the protection for the individuals sending you their air quality details! Now developers can use this dataset and we have ensured that there are some base protections. As you may have noticed, it wasn't always obvious what we should do -- but by thinking through each data type and determining what worked to balance the utility of the data and the privacy we want to offer, we were able to find some ways to protect individuals. \n",
    "\n",
    "A good set of questions to ask for guidance is:\n",
    "\n",
    "- Where will this data be accessed and used? How safe is this environment?\n",
    "- What person-related data do we actually need to use to deliver this service or product? (data minimization!)\n",
    "- What other protections will be added to this data before it is seen or used? (i.e. encryption at rest, access control systems, or other protections when it reaches another processing point or sink!)\n",
    "- What privacy and security expectations do we want to set for the individuals in this dataset?\n",
    "- Where can we opportunistically add more protection while not hindering the work of data scientists, data analysts, software engineers and other colleagues?\n",
    "\n",
    "\n",
    "As you continue on in your data engineering journey, you'll likely encounter many more situations where you'll need to make privacy and security decisions. If you'd like to learn more and even work as a privacy or security champion -- feel free to join in your organizations' programs to support topics like this!"
   ]
  },
  {
   "cell_type": "code",
   "execution_count": 0,
   "metadata": {
    "application/vnd.databricks.v1+cell": {
     "cellMetadata": {
      "byteLimit": 2048000,
      "rowLimit": 10000
     },
     "inputWidgets": {},
     "nuid": "ec34615b-740a-48c1-8961-be5e59067605",
     "showTitle": false,
     "title": ""
    }
   },
   "outputs": [],
   "source": []
  }
 ],
 "metadata": {
  "application/vnd.databricks.v1+notebook": {
   "dashboards": [],
   "language": "python",
   "notebookMetadata": {
    "mostRecentlyExecutedCommandWithImplicitDF": {
     "commandId": 1930102605124486,
     "dataframes": [
      "_sqldf"
     ]
    },
    "pythonIndentUnit": 4
   },
   "notebookName": "Sol -Security and Privacy in Data Engineering",
   "notebookOrigID": 2617513078609845,
   "widgets": {}
  },
  "kernelspec": {
   "display_name": "Python 3 (ipykernel)",
   "language": "python",
   "name": "python3"
  },
  "language_info": {
   "codemirror_mode": {
    "name": "ipython",
    "version": 3
   },
   "file_extension": ".py",
   "mimetype": "text/x-python",
   "name": "python",
   "nbconvert_exporter": "python",
   "pygments_lexer": "ipython3",
   "version": "3.8.9"
  }
 },
 "nbformat": 4,
 "nbformat_minor": 0
}
