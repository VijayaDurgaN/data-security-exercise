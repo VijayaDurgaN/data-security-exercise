{
 "cells": [
  {
   "cell_type": "markdown",
   "metadata": {
    "application/vnd.databricks.v1+cell": {
     "cellMetadata": {},
     "inputWidgets": {},
     "nuid": "a871e723-9ac4-4ead-bc7f-77457d2d0c05",
     "showTitle": false,
     "title": ""
    }
   },
   "source": [
    "## Data Security & Privacy in Workflows\n",
    "\n",
    "In this notebook, we'll explore ways to incorporate data security and privacy into large-scale data workflows. First, you might be wondering why we need to worry about these topics. Shouldn't this be a problem solved by the privacy department, infosec or via product owners? \n",
    "\n",
    "You can think of large scale data workflows like folks who manage the internet. We don't often see their work, but we know when it's broken! They probably deserve a lot more credit and attention for it, but we somehow just expect it \"to work ubiquitously.\" And we certainly expect the data we send around the internet to be kept private and secure (although in some geographies it is less likely...). If it wasn't for the work on those large-scale packet pipelines, then we couldn't trust technologies like SSL, TLS or our web applications or mobile applications. Those are enabled, propogated and enforced by all the intermediary hops, meaning the packet and data are handled with the same promises as they arrived. Hopefully you are getting the picture here -- security and privacy have to be baked into the architecture and data flow from the start, and cannot be simply \"tacked on\" at a given endpoint.\n",
    "\n",
    "So now we understand our responsibilities as the folks building the data backbones. What privacy and security concerns do we actually have? We'll walk through a concrete example to have a look!"
   ]
  },
  {
   "cell_type": "markdown",
   "metadata": {
    "application/vnd.databricks.v1+cell": {
     "cellMetadata": {},
     "inputWidgets": {},
     "nuid": "e3b849cf-2e4e-47ed-8e8c-113ef197af08",
     "showTitle": false,
     "title": ""
    }
   },
   "source": [
    "### Example Data Product: Ingest Air Quality Sensors while Protecting User Privacy\n",
    "\n",
    "- We want to ingest air quality sensor data from users, buildings and institutions who are willing to send us data to build an air quality map (similar to the [IQAir map](https://www.iqair.com/air-quality-map).\n",
    "- Users only want to share the data if they can remain anonymous and their location is fuzzy, so that they are protected against stalkers, prying eyes and state surveillance.\n",
    "- Since the data is sensitive (from people and their homes!), we want to sure that it is secured either at collection, as well as at any intermediary hops.\n",
    "\n",
    "Let's first take a look at our data and determine what can and should be done..."
   ]
  },
  {
   "cell_type": "code",
   "execution_count": null,
   "metadata": {
    "application/vnd.databricks.v1+cell": {
     "cellMetadata": {
      "byteLimit": 2048000,
      "rowLimit": 10000
     },
     "inputWidgets": {},
     "nuid": "0f14680f-aaa0-453a-a43b-d7e0b0015284",
     "showTitle": false,
     "title": ""
    }
   },
   "outputs": [
    {
     "name": "stdout",
     "output_type": "stream",
     "text": [
      "Python interpreter will be restarted.\n",
      "Collecting wget\n",
      "  Downloading wget-3.2.zip (10 kB)\n",
      "Requirement already satisfied: ff3 in /local_disk0/.ephemeral_nfs/cluster_libraries/python/lib/python3.9/site-packages (1.0.0)\n",
      "Requirement already satisfied: pandas in /databricks/python3/lib/python3.9/site-packages (1.3.4)\n",
      "Collecting datafuzz\n",
      "  Downloading datafuzz-0.1.0a0.tar.gz (48 kB)\n",
      "Requirement already satisfied: pycryptodome in /local_disk0/.ephemeral_nfs/cluster_libraries/python/lib/python3.9/site-packages (from ff3) (3.17)\n",
      "Requirement already satisfied: python-dateutil>=2.7.3 in /databricks/python3/lib/python3.9/site-packages (from pandas) (2.8.2)\n",
      "Requirement already satisfied: pytz>=2017.3 in /databricks/python3/lib/python3.9/site-packages (from pandas) (2021.3)\n",
      "Requirement already satisfied: numpy>=1.17.3 in /databricks/python3/lib/python3.9/site-packages (from pandas) (1.20.3)\n",
      "Collecting faker\n",
      "  Downloading Faker-18.3.0-py3-none-any.whl (1.7 MB)\n",
      "Collecting dataset\n",
      "  Downloading dataset-1.6.0-py2.py3-none-any.whl (18 kB)\n",
      "Collecting pyyaml\n",
      "  Downloading PyYAML-6.0-cp39-cp39-manylinux_2_5_x86_64.manylinux1_x86_64.manylinux_2_12_x86_64.manylinux2010_x86_64.whl (661 kB)\n",
      "Requirement already satisfied: six>=1.5 in /databricks/python3/lib/python3.9/site-packages (from python-dateutil>=2.7.3->pandas) (1.16.0)\n",
      "Collecting alembic>=0.6.2\n",
      "  Downloading alembic-1.10.2-py3-none-any.whl (212 kB)\n",
      "Collecting sqlalchemy<2.0.0,>=1.3.2\n",
      "  Downloading SQLAlchemy-1.4.47-cp39-cp39-manylinux_2_5_x86_64.manylinux1_x86_64.manylinux_2_17_x86_64.manylinux2014_x86_64.whl (1.6 MB)\n",
      "Collecting banal>=1.0.1\n",
      "  Downloading banal-1.0.6-py2.py3-none-any.whl (6.1 kB)\n",
      "Collecting Mako\n",
      "  Downloading Mako-1.2.4-py3-none-any.whl (78 kB)\n",
      "Collecting typing-extensions>=4\n",
      "  Downloading typing_extensions-4.5.0-py3-none-any.whl (27 kB)\n",
      "Collecting greenlet!=0.4.17\n",
      "  Downloading greenlet-2.0.2-cp39-cp39-manylinux_2_17_x86_64.manylinux2014_x86_64.whl (610 kB)\n",
      "Requirement already satisfied: MarkupSafe>=0.9.2 in /databricks/python3/lib/python3.9/site-packages (from Mako->alembic>=0.6.2->dataset->datafuzz) (2.0.1)\n",
      "Building wheels for collected packages: wget, datafuzz\n",
      "  Building wheel for wget (setup.py): started\n",
      "  Building wheel for wget (setup.py): finished with status 'done'\n",
      "  Created wheel for wget: filename=wget-3.2-py3-none-any.whl size=9672 sha256=1af1f4059f02467a74c3d9da0e5e037a9b17a191f71c8064e5f26bc8557d2cb2\n",
      "  Stored in directory: /root/.cache/pip/wheels/04/5f/3e/46cc37c5d698415694d83f607f833f83f0149e49b3af9d0f38\n",
      "  Building wheel for datafuzz (setup.py): started\n",
      "  Building wheel for datafuzz (setup.py): finished with status 'done'\n",
      "  Created wheel for datafuzz: filename=datafuzz-0.1.0a0-py2.py3-none-any.whl size=39596 sha256=f8e55489f8f1f249f27e441e2efc63c824be6184ecde8e82de1e425e8e57b658\n",
      "  Stored in directory: /root/.cache/pip/wheels/4a/c2/3b/03deae03dbe2b9c47ebf61504e8a3c700854fd9ea194ffafcc\n",
      "Successfully built wget datafuzz\n",
      "Installing collected packages: greenlet, typing-extensions, sqlalchemy, Mako, banal, alembic, pyyaml, faker, dataset, wget, datafuzz\n",
      "  Attempting uninstall: typing-extensions\n",
      "    Found existing installation: typing-extensions 3.10.0.2\n",
      "    Not uninstalling typing-extensions at /databricks/python3/lib/python3.9/site-packages, outside environment /local_disk0/.ephemeral_nfs/envs/pythonEnv-42561520-8076-44db-a166-fdfe3f37393c\n",
      "    Can't uninstall 'typing-extensions'. No files were found to uninstall.\n",
      "Successfully installed Mako-1.2.4 alembic-1.10.2 banal-1.0.6 datafuzz-0.1.0a0 dataset-1.6.0 faker-18.3.0 greenlet-2.0.2 pyyaml-6.0 sqlalchemy-1.4.47 typing-extensions-4.5.0 wget-3.2\n",
      "Python interpreter will be restarted.\n"
     ]
    }
   ],
   "source": [
    "%run ./init"
   ]
  },
  {
   "cell_type": "code",
   "execution_count": null,
   "metadata": {
    "application/vnd.databricks.v1+cell": {
     "cellMetadata": {
      "byteLimit": 2048000,
      "rowLimit": 10000
     },
     "inputWidgets": {},
     "nuid": "c93f364d-c4df-4ef4-a9b0-a89af6b7fbe2",
     "showTitle": false,
     "title": ""
    }
   },
   "outputs": [
    {
     "data": {
      "application/vnd.databricks.v1+bamboolib_hint": "{\"pd.DataFrames\": [], \"version\": \"0.0.1\"}",
      "text/plain": []
     },
     "metadata": {
      "application/vnd.databricks.v1+output": {
       "addedWidgets": {},
       "arguments": {},
       "data": {
        "application/vnd.databricks.v1+bamboolib_hint": "{\"pd.DataFrames\": [], \"version\": \"0.0.1\"}",
        "text/plain": ""
       },
       "datasetInfos": [],
       "executionCount": null,
       "metadata": {
        "kernelSessionId": "cec33d24-a6a87dc5a49dc5bf19d2aabc"
       },
       "removedWidgets": [],
       "type": "mimeBundle"
      }
     },
     "output_type": "display_data"
    },
    {
     "name": "stdout",
     "output_type": "stream",
     "text": [
      "Out[1]: True"
     ]
    },
    {
     "name": "stdout",
     "output_type": "stream",
     "text": [
      "Out[4]: [FileInfo(path='dbfs:/FileStore/samvardhan.gopathy/dataSecurity/data/air_quality.csv', name='air_quality.csv', size=11244658, modificationTime=1679548967000)]"
     ]
    }
   ],
   "source": [
    "from pyspark.sql import SparkSession, Row\n",
    "from pyspark.sql.types import StringType, TimestampType\n",
    "import pyspark.sql.functions as F\n",
    "from pyspark.sql.functions import udf, lit, col\n",
    "\n",
    "import pandas as pd\n",
    "import os\n",
    "\n",
    "cwd = os.getcwd()\n",
    "root_dir = \"\"\n",
    "\n",
    "if (cwd == \"/databricks/driver\"):\n",
    "    root_dir = f\"{working_directory}/\"\n",
    "else:\n",
    "    root_dir = \"\"\n",
    "\n",
    "df = spark.read.csv(f'{root_dir}/data/air_quality.csv', header=True, inferSchema=True)"
   ]
  },
  {
   "cell_type": "markdown",
   "metadata": {
    "application/vnd.databricks.v1+cell": {
     "cellMetadata": {},
     "inputWidgets": {},
     "nuid": "66cd8aab-2d54-4f3f-b8ca-eb7c4f0790d3",
     "showTitle": false,
     "title": ""
    }
   },
   "source": [
    "I need to parse this properly in Spark... luckily there are a few helper functions that can help me with this problem! Let's explore them together :)\n",
    "\n",
    "First, I wnat to get an example row and see the schema so I can be sure that the data types are what I expect..."
   ]
  },
  {
   "cell_type": "code",
   "execution_count": null,
   "metadata": {
    "application/vnd.databricks.v1+cell": {
     "cellMetadata": {
      "byteLimit": 2048000,
      "rowLimit": 10000
     },
     "inputWidgets": {},
     "nuid": "48e742d6-0ec0-40f0-bfa1-d9082be7c71f",
     "showTitle": false,
     "title": ""
    }
   },
   "outputs": [
    {
     "name": "stdout",
     "output_type": "stream",
     "text": [
      "+-------------------------------------------------------------------------+\n",
      "|location                                                                 |\n",
      "+-------------------------------------------------------------------------+\n",
      "|('10.66668', '-61.51889', 'Port of Spain', 'TT', 'America/Port_of_Spain')|\n",
      "+-------------------------------------------------------------------------+\n",
      "only showing top 1 row\n",
      "\n"
     ]
    }
   ],
   "source": [
    "df.select('location').show(1, truncate=False)"
   ]
  },
  {
   "cell_type": "code",
   "execution_count": null,
   "metadata": {
    "application/vnd.databricks.v1+cell": {
     "cellMetadata": {
      "byteLimit": 2048000,
      "rowLimit": 10000
     },
     "inputWidgets": {},
     "nuid": "749cadfc-183b-4cca-bfff-f19b1336de13",
     "showTitle": false,
     "title": ""
    }
   },
   "outputs": [
    {
     "name": "stdout",
     "output_type": "stream",
     "text": [
      "root\n",
      " |-- air_quality_index: integer (nullable = true)\n",
      " |-- user_id: string (nullable = true)\n",
      " |-- location: string (nullable = true)\n",
      " |-- top_pollutant: string (nullable = true)\n",
      " |-- top_pollutant_concentration: string (nullable = true)\n",
      " |-- timestamp: string (nullable = true)\n",
      "\n"
     ]
    }
   ],
   "source": [
    "df.printSchema()"
   ]
  },
  {
   "cell_type": "markdown",
   "metadata": {
    "application/vnd.databricks.v1+cell": {
     "cellMetadata": {},
     "inputWidgets": {},
     "nuid": "de3687e0-21f4-49bb-8ae0-e10937c189b9",
     "showTitle": false,
     "title": ""
    }
   },
   "source": [
    "Now I want to remove some of the extra characters around the string so that it is easier to parse. I will use regular expressions to do that in a few easy-to-read commands."
   ]
  },
  {
   "cell_type": "code",
   "execution_count": null,
   "metadata": {
    "application/vnd.databricks.v1+cell": {
     "cellMetadata": {
      "byteLimit": 2048000,
      "rowLimit": 10000
     },
     "inputWidgets": {},
     "nuid": "4173e2ab-331c-4f8a-8318-9dfbbee1e206",
     "showTitle": false,
     "title": ""
    }
   },
   "outputs": [
    {
     "data": {
      "text/plain": [
       "\u001b[0;36m  File \u001b[0;32m\"<command-2812539252775323>\"\u001b[0;36m, line \u001b[0;32m2\u001b[0m\n",
       "\u001b[0;31m    # remove extra characters - \"[()']\" from the location column string\u001b[0m\n",
       "\u001b[0m                                                                           ^\u001b[0m\n",
       "\u001b[0;31mIndentationError\u001b[0m\u001b[0;31m:\u001b[0m expected an indented block\n"
      ]
     },
     "metadata": {
      "application/vnd.databricks.v1+output": {
       "arguments": {},
       "data": "\u001b[0;36m  File \u001b[0;32m\"<command-2812539252775323>\"\u001b[0;36m, line \u001b[0;32m2\u001b[0m\n\u001b[0;31m    # remove extra characters - \"[()']\" from the location column string\u001b[0m\n\u001b[0m                                                                           ^\u001b[0m\n\u001b[0;31mIndentationError\u001b[0m\u001b[0;31m:\u001b[0m expected an indented block\n",
       "errorSummary": "<span class='ansi-red-fg'>IndentationError</span>: expected an indented block (<command-2812539252775323>, line 2)",
       "errorTraceType": "ansi",
       "metadata": {},
       "type": "ipynbError"
      }
     },
     "output_type": "display_data"
    }
   ],
   "source": [
    "def replace_brackets_in_location(df): \n",
    "# remove extra characters - \"[()']\" from the location column string    "
   ]
  },
  {
   "cell_type": "code",
   "execution_count": null,
   "metadata": {
    "application/vnd.databricks.v1+cell": {
     "cellMetadata": {
      "byteLimit": 2048000,
      "rowLimit": 10000
     },
     "inputWidgets": {},
     "nuid": "01270763-495d-41ff-9cde-168dbb491432",
     "showTitle": false,
     "title": ""
    }
   },
   "outputs": [
    {
     "name": "stdout",
     "output_type": "stream",
     "text": [
      "All tests passed :)\n"
     ]
    }
   ],
   "source": [
    "def test_replace_brackets_in_location():\n",
    "  pandas_df = pd.DataFrame(\n",
    "      {\n",
    "          'id':  pd.Series([1, 2, 3]),\n",
    "          'location': pd.Series([\"New York, NY\", \"(Los Angeles), CA\", \"Chicago' IL\"]),\n",
    "      }\n",
    "  )\n",
    "  expected_pandas_df = pd.DataFrame(\n",
    "      {\n",
    "          'id':  pd.Series([1, 2, 3]),\n",
    "          'location': pd.Series([\"New York, NY\", \"Los Angeles, CA\", \"Chicago IL\"]),\n",
    "      }\n",
    "  )\n",
    "  spark_df = spark.createDataFrame(pandas_df)\n",
    "  expected_df = spark.createDataFrame(expected_pandas_df)\n",
    "\n",
    "  fixed_df = replace_brackets_in_location(spark_df)\n",
    "  \n",
    "  assert fixed_df.schema == expected_df.schema\n",
    "  assert fixed_df.collect() == expected_df.collect()\n",
    "\n",
    "  print(\"All tests passed :)\")\n",
    "  \n",
    "test_replace_brackets_in_location()"
   ]
  },
  {
   "cell_type": "markdown",
   "metadata": {
    "application/vnd.databricks.v1+cell": {
     "cellMetadata": {},
     "inputWidgets": {},
     "nuid": "fd4045d1-b6d2-4dec-9c31-b53d50db6e4c",
     "showTitle": false,
     "title": ""
    }
   },
   "source": [
    "##### Solution"
   ]
  },
  {
   "cell_type": "code",
   "execution_count": null,
   "metadata": {
    "application/vnd.databricks.v1+cell": {
     "cellMetadata": {
      "byteLimit": 2048000,
      "rowLimit": 10000
     },
     "inputWidgets": {},
     "nuid": "138fa7a3-ff66-472c-8b59-75cd2ef8b827",
     "showTitle": false,
     "title": ""
    }
   },
   "outputs": [],
   "source": [
    "def replace_brackets_in_location(df): \n",
    "    return df.withColumn(\"location\", F.regexp_replace(\"location\", \"[()']\", \"\"))"
   ]
  },
  {
   "cell_type": "code",
   "execution_count": null,
   "metadata": {
    "application/vnd.databricks.v1+cell": {
     "cellMetadata": {
      "byteLimit": 2048000,
      "rowLimit": 10000
     },
     "inputWidgets": {},
     "nuid": "4e4022e4-01c5-4ac3-9212-22e7be61c818",
     "showTitle": false,
     "title": ""
    }
   },
   "outputs": [],
   "source": [
    "df = replace_brackets_in_location(df)"
   ]
  },
  {
   "cell_type": "code",
   "execution_count": null,
   "metadata": {
    "application/vnd.databricks.v1+cell": {
     "cellMetadata": {
      "byteLimit": 2048000,
      "rowLimit": 10000
     },
     "inputWidgets": {},
     "nuid": "6f2e1afb-9e59-440e-a92d-dddee62809a4",
     "showTitle": false,
     "title": ""
    }
   },
   "outputs": [
    {
     "name": "stdout",
     "output_type": "stream",
     "text": [
      "+-------------------------------------------------------------+\n",
      "|location                                                     |\n",
      "+-------------------------------------------------------------+\n",
      "|10.66668, -61.51889, Port of Spain, TT, America/Port_of_Spain|\n",
      "+-------------------------------------------------------------+\n",
      "only showing top 1 row\n",
      "\n"
     ]
    }
   ],
   "source": [
    "df.select('location').show(1, truncate=False)"
   ]
  },
  {
   "cell_type": "markdown",
   "metadata": {
    "application/vnd.databricks.v1+cell": {
     "cellMetadata": {},
     "inputWidgets": {},
     "nuid": "a7a375bb-2031-4494-9df4-c57c8d278104",
     "showTitle": false,
     "title": ""
    }
   },
   "source": [
    "Now it's easier for me to split the string and properly parse it. Spark has a split function that can help. I will put this into a new column called location_arr for location array."
   ]
  },
  {
   "cell_type": "code",
   "execution_count": null,
   "metadata": {
    "application/vnd.databricks.v1+cell": {
     "cellMetadata": {},
     "inputWidgets": {},
     "nuid": "12a079e6-6553-4da2-af24-be32b4d7e745",
     "showTitle": false,
     "title": ""
    }
   },
   "outputs": [],
   "source": [
    "def split_location(df):\n",
    "# split the \"location\" column into an array of strings    "
   ]
  },
  {
   "cell_type": "code",
   "execution_count": null,
   "metadata": {
    "application/vnd.databricks.v1+cell": {
     "cellMetadata": {
      "byteLimit": 2048000,
      "rowLimit": 10000
     },
     "inputWidgets": {},
     "nuid": "0752a27d-5bb4-4a11-a286-092b006e0fc0",
     "showTitle": false,
     "title": ""
    }
   },
   "outputs": [
    {
     "name": "stdout",
     "output_type": "stream",
     "text": [
      "All tests passed :)\n"
     ]
    }
   ],
   "source": [
    "from  pyspark.sql.types import IntegerType, StructField, StringType, ArrayType, FloatType, StructType\n",
    "\n",
    "def test_split_location():\n",
    "  schema = StructType([\n",
    "      StructField(\"id\", IntegerType()),\n",
    "      StructField(\"location\", StringType())\n",
    "  ])\n",
    "  pandas_df = pd.DataFrame(\n",
    "      {\n",
    "          'id':  pd.Series([1, 2, 3]),\n",
    "          'location': pd.Series([\"New York, NY\", \"Los Angeles, CA\", \"Chicago, IL\"]),\n",
    "      }\n",
    "  )\n",
    "  expected_schema = StructType([\n",
    "      StructField(\"id\", IntegerType()),\n",
    "      StructField(\"location\", StringType()),\n",
    "      StructField(\"location_arr\", ArrayType(StringType(), False))\n",
    "  ])\n",
    "  expected_pandas_df = pd.DataFrame(\n",
    "      {\n",
    "          'id':  pd.Series([1, 2, 3]),\n",
    "          'location': pd.Series([\"New York, NY\", \"Los Angeles, CA\", \"Chicago, IL\"]),\n",
    "          'location_arr': pd.Series([ [\"New York\",\"NY\"], [\"Los Angeles\",\"CA\"], [\"Chicago\",\"IL\"]]),\n",
    "      }\n",
    "  )\n",
    "  spark_df = spark.createDataFrame(pandas_df,schema)\n",
    "  expected_df = spark.createDataFrame(expected_pandas_df,expected_schema)\n",
    "\n",
    "  fixed_df = split_location(spark_df)\n",
    " \n",
    "  assert fixed_df.schema == expected_df.schema\n",
    "  assert fixed_df.collect() == expected_df.collect()\n",
    "\n",
    "  print(\"All tests passed :)\")\n",
    "  \n",
    "test_split_location()"
   ]
  },
  {
   "cell_type": "markdown",
   "metadata": {
    "application/vnd.databricks.v1+cell": {
     "cellMetadata": {},
     "inputWidgets": {},
     "nuid": "1c47a012-e6c4-4122-a011-e470da5bb562",
     "showTitle": false,
     "title": ""
    }
   },
   "source": [
    "##### Solution"
   ]
  },
  {
   "cell_type": "code",
   "execution_count": null,
   "metadata": {
    "application/vnd.databricks.v1+cell": {
     "cellMetadata": {
      "byteLimit": 2048000,
      "rowLimit": 10000
     },
     "inputWidgets": {},
     "nuid": "bebf6a35-6394-4a40-8330-384252a03691",
     "showTitle": false,
     "title": ""
    }
   },
   "outputs": [],
   "source": [
    "def split_location(df):\n",
    "    return df.withColumn(\"location_arr\", F.split(\"location\", \", \"))"
   ]
  },
  {
   "cell_type": "code",
   "execution_count": null,
   "metadata": {
    "application/vnd.databricks.v1+cell": {
     "cellMetadata": {
      "byteLimit": 2048000,
      "rowLimit": 10000
     },
     "inputWidgets": {},
     "nuid": "a1d60bf8-953a-41e7-8160-d9cb9d1e2b52",
     "showTitle": false,
     "title": ""
    }
   },
   "outputs": [],
   "source": [
    "df = split_location(df)"
   ]
  },
  {
   "cell_type": "code",
   "execution_count": null,
   "metadata": {
    "application/vnd.databricks.v1+cell": {
     "cellMetadata": {
      "byteLimit": 2048000,
      "rowLimit": 10000
     },
     "inputWidgets": {},
     "nuid": "064940ed-62a3-41d6-a202-c02524003656",
     "showTitle": false,
     "title": ""
    }
   },
   "outputs": [
    {
     "name": "stdout",
     "output_type": "stream",
     "text": [
      "Out[69]: Row(air_quality_index=200, user_id='maynardmorgan', location='10.66668, -61.51889, Port of Spain, TT, America/Port_of_Spain', top_pollutant='PM10', top_pollutant_concentration='88', timestamp='2022-04-07T14:38:34.869188', location_arr=['10.66668', '-61.51889', 'Port of Spain', 'TT', 'America/Port_of_Spain'])"
     ]
    }
   ],
   "source": [
    "df.head()"
   ]
  },
  {
   "cell_type": "markdown",
   "metadata": {
    "application/vnd.databricks.v1+cell": {
     "cellMetadata": {},
     "inputWidgets": {},
     "nuid": "bae720ff-d6ad-41e2-bbba-3750c8c0b996",
     "showTitle": false,
     "title": ""
    }
   },
   "source": [
    "Looking much better!!! Now we need to fix the schema problems... and take these from the location array and put them into actual columns!"
   ]
  },
  {
   "cell_type": "code",
   "execution_count": null,
   "metadata": {
    "application/vnd.databricks.v1+cell": {
     "cellMetadata": {},
     "inputWidgets": {},
     "nuid": "0b729b1a-3dff-4f36-8026-4509e8ba8282",
     "showTitle": false,
     "title": ""
    }
   },
   "outputs": [],
   "source": [
    "def create_cols_for_location_arr_items(df):\n",
    "# The 'location' column should be split into separate columns lat,long,city,country and timezone"
   ]
  },
  {
   "cell_type": "code",
   "execution_count": null,
   "metadata": {
    "application/vnd.databricks.v1+cell": {
     "cellMetadata": {
      "byteLimit": 2048000,
      "rowLimit": 10000
     },
     "inputWidgets": {},
     "nuid": "41bd5e6d-0275-441c-88ee-f041d6b3553a",
     "showTitle": false,
     "title": ""
    }
   },
   "outputs": [
    {
     "name": "stdout",
     "output_type": "stream",
     "text": [
      "All tests passed :)\n"
     ]
    }
   ],
   "source": [
    "def test_create_cols_for_location_arr_items():\n",
    "  schema = StructType([\n",
    "      StructField(\"id\", IntegerType()),\n",
    "      StructField(\"location\", StringType()),\n",
    "       StructField(\"location_arr\", ArrayType(StringType(), False))\n",
    "  ])\n",
    "  pandas_df = pd.DataFrame(\n",
    "      {\n",
    "          'id':  pd.Series([1, 2]),\n",
    "          'location': pd.Series([\"New York, NY\", \"Los Angeles, CA\"]),\n",
    "          'location_arr' : pd.Series([ [\"40.7128\",\"-74.0060\",\"New York\",\"USA\",\"America/New_York\"], [\"34.0522\",\"-118.2437\",\"Los Angeles\",\"USA\",\"America/Los_Angeles\"]])\n",
    "      }\n",
    "  )\n",
    "  expected_schema = StructType([\n",
    "      StructField(\"id\", IntegerType()),\n",
    "      StructField(\"location\", StringType()),\n",
    "      StructField(\"location_arr\", ArrayType(StringType(), False)),\n",
    "      StructField(\"lat\", FloatType()),\n",
    "      StructField(\"long\", FloatType()),\n",
    "      StructField(\"city\", StringType()),\n",
    "      StructField(\"country\", StringType()),\n",
    "      StructField(\"timezone\", StringType())\n",
    "  ])\n",
    "  expected_pandas_df = pd.DataFrame(\n",
    "      {\n",
    "          'id':  pd.Series([1, 2]),\n",
    "          'location': pd.Series([\"New York, NY\", \"Los Angeles, CA\"]),\n",
    "          'location_arr' : pd.Series([ [\"40.7128\",\"-74.0060\",\"New York\",\"USA\",\"America/New_York\"], [\"34.0522\",\"-118.2437\",\"Los Angeles\",\"USA\",\"America/Los_Angeles\"]]),\n",
    "          'lat' : pd.Series([40.7128, 34.0522]),\n",
    "          'long' : pd.Series([-74.0060, -118.2437]),\n",
    "          'city' : pd.Series([\"New York\", \"Los Angeles\"]),\n",
    "          'country' : pd.Series([\"USA\", \"USA\"]),\n",
    "          'timezone' : pd.Series([\"America/New_York\", \"America/Los_Angeles\"]),\n",
    "      }\n",
    "  )\n",
    "  spark_df = spark.createDataFrame(pandas_df,schema)\n",
    "  expected_df = spark.createDataFrame(expected_pandas_df,expected_schema)\n",
    "\n",
    "  fixed_df = create_cols_for_location_arr_items(spark_df)\n",
    " \n",
    "\n",
    "  assert fixed_df.schema == expected_df.schema\n",
    "  assert fixed_df.collect() == expected_df.collect()\n",
    "\n",
    "  print(\"All tests passed :)\")\n",
    "  \n",
    "test_create_cols_for_location_arr_items()"
   ]
  },
  {
   "cell_type": "markdown",
   "metadata": {
    "application/vnd.databricks.v1+cell": {
     "cellMetadata": {},
     "inputWidgets": {},
     "nuid": "f67d54f5-3344-4879-bda6-1d944684c681",
     "showTitle": false,
     "title": ""
    }
   },
   "source": [
    "##### Solution"
   ]
  },
  {
   "cell_type": "code",
   "execution_count": null,
   "metadata": {
    "application/vnd.databricks.v1+cell": {
     "cellMetadata": {
      "byteLimit": 2048000,
      "rowLimit": 10000
     },
     "inputWidgets": {},
     "nuid": "ad0a07a9-e673-4f57-b120-47827a4b1d27",
     "showTitle": false,
     "title": ""
    }
   },
   "outputs": [],
   "source": [
    "def create_cols_for_location_arr_items(df):\n",
    "    return df.withColumn('lat', df.location_arr.getItem(0).cast('float')) \\\n",
    "    .withColumn('long', df.location_arr.getItem(1).cast('float')) \\\n",
    "    .withColumn('city', df.location_arr.getItem(2)) \\\n",
    "    .withColumn('country', df.location_arr.getItem(3)) \\\n",
    "    .withColumn('timezone', df.location_arr.getItem(4))"
   ]
  },
  {
   "cell_type": "code",
   "execution_count": null,
   "metadata": {
    "application/vnd.databricks.v1+cell": {
     "cellMetadata": {
      "byteLimit": 2048000,
      "rowLimit": 10000
     },
     "inputWidgets": {},
     "nuid": "029fda7b-3237-4f06-afc2-dffca6f3ab3c",
     "showTitle": false,
     "title": ""
    }
   },
   "outputs": [
    {
     "name": "stdout",
     "output_type": "stream",
     "text": [
      "root\n",
      " |-- air_quality_index: integer (nullable = true)\n",
      " |-- user_id: string (nullable = true)\n",
      " |-- location: string (nullable = true)\n",
      " |-- top_pollutant: string (nullable = true)\n",
      " |-- top_pollutant_concentration: string (nullable = true)\n",
      " |-- timestamp: string (nullable = true)\n",
      " |-- location_arr: array (nullable = true)\n",
      " |    |-- element: string (containsNull = false)\n",
      " |-- lat: float (nullable = true)\n",
      " |-- long: float (nullable = true)\n",
      " |-- city: string (nullable = true)\n",
      " |-- country: string (nullable = true)\n",
      " |-- timezone: string (nullable = true)\n",
      "\n"
     ]
    }
   ],
   "source": [
    "df = create_cols_for_location_arr_items(df)\n",
    "df.printSchema()"
   ]
  },
  {
   "cell_type": "markdown",
   "metadata": {
    "application/vnd.databricks.v1+cell": {
     "cellMetadata": {},
     "inputWidgets": {},
     "nuid": "08ea923d-09d1-46c3-a558-1c3e89ef259e",
     "showTitle": false,
     "title": ""
    }
   },
   "source": [
    "The schema above looks much better, now I will drop the old columns since they are useless to me now..."
   ]
  },
  {
   "cell_type": "code",
   "execution_count": null,
   "metadata": {
    "application/vnd.databricks.v1+cell": {
     "cellMetadata": {
      "byteLimit": 2048000,
      "rowLimit": 10000
     },
     "inputWidgets": {},
     "nuid": "b1e15e70-135b-4599-82d5-4ad6f73a4db2",
     "showTitle": false,
     "title": ""
    }
   },
   "outputs": [],
   "source": [
    "df = df.drop('location', 'location_arr')"
   ]
  },
  {
   "cell_type": "markdown",
   "metadata": {
    "application/vnd.databricks.v1+cell": {
     "cellMetadata": {},
     "inputWidgets": {},
     "nuid": "a06f2e9b-8e90-4cb5-9dc3-ff4ae84d0f25",
     "showTitle": false,
     "title": ""
    }
   },
   "source": [
    "Next I need to create my air quality categories as follows...\n",
    "\n",
    "Based on the IQAir map, the ranges look to be about:\n",
    "\n",
    "    Great: less than or equal to 50\n",
    "    Good: 51-100\n",
    "    Okay: 101-150\n",
    "    Poor: 151-200\n",
    "    Bad: 201-300\n",
    "    Extremely Bad: 301+\n",
    "\n",
    "Let's make these into integer values 1-6"
   ]
  },
  {
   "cell_type": "code",
   "execution_count": null,
   "metadata": {
    "application/vnd.databricks.v1+cell": {
     "cellMetadata": {
      "byteLimit": 2048000,
      "rowLimit": 10000
     },
     "inputWidgets": {},
     "nuid": "99446385-b05f-4edc-989d-4f91ad292be1",
     "showTitle": false,
     "title": ""
    }
   },
   "outputs": [],
   "source": [
    "df = df.withColumn('air_quality_category', F.when(\n",
    "    df.air_quality_index <= 50, 1).when(\n",
    "    df.air_quality_index <= 100, 2).when(\n",
    "    df.air_quality_index <= 150, 3).when(\n",
    "    df.air_quality_index <= 200, 4).when(\n",
    "    df.air_quality_index <= 300, 5).otherwise(6))"
   ]
  },
  {
   "cell_type": "code",
   "execution_count": null,
   "metadata": {
    "application/vnd.databricks.v1+cell": {
     "cellMetadata": {
      "byteLimit": 2048000,
      "rowLimit": 10000
     },
     "inputWidgets": {},
     "nuid": "309c7c50-55dc-4b45-b450-1f7b9a850ef5",
     "showTitle": false,
     "title": ""
    }
   },
   "outputs": [
    {
     "name": "stdout",
     "output_type": "stream",
     "text": [
      "Out[20]: Row(air_quality_index=200, user_id='maynardmorgan', top_pollutant='PM10', top_pollutant_concentration='88', timestamp='2022-04-07T14:38:34.869188', lat=10.666680335998535, long=-61.518890380859375, city='Port of Spain', country='TT', timezone='America/Port_of_Spain', air_quality_category=4)"
     ]
    }
   ],
   "source": [
    "df.head()"
   ]
  },
  {
   "cell_type": "markdown",
   "metadata": {
    "application/vnd.databricks.v1+cell": {
     "cellMetadata": {},
     "inputWidgets": {},
     "nuid": "aabb8200-8a86-4a3d-b77f-d59f6ec8f239",
     "showTitle": false,
     "title": ""
    }
   },
   "source": [
    "### So what even is sensitive information?\n",
    "\n",
    "Categories of sensitive information:\n",
    "\n",
    "- **Personally Identifiable Information (PII)**: This is information that we can directly link to a person without much effort. This includes information like email address, IP address, legal name, address, birth date, gender and so forth. Even just one of these pieces of information can be enough to directly identify someone in a dataset.\n",
    "- **Person-Related Information**: This is data that is created by a person and that likely has some personal artifacts. For example, [web browsing histories are fairly unique](https://blog.lukaszolejnik.com/web-browsing-histories-are-private-personal-data-now-what/), so is location data (i.e. Where do you sleep at night? Where do you work?) and even your likes on social media can statistically reveal sensitive attributes, such as your gender, ethnicity and your political preferences.\n",
    "- **Confidential Information**: This is sensitive information for companies, that should remain protected via similar methods as personal data. This data could reveal details about the core business model, proprietary practices, customer details (which can also contain personal information!) and internal business processes.\n",
    "\n",
    "When we define sensitive information as only PII, we tend to ignore other potential targets of sensitive data, that might be just as, if not more valuable!"
   ]
  },
  {
   "cell_type": "markdown",
   "metadata": {
    "application/vnd.databricks.v1+cell": {
     "cellMetadata": {},
     "inputWidgets": {},
     "nuid": "d3d53bbe-8f60-4ccd-89a2-23e7a2b5317c",
     "showTitle": false,
     "title": ""
    }
   },
   "source": [
    "#### What is sensitive here?"
   ]
  },
  {
   "cell_type": "code",
   "execution_count": null,
   "metadata": {
    "application/vnd.databricks.v1+cell": {
     "cellMetadata": {
      "byteLimit": 2048000,
      "rowLimit": 10000
     },
     "inputWidgets": {},
     "nuid": "ae5a9e27-34bd-48d9-b1b8-0760f8dcbf18",
     "showTitle": false,
     "title": ""
    }
   },
   "outputs": [
    {
     "name": "stdout",
     "output_type": "stream",
     "text": [
      "-RECORD 0-------------------------------------------------\n",
      " air_quality_index           | 40                         \n",
      " user_id                     | hobbsjohn                  \n",
      " top_pollutant               | PM10                       \n",
      " top_pollutant_concentration | 11                         \n",
      " timestamp                   | 2022-04-07T16:03:26.869188 \n",
      " lat                         | 43.32686                   \n",
      " long                        | -2.98884                   \n",
      " city                        | Leioa                      \n",
      " country                     | ES                         \n",
      " timezone                    | Europe/Madrid              \n",
      " air_quality_category        | 1                          \n",
      "-RECORD 1-------------------------------------------------\n",
      " air_quality_index           | 320                        \n",
      " user_id                     | carterdaniel               \n",
      " top_pollutant               | O3                         \n",
      " top_pollutant_concentration | 11                         \n",
      " timestamp                   | 2022-04-07T17:21:41.869188 \n",
      " lat                         | 44.75874                   \n",
      " long                        | 19.21437                   \n",
      " city                        | Bijeljina                  \n",
      " country                     | BA                         \n",
      " timezone                    | Europe/Sarajevo            \n",
      " air_quality_category        | 6                          \n",
      "-RECORD 2-------------------------------------------------\n",
      " air_quality_index           | 320                        \n",
      " user_id                     | zacharyandrews             \n",
      " top_pollutant               | PM10                       \n",
      " top_pollutant_concentration | 7                          \n",
      " timestamp                   | 2022-04-07T18:20:19.869188 \n",
      " lat                         | 8.43333                    \n",
      " long                        | 99.96667                   \n",
      " city                        | Nakhon Si Thammarat        \n",
      " country                     | TH                         \n",
      " timezone                    | Asia/Bangkok               \n",
      " air_quality_category        | 6                          \n",
      "only showing top 3 rows\n",
      "\n"
     ]
    }
   ],
   "source": [
    "df.sample(0.01).show(3, truncate=False, vertical=True)"
   ]
  },
  {
   "cell_type": "markdown",
   "metadata": {
    "application/vnd.databricks.v1+cell": {
     "cellMetadata": {},
     "inputWidgets": {},
     "nuid": "32ae697d-4040-46e5-a92d-e9f79b03dcae",
     "showTitle": false,
     "title": ""
    }
   },
   "source": [
    "#### How might we...?\n",
    "\n",
    "- Protect user_id while still allowing it to be linkable?\n",
    "- Remove potentially identifying precision in location?\n",
    "- Remove potentially identifying information in the timestamp?\n",
    "- Make these into scalable and repeatable actions for our workflow?\n",
    "\n",
    "Let's work on these step by step!"
   ]
  },
  {
   "cell_type": "markdown",
   "metadata": {
    "application/vnd.databricks.v1+cell": {
     "cellMetadata": {},
     "inputWidgets": {},
     "nuid": "11ce1ccb-12a9-402d-8b35-77aefebb714e",
     "showTitle": false,
     "title": ""
    }
   },
   "source": [
    "# Cryptographic Hashing\n",
    "\n",
    "\n",
    "- Protect user_id by hashing it's value \n",
    "\n",
    "Hashing is a one-way function that takes an input (e.g. a password or other data) and generates a fixed-size output (the hash value) that is unique to that input.The purpose of hashing is to provide data integrity and to protect against tampering or unauthorized modifications of the data."
   ]
  },
  {
   "cell_type": "code",
   "execution_count": null,
   "metadata": {
    "application/vnd.databricks.v1+cell": {
     "cellMetadata": {
      "byteLimit": 2048000,
      "rowLimit": 10000
     },
     "inputWidgets": {},
     "nuid": "9c3d74c3-39cd-4764-99ef-3ba37c12148b",
     "showTitle": false,
     "title": ""
    }
   },
   "outputs": [
    {
     "data": {
      "text/plain": [
       "\u001b[0;36m  File \u001b[0;32m\"<command-1661023049023575>\"\u001b[0;36m, line \u001b[0;32m1\u001b[0m\n",
       "\u001b[0;31m    def hash_column(df, column_name):\u001b[0m\n",
       "\u001b[0m                                     ^\u001b[0m\n",
       "\u001b[0;31mIndentationError\u001b[0m\u001b[0;31m:\u001b[0m expected an indented block\n"
      ]
     },
     "metadata": {
      "application/vnd.databricks.v1+output": {
       "arguments": {},
       "data": "\u001b[0;36m  File \u001b[0;32m\"<command-1661023049023575>\"\u001b[0;36m, line \u001b[0;32m1\u001b[0m\n\u001b[0;31m    def hash_column(df, column_name):\u001b[0m\n\u001b[0m                                     ^\u001b[0m\n\u001b[0;31mIndentationError\u001b[0m\u001b[0;31m:\u001b[0m expected an indented block\n",
       "errorSummary": "<span class='ansi-red-fg'>IndentationError</span>: expected an indented block (<command-1661023049023575>, line 1)",
       "errorTraceType": "ansi",
       "metadata": {},
       "type": "ipynbError"
      }
     },
     "output_type": "display_data"
    }
   ],
   "source": [
    "def hash_column(df, column_name):\n",
    "    # TODO"
   ]
  },
  {
   "cell_type": "code",
   "execution_count": null,
   "metadata": {
    "application/vnd.databricks.v1+cell": {
     "cellMetadata": {
      "byteLimit": 2048000,
      "rowLimit": 10000
     },
     "inputWidgets": {},
     "nuid": "6ecc5a6e-38e9-4268-bf79-841d6e8ee9b9",
     "showTitle": false,
     "title": ""
    }
   },
   "outputs": [],
   "source": [
    " def test_hash_column():\n",
    "     schema = StructType([StructField(\"user_id\", StringType(), True)])\n",
    "     data = [(\"12345\",), (\"67890\",), (\"abcdef\",)]\n",
    "     df = spark.createDataFrame(data, schema)\n",
    "        \n",
    "     hashed_df = hash_column(df, \"user_id\")\n",
    "        \n",
    "     original_values = [\"12345\", \"67890\", \"abcdef\"]\n",
    "     hashed_values = hashed_df.select(\"hashed_user_id\").rdd.flatMap(lambda x: x).collect()\n",
    "     for i in range(len(original_values)):\n",
    "         assert hashed_values[i] != original_values[i], \"The number of hashed values has been matched with the original value\"\n",
    "            "
   ]
  },
  {
   "cell_type": "code",
   "execution_count": null,
   "metadata": {
    "application/vnd.databricks.v1+cell": {
     "cellMetadata": {
      "byteLimit": 2048000,
      "rowLimit": 10000
     },
     "inputWidgets": {},
     "nuid": "db0bd939-4c90-4c64-b180-e267f6dbb58c",
     "showTitle": false,
     "title": ""
    }
   },
   "outputs": [
    {
     "name": "stdout",
     "output_type": "stream",
     "text": [
      "+-----------------+----------------+-------------+---------------------------+--------------------+---------+---------+-------------------+-------+--------------------+--------------------+--------------------+\n",
      "|air_quality_index|         user_id|top_pollutant|top_pollutant_concentration|           timestamp|      lat|     long|               city|country|            timezone|air_quality_category|      hashed_user_id|\n",
      "+-----------------+----------------+-------------+---------------------------+--------------------+---------+---------+-------------------+-------+--------------------+--------------------+--------------------+\n",
      "|              200|   maynardmorgan|         PM10|                         88|2022-04-07T14:38:...| 10.66668|-61.51889|      Port of Spain|     TT|America/Port_of_S...|                   4|ef0e8649d9000ff22...|\n",
      "|              200|millerjacqueline|         PM10|                         45|2022-04-07T14:39:...| 34.25628|-78.04471|             Leland|     US|    America/New_York|                   4|3ed407ff320fa7e1c...|\n",
      "|                0|           ikirk|          NO2|                         31|2022-04-07T14:39:...| 43.48961|  -8.2194|             Ferrol|     ES|       Europe/Madrid|                   1|d6dc43d1eddaf86a3...|\n",
      "|              300| williamszachary|           CO|                         15|2022-04-07T14:40:...| 42.06166| -1.60452|             Tudela|     ES|       Europe/Madrid|                   5|2d52a80f1269fa45a...|\n",
      "|              280|        sfarrell|        PM2.5|                         62|2022-04-07T14:41:...|   -28.24|-48.67028|           Imbituba|     BR|   America/Sao_Paulo|                   5|199fbb0cf17446f7b...|\n",
      "|               20|     mariamartin|           CO|                          9|2022-04-07T14:41:...| 51.40944| 46.04833|       Privolzhskiy|     RU|      Europe/Saratov|                   1|844263bdd99411a71...|\n",
      "|               80|   michaelfuller|           CO|                         99|2022-04-07T14:42:...| 53.30972| 83.62389|     Novosilikatnyy|     RU|        Asia/Barnaul|                   2|2b2092ab6ecde8454...|\n",
      "|              100|       acummings|          SO2|                         32|2022-04-07T14:43:...| 52.53048| 13.29371|Charlottenburg-Nord|     DE|       Europe/Berlin|                   2|7d686f976893f470a...|\n",
      "|              140|    glorialandry|          NO2|                         77|2022-04-07T14:43:...| 37.13548| -3.67029|         Las Gabias|     ES|       Europe/Madrid|                   3|f0cdc51de348d6ad2...|\n",
      "|               60|      martinjohn|           O3|                         73|2022-04-07T14:44:...|  5.30383| -1.98956|             Tarkwa|     GH|        Africa/Accra|                   2|15be00a1fb4b128a6...|\n",
      "|              360|  karenmaldonado|           O3|                          7|2022-04-07T14:45:...| 46.65581|  32.6178|            Kherson|     UA|         Europe/Kiev|                   6|e4868e74cb3abef3e...|\n",
      "|               60|     aaronholden|        PM2.5|                         44|2022-04-07T14:46:...| 42.22718| 14.39024|           Lanciano|     IT|         Europe/Rome|                   2|e9f84ce09b08c6279...|\n",
      "|              240|        johnny58|         PM10|                         29|2022-04-07T14:46:...|-22.53722|-42.98194|         Guapimirim|     BR|   America/Sao_Paulo|                   5|812e1d4421f0b8fdf...|\n",
      "|              220|   sanderssummer|        PM2.5|                         62|2022-04-07T14:47:...| 40.87329| 14.43865|    Somma Vesuviana|     IT|         Europe/Rome|                   5|8347a519499114eb9...|\n",
      "|              200|   bradleymosley|           CO|                         11|2022-04-07T14:47:...|  3.51667|     11.5|           Mbalmayo|     CM|       Africa/Douala|                   4|302198479d636635f...|\n",
      "|               20|   atkinsrussell|          SO2|                         77|2022-04-07T14:48:...| 49.03685|  8.70745|            Bretten|     DE|       Europe/Berlin|                   1|070206423832ef1e9...|\n",
      "|                0|          hlewis|          NO2|                         80|2022-04-07T14:49:...|  53.0233| -1.48119|             Belper|     GB|       Europe/London|                   1|a6b7474c78c8c6af2...|\n",
      "|              180|  crystalcarlson|          NO2|                         25|2022-04-07T14:49:...| 54.58048| 16.86194|              Ustka|     PL|       Europe/Warsaw|                   4|d724eeabf5cff077a...|\n",
      "|              220|        sharon04|         PM10|                         43|2022-04-07T14:50:...| 39.71734|-74.96933|       Sicklerville|     US|    America/New_York|                   5|66a77bd4cca8dbded...|\n",
      "|              120|        tjohnson|        PM2.5|                         43|2022-04-07T14:51:...|  19.8173|-97.35992|          Teziutlan|     MX| America/Mexico_City|                   3|25b7dc49e6bd18e1d...|\n",
      "+-----------------+----------------+-------------+---------------------------+--------------------+---------+---------+-------------------+-------+--------------------+--------------------+--------------------+\n",
      "only showing top 20 rows\n",
      "\n"
     ]
    }
   ],
   "source": [
    "df = hash_column(df, 'user_id')\n",
    "df.show()"
   ]
  },
  {
   "cell_type": "markdown",
   "metadata": {
    "application/vnd.databricks.v1+cell": {
     "cellMetadata": {},
     "inputWidgets": {},
     "nuid": "3facc2b3-113c-49e4-b437-28ef1f863abc",
     "showTitle": false,
     "title": ""
    }
   },
   "source": [
    "# Solution"
   ]
  },
  {
   "cell_type": "code",
   "execution_count": null,
   "metadata": {
    "application/vnd.databricks.v1+cell": {
     "cellMetadata": {
      "byteLimit": 2048000,
      "rowLimit": 10000
     },
     "inputWidgets": {},
     "nuid": "83761766-d7cd-4baf-82a2-3dbbc6632e84",
     "showTitle": false,
     "title": ""
    }
   },
   "outputs": [],
   "source": [
    "from pyspark.sql.functions import udf\n",
    "from pyspark.sql.types import StringType\n",
    "import hashlib\n",
    "\n",
    "def hash_column(df, column_name):\n",
    "    def sha256_hash(value):\n",
    "        return hashlib.sha256(str(value).encode('utf-8')).hexdigest()\n",
    "    udf_sha256_hash = udf(sha256_hash, StringType())\n",
    "    df = df.withColumn('hashed_' + column_name, udf_sha256_hash(column_name))\n",
    "    return df"
   ]
  },
  {
   "cell_type": "code",
   "execution_count": null,
   "metadata": {
    "application/vnd.databricks.v1+cell": {
     "cellMetadata": {
      "byteLimit": 2048000,
      "rowLimit": 10000
     },
     "inputWidgets": {},
     "nuid": "b2aa65e7-af42-4cda-9c83-8e4b2f60ae58",
     "showTitle": false,
     "title": ""
    }
   },
   "outputs": [
    {
     "name": "stdout",
     "output_type": "stream",
     "text": [
      "+-----------------+----------------+-------------+---------------------------+--------------------+---------+---------+-------------------+-------+--------------------+--------------------+--------------------+\n",
      "|air_quality_index|         user_id|top_pollutant|top_pollutant_concentration|           timestamp|      lat|     long|               city|country|            timezone|air_quality_category|      hashed_user_id|\n",
      "+-----------------+----------------+-------------+---------------------------+--------------------+---------+---------+-------------------+-------+--------------------+--------------------+--------------------+\n",
      "|              200|   maynardmorgan|         PM10|                         88|2022-04-07T14:38:...| 10.66668|-61.51889|      Port of Spain|     TT|America/Port_of_S...|                   4|ef0e8649d9000ff22...|\n",
      "|              200|millerjacqueline|         PM10|                         45|2022-04-07T14:39:...| 34.25628|-78.04471|             Leland|     US|    America/New_York|                   4|3ed407ff320fa7e1c...|\n",
      "|                0|           ikirk|          NO2|                         31|2022-04-07T14:39:...| 43.48961|  -8.2194|             Ferrol|     ES|       Europe/Madrid|                   1|d6dc43d1eddaf86a3...|\n",
      "|              300| williamszachary|           CO|                         15|2022-04-07T14:40:...| 42.06166| -1.60452|             Tudela|     ES|       Europe/Madrid|                   5|2d52a80f1269fa45a...|\n",
      "|              280|        sfarrell|        PM2.5|                         62|2022-04-07T14:41:...|   -28.24|-48.67028|           Imbituba|     BR|   America/Sao_Paulo|                   5|199fbb0cf17446f7b...|\n",
      "|               20|     mariamartin|           CO|                          9|2022-04-07T14:41:...| 51.40944| 46.04833|       Privolzhskiy|     RU|      Europe/Saratov|                   1|844263bdd99411a71...|\n",
      "|               80|   michaelfuller|           CO|                         99|2022-04-07T14:42:...| 53.30972| 83.62389|     Novosilikatnyy|     RU|        Asia/Barnaul|                   2|2b2092ab6ecde8454...|\n",
      "|              100|       acummings|          SO2|                         32|2022-04-07T14:43:...| 52.53048| 13.29371|Charlottenburg-Nord|     DE|       Europe/Berlin|                   2|7d686f976893f470a...|\n",
      "|              140|    glorialandry|          NO2|                         77|2022-04-07T14:43:...| 37.13548| -3.67029|         Las Gabias|     ES|       Europe/Madrid|                   3|f0cdc51de348d6ad2...|\n",
      "|               60|      martinjohn|           O3|                         73|2022-04-07T14:44:...|  5.30383| -1.98956|             Tarkwa|     GH|        Africa/Accra|                   2|15be00a1fb4b128a6...|\n",
      "|              360|  karenmaldonado|           O3|                          7|2022-04-07T14:45:...| 46.65581|  32.6178|            Kherson|     UA|         Europe/Kiev|                   6|e4868e74cb3abef3e...|\n",
      "|               60|     aaronholden|        PM2.5|                         44|2022-04-07T14:46:...| 42.22718| 14.39024|           Lanciano|     IT|         Europe/Rome|                   2|e9f84ce09b08c6279...|\n",
      "|              240|        johnny58|         PM10|                         29|2022-04-07T14:46:...|-22.53722|-42.98194|         Guapimirim|     BR|   America/Sao_Paulo|                   5|812e1d4421f0b8fdf...|\n",
      "|              220|   sanderssummer|        PM2.5|                         62|2022-04-07T14:47:...| 40.87329| 14.43865|    Somma Vesuviana|     IT|         Europe/Rome|                   5|8347a519499114eb9...|\n",
      "|              200|   bradleymosley|           CO|                         11|2022-04-07T14:47:...|  3.51667|     11.5|           Mbalmayo|     CM|       Africa/Douala|                   4|302198479d636635f...|\n",
      "|               20|   atkinsrussell|          SO2|                         77|2022-04-07T14:48:...| 49.03685|  8.70745|            Bretten|     DE|       Europe/Berlin|                   1|070206423832ef1e9...|\n",
      "|                0|          hlewis|          NO2|                         80|2022-04-07T14:49:...|  53.0233| -1.48119|             Belper|     GB|       Europe/London|                   1|a6b7474c78c8c6af2...|\n",
      "|              180|  crystalcarlson|          NO2|                         25|2022-04-07T14:49:...| 54.58048| 16.86194|              Ustka|     PL|       Europe/Warsaw|                   4|d724eeabf5cff077a...|\n",
      "|              220|        sharon04|         PM10|                         43|2022-04-07T14:50:...| 39.71734|-74.96933|       Sicklerville|     US|    America/New_York|                   5|66a77bd4cca8dbded...|\n",
      "|              120|        tjohnson|        PM2.5|                         43|2022-04-07T14:51:...|  19.8173|-97.35992|          Teziutlan|     MX| America/Mexico_City|                   3|25b7dc49e6bd18e1d...|\n",
      "+-----------------+----------------+-------------+---------------------------+--------------------+---------+---------+-------------------+-------+--------------------+--------------------+--------------------+\n",
      "only showing top 20 rows\n",
      "\n"
     ]
    }
   ],
   "source": [
    "new_df= spark.createDataFrame(df.rdd, df.schema)\n",
    "new_df.show()"
   ]
  },
  {
   "cell_type": "code",
   "execution_count": null,
   "metadata": {
    "application/vnd.databricks.v1+cell": {
     "cellMetadata": {
      "byteLimit": 2048000,
      "rowLimit": 10000
     },
     "inputWidgets": {},
     "nuid": "4a0e1452-4738-419c-8f97-55fe1eb7699a",
     "showTitle": false,
     "title": ""
    }
   },
   "outputs": [
    {
     "name": "stdout",
     "output_type": "stream",
     "text": [
      "b'gAAAAABkGyzxTObnwBfUNYp57Ab1EbgJah5pTlSYmY1wMdmnAHRYjNxHLjABX0ksgvqIHP60s4pZZ8OCjJAG8OkuJ5gP9DX5wA=='\n"
     ]
    }
   ],
   "source": [
    "# Example code to show how Fernet works and encrypts a text string. \n",
    " \n",
    "from cryptography.fernet import Fernet\n",
    "# >>> Put this somewhere safe!\n",
    "key = Fernet.generate_key()\n",
    "f = Fernet(key)\n",
    "token = f.encrypt(b\"secret message\")\n",
    "print(token)"
   ]
  },
  {
   "cell_type": "code",
   "execution_count": null,
   "metadata": {
    "application/vnd.databricks.v1+cell": {
     "cellMetadata": {
      "byteLimit": 2048000,
      "rowLimit": 10000
     },
     "inputWidgets": {},
     "nuid": "f6df7b17-76a3-48d2-84ab-251b6b914665",
     "showTitle": false,
     "title": ""
    }
   },
   "outputs": [
    {
     "name": "stdout",
     "output_type": "stream",
     "text": [
      "secret message\n"
     ]
    }
   ],
   "source": [
    "print(f.decrypt(token).decode())"
   ]
  },
  {
   "cell_type": "code",
   "execution_count": null,
   "metadata": {
    "application/vnd.databricks.v1+cell": {
     "cellMetadata": {
      "byteLimit": 2048000,
      "rowLimit": 10000
     },
     "inputWidgets": {},
     "nuid": "6280854e-a3f8-4c19-b30c-be63014f8199",
     "showTitle": false,
     "title": ""
    }
   },
   "outputs": [],
   "source": [
    "# generate the encryption key\n",
    "Key = Fernet.generate_key()"
   ]
  },
  {
   "cell_type": "code",
   "execution_count": null,
   "metadata": {
    "application/vnd.databricks.v1+cell": {
     "cellMetadata": {
      "byteLimit": 2048000,
      "rowLimit": 10000
     },
     "inputWidgets": {},
     "nuid": "c8bf483e-6c23-4a3f-8adb-21b3ce7d2485",
     "showTitle": false,
     "title": ""
    }
   },
   "outputs": [],
   "source": [
    "# Define Encrypt User Defined Function \n",
    "def encrypt_user_id(plain_text,MASTER_KEY):\n",
    "    f = Fernet(MASTER_KEY)\n",
    "    plain_text_bytes=bytes(plain_text, 'utf-8')\n",
    "    cipher_text = f.encrypt(plain_text_bytes)\n",
    "    cipher_text = str(cipher_text.decode('ascii'))\n",
    "    return cipher_text"
   ]
  },
  {
   "cell_type": "code",
   "execution_count": null,
   "metadata": {
    "application/vnd.databricks.v1+cell": {
     "cellMetadata": {
      "byteLimit": 2048000,
      "rowLimit": 10000
     },
     "inputWidgets": {},
     "nuid": "3efed140-46bd-4658-82ce-34ab8d247e07",
     "showTitle": false,
     "title": ""
    }
   },
   "outputs": [
    {
     "name": "stdout",
     "output_type": "stream",
     "text": [
      "All tests passed\n"
     ]
    }
   ],
   "source": [
    "import pandas as pd\n",
    "\n",
    "def test_encrypt_user_id():\n",
    "    \n",
    "    plain_df = spark.createDataFrame(\n",
    "        data=[\n",
    "            (1,\"abcd\"),\n",
    "            (2,\"efgh\"),\n",
    "            (3,\"ijkl\")\n",
    "        ],\n",
    "        schema= [\"id\",\"user_id\"],\n",
    "    )\n",
    "       \n",
    "    key = Fernet.generate_key()\n",
    "    f = Fernet(key)\n",
    "    \n",
    "    encrypted_udf = udf(encrypt_user_id, StringType())    \n",
    "    encrypted_df = plain_df.withColumn(\"user_id\", encrypted_udf(col('user_id'), lit(key))) \n",
    "    \n",
    "    expected_decrypted_list = [f.decrypt(i['user_id'].encode()).decode() for i in encrypted_df.select(col('user_id')).collect() ]\n",
    "    \n",
    "    assert plain_df.select(col('user_id')).collect() != encrypted_df.select(col('user_id')).collect(),\"The user_id column has to be encrypted after the encryption logic applied\"    \n",
    "    assert plain_df.rdd.map(lambda x: x.user_id).collect() == expected_decrypted_list,\"The decrypted values has to match the plain_df's user_id values\"\n",
    "    \n",
    "    print(\"All tests passed\")\n",
    "    \n",
    "test_encrypt_user_id()    "
   ]
  },
  {
   "cell_type": "code",
   "execution_count": null,
   "metadata": {
    "application/vnd.databricks.v1+cell": {
     "cellMetadata": {
      "byteLimit": 2048000,
      "rowLimit": 10000
     },
     "inputWidgets": {},
     "nuid": "2ff73fa3-c77f-45bc-984b-9535673e4d52",
     "showTitle": false,
     "title": ""
    }
   },
   "outputs": [],
   "source": [
    "encrypted_udf = udf(encrypt_user_id, StringType())"
   ]
  },
  {
   "cell_type": "code",
   "execution_count": null,
   "metadata": {
    "application/vnd.databricks.v1+cell": {
     "cellMetadata": {
      "byteLimit": 2048000,
      "rowLimit": 10000
     },
     "inputWidgets": {},
     "nuid": "497fa546-0468-4228-b38d-f058fc1fd093",
     "showTitle": false,
     "title": ""
    }
   },
   "outputs": [
    {
     "name": "stdout",
     "output_type": "stream",
     "text": [
      "+--------------------+\n",
      "|             user_id|\n",
      "+--------------------+\n",
      "|gAAAAABkGy0IVVr0g...|\n",
      "|gAAAAABkGy0IjDfY0...|\n",
      "|gAAAAABkGy0IOUubu...|\n",
      "|gAAAAABkGy0ITkU8w...|\n",
      "|gAAAAABkGy0IQbmjQ...|\n",
      "|gAAAAABkGy0I4dz8K...|\n",
      "|gAAAAABkGy0I7imUA...|\n",
      "|gAAAAABkGy0IqVj1C...|\n",
      "|gAAAAABkGy0Imupli...|\n",
      "|gAAAAABkGy0IvV_z1...|\n",
      "|gAAAAABkGy0IEU6IJ...|\n",
      "|gAAAAABkGy0Ik0gqL...|\n",
      "|gAAAAABkGy0ICoVji...|\n",
      "|gAAAAABkGy0IM1SOo...|\n",
      "|gAAAAABkGy0IxMw1V...|\n",
      "|gAAAAABkGy0I5Tp5q...|\n",
      "|gAAAAABkGy0I9K-j8...|\n",
      "|gAAAAABkGy0Ihug2P...|\n",
      "|gAAAAABkGy0Inylca...|\n",
      "|gAAAAABkGy0IT4Rwh...|\n",
      "+--------------------+\n",
      "only showing top 20 rows\n",
      "\n"
     ]
    }
   ],
   "source": [
    "df.select(encrypted_udf(col(\"user_id\"),lit(Key)).alias(\"user_id\")).show()"
   ]
  },
  {
   "cell_type": "markdown",
   "metadata": {
    "application/vnd.databricks.v1+cell": {
     "cellMetadata": {},
     "inputWidgets": {},
     "nuid": "e52cdf63-56b6-499c-90d6-9e276984d5e0",
     "showTitle": false,
     "title": ""
    }
   },
   "source": [
    "It looks like it's working, but with UDFs you never know. Remember, Spark function evaluation is LAZY, so it will sample a bit and test. To see if it will work on the entire dataframe, we need to call collect. Let's test it out!"
   ]
  },
  {
   "cell_type": "code",
   "execution_count": null,
   "metadata": {
    "application/vnd.databricks.v1+cell": {
     "cellMetadata": {
      "byteLimit": 2048000,
      "rowLimit": 10000
     },
     "inputWidgets": {},
     "nuid": "ce779e8a-3b5f-4524-b2c2-2214c660b17c",
     "showTitle": false,
     "title": ""
    }
   },
   "outputs": [
    {
     "name": "stdout",
     "output_type": "stream",
     "text": [
      "Out[51]: [Row(user_id='gAAAAABkGy0Mr_pVtEHab43QRKAC9fgqtc7HeqSb5He8A0qngKwQfkYEb5YdzS1IvGsvwBQTclRILgc0WS5qDpAOspTN6t63Bg=='),\n",
      " Row(user_id='gAAAAABkGy0MJwC-SYamhzHCRmpd2FQXVGNHZveAvb5boM54mTs72TLViitTf9DunczParXLJpwtmztJfM_2a13BWQApBDTANFoTRJeszD3jArz487zBQbo='),\n",
      " Row(user_id='gAAAAABkGy0MD00pL7sZcBnYmQA0Qbu0uErD16mQaKiIixjDG9KbOULAkvJIzTEY6oOI_AVlcbhgm-FORaqRrkssz4cU8dKFdw=='),\n",
      " Row(user_id='gAAAAABkGy0MTiT4B8KhYZ_xfknySwWn7Ws4ZuwoHLN7e4h2wW2W8FfO08JudiSJ5pdNnVzBqXVXLFDFtHehK0amELOlRAaJAQ=='),\n",
      " Row(user_id='gAAAAABkGy0M_eimWi116TvPUSCkVkVbtDH3FsuOp6ErsDzJzpGbtI1b8FJ4nQJYTubXbJjKPScHuhdJCLtLUVxAAfSNTtwElQ=='),\n",
      " Row(user_id='gAAAAABkGy0M5ZEm_vF72lzWujWsGL49ENQHIJdao1G92ypDPWfdodDw2m_uOO2MuRgY_kS3dO63wR2F4tIfNWHm-aRYkzg2Zw=='),\n",
      " Row(user_id='gAAAAABkGy0MsOUYNwnnX2zB9RCCaBgPTNABmRMaONAsaacIQDD_CGbmNb97iM-fyl8PCW8e7HvN_Z3F-qrol7XGu_baIYQRNQ=='),\n",
      " Row(user_id='gAAAAABkGy0MCPprjRJqCM4d029WR19hNhfV5XVHa_2CldWB8AbZy9IetgzTXdElOzwTlg4jNg9bkjINgOBsB4s2SPGtqCoPXQ=='),\n",
      " Row(user_id='gAAAAABkGy0M9Q3aw3De7M-nLMHjvBlMQqTOE0ZvFtFJJY8SSoKC3RLrHE-qAzwJjeMbCvGYPjDX9Mj1Zr5LpCQ3AFt6eb3cqA=='),\n",
      " Row(user_id='gAAAAABkGy0Mskku5xmnQqIuQNgEIw61Vdy7UbbYcNTwxeUqUhvF7xMyFA9GoQK8lXDhQ93RKoO9anZbyau2lG-rR5m-gSGfVA=='),\n",
      " Row(user_id='gAAAAABkGy0MgSbnQ8qTCIhSRGh8Q8GhAjs5RUqMbycjHLxQ0z2Jvt2toJShv-CnL4ASRMLBtz66zJsAjTsIhQniRjEnTfbGTQ=='),\n",
      " Row(user_id='gAAAAABkGy0MGQkhF-pLMwRGAwjBO6bZ3v9nQ7aVrjt3dqWPkfQ0131B99FKQPgtEHBmidAJ0UxyzPr3yjHRv7WzgZW7cE73pA=='),\n",
      " Row(user_id='gAAAAABkGy0MArapvcy3oRcaGaAME65-x6VEzu7rxdhmbYHbA61OnKetaq9_uttg-Dz3lPkblkzZFWNQg-7_gMiOj2nstLQeUA=='),\n",
      " Row(user_id='gAAAAABkGy0MqZBSAj0TXRNtfDKBrjH95l1skMdN8Dr-rkETlSG8Z3t3zI6shCNiNMWgYmdsAlFQ2Iagl5H4SebPS9AfCZuVmA=='),\n",
      " Row(user_id='gAAAAABkGy0MweAFZqFEEqDvkyzlLipXw2MBhh2pqTefNtDJtljH_ExiVK99Icn3_C4vNEpxa5LCkJKhrqBpBANVEVz7ZcjABw=='),\n",
      " Row(user_id='gAAAAABkGy0M7h5uq-8tl9aKJWHZafUrEDo3e8NXir8bcp7brdNvHgEymx5sURYvGd7YBH9yrp6cBkr2v0a_mfQIvV72nNa4ig=='),\n",
      " Row(user_id='gAAAAABkGy0MuXemYZqhTTVpWsSKy8BpBg1tvlIguH1ESU1_drtOenJDTTzlYQYFADYlvWvccWZ4Kb41FhxTEwTrEEaCKb-YFg=='),\n",
      " Row(user_id='gAAAAABkGy0MTvPtrROXX4uvFxerRd5MWxYrSnPMJzDYLk2Sc_Ulzi3atKlYZR3uzMEv1UzxAAcaCbBnm6awRzxvT2xl1JQnUQ=='),\n",
      " Row(user_id='gAAAAABkGy0MO5aipKSoACnapY4qi6sALNXasLMeOojBlRRicfU12_8git1dZHT6wz4AcOIIS45MdPL_iG7HWPhgEstUb7WrhA=='),\n",
      " Row(user_id='gAAAAABkGy0MpeOUQj-rx40pm78DNict0FMxeXBcZU9IZxf2eJOkGFlImiZgcbElNfBc9waNo7nuV9d7Ekbb196N8SA_-IwcxQ=='),\n",
      " Row(user_id='gAAAAABkGy0MzUpqip7E12UZCHMV1nsRg6VNcjAxLdlVH1iv9KTNYz9lIzuyLzSUPcbhiUvmwqh9eIRM_39HaKA-Ai5M_EkrUQ=='),\n",
      " Row(user_id='gAAAAABkGy0MDHjMIT-_fvBawYWzj5d386tzv4WZNmKJ0sg6nVXh6EDIN30xkBka5orPNGoEJW9nR11iBO44BvNxU9Qk0icKog=='),\n",
      " Row(user_id='gAAAAABkGy0M6AbypxJ386cjuYQJDSTkqbpagPM0ldHYlvoag6KJAjc-YvxyMwiFh-izz7tUIIBbkeNUF01p2lV0hTqUgt2ecA=='),\n",
      " Row(user_id='gAAAAABkGy0M4V9Vd_ADTj777XY72oZMp9_UVCmyzYXwtlI7sdoG_Q_AKLt-0S3chJ0MPfgK59ICqplU7fp0WCFoDclwszwvNQ=='),\n",
      " Row(user_id='gAAAAABkGy0McO3KVBcdrmWGYJB7GjBkUBDl5w7cIsqpONi23Ogdxk3VxuPo0lDpQZxJ8mzi5_YktRjoITkFjfUcNBrqU6Zm3Q=='),\n",
      " Row(user_id='gAAAAABkGy0MuBgdaKcZK-0a8toFqkzvDLIg7jfVnZYi_yM4lLwLWhtUfHsYygfNqx454Ulvkc_JwGFqGP5zZTXy2Ha3uAiIzA=='),\n",
      " Row(user_id='gAAAAABkGy0MWr4FVJqDFXQRJJPSi5veIqNUUx3PC-jls6kbx-tsJtZalKnirP1cQAAKVZmkjI0U5uomC4-7E28cAABnsNTF9A=='),\n",
      " Row(user_id='gAAAAABkGy0M4A2IWpjhm6llhkv9VMquaaXWI-UNdwTND_C2LqoRi94sbIWHoas8GdJBdW3dInwb3Rav562HoLTMZ2yHQVlWug=='),\n",
      " Row(user_id='gAAAAABkGy0Mki52E6lEyiHwQAxahV83bMEfVmmoLO9_s8eJlzxyG0O6OnbWbhOBFdPWNs_RGQwA-a4gisBK5wLfKVPkN7c-kw=='),\n",
      " Row(user_id='gAAAAABkGy0MrSc99CS2CRt0egHd6XSpalizQNCKZpZmFJ21kTugqfxZJ2-JZ07FIPpGVGrvv9RObJADuGaZF_cKwh3_14rI1Q=='),\n",
      " Row(user_id='gAAAAABkGy0MW1awiYBVUgFuM44Gb_ZnN-3sRhBliyUJkjB_NB2HHJXmWYwT7NQL7jnxlgEp3X4YUd-LRfBxIadrkSh8a-uaTA=='),\n",
      " Row(user_id='gAAAAABkGy0Mn7UzHkaS2_Wzn3LyH9nBC_xBVMCPJvLGEA0kKzKHggfu6UfJ_OftVJ3e_zRAFLGO6nKJtrD66ApDf8FlPjYa9g=='),\n",
      " Row(user_id='gAAAAABkGy0MJCVXo34_3VK7qmxRP-BaKcd9abIzcaNJjq9Da942VwuOUKdTHO9rMP7Pconm7rdUcA2E7Yt-rlGPN_5yXhp_bQ=='),\n",
      " Row(user_id='gAAAAABkGy0M-6LgjfOgSo80AWj_kNry1YBcrVZVLuJ11er8A1_hjUHwF5kuJZamPWTKbPggpaI-gHX0Pv7yrccThS0ArfgxkQ=='),\n",
      " Row(user_id='gAAAAABkGy0Mzw5Z5uqKmEMcs03YkV5uYS-g-PyB3Te7SnizIOAJtsFEDuZi2vN1GwxvGAbxH1qMVSb0gLvCq4RxJne6mBNGnQ=='),\n",
      " Row(user_id='gAAAAABkGy0Mrb0m_yXkz_caehP5-lAaT6ZUmBytRp1YwK9szzliQDNoZvW7WAMa4hIQJSagGd9m8uYr4e69DFnRZ9y0kpbTUA=='),\n",
      " Row(user_id='gAAAAABkGy0Mbt1M-oqGxqZLUm15pFbcIuEFKgaSpSpytk2alZHb0b5b_7QBVBDmEWIcZGhQ6SOf0-qLG_mAZ77rm-BMw4OrRA=='),\n",
      " Row(user_id='gAAAAABkGy0ML_xzlLT_ow-sPMUqYqxWYhtiSF5rlp7si5i5YmVumEzMyxf325FLYudE1QlJs0pRX-Qcm_vNoBj3ZLbvy4UFpg=='),\n",
      " Row(user_id='gAAAAABkGy0MzE4NNslYujXpQbpmJOagBvxKTowX169mDFjuhem0JdGxYEiqthAktv7vzNq_q538DNbJT1_v3vo__B-PTiFeAA=='),\n",
      " Row(user_id='gAAAAABkGy0M4CEX3qL8wo4Lspns8ywMQsiHEBj3AeYDeogNEcxs8LS8Ygl_mleRt1gzIqsMsTvAdcOMJSv2ZIf8B8SAnRZNlw=='),\n",
      " Row(user_id='gAAAAABkGy0MyERMDG7CU5Pu8FsNzynROg5cHSmGqwNUks9VEiQYcSpEUXxD8Nt7ligKQdShm9APfQQfUfCHo8Hh9SmNmTkNww=='),\n",
      " Row(user_id='gAAAAABkGy0M4TPabSR837fpp9ZzDheAnuI9WKnZJtCHY5WcWE70mFacDmyKz8mrn7sJ7vP2kqfopUt-4gcfNU-qC49uVrLyhA=='),\n",
      " Row(user_id='gAAAAABkGy0MmuMl5VFOp-xE4AlRmbGYGNsMkedEwrJkiETeC_Xvm14Tz9TU3-7fTozQe2f-a85bCnac_tv8PnIN9tcgkzYHAA=='),\n",
      " Row(user_id='gAAAAABkGy0MuLVIJR9sqroCGkrc4kRMQv39pW9ibITfWL8bAooTEEuUT0vYx0wO2u5r8Og4NWsgX7Oox4SqiIm6wuMNrt3Q-w=='),\n",
      " Row(user_id='gAAAAABkGy0MMhOXDbGluIh9ZY2dsPQ4xdqEMprLJkfCizrzhuph3ekQomd5aS9pexeP4rYNLP2Df5TYpS_nfRKrYRmdMw7G7Q=='),\n",
      " Row(user_id='gAAAAABkGy0MpC3oSRF6pSe17b7gs4RPLrZOkXLSKyAkzEyQizTOqFJAXM9wr1ASCiMGM5KoAJZTgamH4inkpeImyVISgBSXTw=='),\n",
      " Row(user_id='gAAAAABkGy0MObW71sVUJX2JH0oAWxwtPPk9e3gYi_VTMOzjgHBWQilTN2OA6eHitksdMgAM_939XhEbD5Kn6q9C2Ligji0NRQ=='),\n",
      " Row(user_id='gAAAAABkGy0MeSFD1tFrNiyIfCce1-PXG39qUCr0vsca1QQyQ48aRXSxpGw4Js0eUon-UkmwZ4b0PVf5SlrhfEH75rygybtfRA=='),\n",
      " Row(user_id='gAAAAABkGy0MsG74u-89rEZX_xzGqejo02FzXRjX0v8i10XgeEnVYGW0aprIEG0srFKVL2bVKBDN8tmasGfztLlHE7ySIyPGTw=='),\n",
      " Row(user_id='gAAAAABkGy0Mt1-Pf3-DZW8ZO3vqSewnhnVS8xEM_jKjJcEzyT8M2vwOPr7IoTtjc5XTtPG84sEg5014S9QzOFlFAhZ8XjpE9jz0v0zjfUep3Eo-emNYl7E='),\n",
      " Row(user_id='gAAAAABkGy0M043ACLxPxcxSXyd_D9Yr-02M3eyGAKo9ve-eRy4-UyF6Lval1ygSn31B7Y5J2QFq14fGp7SnyU-76Yq5VyShZA=='),\n",
      " Row(user_id='gAAAAABkGy0MVhU1IUJIceBCQ5LedXO6iWQXTF2_aKuzf7NWQp4qdsa_xbsPEUldtW-aIEcuIXvtytpC3iK27GmIYgO-NpUmLQ=='),\n",
      " Row(user_id='gAAAAABkGy0MiSio_a0xXWjVGC5HN7OpotTMfRr5ToUvocChIzgWJ88vT1GAdunu2WmBiAbgjJRhfJZdQXdJ-5KgH7_vP1-rCQ=='),\n",
      " Row(user_id='gAAAAABkGy0MLVQR1N8SYQczTu9Xl4pXzTUGgq3BzO3D8I466pwMc6-lPoDKcYOZSgYFqHqdb3g5LHPY6nYRBu5BGODNNW_SyQ=='),\n",
      " Row(user_id='gAAAAABkGy0M2tINnlp2cW7fJsxtikqzKprnRWStuzAnxIqWCjhmY8bo9QjPweQLiOCr43YE-oewwU6WqZSRFZIGBj5LKX51xg=='),\n",
      " Row(user_id='gAAAAABkGy0M-Qr8BgeLB2ZybEXByBtWhw_8cb-g-MPsNYCaOnGTr6BnGyXEnuee-g8eSjYPreERYkNfMJCAah8wuLmgbjWxkg=='),\n",
      " Row(user_id='gAAAAABkGy0M1Iw33xiCkdmmhjVMJciozof5UQntfLb04CpRCtGxYiDrkgMb19FuXz7ua51whGTIqI8ZBpQTfkhfecBj9PqGBQ=='),\n",
      " Row(user_id='gAAAAABkGy0MWSbqPMIf9TsAOEOFI8nK2AfiUMAhOaG1HzArtj0ThxAU0qXrNtV-TnZXgA2WkLTFD-QZAahmXQs44DZeOBpsAg=='),\n",
      " Row(user_id='gAAAAABkGy0Mmha4LxFHRmhRiUHwqJKloWtsoRfNUZLakNbmMP_a54Jt2uYIU4qPabKxmMEEJzCBCGHhgeJR_9QwfWzMh6u1PA=='),\n",
      " Row(user_id='gAAAAABkGy0MjAukz07HnhJCbsW17cNSCSKwCohN-4xWxwpt-ZRmO6YN_2YMDahKs830PfegOydifv2D5QfKfF1mjMueljP6EA=='),\n",
      " Row(user_id='gAAAAABkGy0M7TXZ7iQbpKf_QPvKn1CpHFbq9MLyNu46kTJjm843enHcfF2AzOyxzI1BivtIUny9PGSdz0IwCL0xRDrsCMJRMQ=='),\n",
      " Row(user_id='gAAAAABkGy0Mq09ur5Q3mR4MxGvzZLX78GdXKTSe978aFHyOM2OFlFBMkNnkYModgAP9KHTwvwPKSr1SxTJ0ZE7WbI81VhBuiA=='),\n",
      " Row(user_id='gAAAAABkGy0MUeZKxZZHaYDOLJdmfQdmN3fTe0udRjS7y1qFonD1fGyuzVAjIntUGWVyzEYidKsxMiP6HiQVarQSANsoZ_NSJQ=='),\n",
      " Row(user_id='gAAAAABkGy0MgrzqoO_y1LpnivDgPBv9FNR6E7yn1yfBoQeVliMovzzFmbU3YBm1OivD3ZKxejRr2H7dSSr0jXiyOuL4IiDq5g=='),\n",
      " Row(user_id='gAAAAABkGy0MPxT_-XmxK9yTsRAyjzZ7TqExm08Gtbfmo4W1WFxn_bnozpaWxGhKuP9WM-ml1jfZRT1k1aJd7WIO33BKaoGBOg=='),\n",
      " Row(user_id='gAAAAABkGy0MV-DL8XHbfFWVW4_XVhRSGdv_lzRGukvRcTi6TjxQSZ8H4hZvBYqo23v8woHVlqoWFunsZXE5PlKmNYyzteiSFQ=='),\n",
      " Row(user_id='gAAAAABkGy0MEFqDXmkbKqfxTYBnGxPUtTr87Ethn1-Jkbep1t_qjylMgsFPG2CzHVu-WZpSz_LmGdemkjo7L-qd8MS2xf3aEw=='),\n",
      " Row(user_id='gAAAAABkGy0M787ftxuV4n76oFhxcgkH9NK2bCupbde1Zr56_kMBhlh2sSIyn9-KjH4jGtuK5mmBCC8FC3GGcaZJGKxm58BjZQ=='),\n",
      " Row(user_id='gAAAAABkGy0Mr8QGQmqpH6z72JjCV2jeWJaWjWwGtotYcsUwc8vcR8GuZAAfkPzKpvSktdAAouexkNs7QlHcaZUwucpO6lGJ2Q=='),\n",
      " Row(user_id='gAAAAABkGy0Mmk0zL0en5KiQnUu0rD0ZTxRfWWSCXShlFTbUNPdad97TsgekWAMt9GYIcPH6U-4P2EoqwbVkyy7rHRrItKjW-A=='),\n",
      " Row(user_id='gAAAAABkGy0M7OuWO49Gz_VExhlNO-qJYJtFijqL0aHCcrCTboSVzRlNWHy3nqrOD5HPaXtCj-3yrXbTrD0ohNd4IiHFPH62FQ=='),\n",
      " Row(user_id='gAAAAABkGy0MwdGahUDH1u1c3g45kPh5mToV-Ass96dInqRLP-9AswXVmd4xaVWnhWFORwNmRZq1vIeOuOcaonVbvFDF3HInSg=='),\n",
      " Row(user_id='gAAAAABkGy0M7gNtf3HlEoYiNsRTR3jC_jf5fxQKAIDed3LN_rdgyZe12h2HKLhSpFr0amW70UORD-RECGokABoYGsMQM4vmVg=='),\n",
      " Row(user_id='gAAAAABkGy0MslMB66mooAqdagT8774t3iYzr2Nb_sPdpYMP68eatWG2HOaUuwGG2cLVD5a_07bS4z3LkFSPRmbfOeP61TrGdA=='),\n",
      " Row(user_id='gAAAAABkGy0MaSjiWtVwc0G2shzC3rBFf8S61x5wkbNAbMvxRBx_f2o2NkFoveHVuOILnxKKB7z2w6P_aKeeUT9IuC32vGkhvA=='),\n",
      " Row(user_id='gAAAAABkGy0M9gHD7nwjj5WK7yNp23e4MvQE2iMe48xtB-uml6hy3IUpyedv6fpXO34sM5x1hWY-w2coODqAiMRWcwfpCbPm8A=='),\n",
      " Row(user_id='gAAAAABkGy0M8_NAcC_HZt6haecuY34O5FhaBzboCNfd2v4sj3QYB-KH-wlTJFKToDXF77c_CFeqfQInz96Japq2D_zTjmugUml76sxp4T2MfaZjmdDpp50='),\n",
      " Row(user_id='gAAAAABkGy0MRPGGvSTYaPzGhUhutkVMAMNdEYOaICs2Nq8nU-ZpezNkWUBGauigqSqqInzNEHrX-3Qx32Crf9QMO7Bm7ugBTA=='),\n",
      " Row(user_id='gAAAAABkGy0MFX-gHqfdVmVTLoWrPg5xm6fgh7EB0m4B2eXt_FKGTr6bgOS3Cp_o_53fbPSDlEIyrsH28Z2fp4NCUfIxUi6SPg=='),\n",
      " Row(user_id='gAAAAABkGy0M_uZ3Ig-2SaMANI2J-JOEPoRJXI7Li-QZgphPQ9rQIzA67LfmK7Z-xsUjQdWHj2hLOnV0tq0t2YpwE6KcB1a_fA=='),\n",
      " Row(user_id='gAAAAABkGy0MdjoSsXecpyvz_sjaEOiMhdc9jQwaAONNNXFQfKF1gtvbL6svGMcrNc7vs33zKkoCQaAGQQMAUUZjIkqmK1XyLQ=='),\n",
      " Row(user_id='gAAAAABkGy0MAXa1eDF6StcdFhrlC-nbuKKFijOh8i74mCN8JUbyhCQUx9qDzcKWNXJoP8rxPosA7TzmWRmnymn25vCNZU8KKw=='),\n",
      " Row(user_id='gAAAAABkGy0M25khEHX32qqcjFfwzbJ3QQS_dJoPGPh_LhDKXBlxA--vFxV-NPEzrT42UHJNojcYm2rZpu5EyPc7IadlIB9hOQ=='),\n",
      " Row(user_id='gAAAAABkGy0MBrTy_o0Sp9QyUlR-B8EmoJcW0XCVq1U0mKal0p3DlG_y4fvAC6Uh1rrntTdxTITA706fKUoGvdVNPe4m8AapIg=='),\n",
      " Row(user_id='gAAAAABkGy0MQyQtFgL7wlbTgVB4zfysikwroqwUNfbLydAdAYEFWdjs-gIgMEAlUsay1SLsmUO3gxdrbaQHxhwYcGQC_lY1dA=='),\n",
      " Row(user_id='gAAAAABkGy0MdXiUerRvoBjn0_fUybvReK-vDkngBG9q1U0LNSztN4hJhEKo5IlwyhaD2cZq2sTo4jp9xKeZyYNu933L1sujIQ=='),\n",
      " Row(user_id='gAAAAABkGy0Mtl8KTmbSxmCd9IuvbSuQRN7Tc4l7x_2zEKeRBBgBzZqOOnW90UI5tZ0T0p_waF8j-xXHGPAKxjhi8LNkM8AwUw=='),\n",
      " Row(user_id='gAAAAABkGy0MUWH3INNgeEO84WSd8DVuRxYJ1KCEUUT4cPwB3YCjOTxtU4mv1vhddxAI3_9g4UWG6ij7JDr65t2Ka8-KAl7gUw=='),\n",
      " Row(user_id='gAAAAABkGy0MPnv2AbBLOlc8m-Z4FYrblDMbS0By0bxH-QHDDnVu7cpBUBKG8lwQ31acQQxqT5VuFXcojrn1np1VIbQpMEu0qQ=='),\n",
      " Row(user_id='gAAAAABkGy0M6uzU4V6jxtOFUOmPe8Yu9gdanWW7ofIh2XV2Orw1GoQu_tB3_xOujMDYPiitCvcxUx__RLOTK-0CLQdrleQs9Q=='),\n",
      " Row(user_id='gAAAAABkGy0MzrcnOj0y_sL02Jpz8VEygxihV4p1EM8_rZgyM1k-EmH8DGoKybPTIhJUFASQubLZQmKG7vVT2ZezPqihRev8dA=='),\n",
      " Row(user_id='gAAAAABkGy0MuhXVUdMX1HzFxkD4IC8scgFZMb0gJbQIow_pYY0l0esClNCFWCOJVthDLWraQndfjT5h4vFzd8cnRckZx-FIDw=='),\n",
      " Row(user_id='gAAAAABkGy0MiUnBGO9o8iZz4gYG5xkCEEp6IU88T0o9dMLxSyodoDXddfqugRPxgNJTQd9XuMIr--yYjYBAeN_m296VS5T3JQ=='),\n",
      " Row(user_id='gAAAAABkGy0MjF0dUzhVN50Uqo1fayPXnzNL5sAhffv_USQCgbjp_wQ4ZDfVmD2zyHrVYm5QfMwzuyi01C2QjcgEK-DdNS_kxg=='),\n",
      " Row(user_id='gAAAAABkGy0M-E-_Y9kEUYQ7hgGhvx2QOahQY6_iL1cQ-SyKXrvqKzP503Ci5F5Wkqin5-ixODZij4HkW2EZU6_lYwqEddD3pg=='),\n",
      " Row(user_id='gAAAAABkGy0MudC9LZ8mJcN7mtPOgF6xLr3DyErRg4npCmk6OsHNDYb4lcs-rBlj6gToSwfN_IXR2nbrpxAllE_mFi8C-4yIEA=='),\n",
      " Row(user_id='gAAAAABkGy0Mgbtw1PvI3UVo9Liwt1XbYvFCIjgzwfmbdcVw4PXnIvDGJpCD3ZSy_czs1ju2X50miyFvQlo22gadrajRERgiUg=='),\n",
      " Row(user_id='gAAAAABkGy0Ms8USrYh1rFI9gIcfx7NfEeed3nQBCtEUq0XsQSy5jaPjqYHNj_BCvEK4NV66a9vx-FguoZUPhOOnDq24wl0ksA=='),\n",
      " Row(user_id='gAAAAABkGy0M-3rZNxpicK2rBb34YJL0z69o0VT3kYBNKNPCHF2X7KeZJgvqP5D8T6doKlt-SsZIWw0lsf9XtoG9eKZBntVkdQ=='),\n",
      " Row(user_id='gAAAAABkGy0MVhtVMu-Kl4L8QeRe6W7FdARbyxTQrL3Q5GkxpGys3eItL-gyBM86Pd6oxXeaTnhvffecSeymDKzH4Nr3z3itQw=='),\n",
      " Row(user_id='gAAAAABkGy0MIZYDPCvPskzkGps6vHmDyMQnqsZBpljnpvyco3lE2_YqfUuq3RXRoW7L04dEs0qkqliLpD9SSQgPYUoyIVR0FA=='),\n",
      " Row(user_id='gAAAAABkGy0MqBYr-RebLwvPbkBuQhDjlYnPkiAfjhxwKtvhFv0f7YLAt-RHCRkzdhBe9bRni6tNouQ8qz62U_TYWKXcZRzNPw=='),\n",
      " Row(user_id='gAAAAABkGy0M94WGgEGZ3HabZwFjk_XZFGZQHn7tBaxSwMNUwv87sSNU-T_lZRAdZMd42tZH0hW67BpXExpYajgx9qG4IHe8Lg=='),\n",
      " Row(user_id='gAAAAABkGy0MXwUQYM6VJsp-CsEpxT1ZJKKzTxBZitFIbsK1FbffOV3RtTQaInFo2M2LAL5p8RocYuE4wBM8bT4xTsJjWsculo-b9fCvBMmozJ4kLuT8DTk='),\n",
      " Row(user_id='gAAAAABkGy0MJkrMQn1nS2PhkGB0yk4h4M7aTxpshQekYynNdLXNHFDGjrdiyOvfer9hq-zougGYgIDeyCWVNLaTyxZ4spNFyw=='),\n",
      " Row(user_id='gAAAAABkGy0MsRErrE0yeDlQoEPrDS6lGKjHUVw0iU-WLEZNItsdjkyPuuVg8VjMdDec9EWpbuZl1Nzjeeuiz4ZWaI6qjiVE2g=='),\n",
      " Row(user_id='gAAAAABkGy0MBCj90m_QkSRfKv2Dh1Nj286jaz-mDSHVNX3r1saHAs8bf6M0QUUa812Xj0PVNI45FmMdy7OmFtWyEBmShOFetQ=='),\n",
      " Row(user_id='gAAAAABkGy0M4O5YbBGQHD_1PYbYIilfSnwxAzIIpQp9gvaQKTX2eh425MluhDG49W0MSRKWn3PK2rgOWhazw9VRnDK1_RE0Kg=='),\n",
      " Row(user_id='gAAAAABkGy0MsXujbgTMuuuCAqWk6yUZwkE-PRGNa36ax4EDswkgrX3uH8oidq7oYtRmxFQUptzYavqcIpfH3GmlQxyeH_dyxw=='),\n",
      " Row(user_id='gAAAAABkGy0MhxhPGJSIJgVl_gUU4QK02qHrjGeAAONyFFh14r5_xSIpRVL6ZHEOw8SDbQHqeosXZFNjHnLHcVHhMtFUSWo1HQ=='),\n",
      " Row(user_id='gAAAAABkGy0MAKyccqQ_4JU5aYyMCZn9OlgRf_MMEd0iQHtwizM5UcZ5Ji0h9pVgALUXcCUgY8oSlPI-VyYuTuKGFmgg6AlYMw=='),\n",
      " Row(user_id='gAAAAABkGy0Msl_CjYIVA3LQqOE8Y1jaE50f7a3loaREMDeLMOzBNt-znW8xf0akTdOfwo1OWRv-aNiTgyLYnK_56Q7MKqLqbg=='),\n",
      " Row(user_id='gAAAAABkGy0MvM9oaoxiskEmX_5jhKk-NwT8yFQmvpEJHQezdDQDJjr2I3MGT3lEYc-Y6kSri29NHZeBd_dDItfgUD1ONDo89w=='),\n",
      " Row(user_id='gAAAAABkGy0MPArfnmNOxQW_YPK2_F5s9mEA7n46on4FJ5pBiLrQfVdJ_F-tohKSJ9_n_RJAMcgq7rDfbANiebVEuOIVCm18wg=='),\n",
      " Row(user_id='gAAAAABkGy0M6dVo2kv88-lIg_x-HpCz8YHbhjtgEW3953WPJbYD0GtSkH08u78O-E62r9dvdEkOIztFC0ECHnzLFedTfOgcjw=='),\n",
      " Row(user_id='gAAAAABkGy0McyQUUNfYPjgYmdQjvwgK6100dZ8cKJmIcYBUlbImJrm9XU25Lb2al_x9zpqhPxbr_1-F9gVl1AeD35Kp3EmYyA=='),\n",
      " Row(user_id='gAAAAABkGy0MP-3gA_GfFL57SmgOl9HsYmldxi7k8wlpnxeIQQ11Wo72jDhzaSFU2r3RaiMS5g83njSW-yn55hlyp2ORU8ooFLEjIZHH93YdXwTj-rgpC3Y='),\n",
      " Row(user_id='gAAAAABkGy0M2gKZWV9vUNtd9HRjH1o7pFbyJF1wDqKOcpmKn7bWnOquyKW17J8ocZT4YWoIJOhJDA6gbYOmJmqR-OmI2sklfg=='),\n",
      " Row(user_id='gAAAAABkGy0MV9o9z3Uzrvc3iySJXHY7qo_Jyru0qxEByXVWJKVJRLmEuzQrySfUVtBpP-3udzeHhmryMhfyE7PfCwv5FzA3XQ=='),\n",
      " Row(user_id='gAAAAABkGy0MazWN6pJopUzlirAY0fLvzkT5WJCaXHWPbqkVBJbvtjyijDCwT7eHWccCHg9sUr3w5yxoZCEcO0BPXPVbtjLHGQ=='),\n",
      " Row(user_id='gAAAAABkGy0MkBe_thHuENK0ku7cCNLGLoAJvMwRAGSR8ObFDFjq42hmTz1KDX_Y-lGchqikVA0qwnWh0Q9OZtC53dbRDy5eKw=='),\n",
      " Row(user_id='gAAAAABkGy0MYy4DHW8m82b_0FzxZrh_tQpmNWZi2H9NcL6YIMQ6pRvl0uczHQD5REtsUi6Ianm9iBdeicuosL0UOmlneTWGFA=='),\n",
      " Row(user_id='gAAAAABkGy0M4jzlUIXUgJPX9otQPEVEQsewTwBrapvIHaTdQgAFE8e82oPAhYmC8K0QaCqGQyrPjxk0eeYmdIGhVjLp4nrw4g=='),\n",
      " Row(user_id='gAAAAABkGy0Myy0eTAJ561JCHSuYXjQp86UsRTHINsTMptfsaliu7-3fNDNNKhe0gpJVPuJs5IlgUUNliNWKYCOaSuYqw0QhXA=='),\n",
      " Row(user_id='gAAAAABkGy0MdGfUgm0jlcZB6B52Nil5Ab5fWfm1p3qM9I5KjmYKtsUVafDjBtY7j19idQ6oULb23wlX0MZ9YM9Xh2bET9pEoQ=='),\n",
      " Row(user_id='gAAAAABkGy0MAXVUXfFNi5s-ok5rP_sd6d-e6s32mESlOABjHgH2W25WZ3b6mzPtyWu8SQs7IjnsP-x7w2jQZ3muMqdpAMRcpA=='),\n",
      " Row(user_id='gAAAAABkGy0M680tb7D-oSMy_kwzwhvOl7G7bNMqXO5lC4-H4Ui1r-HUPXw1aG5GBBrHtTweWZ7m8iUq4SIWkWuJPDu1UXhKWA=='),\n",
      " Row(user_id='gAAAAABkGy0MBiXgM8YOwgAgafu7AOfOc36cUWl8HCICNkRmgSohSnN5UyzaNoDhM0m-iysjlOIm8bvpKF7n-o6GEb8NYfLZqQ=='),\n",
      " Row(user_id='gAAAAABkGy0ML-2ogj0JR2JpALlXBoWtANyD_B3JI5N4Qu_lus4OatGwzBQh5z07xMhjb2rMydAN8Tp9160n7sp5cAsPyeHPkA=='),\n",
      " Row(user_id='gAAAAABkGy0MtDgF8EytUwFy2gWH-7uuROU11Op0nrGuavt8rmtfXuDqoHRKqir5iB98jeOexXlYioN7uydRbCzseWmJrCka7g=='),\n",
      " Row(user_id='gAAAAABkGy0MeYYDxvAoN3hdyuV1KaC0CFOJr00PeRU2TqSH8omsRmEUQr06E1I7C7LP8ZUrMxJ5WOfFAGlNiX0q5v0ExsJ2NA=='),\n",
      " Row(user_id='gAAAAABkGy0MZs8ogzHhNQQBkJlU_wYboJuygHsbGHYAP9sr_PPfCRyYCzHmn-KnNIJVX9SpioP050-7VcjAlATS-QhgFhoL1Q=='),\n",
      " Row(user_id='gAAAAABkGy0M6bZVPAk3M2ZZIMFAVvl1jSJUXy9VWzeCH8ZZAzHHQOG4KyZFTUs-SqjpOTphBQD5l7CGbzZqOZVY7CLz3n8Lug=='),\n",
      " Row(user_id='gAAAAABkGy0M6cnvcQccHG0_TehDADvvHi2RV1AjTLxhvgEzIbJRCJMbmhHOonkQHwG2akyl2f7hg4qftJMi86DS-q84dc632g=='),\n",
      " Row(user_id='gAAAAABkGy0MUOxc_xuKspJRkccRQBJASG3I6GEWPKI0Ekb4JgJIV9pCqtT8rNQK_-H9EBaw_sT9KZHp3O9C8d6vPDnhn6SWzQ=='),\n",
      " Row(user_id='gAAAAABkGy0Mt-yamFJ4s968H0HiH3gFxmN2djqJw96bEkkgRHxa1SLIg38Qwb0yTEkBEGzs8IdeqcVPQJWA-YIv97lL-J6ZWA=='),\n",
      " Row(user_id='gAAAAABkGy0MQfieIOJuoPsW3KqUoG9oprACHHivIs2qYBKGKjGtJiCODqBI2WF1uhE5ImO8sKoS_CFRmULXJPxj20djWKwGMw=='),\n",
      " Row(user_id='gAAAAABkGy0MBPnXGdixI4BWnqIAfcYaoAWZf-PjVZ9xgDHp3H-ye0pQ0SMr79LK1U8o9Xf4a8AO0xHcdwLccmkOHgJlcYGynQ=='),\n",
      " Row(user_id='gAAAAABkGy0M449GCDAGwPnXZ-8HwAnL15cbrCpv_eaHL3tXHDTty5bP68NbPfNXetk9PXTtLVUc058EiWtZGZ_FKwHmq13onQ=='),\n",
      " Row(user_id='gAAAAABkGy0Muf2MTabUH2Jf_A2dpcA8T79oqbbM6wxrAoENyZGWBAJ0aD5TanVW1B8XytvOq9H73AI5SX8cDts6C6-F6Fbl2Q=='),\n",
      " Row(user_id='gAAAAABkGy0MWY5Av9lIhr5lnUMfSShUnkmqegrJort9faT7Ti8Hh6dgKp9M6ml3qcjingm2yz6h7HeRVKFse_sTXtRFjSCACw=='),\n",
      " Row(user_id='gAAAAABkGy0M3STTa777K7rkonGfgcT2SEajoZFrXfHKIpVassm0lq6zgoIrVWlr_5rGYbV9FWffU1vlJ-u4vI8swVRreOschA=='),\n",
      " Row(user_id='gAAAAABkGy0MIXxlccclNFr8VDR_gGDz8CbG8qWo8lnDD_-LE37s0RG9tNaqlLPNEHKMP9UgyMys_AV-TnMSnJyJS9xKoAdDDA=='),\n",
      " Row(user_id='gAAAAABkGy0MqQM7hE3QnEfOoV17W6mFdalUdO2g7-U_t6kyoLkWkTVuDiJ4Lf-3JmYx1RCOo1XsZ500JT0xzgcBOMyvMnUGaQ=='),\n",
      " Row(user_id='gAAAAABkGy0MPGY5k6nKm2Kc4o7FGhzhrEhnAt2I_oEQQRwpgK0ECaoAfAB0AO3ZkBOJVHYoNXyvFKEgHCSYPH_AbFQDSx_1xw=='),\n",
      " Row(user_id='gAAAAABkGy0Mb0fb5h20LfsMrn-5wC93wZG62VszFvghb-lsZ8Ft162dgGZfk0GpJR1HKrOaoQo0W-3pA2usbvbOJixsxfhOiA=='),\n",
      " Row(user_id='gAAAAABkGy0MfK-euqORbPKgD0TBJ9Yq4RIqHKUN1hfLg-LxOlNGG8rE5ig4qYgkcFiqRDFqTzAjPWxF0EbBLvFnJStMC55dxw=='),\n",
      " Row(user_id='gAAAAABkGy0MnxZxuEMX_ATmlWo-YdsdTHaMv4aLniCIGNbnX25E2pD0YEFcGI66yl0RgpyDeP4fZ3tLbZT56yBEHPf4eIHocg=='),\n",
      " Row(user_id='gAAAAABkGy0MfGckljc2Z8v_qamm0zFETddHgJEKX8KEPbuZ1V4d-A4UY5-KIXdnA1nBR6wDbi1PUnLGLbkegClLBr1qh2M6fQ=='),\n",
      " Row(user_id='gAAAAABkGy0MxtvBo4yc-w2KPFPtLiujlG5ajIcP4NZGYRqPZL_lpCVS6WY0WWxGu0snsiBmLsKYRoDKN-S7vk8f8630GTXIBA=='),\n",
      " Row(user_id='gAAAAABkGy0MWO3H9ZPnXEpB1lxAXvVdDX1EhqhkzemSZlPq_uK0rKel8hUK9US_8KFBonNpHJG85xHfUVvSKAoxgWpn52tt4Q=='),\n",
      " Row(user_id='gAAAAABkGy0MR4ha19bdO9TUcNrlF5uB5NNyM0jqmhJKglUP2qUPcZRLWvHg0YMv7ejsYWsYTSowV0By1F-WDVe6di2KD0AJnA=='),\n",
      " Row(user_id='gAAAAABkGy0Me3ccN-Ik7x58J6iIf6YuJr8-O5TP_q_Z_CEjSfpGQD1UV8rqL4X1B_o-hJu3qP8Be-DWtDk1oI-ZpFlqZHic5Q=='),\n",
      " Row(user_id='gAAAAABkGy0Mc8Nsz6xXOhKcXLNYSgpN9aHaGadgf8bNMVB0dxPVYclI21gLP0iXwursJBg7at6wzzWDxOhTTXZKRdsJXTwiGA=='),\n",
      " Row(user_id='gAAAAABkGy0Mb-4xQG8XBkNMQ0Fwf-5htz4NUYbGPUJkdiuTcnQmqlT9d-lrffu1UXYlem0L_AQxYsx2MJjlSEzdmTNCRL8L5Q=='),\n",
      " Row(user_id='gAAAAABkGy0MQmmPbXefmv6ycUSfa7WsshdZLBT8SWxXPHfW9aK0ieSYz_kV9kPXGNO_4VZy7qRondV5xBFk1u34vYWxCIvUbw=='),\n",
      " Row(user_id='gAAAAABkGy0M6GgKthmkxCMTDhwKitOCohHyM5ziUJAUYrkOeoQd4E2A5OYaqLmHkEtD-N3sBeaung-tiFi4azaJNs--6JUWcw=='),\n",
      " Row(user_id='gAAAAABkGy0MSG1HcsBktQAVOb7o0PVRN6jhIkVn5mF6OGIV29xFmbs83ML6y89vjn8G5u1w4r9vaEU5JqGIbvqNu16h-f9FXg=='),\n",
      " Row(user_id='gAAAAABkGy0MImoAaibVAAjr_8EMi-jqb4wIjdWWvoahOgtsU8gZg5xizdMomzTa2KXEiXL7wsx5B7IoqNvt3fMpmqzbZDBahQ=='),\n",
      " Row(user_id='gAAAAABkGy0M64yspibKw1OQgZOf6sKK8ida3BbZ4z11_3h5j_61b00Gj14zFX5n_sJoh_4-wRjSp55zSV-ck5kPhrnnCE2SsA=='),\n",
      " Row(user_id='gAAAAABkGy0M3-pH7lbqlm_rQWTPsi7-RICLJPAetmc8CFs-41AYvfrZSN2Y8FnqSMxsFZ9THVdp1w8u2L2arsAiNvc2qNdeFQ=='),\n",
      " Row(user_id='gAAAAABkGy0M7JU1mIrocmCreC4X7-X71_0ADbIBKy7vYMbsuZ-WPhlFKVPRng6roSY1_UZoBa2ltT7ltqdeiv1tYIV_DR99SA=='),\n",
      " Row(user_id='gAAAAABkGy0MSV-CDTvbi7HBWJnLL78VL05HCnffxmm-akGD1xuK-nPTuLxmTZSDseOA5zl82agi5Wz3plvpZ_7bS4xZeXs2Pg=='),\n",
      " Row(user_id='gAAAAABkGy0Mh1umOZLAOhObqOIAu2S15MC82e0imN_htoIBu_JOjk0Zmc_YKuqdZy66stNusxV7_EnDSxV2GotkUZ4jxx72KQ=='),\n",
      " Row(user_id='gAAAAABkGy0Me_bM1meIiKwcnSZS7_CQsF0ykm73utmH5X4nfKkCp_urrAAI0-1YdwmaSGaF2ZcFr_sugTsjjD8uG2C-MbPqEN43v3uD4068ppMQiCBuQnE='),\n",
      " Row(user_id='gAAAAABkGy0Mus11sl6pT5qG2lTIk_6cdFjROEfZzEN3jv12PhOvJJwf0cdDDRHA06JSaxLColvIEivFMPfh6Wh8E4I2xWlO5Q=='),\n",
      " Row(user_id='gAAAAABkGy0MjWHp_d_M917Kr0_qix9tch3QuaK89ZNjEii_5-9OAhCPJ8N8WmBAaiKdoT0w49oBlspI73nL1lFcblEVI8CYLQ=='),\n",
      " Row(user_id='gAAAAABkGy0MJj25S87xiKe52eZW8_PmwjKBo3Ow5O03T-oEw_NVT9Lizz0VvTg7C538Oubr5Wrnaq7G-rSdzY3q_jAl9kbMxg=='),\n",
      " Row(user_id='gAAAAABkGy0MFkOgiQt1pXZgGWE2rkeij7PXA7uKfkJ9BlnRF3uXmv40vH3XsSj-AQgRKLRe35I96H0278UTLe1cMHv6-ZKinQ=='),\n",
      " Row(user_id='gAAAAABkGy0Mai_eiZVsRJsqaMSFThNJEsQLhvUHn8WrujbJQHzP5vnOufuSYRTGQsn8Jsagv_0UeLhDhT9pcZcxxSteAN0UUw=='),\n",
      " Row(user_id='gAAAAABkGy0M8vaG_i8KnKQDoluhieWNY9dEcNEtsvY6vTv2-AoM2P1xElyKnkcUkk82_9JZapwSFXItGA2b87V8RxPEf7opTg=='),\n",
      " Row(user_id='gAAAAABkGy0M6sN1kv4hGgjm96iI4WqwehfJSKfR8YL-LKSQIzA1v6Ur0JBjaH5AIcwkB-TT8GKtfTjUfxRKSj8ha15dZBQX0A=='),\n",
      " Row(user_id='gAAAAABkGy0Mtr4K6ea-_C0Lw2ZZAFvhfi_QDus5zxIq6iLd9DWaHRD9mL2hcZWP2qrom7jLs_TGRvU7Qq_xx0hV-HAhsB7PUQ=='),\n",
      " Row(user_id='gAAAAABkGy0MC4bJ807-e8S1FKTQajth4hnxOL_hImLOiqXP7RkBYfBv6uAEo5reiRsUifWDIRFMqcPq1sSOnhlHSqIXh2tFGA=='),\n",
      " Row(user_id='gAAAAABkGy0MgUKxUq7oN_aH48wf0WKvUuofCIxJeTyVQwXlBGaN4I-VunfnoV625s5Vdb6lL8xyxYOgwI0bKDN_8N6UBd64FA=='),\n",
      " Row(user_id='gAAAAABkGy0MATlRQdsJd_Mm2iDunqHwae34ozhX-iEYDvSFUZa7VhITSDaGF9auSsIddYwjT-TguHLugR0ezdFRlPr-1_i6pw=='),\n",
      " Row(user_id='gAAAAABkGy0MpWA2DlF4bcy05vr2JN6iihvE8DDGRCq5bEMLGfrHc3CljTlIAzclGLKK76VC4ru-e-VvTSo9OL0rgLC79_9ucQ=='),\n",
      " Row(user_id='gAAAAABkGy0M1ZKsV_jB54J-EFOXNdv28CUTzoNkArMKb74WZjHBhz2roB_VaefXgL9TMkUCs43ffke06XHlcYfQCyqa4ZO2rgoZlYeW1ys1igAYadcdnw4='),\n",
      " Row(user_id='gAAAAABkGy0MrZO8Z5yT3ryl4DkhWT3xa5GeE9LBuWWR5Lx22PYO0vYLX6yyiyU6qKHR3EUvJ9Tu3OifwqKStv_dtXSyjN7sig=='),\n",
      " Row(user_id='gAAAAABkGy0M9gwA_xp3ntHiPnhKQU2BC2UQEvoeceiDfGPVBlphjp1D9n9Aia6X5srzLTxQOy6Hl8e7D52y4wWE_k6hR2QwBw=='),\n",
      " Row(user_id='gAAAAABkGy0MfDUDYkUdcCVDW6QV4w7eC7tsglYcAhVQMwAe-fIits-6FuSarPH7P_bW2OVVurhn5ucsae8KsO95dG71_iTrIg=='),\n",
      " Row(user_id='gAAAAABkGy0M_X65KXw16u02MtHMBxxgFzrGgwtlyKBUfr0qUaS2KYfkI7zZa7Zyyf6hjWOnHDIVgr3eYWqk_2yXj-F16wtCSQ=='),\n",
      " Row(user_id='gAAAAABkGy0MHxw6LpArP1Ncxr9WvJzHju-CJ-SnMXpuWhfwqFaRvtOhGjya1tYUruMSAYDOQynBjQlGlAWDd4OmWlrHlisGTw=='),\n",
      " Row(user_id='gAAAAABkGy0MpJ3ZhmsErzI3wOqd95GnMljxqUwwVrYkbCiWrV72YacJLbSCbJ2FuKe6Q8egyYqBwnSEbqciZdneZCyh4oLAHQ=='),\n",
      " Row(user_id='gAAAAABkGy0MTgbDQhotr7kmIyyNTSAL1LFvEhlHrOmjq-6GW0a11EM6WFreyVv--Pu2vwIGd6gaJZq04v8WJ29f1FgnmLdKhw=='),\n",
      " Row(user_id='gAAAAABkGy0MHRAhIdxXJRtaimDkNYNvecJfMQWjIMBWMidDfhA6J9p9R8Fka_UD_2J6H7UZHpzDV53G_6Gd4EoUAdTkOADjhg=='),\n",
      " Row(user_id='gAAAAABkGy0M3nYiZ0tN86kkmDXsIyaGdpHX9Mwn5NT0jyNnReDoZXGYvw8PxTpx6pUVHhgb5S5fTWLO-qXjBp5LAG_wfBF0QQ=='),\n",
      " Row(user_id='gAAAAABkGy0Ma0jjuqVwFDX3wDKZ3HtWoA0ShEm79T3BtiOl8edgduz5JuwZkDFdeY33ubxNQi4o91QsITP93cGSGaCVrHDKJQ=='),\n",
      " Row(user_id='gAAAAABkGy0M35BL6BxlLuN4zpOBL6Vzz2brfsdZgVbbKmfzZzVRZWRe72HoQsC4nDw5p0tAyDtdCEdheFW3v78lt3i_HdjjhA=='),\n",
      " Row(user_id='gAAAAABkGy0MDxjvwFLkSi1uJyRXo__U1QuwwBOuHqb4xrn3UTOm8PcTeVnlkMrbNw89q6jfa-5bj93uYiAMuMpntG78bM77ow=='),\n",
      " Row(user_id='gAAAAABkGy0MxLDaY0GlfWutFGJHlfInLeBpLlIxoxkhhr-_yZ3q1Mn_EX7_j8rwqpOuG1lO_ZDBGRDTzw3vh0MvhkISRE_9Dg=='),\n",
      " Row(user_id='gAAAAABkGy0MuFCF7qq1YtfHZkoxK5KjZwO0kkl35EfGsQfzVooNGkSViVboMunvvFcPl4EmZfXOCJ4DtpxTvztPWhG4upiHtA=='),\n",
      " Row(user_id='gAAAAABkGy0MWUAflAaPl6-ONT-PWEuzYD_J9wtvik32CHbWj-K7bOamD7jsHTQqoZKK3qnzDLW6W5q_cuBtJfaJ-CQNArv_VQ=='),\n",
      " Row(user_id='gAAAAABkGy0Mq7u7KmVHUrDgWjqalwXO6gRdfW0n6ds-mUHkgreAEs3cGFklRTcakigMU9DHgnuxymKTd4pR4Izn0HM6bIYKtg=='),\n",
      " Row(user_id='gAAAAABkGy0MyljXei6I9DtKq-pCk1Hrty7-fBCw6Rpdgya2ZIPpQpHRzdT6Mq5r19smfv5_49tt8m4D6KwLUcMCtRcFxYjZAA=='),\n",
      " Row(user_id='gAAAAABkGy0MkluZEIABhsiGmc28aOSvaRCh8Y2gtOaR8CinVbjI1b6UZMYChduWhrr6nu1QKT-QhEp5kfWGZlRAOKafoPehVg=='),\n",
      " Row(user_id='gAAAAABkGy0Mon1lllL9m2ggPN497XCUWurIsmbMSkGSzD4mgMKpRBytj05EDA1ibh4fZSQxSWzC3mrqPLAS7mijOftSn0CFrQ=='),\n",
      " Row(user_id='gAAAAABkGy0MgygV3k9SQ3vGNEk2FWv2kjGQa3q_BH8lG3uFdr9YoU1SQq0pxD2h3j_7GQHANa47ulw3r_sa3v-jwbC9MDTtqQ=='),\n",
      " Row(user_id='gAAAAABkGy0MCWnINCv0MCoJ08UoN6W2yMNsmzJai7vYs94nkZJyGLQfDRsJ63qbMrAaosL1QCevIK_-8EYiKQqfIzrNkSXxrQ=='),\n",
      " Row(user_id='gAAAAABkGy0MA6Blvophm6rtQ4Rl_gpFPtjn_ZeC3YZoqMCGwndV0msKgVwA1-VvkqU4_Vm2i_oExXGIHKfQ1zrt9wt6K_UbnA=='),\n",
      " Row(user_id='gAAAAABkGy0MPMcQBXXIOus3AXjnzGowomdPKF1eBWj4cGG51S1_jpKMcKuGusbCq8EKySj5Cb4hauZqSLaXwiI4aZBS8rfClQ=='),\n",
      " Row(user_id='gAAAAABkGy0MynrFB9jp45xdhwnZ5OsGe9y2YxOpQ9KRVbJZb8XjudMDkfj0ux5w5T-unYDefWeyWoE9ZP8kuL9_UFqVK9yaGA=='),\n",
      " Row(user_id='gAAAAABkGy0MM8vPvVCUMpoZUs1VzuyuYhz9wAYYAShpRz-IsdaWG5caGaH4EwwOuliH9qhO0xABEHoiSoO3sajzUIpVHIilcw=='),\n",
      " Row(user_id='gAAAAABkGy0MrU-8jxBBnYk4Dydr7qQTQorwYrl7XBqFumm872t8ZruHZWIkGzvo2xwRLwEuCKBAXQiSM8w3PW48Ae_vetxJ6w=='),\n",
      " Row(user_id='gAAAAABkGy0MG8VNINrTeZEkNP2GNasOw41pe1XRpQRuGeDcOd3FngUJIdNZN5FX5crVdmRvLpO4aA2AF4dmtq19NcEMDLJB7w=='),\n",
      " Row(user_id='gAAAAABkGy0MRmA6clcLHTqJ254rgWngCULPZJ_p_EzuJrthY3Q8-BlarIq10aGV7v91TeQ1wSsRAw-Xe1M9rwPOqdwTMT9eUc69ViywdZ5wG199HKHgiBY='),\n",
      " Row(user_id='gAAAAABkGy0MvKbw9mUxTQ4sIqYNXNZEcwbgexWc1fJZlGlAbnlOmi-rbWN7dvL5I834TMuna8fKbzQcuiUCCV298szBNpF_dg=='),\n",
      " Row(user_id='gAAAAABkGy0MHh-taGj_LsoZJDmFhFNi5rrv5stv222wwTg1V5_ynWHDKa-ei85wG9HVvymd-3rGXAFPWxJz8qrJ3CXvrqZPXA=='),\n",
      " Row(user_id='gAAAAABkGy0ML_wqMKKyZf0Fk2h5mb4dbJnS_QmTMRkvGsJzAAQ-4RGP757mWSU3vBxcunoxCk1bKu92UeUII64aFC920VN48Q=='),\n",
      " Row(user_id='gAAAAABkGy0Mi23ZV8MOFQxut84Hs3bcALgtVQPN8jVKMpTIQT3BXpuMpLGH3O9Q_PJt2bzbYkwLxjsUBrdHreySxOCbOLWLJA=='),\n",
      " Row(user_id='gAAAAABkGy0Mlep97LFvVFioMsCGg66KBf5Yl\n",
      "\n",
      "*** WARNING: max output size exceeded, skipping output. ***\n",
      "\n",
      "qYHrHgtzyZyxzyikEgTEeLhyeBBcgYwIo2RT4IdOuu5EAOY1nnLAaQwivSiPwvc9wI4SQ=='),\n",
      " Row(user_id='gAAAAABkGy0Mj7rDO8fwIxqjk-LyF4mxWOvVpqYMC_kuYB3uuut_ayoa6vdg0_uA4PFgNdyiPPDNL4Z7LvoRj6-D34xmuyJUdQ=='),\n",
      " Row(user_id='gAAAAABkGy0M_bgGnaPfianGZmA85H071Px_u-bm1qMlCfpKzy99MvyIy7RW24hbbPSA0lnb7QvD_oqG64e6ppsnAlKifK1L7A=='),\n",
      " Row(user_id='gAAAAABkGy0MLsMcMJzpWO2iOVPuQgU4N8DR1kcLA7ulGodpo03KVVAoRgzldx1JN3dLT4al2rJXxZbt3P4mG9Ibdm0EeCR3fg=='),\n",
      " Row(user_id='gAAAAABkGy0M3IGjFbKzqv36zy3h_147j-w1fWIfZBk9O69jtTalJGXqpLQWE7m0qI4v_W4wFHOxOXEj5x4Os0NHwVONsf2QbA=='),\n",
      " Row(user_id='gAAAAABkGy0MoznNMa3MZMsE_6DSI1l01VCK5B5pKZ3jWdGFdqQQka6wW2oVWRXtBlkvmBnl4oMB-DQHblVAKI3uBJg5edyDPg=='),\n",
      " Row(user_id='gAAAAABkGy0MFGPWPcYvFB-xWmjqkBhXA1pUDLXeQcHKREV000UHXkq4DQ10-kRW4PDR3Qjpj8OfA9-ThQRu69gFIyf-F4iy9w=='),\n",
      " Row(user_id='gAAAAABkGy0MC85vBAZjMzLMf77vONuXrnvqqkctV29uRvA9sbPfYV2d0Bv3r3dJBfyNxoh6E4kdRaDgMTAhMPdxh0pCbnF_iA=='),\n",
      " Row(user_id='gAAAAABkGy0MaZvz_Waqy5pTfyUYlaYgnd4NlfwgNRA44VsaVs-p8DtSB3kU6US-LPze3eIrMlefYAgEci-fhexKv0xnFpXzfw=='),\n",
      " Row(user_id='gAAAAABkGy0MrR9jZW9Jsy7FfTvu_oatwr6g61USWFiH-9P8rL6SYzX1WjT7johSAxshiOO1Bhr1Rs7FQmxw2B7rXCG4J-p3tA=='),\n",
      " Row(user_id='gAAAAABkGy0MQYGX7WFivjxymq6MfEBrG0ZhUCi4kbmxkqXurYdQJQmA8l4Mlhip3z5AZjcsz6XAf__ZopyPkJBVhvO738-zPQ=='),\n",
      " Row(user_id='gAAAAABkGy0Mz23G2pzG3uj01Fry5gtdzFN3Wd8I6BSYOZ4qHuQ6uIJPICdERPQzDv9agQSHBO7vRikZ1X0T02Khirg0nlfJnA=='),\n",
      " Row(user_id='gAAAAABkGy0MgKzt-pLJjz9k0fkwh1Zs4mnRCY99REVB4yMXXMIeJN2a5uAA_a9h0KntePbyp60pITYEL4A-5ePA3A1Q7dTNDw=='),\n",
      " Row(user_id='gAAAAABkGy0MLtisYB_y9aCBWskRhG-IWKyZOjxHDoP4GBi8J0yV5KiMYQlBPACDg0_njNEc3CpXajPsQmFEOmemNh6z7lQNHw=='),\n",
      " Row(user_id='gAAAAABkGy0MmTfAgIsQEzg53gcJ7H0zRO8MPG09Q3ki8JJxfMXWoZsFlEZ45uUozgiNAu8ffE2IQQ-EuqXh0arueJsnqxqfDQ=='),\n",
      " Row(user_id='gAAAAABkGy0M6mzqzKlcCnkOEit-iWdT0ew20dryB7_x-BnUCpc8u-wuaJ15iW1whpl3OxX7SgNcjm2vUFG9yrBqKqbbmOWrdQ=='),\n",
      " Row(user_id='gAAAAABkGy0MGn5mmETHxtBiIG0DP6ICI9stSdzDPPGWCrI0XJGzo06dfMQVd97I5ffNqCusBRpImseR1qw3qTZjyaN4xLAW4g=='),\n",
      " Row(user_id='gAAAAABkGy0M5WbV40Vk3U3Vua4fqWUgAffcAbU5Z9HFFXZ6d9kUpk4CLGaugUclliVkHPnTH6E5iWrwOgM7l2XlSVeSPWDh9A=='),\n",
      " Row(user_id='gAAAAABkGy0MdKwey6moN0OF5CBecSGzdN-YTQWhhTHMoDW3w6IPhlKu-c83sbkeA-Q_BYXc0fA3VzoD-OI5K4Y7Sk3cS3mbpA=='),\n",
      " Row(user_id='gAAAAABkGy0MHb2oV93yXBv7sdnO-LH2rA88WObZMJ2TbUHlk3MO1-BJnZXlqqE7_dwF41radHVvgNbVdMJ3JfTwM4ONrX3u2A=='),\n",
      " Row(user_id='gAAAAABkGy0MoImMpyO6NhT7oOUnz0hCULP7Hrrd3tA2fSff_qgbbV1pxLWcRLpi4dkisFbhfU7WGaO1jS3_OHATmrtTTfkyrQ=='),\n",
      " Row(user_id='gAAAAABkGy0MtyS5MlnSDhnviTqjoGpkwwZLTknrfOIpQ73bWS_GF_4xi2OJDsqDZEFAylmZEbQWsOGRUhowUvJtnf9kfRf5bA=='),\n",
      " Row(user_id='gAAAAABkGy0MUCW1HwkLdjc5DSALzFvidqWKbxMIjJeczZjt5ZoxsnZG5y7sPF9c3NHfPOSLG0BvN3NDSYq-0i_KjzJqgcs5-Q=='),\n",
      " Row(user_id='gAAAAABkGy0MjhnOVYB669yXBymZC4pTcDAjAuKmn8aLwv-9B0_UAgQ1PKpcTT_4RJXPY5Em2jjzldM6feanwtP7zlwgIVcSYg=='),\n",
      " Row(user_id='gAAAAABkGy0M-_s_aSSRAswW-FFtM5bJ_n1vGHlqn_DEAs30Bfz5Yc4v8zCYa8MjugXpF2-5cjBbthYS_F0b-s_74JhuHasfmw=='),\n",
      " Row(user_id='gAAAAABkGy0Mpgm0TcUMuq9Ph3c667UYGq65z3wXRFZopmC3v5jlzWTr6g7dkmGU-Z1XCfLoZDYo16YCgM2Pd8dx81ziptMU2A=='),\n",
      " Row(user_id='gAAAAABkGy0MIbDWaQMeB4a6jheNAfSbqDS9mpLHbrjzyM2RAZ76ZL0AlYemLXXfaL9OViPW4vXwn-Gq80mMs2mGarX8w5FWsQ=='),\n",
      " Row(user_id='gAAAAABkGy0MWXV3OkwHJGbd_l-xUff3Ucue2NTGjbKX1Aaq4RsAr7s5GCSPX4bPA4gXVKjqZTDvY5WQ8smFt-Jh4G4GuHVZJw=='),\n",
      " Row(user_id='gAAAAABkGy0MqcGqyjLHlMKPO946i93DlF1IE2yx2fKc7OETsvwZ7nAijxCYWEpSArHkgtmObzBsOraj-519lfANYPNO79ANKg=='),\n",
      " Row(user_id='gAAAAABkGy0Mr0Rjg0WcmEMtZFKSArN8jHfA_qAAFCYQtOTJ9RI6q7HZiA1mthlyWsxCTFGU5tOM4PKqB4vAErV1riSVn_h0Y0aus3kkv00rXyQdLadxPAo='),\n",
      " Row(user_id='gAAAAABkGy0Ml_dBNgT-_EqJpFtL29OPYDyvj0kE3Wz06xNJIcCFOWIHJ6INQLNgU2AwJH_fqaiQ0x4p66U-05kwpGJ0h8-r5g=='),\n",
      " Row(user_id='gAAAAABkGy0MTHNF40mLx--pX4i2Kr25qLJuIhM0gLELia9LrHnwkMK-zYNSbfDjexHqjJmSnnKvsIKqtpZz6FZxoc9JkcKYiw=='),\n",
      " Row(user_id='gAAAAABkGy0MzKoEGm57AN5hpzJpxy4S7ban7ROku6y6Z5F8DzXd3dMPL7nrgIm-y0hdVa4SKYkMuSTSRXftfyUrPAOpx64upw=='),\n",
      " Row(user_id='gAAAAABkGy0MZ-aKzDt9iigQd2jQXrTSjK6gbN5RBAKieS_c_U7n4a2wkPBqqwe6K0zbFIBP9JcRFu3skatXjsYQOL9GEiW-Ig=='),\n",
      " Row(user_id='gAAAAABkGy0MMjDiCdCJoJZjNh9kr7unky8-vEEktl8oVzaNiEQVpxtLlbrJFNzzSSJBVQzt9LHv2RKXCiS9ehG8xAICZ2DBGA=='),\n",
      " Row(user_id='gAAAAABkGy0MuUFXpZTluq4g4wXmfmmLHTn_xSURJUZGejd45DLARL6Mh0xU5FBfOPXr32jgvOiq8n217u6U-XC7y15UQUxv6Q=='),\n",
      " Row(user_id='gAAAAABkGy0MWP_-2OOlbWA5Mx1otm1zqol2_WRMLaEMO4_AGd6x96pJe3x8X8xfLdzttD9OdHRfBYRt3N1MLG-o94L3BOADHQ=='),\n",
      " Row(user_id='gAAAAABkGy0M5vg_cS9bz_iNjD84Q17g7vGAJw9Wn9XE7hUpamnRkXNs38cSa0LGOo6ra93VRbOG1dHIiQhBpabeZnUBMj8seA=='),\n",
      " Row(user_id='gAAAAABkGy0MmdeCsRGfC0D18332FyHSBmre6GWTC4ifoRHx7G-gmilzHOPj_KBhlO2r-aVRpWCdG9IbekC83vFRSVVyE42jqg=='),\n",
      " Row(user_id='gAAAAABkGy0M1wvrr8ipWwbgYd822swbofLvonslyksj-HrPI6Z4Sj66SkMim2uH62yod7pRF19QLVRR6zn9NFUORdgmQ8Wsrw=='),\n",
      " Row(user_id='gAAAAABkGy0MDp8XnUzMXmSHqkrNltftS7aW18GrKHWgrkMvG_VSvbuMsE6fpRcsvTDJ2Cb6qwmFLlbwURQCXqSsKiZZBIdLZA=='),\n",
      " Row(user_id='gAAAAABkGy0MeMmwiBIGx8sRHiu6b9ckEdbJHKVZM9Jc_kepIFj3obIDyrU-0v-442NjlirUky2ni2AkIDV-cLErXMEvcPeVfw=='),\n",
      " Row(user_id='gAAAAABkGy0MmGzNBpazTrP8RdtEHlrfJKIpIkRhcKssi2VM4lSEndJH8xnxuD9H8ko3bh5CPzjGj8eQvsPRehZe13ybX7-a1Q=='),\n",
      " Row(user_id='gAAAAABkGy0MvV_MvKtn96kS4tKh9g7Uo_l6NmOq05vKkukNwsenz1dRcCwGYR66ClwZ6KLuv1rGuKGAp8YMSrV6HPrUj1WeuhEGYoHhSlrOmrGs6TPrZpY='),\n",
      " Row(user_id='gAAAAABkGy0M-LVhA9LyYha8cOoHMKbww2zpq_8eyf-actQJ9sYjJhHHmlcJ-wE0LRT9i6UxR3wG5xhz6bR7UtiZLmkd4DQj6Q=='),\n",
      " Row(user_id='gAAAAABkGy0MO7HIMOFjfhNaYm0HRrKUBfmz4UMLtrsePokmnpFB6zGInUuHz3bUHnAUouRbIq8VgjiyIhxc0lfpEtU1iSWFiA=='),\n",
      " Row(user_id='gAAAAABkGy0MdvdgkvpubMAipJWIBYZVc8bd5bV42vrZ6Nr6r_NigArZpuI73B5BUA3fg5_zOkxXL_ZgsDr3UGgiVpP2YJ3uow=='),\n",
      " Row(user_id='gAAAAABkGy0MQsKSGId5wyUbkcLf0BlHD8meNwUbFjAir5UAEno_9JILA2qjLHZEhZ66urMa0zngD8ZWJxMsUoL17ABZzKinxw=='),\n",
      " Row(user_id='gAAAAABkGy0MwsdEUnpH1ge4s6mJWi3CTyx4XDKGa1RO3J4UQ13WRhIKcScjGTld_aAmTfnu8HSwMv8KKXROUtQSom31jwl0rQ=='),\n",
      " Row(user_id='gAAAAABkGy0MxJNYoFARGjnT4yjyURQ0gJ5GYrvcfgHOQsYzNsNk4umxyVAlH5xb2AR9AuPkQhHdXrmZPdM0o9nfR8UKNsEElQ=='),\n",
      " Row(user_id='gAAAAABkGy0NgiLpe27d9ZFZKRMz4oUs6iPWdnQ7fJsaPlXFNzMZDhRYMArUhnxOmJ_B7SXpCIAdYJEy2Ay5HbnpsKdq3NcmPw=='),\n",
      " Row(user_id='gAAAAABkGy0NyFqComiFog3hUdOxvKtrIDFC_-iEqqgRcdK1XKEi2-XD6pnmTvBS992TRvfV0L1220xZJea_vRZnmRZnK0Mi4w=='),\n",
      " Row(user_id='gAAAAABkGy0NyJpuKmsexYxoG9QglxI8RUDaeLrPutMUiFSUUtfDt1wzyPFZd2aNpnABLM3FF8e_NSXCIIv2DTS4ncI_WxV4fA=='),\n",
      " Row(user_id='gAAAAABkGy0NOBLW5MuiDjnC5_qN4G2u7iYo8rf_ygoF5tr5_TDkMyKJUVprGIs_UTpPXsyez0YAEo1Get6_aWbdxRaV_UA9uQ=='),\n",
      " Row(user_id='gAAAAABkGy0NBx4X0pKZyhvPNVkir1Uxj6AQO0-JNEZNNnxXJq7k6ACxReYZJkE8_bmGf3hnUEUnYZl4-CkDu-YRGi1f1XiP7w=='),\n",
      " Row(user_id='gAAAAABkGy0Nsq4nk65MNMHb3DDZioXGfV5_8O9eik1GSyFNObeu09EBOpPysJMkxIILVgLTITcg0ilklOyS8F-thG0A_p7yjg=='),\n",
      " Row(user_id='gAAAAABkGy0NhFRlql9Wet00S-p996GQ52Kk2-dQUIEyOWNNvqEAdZI9DSBalLrQQfEUUqgQfFP49WAUrU3LjBq8rVcwKjgCiQ=='),\n",
      " Row(user_id='gAAAAABkGy0NUB4N7UxosyEca499DEvgbkzu0GqCpCDo6Vsj7YJpFtT2pADsVeQ2sffb3gozNntTNjetnzNc3O4g11iuaNFNpg=='),\n",
      " Row(user_id='gAAAAABkGy0NneGd-z6yZT-hzH2_Fpp6taNoJggWqHLe1pXyDsl0R9vYb_DwyMMrvCnDbdxIix6AxbKF5aLA6Rjk-u7jMxhgTA=='),\n",
      " Row(user_id='gAAAAABkGy0N2b_oLsjWMvYlXeLkdsZG9P006pfSgc-jx-X4-K_j7P6SQ-ju5BIp__webh0R7NLqkilKyo1CzdYN3heoo5QznQ=='),\n",
      " Row(user_id='gAAAAABkGy0N_V5_hY0Rx-kLFCWFrt_4JnjfjUI6mYOSm6P_GMoaGx8FO3Ma5hp2MHIqOAkkb7wpmqsTCeZNwHgKYkVqCzUGDA=='),\n",
      " Row(user_id='gAAAAABkGy0N5JqLPAvlz-U6lAyl4u8MJwaW2VqlN2YIexP1noXIS_v8BvfCyCkf7YY_egVLiT7zew5q80ECzmXw2ceDxSxIgQ=='),\n",
      " Row(user_id='gAAAAABkGy0NYGKImF6Eu6kRIdhRaPM69uLzvxdlLKjAcD_NJtOi7M9dCF_VQwBxFBFGxz-gqdRdqGbzjiwFkW6uUJZSAZ-TpQ=='),\n",
      " Row(user_id='gAAAAABkGy0NCr7jfxf-Mt_DmN9gvyjPieolZB-kgbEeXf0eDdvNB3Q-_zD5Oj8Fu78cJSWbBmYjuol8I2N-7SJoW21UmpnPkQ=='),\n",
      " Row(user_id='gAAAAABkGy0NxPvNeTEBF10ASyNAxZerLFhT4ED5D6hdN8HSmOotie1_Ofxo_tCBhSdBcBbeuvdpv0ieX_ZHHelfu0RH-PtT1Q=='),\n",
      " Row(user_id='gAAAAABkGy0NNOTM2wLQWRHPA-htc2kzaMceZJxV4Sj-l2vu3fEyo_FY1by3HRXqfdIxnp2vuWunklByKiHH3Ba17-nFzWnBZA=='),\n",
      " Row(user_id='gAAAAABkGy0NISJwQALhn_O_DHA9rRhzm7E5R6lQ59bIw31xqqL_19y8jUseZrzepKtNuyh4nIAzqoHgDKBAJ1N8fXnCtvGLOA=='),\n",
      " Row(user_id='gAAAAABkGy0NnAjpaGoWUK_Y3YrDhL2HlNVE-BNbjiBQGdTb0Ofke9rmmWz5hMvNmbP-rtNMMBz_Vo0DiatUOGDWtK5mRfK0Sw=='),\n",
      " Row(user_id='gAAAAABkGy0N94_zoXOFnoyL1H4C4uyhrP3oIUI6vHKBMmcPoEkjgdqgesnwUlQoXr6K6rseIHcsKf8t8CuPEr5MIi6Kf_c4NQ=='),\n",
      " Row(user_id='gAAAAABkGy0Nobg55L6oqEgKGQqyEz1I_ECxqTuyxWnzV8McvSEnGbCKUrGYi5TppDy6NZCOnzMJb2eVvWrLi0OYxro1mUxevg=='),\n",
      " Row(user_id='gAAAAABkGy0NEqFxOLDBAZehpxkjUqqsluKqbSHn3F4cXebVIVMOz3Ky-zuJljkFLh4B79mNWSBIM2Sxjm3lbGhZ143t8OslqQ=='),\n",
      " Row(user_id='gAAAAABkGy0Nln8jYvGMz5kjIr4Oniuo4NUIGDmYWch_wgGMghnnGgbDsJVKgq3zypJaNN-sjEVzfxBbjdnkatn0QfcVzYQGcg=='),\n",
      " Row(user_id='gAAAAABkGy0NiKMqz5EUaz70k_7F4jus7aw0Xuf_qTEqHvUIspnQ0ppF7n5ssMWqBAaITdGqAoE-nERqRlE_xl8GGfwc-uUfaw=='),\n",
      " Row(user_id='gAAAAABkGy0NFLomwKl_b6RnpD_jnpWH4BfXKZ344CLsZbkh4JCPjUrwW1ULUYQveBmgl6zjTi0FIiqdOoeTULE5cRO2tBd85g=='),\n",
      " Row(user_id='gAAAAABkGy0N5Ua_O8C8X7vcLNxNJg-7bLt4QdFPjbNY4d32upnCM0eRlzqWaPNOE_5DhLY0RSBX_Qn36Ogv5OvPg4FsUBosmA=='),\n",
      " Row(user_id='gAAAAABkGy0NfjM3pBmr5ITCAdrRj47i9R6cOwYk37K6rsvytzB7KvbGKC669GP1JZ20zpkpl83ecsMK77lqnM6q9yMAtP9vwQ=='),\n",
      " Row(user_id='gAAAAABkGy0NOlkD9I2zL_DnYz9kpZGZxWlbB_jGpByV7TdR4cgCXLZTXvUUGc4wZpCn30FGMuZSrceG6MTsj9zp6BR1FsseFQ=='),\n",
      " Row(user_id='gAAAAABkGy0NmPc3oIYys_4_5cau0E2Xjgex8_iCnxjEGOi0h7ucYLEEcourci5QsZhQQlZjuRWGAIENwEUyx0vxNmETVqRoLg=='),\n",
      " Row(user_id='gAAAAABkGy0NxdDHbctYKVIQYp_oIqy8yB4MHNmaiZ7_InCuqW7J5qhtK2JM4i2opgJz2iCsegGoJnEGGs3eovfb2KWBfAg_bw=='),\n",
      " Row(user_id='gAAAAABkGy0NMmvSckzoNyxhcvY1qFCwTmrTXPf-EviqBfL6qQ5UnthRNOix-IwlOzsUqBDiN4kDWwDnpmcVJKskhTzo04YeYg=='),\n",
      " Row(user_id='gAAAAABkGy0N840VmbgIfhoZ3oXfvzLfR9udPfk6BmnNeS8-tyMrnXALIMvL1GsYD9qvvM3t4Xv6dxGHUNUWL8YWpw6JJ7ClUw=='),\n",
      " Row(user_id='gAAAAABkGy0NAI1SVJG-zB1fxdKR_uDW86y1KryRwRNRPFaHhFDwxHFZMopIabt_fZkhCKSPWFKul4tIL4U6ZiT2EEukWLPzvw=='),\n",
      " Row(user_id='gAAAAABkGy0NPPi_io30uSQ5HGoqCQpJCOITKf_lfof2hCLZayb0mHNRH30n5JwekEy1mM-38_SKH3eZpr5IrA5WHVDe6lEowofHmD_9fXFkowUBibDMTeY='),\n",
      " Row(user_id='gAAAAABkGy0NgY2cIO7DPWvvNLdNKiWpzFGbuEoq9RxQ_mjw5p44f_pmG9AyZWCrPz57vIzfE0pBiaeBYtezNmixXbAcgQJZ1Q=='),\n",
      " Row(user_id='gAAAAABkGy0Nj4h0o9CXgV0A2PZNZusgtYSwd3kRguwGrt70LQ-qyl9uFBn7tU0qH8rI2d4V311hgk0yrvXnfN9WcO9r-Q_5yg=='),\n",
      " Row(user_id='gAAAAABkGy0NkEIEj51EsRErApUQ4zVVnmQ4sQnP-O8OjrKl7ON4qNugqv4p9Xlt8peyYQ4JS0sRh3nhCPP1ic4kzcCo38yiVw=='),\n",
      " Row(user_id='gAAAAABkGy0NFs6LMzOkF6OLx3iVLV95Lf9PWSb82Kbl-0lnN7f0RqEAYBXMCoNaux6AXd4j3OSQ8DlyfqWMewxFtPGBxDczFQ=='),\n",
      " Row(user_id='gAAAAABkGy0Nuh_N_A2ub8Mux24qTYL8t57O9s2xvuBg5KhCqumthKxHR3YgdSK3dqSnCJbzd50GflUt9nw4oYRKAJgxait6lQ=='),\n",
      " Row(user_id='gAAAAABkGy0N_c-nLJaT3ERdDghG9yDOVKL2a8RaAt-khOfQYFuKoaeSQKxtEwpSFGS_CgTMHqhl8O1MkHGLSwwcF_g2VpS0Kw=='),\n",
      " Row(user_id='gAAAAABkGy0NRMrVx299TgacXMXv_u8DJqpr0vJjeAp7jiMA_DOe_Q5roTlY5BtQYODgthzohGeK-xV4cjpqXD1AElcSEXNKvg=='),\n",
      " Row(user_id='gAAAAABkGy0NTkKuSyAf1Hw1HdOntOv10U3BMYlyEpWFC76AslZwH0VATaeAzEZw2IZBWIzWZPQ3GOTX2s3cc9Tv_6LfMInXYA=='),\n",
      " Row(user_id='gAAAAABkGy0NvgvaDVXR1_cCD1MXHn1Oq9BJKM2X7VuYAQmayKhShWjPow25NLAzOY8TKLfXrGbT27dHUUeBSJOPjyrbskyP1Q=='),\n",
      " Row(user_id='gAAAAABkGy0NFLFitIK2WL9WOyxwrS6Jt7LUIPby8UsUW2MApVNFO47xOSdyEdVx8ETTu9jWmiqZpAIAdQ7uDCzRJemv61jGOg=='),\n",
      " Row(user_id='gAAAAABkGy0NOJ1M1s16AFGBo_HqnAShd1GiCwPjaP2L7SoPXIm4QaeydZwyuJVOJBc-kwsJrhYVJJy_d4FJf5AikHWvbLdncg=='),\n",
      " Row(user_id='gAAAAABkGy0NdmkYJwJRaABv0bxNWmaK4e5YN_dxzWhkBMRA9Yy0baIdlI5kfje3eJzqOIxSc-t7MoDVFbCBZfFQJkjjSGqjUA=='),\n",
      " Row(user_id='gAAAAABkGy0NB6tefj02RYJ0wCvpkfnoN6WHd0K-EkKjuPSDBKGDopH6fIpyM2zHa0Btg4WuwZqlHqrY6InXqiXiNF8mi5MNyA=='),\n",
      " Row(user_id='gAAAAABkGy0NfWHbk4394P8ijPRpfYB_mq2b9emy3B8LcYSAb1PEPjXD6WpJI7KpPMH1_xSoS8owz6ueemVCn9FZ0R80vQxhRQ=='),\n",
      " Row(user_id='gAAAAABkGy0N1rLeCNJXE1tmpnXtXQGPuMu5cV6irymYFWvnt7BpVIXv99b1HWWv-8U2Y6pTjo0gaCpocQsveGmqgM89ySOPOA=='),\n",
      " Row(user_id='gAAAAABkGy0Nvi-HfLngn_Ypfq465t1Z7nfBl3bdmm4Z_8njBP-Jo7WqWCq2l2f1eKAHoEsPejEEwCUMv9OuQbMC4dc81tXqgA=='),\n",
      " Row(user_id='gAAAAABkGy0Np5xeGEGBZ14sozQeWWJFq3NxRFPYewEVU2zLpv-tfFq-1mxaptDaDfh1RFdcKJM6S2bzE_QfPCZxAa35JfCaUg=='),\n",
      " Row(user_id='gAAAAABkGy0NbEMZqyPri2wtdmBxAAIUdFWio0KbqZOb4ROqvCJTwU1es20nIQu6NjJQrCA3kTtZX-C7CV-YJ4nKWYl6vYwuiw=='),\n",
      " Row(user_id='gAAAAABkGy0NrZoKSZXf-FpTJiWD8JmQR032NqCUL3rbCNeyToN8Le5J2JYTHjKKMHOL2LgAjAP_En4ORjkExqk-1Y0hSKV97A=='),\n",
      " Row(user_id='gAAAAABkGy0NBtfBj0yf9l8KmXhUBl00JNv5tScrDZtcyPygn4b44QpZp7L4emgS10WeW6Hu8dsPGzLp-rBwYE2Jyemday8Xeg=='),\n",
      " Row(user_id='gAAAAABkGy0Ns0PEritdAmiOLDoFsVg7xradfYrFcPPSNWhMhOcXeqU3kZjsrQGo3lzqs3MMlSRZm35G2tS5IoHvyX8dv4vk_w=='),\n",
      " Row(user_id='gAAAAABkGy0Nzy5rmGLtrfHS0WmyadruHrNRaS3JYFZgn5_IPsf5wlPq1JOKy5mM6KUsoWBfjQioMvL32GEP7O1NDqjrpf4ssg=='),\n",
      " Row(user_id='gAAAAABkGy0NsjG-_Juqu9y0TZBaxRdQs6fPSakHdatK6I2Cmhv561oK4mfu-kJAFRDRR3hvc2kowCI5WyFNYIF83bxzgZA_kA=='),\n",
      " Row(user_id='gAAAAABkGy0NrGeb3J506CxdKy1U39VE6GMFBSmUEzCN1_s1cDCUwVLqmlR_4S4apf1mZ9ixh7kGq4ganh9zmyFDXthN91h9uw=='),\n",
      " Row(user_id='gAAAAABkGy0NuarWGA8hg1xYitQqfmTVRqwxUCXNzh80F_TubeOJRKBCfQ2RPWo1F2Hv38iPf2zNU4fAWet1XKy57GJqJ2XikQ=='),\n",
      " Row(user_id='gAAAAABkGy0NuvcFaOapyEPGTz28_UGUF5h6zoQPG7Xhrj9mrZ87rbZAMinETDquNv3Pj3qARPhih82TGdfqFigK-zwvpbkcHg=='),\n",
      " Row(user_id='gAAAAABkGy0NokmznSAAqfVDoxr3j6DRXzNbCeVibAHbSpNfc9g8ju9BCMRai9MOZhAUVawwkngglwZXHzvT4TWMo8gbmt5dlg=='),\n",
      " Row(user_id='gAAAAABkGy0NRrkfRZZ1fpxyTSmVonj5o4wvEC8R-lj42mMqtDPQ3bs_ntAkhfu_YIt9DZ5Mf6sBxHWXgNKGp7iM7LBXgtUblg=='),\n",
      " Row(user_id='gAAAAABkGy0NY1x6uaJCV4uq6gUkj1xi3JozGRAnJiLk6VkLLBJrIFFegQaAC0ELNPnl6kcbxS5LVhVYh227AcjxXY6I_3HHcw=='),\n",
      " Row(user_id='gAAAAABkGy0N_Q6OU8JDCoucaxLfc-XZKwdzwqGtNOHIdPM-q9cqp7ZdqfyRuIBhVcfGbe9KVwDV-0MiSk423TKb2UN62CsH4g=='),\n",
      " Row(user_id='gAAAAABkGy0N9r-77RJ4Y8VhFy87MJvpEMRZoAC-vvJTf1EI9-rMgJISmGPM-hZqj0_adE0cR2Uaa60ZnhVrjeOTLO3jh7tqVw=='),\n",
      " Row(user_id='gAAAAABkGy0NohyiwqUltTXoVXybXB3_YFVqXte8KEQGmEgltQIvMqpJ9SibtVNvkJkS2yZblP2kCebGPONg3oHhLrlv2nWlGg=='),\n",
      " Row(user_id='gAAAAABkGy0NkbC2bSvC_HI56plCkWsR0GTjwGRDI-KeDY1fqhGsj3PUkE7sA6k_7AQVEIz67GrH5jDfI8SHuzhhj49SV2XfIA=='),\n",
      " Row(user_id='gAAAAABkGy0Ng8vSgF3-rRkegsIGYqGindiGx3tftmpa_C1CyFZIsSpFpFeo6W_1XQnymlYpZsTh9NF7dwHAHQZ_6WTiXpL6Dw=='),\n",
      " Row(user_id='gAAAAABkGy0NQ_tpiR9GpOJjV_JJtoewX4f88dzGdK_zBClflWQp3jhNNM9QWC7MFnJotrnPOg6CwPzUX6iKkPCM6hZpXtGBeg=='),\n",
      " Row(user_id='gAAAAABkGy0NhJmkG009YNV6Uz0gthILzzy7coreioSO-RPNvoGa8DkcYRVV0cIz4J2MGNIha4FY5iQ-HtnDgCTeXB2mQ4x3bg=='),\n",
      " Row(user_id='gAAAAABkGy0NgcyTIuMJ4izKnFZBFbjH8rHMwX3XgJRRHzRwJfGehvVvfsBh5uIEMptiYlpTyIrMuW-rT4jeltan1x_I_RgnhQ=='),\n",
      " Row(user_id='gAAAAABkGy0NPsHxd5u1ZHzxA_U14AfItXu9jYCU5p329YcJP_qa9Gr3jnNxsV8kQOI3OPFkDiwWDoAt5pnz4dzncf1x8yI0Fg=='),\n",
      " Row(user_id='gAAAAABkGy0NpgsTRmRJgjSjWWicIvvpxHA-lVJe_S2Z0R3v_IcEBaKodxlZl70rxkU58ooS1wEGHQCwwc3UC2zCLzY-yADb8w=='),\n",
      " Row(user_id='gAAAAABkGy0N-jOn4a2cGSu-LIwvrOCr19FU0ofRthFG16_R5UQDagkOj4Ak27Bh6aZcYEHNkoiIxP7411HrYOnfrp-oZUG1RA=='),\n",
      " Row(user_id='gAAAAABkGy0Nkmn2_Pw0AdiRfoilRwnXKTKy-a9uc5uvfFb4rhEn317gZnGDrcdFvF9YylwYaee4_RWtJUMNYd0gt9RdctdbSA=='),\n",
      " Row(user_id='gAAAAABkGy0NYuMeipgGfckSmd5Ni5p78-qTYhD2bNAYHpam74Y7-W7SdTDUnyyApgSQlRJ1L4_-LXT0-omy2ibFKhvZK2NGCQ=='),\n",
      " Row(user_id='gAAAAABkGy0NY9IP6xkM0lFoedYYBj-tNBy-66ATpzMtf_7wVtLz1vkjPxwPjL967WYLUAd_IkD2MgawhbiUYq1OVZ4_Gpeypw=='),\n",
      " Row(user_id='gAAAAABkGy0NiFk9_8IcAYdBABkEr51KJ0dVLcqchdIW-rZ7tvdSKLWV4E2jjJcPG__UioNPgmPJJDIqynZo_46D9nIj43r1mQ=='),\n",
      " Row(user_id='gAAAAABkGy0Nso1CVPtaiWW3UOe9imxlndC9bEbqH-GX2BvNWlK0O7K_UtvoqQRjfYgP_arxwRuFfufn77R5mXX8LGoM38I4Bg=='),\n",
      " Row(user_id='gAAAAABkGy0NPa_ev3dGcRpvf46l3ON5iIP9VcI4RDhdIBR0BW1d51F3VB5P02UcSxrXC2dCg4wtT3jAdAoKEshdx5zb6oCWvQ=='),\n",
      " Row(user_id='gAAAAABkGy0N4kn0Y2roeeD4YKrusXqiQcptfbtIU4No3ppWq7dNRl0muGeGuFuk8iQi00NHa2QQtMZUxe3xZHRY_shBjHDdJg=='),\n",
      " Row(user_id='gAAAAABkGy0NFtcEbkPMvTFlJzc9xWFK_w1vs2-Y_ZqItwMgbEmYe-w803jOSUVgQEhqh63nyacG4Q-XCmCA4eud85HAaGLNeQ=='),\n",
      " Row(user_id='gAAAAABkGy0NWQPcM1hxSbKUyNfTtWK_7q_AIFHrNWTimLQfIskxoCICGmruYl9ZTiErrr0enqzAhGZYf9Aw2oroaFM1f6xKnw=='),\n",
      " Row(user_id='gAAAAABkGy0N5oZ3hCR_aCPRiIMnZYkeXjx6_1jMhJaC_1DolNrerqDOZ4MILvxhDx9lSEycOEJiudsqSWm-iuI7b9ciy1xotQ=='),\n",
      " Row(user_id='gAAAAABkGy0Np4OC-iGUEI0FBpoqpgyBD9o1BUYRXakFSONZsub_oROXjzNRABQTqj9JKtc8A2gAfn_PUaNks29rgvnxdX97bA=='),\n",
      " Row(user_id='gAAAAABkGy0Nm94xvd5ziTxEEQIfG2aQXFMbM2PIYiZfAWIpw9Jv6jLVHCrZvnuGQBLOBDXq9b1wRvDHFrSFi8wg9Kb8GqSeng=='),\n",
      " Row(user_id='gAAAAABkGy0NmCMMkhFn_mZGeUa_nRq-Obv3CmEdEyGotxxhXrkUij26yqtpkMixbkAd7hUhNA-tFddXStOnjPsfCEqbcSmhiA=='),\n",
      " Row(user_id='gAAAAABkGy0NRjOB6QaYksABEGTLiKuwCnP_WX9MH6sYsiVIdztvOdVUGMPeelhv1o5ruVoMVuEt8a8RDKSyN3--Ej0SxnOkLA=='),\n",
      " Row(user_id='gAAAAABkGy0Nf9gks4s4NpjiQo92afCQFO6MxaU_uTYmFjy2bfU6ghSKNEnD1bT-tV-TJ1jfa11-1gfr-9vy8mvq_IQCQR8Eqw=='),\n",
      " Row(user_id='gAAAAABkGy0N0N7FC9tRvQntA-f5Asiz_LRWFMlVzsKDy7u78wn-RnwtDKQNZr9btQI_u9gcpo_swaYqhCsqsIwRfRWpKNy2-g=='),\n",
      " Row(user_id='gAAAAABkGy0Nh6VxexEYDOXOu1_48dlURYUPX5z6laSWxM5k7p6GTpxD0U_8CVoJiLGlzE7t6crS1fk4F6E1hmo06lpYNaVHTg=='),\n",
      " Row(user_id='gAAAAABkGy0NWy8s3iTIIY3BXh_syZYeyuY7yq-PR-1AnL5Cgdu7sWN4wrUbLi96dGwxUBjGShvuyzrDktZJX4x5ohvt7AQWow=='),\n",
      " Row(user_id='gAAAAABkGy0N6dGjBYIAF_4J9t6k5-hjNKqpJ99YZNOSw218NRHdP673YASo-ZRqdS6WKcz5nlnTyS7luUMt6pdU4MlIeDtjHw=='),\n",
      " Row(user_id='gAAAAABkGy0NSiDZJHT_AFO7GVktYpdOD7AMo7P5I72GjPRwQex97VmYUAJT_Zre2sb2ODwgj2uIHztO27ULvooc0wC7ZgDdjLxatpAJvzrriEKfg29aUEY='),\n",
      " Row(user_id='gAAAAABkGy0NeRfBjk2hZzPKyQB9jWV0UV2P8Yf7DUmpMxKtntgJh7B-1YcxCrVcFG76iRInkV7CovkVg1mWU4YUvuSR12YGEw=='),\n",
      " Row(user_id='gAAAAABkGy0NELeH8WfJRPKMMII_BGGgIhM8stKHma-Ol7HMEWPbSunNxNZnz97wd-LoqK7h8-Y7TtYkDCJ2jpMpKyuswvHcDA=='),\n",
      " Row(user_id='gAAAAABkGy0NFvMdVxyE5eEN5tfJXbm01bCh4lS8-vQgEIP8Ige1BfT2ooUx90s8rxn-rXSqETwA-koBFqM0lsxWy9XgxlxPvw=='),\n",
      " Row(user_id='gAAAAABkGy0NZrmAxF4ppwLXRPcDVjKztkB3v2RyhZgi5SfL9sx9dIBNTH-_sydFE--e-Dw1xBxZZMBIWiVx0mn5Prqa-OdLDA=='),\n",
      " Row(user_id='gAAAAABkGy0NQNyZEa-LxaIaX_kXar8alY2EuqDJPn8tpSjgeHXDLGa5vxRTsYViV14aTAqzp8gL0sN6OS3C84TyV0gCj1hEmQ=='),\n",
      " Row(user_id='gAAAAABkGy0NGDQAZlN2tO3yxZijrGAYSFHbEEhmNB7gyAVAws78KBaNp5hzyGeTRoCQZ8po4eo8ECg4U2AO3seHC1zMERgASg=='),\n",
      " Row(user_id='gAAAAABkGy0NR10sqAhAjRNCMmgmnDPnrkuqqIw8ULRqrLdTxanPk2vPwIpSum_uCrnwnrqmztIeCc4LfI-PHm6dbF5TQWqe0A=='),\n",
      " Row(user_id='gAAAAABkGy0NcroFU4y1HaGjAGRKJrnECFwoWoMQx7m4pg5o7gt1leJ7eJM3XGbQpfX97T99uTMx18BrQuMX9WfC8qA2V-80CQ=='),\n",
      " Row(user_id='gAAAAABkGy0Nwhvr91WIZY469HtjgAN1a0ZNhLIeureYhc9jnGc3Oxfg6eW-JTfFZwXFR3RVMrsq3yNjzvDrs-OdBSMmUAkj2A=='),\n",
      " Row(user_id='gAAAAABkGy0NQ-tZYyqXvZpXR6oZ6ifOG1ZE6LmSo-PnAsDXgxkIkrm0P3hKw39iayhFSmup-U3nzddWGS9CapTe0Jm2KoYJzw=='),\n",
      " Row(user_id='gAAAAABkGy0NA1z8HxyeMtFm3ScSZtvrcScdzVPWTc53z8rYtel4lYomhmGtoPm4_qe-1AZjZ7U-Nk0vxy0D_0vCTquzzd1dwA=='),\n",
      " Row(user_id='gAAAAABkGy0NIT5Q68AW2Uj4AVYBxI10ZhetW0p8bkCk7BW4Ye-rVZcVcSNWackOxmM8mxWdMX-CmX61gDyN1d0zGVDdE-qoLg=='),\n",
      " Row(user_id='gAAAAABkGy0NipuoKML1lo1YJ0GflZsRuLwYByNipXd-YgNfd7iGFeaXbRlMshcpGeACuXdTe35gfPhSgBgnxmlrAgpK-wNVEw=='),\n",
      " Row(user_id='gAAAAABkGy0N6BfeMrGYcqmiKJlpx1_H2a9fhIB5VkslaQzTAGy-x7vsnmbH51ir4K7BV5_WlIocJb3g5-u_-K5I3_y2UxusaV_zXpf0qUWvfBdWbkrvnFo='),\n",
      " Row(user_id='gAAAAABkGy0Ny9qOc9GD1bYnV-8d19LdIRAZBw_gTXyIcw_N0tVRtQup_MwL_Rr5duArS220h_I3U5U2OHj0hoCDPm-YkNVkYA=='),\n",
      " Row(user_id='gAAAAABkGy0NOaoqR-2WDLuCaUWZXHpehOWaVmi0gL2YXqTecWPJ-CCt_afIf_V4cqvhm_MBXXwfmEB6ADPEd4s85-9mHH733A=='),\n",
      " Row(user_id='gAAAAABkGy0NbrXquF3JGUUhfWpgVg_qNsN_weJLFbsixZGBntyAPBHiUOLugrbYMQTLSiEUD_g5Bv2zf2rT4hgWt77jNjqx7w=='),\n",
      " Row(user_id='gAAAAABkGy0N4PEy8HBotI6f6ggJLF667UoZZjLowPkTXvuW1AXVkaIaxKM3l6kc5elqfo_3BIQ1AUKFrJcD5NmOR5-RBkCrhw=='),\n",
      " Row(user_id='gAAAAABkGy0NumV9nMizmbcA-F_EFm2Z9TBjLKPkxpkJlMoe9ioAMMdKvydyBSacjqHMMlJRcgjRxcQGsCAVICQ9TslHmIGccQ=='),\n",
      " Row(user_id='gAAAAABkGy0NgounJ7vte_LnympbEhCdV4Dl3P00rd6t9LYKtqXdckSHlG8IswPzI4ugjs03a2jqE2mJX6bNOL8baGSu23Wg7A=='),\n",
      " Row(user_id='gAAAAABkGy0NiR4U7qo3Z1qp_-P4zg1DNp9gU9uMNObC_avYxgzCnmHoxIKg0YSRESHoELsMO7wpBUJIMehAUoWmdFEzVtZHMg=='),\n",
      " Row(user_id='gAAAAABkGy0Njw6uK9_BA-ap3rEqS3z96rcAcV-xrrWyVxRcVXYtuyuE_z595ls88Oz8cRKKGFlGk4rQhN5l8UvSO8FBSAY56A=='),\n",
      " Row(user_id='gAAAAABkGy0N7n6y_Gw_Xj6YzG0NYg5BRkSI1o8cBilxmXBi1asq8yMwqR8yTskgUADkBcWhFlbx7TMUIoBhfV_VIvg1ORuFIw=='),\n",
      " Row(user_id='gAAAAABkGy0NvzbPV2XHNLol-_GYAZnY65YRIHYnHEaj1sf_puflsdMCe_G7sHVBuv0QVhadN0AhDAQeRGNvFvlHWKbYSoaNeA=='),\n",
      " Row(user_id='gAAAAABkGy0NrWvjKHF8jcRoLlWS1So5qiYfEgVkQtgH-wGOOdBecpOR9USD32Z3fYdFUM4mET6vk7XZGCOUvsJz-UL2Z-Cknw=='),\n",
      " Row(user_id='gAAAAABkGy0N5wUfpjEpvjESltD7aJVymmOq8cRS8uNx0MmGlXmfBFN1j-wXpAxxknT0wv1doOM5OBdqSyeajcb13BrGfmT-5A=='),\n",
      " Row(user_id='gAAAAABkGy0N-Mw6QwIfFlKIXZiwsWGEXXnFf7wGV0pjTBu0PAVoif4z_PKpbrrJ7j29J0GPg9UZIZ-wQoJck1oWW-W7VeVeSA=='),\n",
      " Row(user_id='gAAAAABkGy0NJ62jQm1d0ZtmjTrKp-sdOlWLl2QGTBbBZdTyVlDhgUAmrXN-O9Q4nJ8PAXgKo9qyP3tKuapkm_PdvuTdIbXuEg=='),\n",
      " Row(user_id='gAAAAABkGy0Ne5pEkEknaZM3IfJaL7lSa7GSW48qCdWlc4swyM5zJkh55aMw5n2hdbJ7pJ8M2hkKfvNtZ5h8wTbFKK1llI1-lQ=='),\n",
      " Row(user_id='gAAAAABkGy0NS5z-vN9aoRVeDUNJsHszQINvY_HJFK9mxSDTAGziIB_JYIAucYldPqrd94kRiTpNh3jJOzHeMCEZOp-iAMaacA=='),\n",
      " Row(user_id='gAAAAABkGy0NwkF2KIqthqO0MnssX5lK5LbsiW7xdAjzqBTByeniQdEH_uQwkdxRqJcv9pchGD7jyTpUcSIB17v8irQGfGwM7g=='),\n",
      " Row(user_id='gAAAAABkGy0NLr0379MFrBQnwmPdixpQr7N3XzZTv4SRxUvehFgkW3zBrJ7yGNVD_L6qawuSWqJkOZChiFzcmfL6QHQFazkLKQ=='),\n",
      " Row(user_id='gAAAAABkGy0NLbgQJ6Z1vu6Xskt65G3c8rHU0HXXQ3oFX1NeMZddgbjb3kSBuYlBxNBlpjkgsrQpEwsP5d5gJ8a3p-VC7xT5EQ=='),\n",
      " Row(user_id='gAAAAABkGy0NHMW_X2FE58OfsZT65tq35L-lYNrcnXeIntIpeIYhcvdoCVUQGjopUSI5G4AwP6z-O07lsyZB0TnklIDizcvVbw=='),\n",
      " Row(user_id='gAAAAABkGy0N1chvRvaWHR0iv1CNxM7o5rOwSCyRGCo19ufXgdwdVib-MacCwmVZpO_VyGtyZtxwUHsxA5LHmg1buuC4YEGhIQ=='),\n",
      " Row(user_id='gAAAAABkGy0N-tbddBHNVOH2DX4wEwZsKhIelhZ6HDHTuISPc0pNAMk7ps3rdPeSdWtmvSgqc8fQ7IxUzeHzu2j9Dlbh08c3CQ=='),\n",
      " Row(user_id='gAAAAABkGy0NXcPkjirwyI82Gn2BVIRjEL9CwEnuTModcRwCKyc7bGn_kTb-IQAhcyUGLFso9EL1nyWaEj5nBk8Ji_UY05NSaQ=='),\n",
      " Row(user_id='gAAAAABkGy0NfwqIElj6SZtH6zNuWeSZp1KSAYoya2XNKXUyhR-qvi_uAei9QfZhCKHnsLtC4UnTj_z0CEnEeM3qLPBI90_Peg=='),\n",
      " Row(user_id='gAAAAABkGy0N-JTmh-Fge-56-S9jWs_ovSxdxi7upy_pXnECr4oZxMWhi295iKH6kfRmzbIuKQpzsCbJ8P64aspxtW5Gi49mTw=='),\n",
      " Row(user_id='gAAAAABkGy0NwDBXMcnnBwjXWs7OXxvgkBzX3m_cOvE-aelEVsKptOLnorhn8vumf6OBm4TnmHegfMYnPrAmXCyzw8DPzSGE8Q=='),\n",
      " Row(user_id='gAAAAABkGy0NCE_HeKouuKLcsoMy1lwZgk99_cLr7tq2QjXeD5ZKg1A8x1igDfBnKqwV8vOO1pmBOftFnukaEHJNU8WGrEnoDw=='),\n",
      " Row(user_id='gAAAAABkGy0NxXmRMv67YsUQjbuK0UXiZmpDkgtgw9unHW5kqyWWyW6_ZObtm59fQDzALxgQQ54l6NMcojiJKXnNvMwSG4_DOA=='),\n",
      " Row(user_id='gAAAAABkGy0NmbBNNydHrkbVmcms_QXVLaWwe_JLfB_LkTMONROdvLW9OhRKRYQa60qZYY8TvPYwkMVujAz0J8-HqcQkkRD6aw=='),\n",
      " Row(user_id='gAAAAABkGy0N2y7DyQkmeCosSsTAEQntjoty5arCLDRRztGcxqF94EmzvCDZOKMpduBGCcxQM6G5ya2yY1gF_1vUpopybd6Vmw=='),\n",
      " Row(user_id='gAAAAABkGy0Nrcy3bPrMAqBLUrKJcQlwXPgHSdp3k3-SIZESSEuXRAO-haaaipQgL_aMuKSfLD3eCPVcdANQp2LEMCtad-ling=='),\n",
      " Row(user_id='gAAAAABkGy0NTb8I5IfcMTVzQejwSWDLeQXdZv0cfguhqV7HJWtmxi2b0jOH4n4M-ocHPxij7utHRPXlcX8PJgylBT0Qry70_A=='),\n",
      " Row(user_id='gAAAAABkGy0ND4958ms3QolU1teWQ8lb4OiS50W0F41uKkxDUDCiwPSHpkWusNMqxRzg7xM-3Z7Q7wd3XluqC4jByCM7Rt55Zw=='),\n",
      " Row(user_id='gAAAAABkGy0NNJkNiau3eT0Ve_3dJQJYtkZ2WnTK_DTPgsehPQDROoCad7_PIq28TCi0zM7R2ni-wM0t5jpREz5Qu6Eb_0QyXg=='),\n",
      " Row(user_id='gAAAAABkGy0NNqtInrRdk_kEUJCKeWP6iiBHb6lK3nzZzOXKPOF10kMHZl9zVsRLWtS5wbByUa24g_qrWYM0aeXzRq0sG7Vkxw=='),\n",
      " Row(user_id='gAAAAABkGy0N3pRUctLEkBRYpNnHgeKX4cgsYmSXxnyB24xLY644Vzz9oiGGeJAxxwN182uiYhPjGjtm8qz0UHm4zfFZGr3hxw=='),\n",
      " Row(user_id='gAAAAABkGy0NnKkrvcZYGKbes29J9m_lGq-0YPFpLInOMM5Nalru0tvVEGoVPnPxvZInm75843A_w11bwx8aBwo9ytkWf6nnCw=='),\n",
      " Row(user_id='gAAAAABkGy0NJCvvWxZJ0EBbc3pR3wrz33WxKmhoY56BaZb0dfhVEOhafYA6zPsJYXEQej6d-87EhM7UWsgBwCYx2YnQbg4sLA=='),\n",
      " Row(user_id='gAAAAABkGy0Nw7TQXHB7MaU5g6esIDbu6si8nIwyZBkMhNcfrg4Jte3tyw9bsLpLjytJzYqGfVQaaM_4veYf-bfiF2AH0UHTww=='),\n",
      " Row(user_id='gAAAAABkGy0No6z2Wvj9zYd1yjv0NVCX5MYyXKOCqVfGdIzGFtmkilwX5Z2uwALng4b8MYOmvD7zUzGRe8JH0gcvJHIOgY3rgw=='),\n",
      " Row(user_id='gAAAAABkGy0Nj-6ceSQhvmYnyLicxhzaKrLSFtYJrc9bDDkfDWnPek5y3WglAioCukDCPbnAjZbqA3rX7NgQXY3dADaFnFtdlQ=='),\n",
      " Row(user_id='gAAAAABkGy0N7qIsVBAsz0cGqNE_OVqo61VQLcTrIMKrA2kf0sxPHJ68_FPjj3abACRFdYK0TqKQCvOnAqdgCxzNFMlb-tfnWA=='),\n",
      " Row(user_id='gAAAAABkGy0Nbkq0RMCyGCJ4wc8qQ12J3uhZwV3FH48552CEP4X2nhWdxdTDBT5BculwEed2SpmElsJHW3y_aSjVyV6aZcZdUQ=='),\n",
      " Row(user_id='gAAAAABkGy0NMdfJvDVe3zIXIbJgxBZRUrp_KJGE_PhWeQCo6inp0qFnziAP1tzCkKqZGvEtlDbSVwgpg6laYCUQoGQyUVUOOQ=='),\n",
      " Row(user_id='gAAAAABkGy0NlOvqtW9F-CjoOP6mOZpcKqy_AwCqZ8kxNXNu4nVLCXsr1LdDQMyYnmR58_Za1Us0daa4VeLcDr4Ghi-vxfTclg=='),\n",
      " Row(user_id='gAAAAABkGy0N08EqTBPd1wQtKaq8i3Ql-Wd2UTXzLOH9sWmjkIyGQgCpgbFKTYMC4MJSbRpgB9mBF7Y8jcsXE2TwcBV3OWLGpA=='),\n",
      " Row(user_id='gAAAAABkGy0N88lGWe0NbAeW6Z469whrEhs8GUc4zxLXXIrRUUzAQOR6EGZzuFG-BxMDWoX2x8TIw0PvvjdRo6v5OaDATXO6rwsy57Ltj_SmoHmK6KgV_78='),\n",
      " Row(user_id='gAAAAABkGy0NiyOTQgBQXuhi7U3FR_prncY79Q4r1vp24BYdfHtwSKs4x8IUkEaBNFjAZ_Ga3xquTcFkYgbFst16Ng-g1M7IOQ=='),\n",
      " Row(user_id='gAAAAABkGy0NqtGXLrdlNgacaPNxAV_l47dVthxJ0kG3zsmpe7nJEkE6vPmSFnqIsuHtk6i-b15oHv_CZztA1AR-eTxAr0OHSw=='),\n",
      " Row(user_id='gAAAAABkGy0NoPzMZ1JREE3UhtuIKRW0fcD_7rbBnSWDp5J2P_-4CecRqhWnh-VAkcQN67gvUyeNuW6QoIZ0IAPCICD9OlphmQ=='),\n",
      " Row(user_id='gAAAAABkGy0NGnanI5ObA5TezHxRHUytaNVWDQStCg2U1f006LP6IrRnvvdgsO93TEE8x-0tbX-IyUzqQtAHqT65eujzrRaHh-luqu3Zl7a6fowLRdVDMAM='),\n",
      " Row(user_id='gAAAAABkGy0NOQLDnkqsexyzZpfux5TX0SVkSNcJBfT2enUdnxPu2jWvMg84Kx0atFRdZI8y_o3WTYBrZQuk-5DxQU3FQjVaZA=='),\n",
      " Row(user_id='gAAAAABkGy0NmeZCbLrO5q2MNSoVxZO8bRxGWGY20V6NLrJPof94HWSZgsDevAQ-tdDZiyqkkRcsn3pl61Roa7lqVndK2LgNYg=='),\n",
      " Row(user_id='gAAAAABkGy0NHBdo11H0XcuEUKrvQwu6SUbyiMy-IoClxCukyeW8B79i9fpezZGc2C9A1xicOj_TKSVe8N2eoe39K0AtOY57Dg=='),\n",
      " ...]"
     ]
    }
   ],
   "source": [
    "results = df.select(encrypted_udf(col(\"user_id\"),lit(Key)).alias(\"user_id\")).collect()\n",
    "results"
   ]
  },
  {
   "cell_type": "markdown",
   "metadata": {
    "application/vnd.databricks.v1+cell": {
     "cellMetadata": {},
     "inputWidgets": {},
     "nuid": "20c266e1-20ce-4400-bab5-2c9fd83930b6",
     "showTitle": false,
     "title": ""
    }
   },
   "source": [
    "This looks like it works now! Let's add it as a column."
   ]
  },
  {
   "cell_type": "code",
   "execution_count": null,
   "metadata": {
    "application/vnd.databricks.v1+cell": {
     "cellMetadata": {
      "byteLimit": 2048000,
      "rowLimit": 10000
     },
     "inputWidgets": {},
     "nuid": "32a7ea42-5565-45a8-a52f-72c4a013897c",
     "showTitle": false,
     "title": ""
    }
   },
   "outputs": [],
   "source": [
    "df = df.withColumn(\"user_id\", encrypted_udf(col('user_id'), lit(Key))) "
   ]
  },
  {
   "cell_type": "code",
   "execution_count": null,
   "metadata": {
    "application/vnd.databricks.v1+cell": {
     "cellMetadata": {
      "byteLimit": 2048000,
      "rowLimit": 10000
     },
     "inputWidgets": {},
     "nuid": "b7eaf73a-d931-48a1-afa5-80e8916766f7",
     "showTitle": false,
     "title": ""
    }
   },
   "outputs": [
    {
     "name": "stdout",
     "output_type": "stream",
     "text": [
      "Out[53]: Row(air_quality_index=200, user_id='gAAAAABkGy0g686MKdvjux-yXnkD0e7ulvouzJcUfJKFHHJXF3MMEgFBHWZkSD_4H7vXIfMaGCQWaiUH0aO8TmLZelZ1pfyL7g==', top_pollutant='PM10', top_pollutant_concentration='88', timestamp='2022-04-07T14:38:34.869188', lat=10.666680335998535, long=-61.518890380859375, city='Port of Spain', country='TT', timezone='America/Port_of_Spain', air_quality_category=4)"
     ]
    }
   ],
   "source": [
    "df.head()"
   ]
  },
  {
   "cell_type": "markdown",
   "metadata": {
    "application/vnd.databricks.v1+cell": {
     "cellMetadata": {},
     "inputWidgets": {},
     "nuid": "b9d3f15b-b55f-4cfa-847f-9d0c17624d1b",
     "showTitle": false,
     "title": ""
    }
   },
   "source": [
    "Also we could write a function to decrypt. This would be a good homework exercise"
   ]
  },
  {
   "cell_type": "code",
   "execution_count": null,
   "metadata": {
    "application/vnd.databricks.v1+cell": {
     "cellMetadata": {
      "byteLimit": 2048000,
      "rowLimit": 10000
     },
     "inputWidgets": {},
     "nuid": "37e3f691-b2cd-4ed3-b8d0-30fb845d4584",
     "showTitle": false,
     "title": ""
    }
   },
   "outputs": [],
   "source": [
    "# Define decrypt user defined function \n",
    "def decrypt_user_id(cipher_text,MASTER_KEY):\n",
    "    from cryptography.fernet import Fernet\n",
    "    f = Fernet(MASTER_KEY)\n",
    "    clear_val=f.decrypt(cipher_text.encode()).decode()\n",
    "    return clear_val"
   ]
  },
  {
   "cell_type": "code",
   "execution_count": null,
   "metadata": {
    "application/vnd.databricks.v1+cell": {
     "cellMetadata": {
      "byteLimit": 2048000,
      "rowLimit": 10000
     },
     "inputWidgets": {},
     "nuid": "0cd428f2-bad4-4613-9f5e-7109a4c255a7",
     "showTitle": false,
     "title": ""
    }
   },
   "outputs": [
    {
     "name": "stdout",
     "output_type": "stream",
     "text": [
      "Out[56]: Row(air_quality_index=200, user_id='maynardmorgan', top_pollutant='PM10', top_pollutant_concentration='88', timestamp='2022-04-07T14:38:34.869188', lat=10.666680335998535, long=-61.518890380859375, city='Port of Spain', country='TT', timezone='America/Port_of_Spain', air_quality_category=4)"
     ]
    }
   ],
   "source": [
    "decrypted_udf = udf(decrypt_user_id, StringType())\n",
    "dec_df = df.withColumn(\"user_id\", decrypted_udf(col('user_id'), lit(Key))) \n",
    "dec_df.head()"
   ]
  },
  {
   "cell_type": "markdown",
   "metadata": {
    "application/vnd.databricks.v1+cell": {
     "cellMetadata": {},
     "inputWidgets": {},
     "nuid": "a2a7797b-0ab2-4181-bf23-6ee8b982e701",
     "showTitle": false,
     "title": ""
    }
   },
   "source": [
    "# Format-Preserving Encryption"
   ]
  },
  {
   "cell_type": "code",
   "execution_count": null,
   "metadata": {
    "application/vnd.databricks.v1+cell": {
     "cellMetadata": {
      "byteLimit": 2048000,
      "rowLimit": 10000
     },
     "inputWidgets": {},
     "nuid": "4fa6a49b-71d7-44b5-8a4f-830a284a2571",
     "showTitle": false,
     "title": ""
    }
   },
   "outputs": [],
   "source": [
    "key = \"mysecretkey\"\n",
    "new_df = fpe_hash_column(new_df, \"user_id\", key)"
   ]
  },
  {
   "cell_type": "code",
   "execution_count": null,
   "metadata": {
    "application/vnd.databricks.v1+cell": {
     "cellMetadata": {
      "byteLimit": 2048000,
      "rowLimit": 10000
     },
     "inputWidgets": {},
     "nuid": "6fa9730f-8abd-4b7e-8ab0-fa1b656bcc4c",
     "showTitle": false,
     "title": ""
    }
   },
   "outputs": [],
   "source": [
    "from pyspark.sql.functions import lit\n",
    "from pyspark.sql.types import StructType, StructField, StringType\n",
    "from pyspark.sql import Row\n",
    "from pyspark.testing.sqlutils import ReusedSQLTestCase\n",
    "def test_fpe_hash_column():\n",
    "        schema = StructType([\n",
    "            StructField(\"id\", StringType()),\n",
    "            StructField(\"name\", StringType())\n",
    "        ])\n",
    "        data = [\n",
    "            Row(\"1\", \"John\"),\n",
    "            Row(\"2\", \"Jane\"),\n",
    "            Row(\"3\", \"Bob\"),\n",
    "            Row(\"4\", \"Alice\")\n",
    "        ]\n",
    "        df = self.spark.createDataFrame(data, schema)\n",
    "        key = 'secret_key'\n",
    "        df_encrypted = fpe_hash_column(df, 'name', key)\n",
    "        expected_result = [\n",
    "            ('1', ffx_encrypt(key, 'John')),\n",
    "            ('2', ffx_encrypt(key, 'Jane')),\n",
    "            ('3', ffx_encrypt(key, 'Bob')),\n",
    "            ('4', ffx_encrypt(key, 'Alice'))\n",
    "        ]\n",
    "        expected_schema = StructType([\n",
    "            StructField(\"id\", StringType()),\n",
    "            StructField(\"fpe_hashed_name\", StringType())\n",
    "        ])\n",
    "        expected_df = spark.createDataFrame(expected_result, expected_schema)\n",
    "\n",
    "        assert df_encrypted.select('id', 'fpe_hashed_name').collect() == expected_df.select('id', 'fpe_hashed_name').collect() , \"The user_id column has to be encrypted after the encryption logic applied\" \n"
   ]
  },
  {
   "cell_type": "code",
   "execution_count": null,
   "metadata": {
    "application/vnd.databricks.v1+cell": {
     "cellMetadata": {
      "byteLimit": 2048000,
      "rowLimit": 10000
     },
     "inputWidgets": {},
     "nuid": "db01e976-4dcd-4f63-8b11-8011340339ef",
     "showTitle": false,
     "title": ""
    }
   },
   "outputs": [
    {
     "name": "stdout",
     "output_type": "stream",
     "text": [
      "+-----------------+----------------+-------------+---------------------------+--------------------+---------+---------+-------------------+-------+--------------------+--------------------+--------------------+------------------+\n",
      "|air_quality_index|         user_id|top_pollutant|top_pollutant_concentration|           timestamp|      lat|     long|               city|country|            timezone|air_quality_category|      hashed_user_id|fpe_hashed_user_id|\n",
      "+-----------------+----------------+-------------+---------------------------+--------------------+---------+---------+-------------------+-------+--------------------+--------------------+--------------------+------------------+\n",
      "|              200|   maynardmorgan|         PM10|                         88|2022-04-07T14:38:...| 10.66668|-61.51889|      Port of Spain|     TT|America/Port_of_S...|                   4|ef0e8649d9000ff22...|     2JBEWtuqwxPdZ|\n",
      "|              200|millerjacqueline|         PM10|                         45|2022-04-07T14:39:...| 34.25628|-78.04471|             Leland|     US|    America/New_York|                   4|3ed407ff320fa7e1c...|  l0A6zxVgFtUfoLPf|\n",
      "|                0|           ikirk|          NO2|                         31|2022-04-07T14:39:...| 43.48961|  -8.2194|             Ferrol|     ES|       Europe/Madrid|                   1|d6dc43d1eddaf86a3...|            W9PqVu|\n",
      "|              300| williamszachary|           CO|                         15|2022-04-07T14:40:...| 42.06166| -1.60452|             Tudela|     ES|       Europe/Madrid|                   5|2d52a80f1269fa45a...|   YzAGa23KJD4PFc1|\n",
      "|              280|        sfarrell|        PM2.5|                         62|2022-04-07T14:41:...|   -28.24|-48.67028|           Imbituba|     BR|   America/Sao_Paulo|                   5|199fbb0cf17446f7b...|          zRoyPnUX|\n",
      "|               20|     mariamartin|           CO|                          9|2022-04-07T14:41:...| 51.40944| 46.04833|       Privolzhskiy|     RU|      Europe/Saratov|                   1|844263bdd99411a71...|       cNZk6NAdE4E|\n",
      "|               80|   michaelfuller|           CO|                         99|2022-04-07T14:42:...| 53.30972| 83.62389|     Novosilikatnyy|     RU|        Asia/Barnaul|                   2|2b2092ab6ecde8454...|     CF1wfgrWlOwck|\n",
      "|              100|       acummings|          SO2|                         32|2022-04-07T14:43:...| 52.53048| 13.29371|Charlottenburg-Nord|     DE|       Europe/Berlin|                   2|7d686f976893f470a...|         EVZihMoqP|\n",
      "|              140|    glorialandry|          NO2|                         77|2022-04-07T14:43:...| 37.13548| -3.67029|         Las Gabias|     ES|       Europe/Madrid|                   3|f0cdc51de348d6ad2...|      oFK8y9UvSeAq|\n",
      "|               60|      martinjohn|           O3|                         73|2022-04-07T14:44:...|  5.30383| -1.98956|             Tarkwa|     GH|        Africa/Accra|                   2|15be00a1fb4b128a6...|        zbG0lfA6ga|\n",
      "|              360|  karenmaldonado|           O3|                          7|2022-04-07T14:45:...| 46.65581|  32.6178|            Kherson|     UA|         Europe/Kiev|                   6|e4868e74cb3abef3e...|    Xs4VynDMrYndyO|\n",
      "|               60|     aaronholden|        PM2.5|                         44|2022-04-07T14:46:...| 42.22718| 14.39024|           Lanciano|     IT|         Europe/Rome|                   2|e9f84ce09b08c6279...|       44nL4ZzkzZv|\n",
      "|              240|        johnny58|         PM10|                         29|2022-04-07T14:46:...|-22.53722|-42.98194|         Guapimirim|     BR|   America/Sao_Paulo|                   5|812e1d4421f0b8fdf...|          z707KKqe|\n",
      "|              220|   sanderssummer|        PM2.5|                         62|2022-04-07T14:47:...| 40.87329| 14.43865|    Somma Vesuviana|     IT|         Europe/Rome|                   5|8347a519499114eb9...|     QPi0zRINhxdka|\n",
      "|              200|   bradleymosley|           CO|                         11|2022-04-07T14:47:...|  3.51667|     11.5|           Mbalmayo|     CM|       Africa/Douala|                   4|302198479d636635f...|     6HriH18laQHRQ|\n",
      "|               20|   atkinsrussell|          SO2|                         77|2022-04-07T14:48:...| 49.03685|  8.70745|            Bretten|     DE|       Europe/Berlin|                   1|070206423832ef1e9...|     ZWrHYDXaA9UIi|\n",
      "|                0|          hlewis|          NO2|                         80|2022-04-07T14:49:...|  53.0233| -1.48119|             Belper|     GB|       Europe/London|                   1|a6b7474c78c8c6af2...|            47lb7h|\n",
      "|              180|  crystalcarlson|          NO2|                         25|2022-04-07T14:49:...| 54.58048| 16.86194|              Ustka|     PL|       Europe/Warsaw|                   4|d724eeabf5cff077a...|    xpOpSCwiTkpg8L|\n",
      "|              220|        sharon04|         PM10|                         43|2022-04-07T14:50:...| 39.71734|-74.96933|       Sicklerville|     US|    America/New_York|                   5|66a77bd4cca8dbded...|          0AWWEqM0|\n",
      "|              120|        tjohnson|        PM2.5|                         43|2022-04-07T14:51:...|  19.8173|-97.35992|          Teziutlan|     MX| America/Mexico_City|                   3|25b7dc49e6bd18e1d...|          pCUjid6P|\n",
      "+-----------------+----------------+-------------+---------------------------+--------------------+---------+---------+-------------------+-------+--------------------+--------------------+--------------------+------------------+\n",
      "only showing top 20 rows\n",
      "\n"
     ]
    }
   ],
   "source": [
    "new_df.show()"
   ]
  },
  {
   "cell_type": "markdown",
   "metadata": {
    "application/vnd.databricks.v1+cell": {
     "cellMetadata": {},
     "inputWidgets": {},
     "nuid": "cd5c5d77-32c0-4e7f-81a4-b536e0141233",
     "showTitle": false,
     "title": ""
    }
   },
   "source": [
    "# Solution"
   ]
  },
  {
   "cell_type": "code",
   "execution_count": null,
   "metadata": {
    "application/vnd.databricks.v1+cell": {
     "cellMetadata": {
      "byteLimit": 2048000,
      "rowLimit": 10000
     },
     "inputWidgets": {},
     "nuid": "fc8c026b-5b1d-481c-8635-8d7881a91db8",
     "showTitle": false,
     "title": ""
    }
   },
   "outputs": [],
   "source": [
    "from pyspark.sql.functions import udf, col\n",
    "from pyspark.sql.types import StringType\n",
    "import pyffx\n",
    "\n",
    "def ffx_encrypt(key, value):\n",
    "    if len(value) < 6:\n",
    "       value += \"X\" * (6-len(value))\n",
    "       print(len(value))\n",
    "    ffx = pyffx.String(key.encode(), alphabet='abcdefghijklmnopqrstuvwxyz0123456789ABCDEFGHIJKLMNOPQRSTUVWXYZ', length=len(value))\n",
    "    return ffx.encrypt(value)\n",
    "\n",
    "def fpe_hash_column(df, column_name, key):\n",
    "    ffx_udf = udf(lambda x: ffx_encrypt(key, x), StringType())\n",
    "    df = df.withColumn(\"fpe_hashed_\" + column_name, ffx_udf(col(column_name)))\n",
    "    return df"
   ]
  },
  {
   "cell_type": "markdown",
   "metadata": {
    "application/vnd.databricks.v1+cell": {
     "cellMetadata": {},
     "inputWidgets": {},
     "nuid": "9ee019e7-414c-4c71-a018-6a838959227b",
     "showTitle": false,
     "title": ""
    }
   },
   "source": [
    "# Format-Preserving Decryption"
   ]
  },
  {
   "cell_type": "code",
   "execution_count": null,
   "metadata": {
    "application/vnd.databricks.v1+cell": {
     "cellMetadata": {},
     "inputWidgets": {},
     "nuid": "a341992a-3923-4572-b430-b7db99c9a842",
     "showTitle": false,
     "title": ""
    }
   },
   "outputs": [],
   "source": [
    "def fpe_decrypt_column\n",
    "# Todo"
   ]
  },
  {
   "cell_type": "code",
   "execution_count": null,
   "metadata": {
    "application/vnd.databricks.v1+cell": {
     "cellMetadata": {
      "byteLimit": 2048000,
      "rowLimit": 10000
     },
     "inputWidgets": {},
     "nuid": "d934a299-1dfb-49f5-b65f-d6da8f40fd54",
     "showTitle": false,
     "title": ""
    }
   },
   "outputs": [
    {
     "name": "stdout",
     "output_type": "stream",
     "text": [
      "+----------------+---------------------+\n",
      "|         user_id|fpe_decrypted_user_id|\n",
      "+----------------+---------------------+\n",
      "|   maynardmorgan|        maynardmorgan|\n",
      "|millerjacqueline|     millerjacqueline|\n",
      "|           ikirk|               ikirkX|\n",
      "| williamszachary|      williamszachary|\n",
      "|        sfarrell|             sfarrell|\n",
      "|     mariamartin|          mariamartin|\n",
      "|   michaelfuller|        michaelfuller|\n",
      "|       acummings|            acummings|\n",
      "|    glorialandry|         glorialandry|\n",
      "|      martinjohn|           martinjohn|\n",
      "|  karenmaldonado|       karenmaldonado|\n",
      "|     aaronholden|          aaronholden|\n",
      "|        johnny58|             johnny58|\n",
      "|   sanderssummer|        sanderssummer|\n",
      "|   bradleymosley|        bradleymosley|\n",
      "|   atkinsrussell|        atkinsrussell|\n",
      "|          hlewis|               hlewis|\n",
      "|  crystalcarlson|       crystalcarlson|\n",
      "|        sharon04|             sharon04|\n",
      "|        tjohnson|             tjohnson|\n",
      "+----------------+---------------------+\n",
      "only showing top 20 rows\n",
      "\n"
     ]
    }
   ],
   "source": [
    "df_decrypted = fpe_decrypt_column(new_df ,\"fpe_hashed_user_id\", key)\n",
    "df_decrypted.select(\"user_id\", \"fpe_decrypted_user_id\").show()"
   ]
  },
  {
   "cell_type": "code",
   "execution_count": null,
   "metadata": {
    "application/vnd.databricks.v1+cell": {
     "cellMetadata": {
      "byteLimit": 2048000,
      "rowLimit": 10000
     },
     "inputWidgets": {},
     "nuid": "81811dfa-7562-4770-b35d-b75919e6b1b3",
     "showTitle": false,
     "title": ""
    }
   },
   "outputs": [],
   "source": [
    "from pyspark.sql import SparkSession, Row\n",
    "from pyspark.sql.functions import col\n",
    "from pyspark.sql.types import StringType\n",
    "\n",
    "def test_fpe_decrypt_column():\n",
    "    schema = StructType([\n",
    "        StructField(\"id\", StringType()),\n",
    "        StructField(\"name\", StringType())\n",
    "    ])\n",
    "    data = [\n",
    "        Row(\"1\", \"John\"),\n",
    "        Row(\"2\", \"Jane\"),\n",
    "        Row(\"3\", \"Bob\"),\n",
    "        Row(\"4\", \"Alice\")\n",
    "    ]\n",
    "    df = self.spark.createDataFrame(data, schema)\n",
    "    key = 'secret_key'\n",
    "    df_encrypted = fpe_hash_column(df, 'name', key)\n",
    "    df_decrypted = fpe_decrypt_column(df, \"fpe_hashed_user_id\",key)\n",
    "        \n",
    "    actual_rows = sorted(df_decrypted.select(\"id\", \"fpe_decrypted_user_id\").collect(), key=lambda row: row.id)\n",
    "    expected_rows = sorted(df.collect(), key=lambda row: row.id)\n",
    "    assert actual_rows == expected_rows"
   ]
  },
  {
   "cell_type": "markdown",
   "metadata": {
    "application/vnd.databricks.v1+cell": {
     "cellMetadata": {},
     "inputWidgets": {},
     "nuid": "8f4873e8-7635-4dbd-9ae0-c18f530a7955",
     "showTitle": false,
     "title": ""
    }
   },
   "source": [
    "# Solution"
   ]
  },
  {
   "cell_type": "code",
   "execution_count": null,
   "metadata": {
    "application/vnd.databricks.v1+cell": {
     "cellMetadata": {
      "byteLimit": 2048000,
      "rowLimit": 10000
     },
     "inputWidgets": {},
     "nuid": "964746c3-e736-40df-825f-c73cd5d2e874",
     "showTitle": false,
     "title": ""
    }
   },
   "outputs": [],
   "source": [
    "def ffx_decrypt(key, value):\n",
    "    ffx = pyffx.String(key.encode(), alphabet='abcdefghijklmnopqrstuvwxyz0123456789ABCDEFGHIJKLMNOPQRSTUVWXYZ', length=len(value))\n",
    "    return ffx.decrypt(value)\n",
    " \n",
    "def fpe_decrypt_column(df, column_name, key):\n",
    "    ffx_udf = udf(lambda x: ffx_decrypt(key, x), StringType())\n",
    "    df = df.withColumn(\"fpe_decrypted_user_id\", ffx_udf(col(column_name)))\n",
    "    return df"
   ]
  },
  {
   "cell_type": "markdown",
   "metadata": {
    "application/vnd.databricks.v1+cell": {
     "cellMetadata": {},
     "inputWidgets": {},
     "nuid": "9c1a7e7b-0838-4b1c-8663-ff1d9fc7bf2c",
     "showTitle": false,
     "title": ""
    }
   },
   "source": [
    "Now we can move onto our GPS data!\n",
    "\n",
    "How precise is GPS data anyways? 🤔 (from [wikipedia](https://en.wikipedia.org/wiki/Decimal_degrees))\n",
    "\n",
    "\n",
    "decimal places  | degrees  |distance\n",
    "------- | -------          |--------\n",
    "0        |1                |111  km\n",
    "1        |0.1              |11.1 km\n",
    "2        |0.01             |1.11 km\n",
    "3        |0.001            |111  m\n",
    "4        |0.0001           |11.1 m\n",
    "5        |0.00001          |1.11 m\n",
    "6        |0.000001         |11.1 cm\n",
    "7        |0.0000001        |1.11 cm\n",
    "8        |0.00000001       |1.11 mm"
   ]
  },
  {
   "cell_type": "code",
   "execution_count": null,
   "metadata": {
    "application/vnd.databricks.v1+cell": {
     "cellMetadata": {},
     "inputWidgets": {},
     "nuid": "765bd860-0fd6-4c6f-9741-c405ee9b8c2f",
     "showTitle": false,
     "title": ""
    }
   },
   "outputs": [
    {
     "name": "stdout",
     "output_type": "stream",
     "text": [
      "-RECORD 0-------------------------------------------\n",
      " air_quality_index           | 200                  \n",
      " user_id                     | gAAAAABkEykWSwBf7... \n",
      " top_pollutant               | PM10                 \n",
      " top_pollutant_concentration | 88                   \n",
      " timestamp                   | 2022-04-07T14:38:... \n",
      " lat                         | 10.66668             \n",
      " long                        | -61.51889            \n",
      " city                        | Port of Spain        \n",
      " country                     | TT                   \n",
      " timezone                    | America/Port_of_S... \n",
      " air_quality_category        | 4                    \n",
      "-RECORD 1-------------------------------------------\n",
      " air_quality_index           | 200                  \n",
      " user_id                     | gAAAAABkEykWh4i1l... \n",
      " top_pollutant               | PM10                 \n",
      " top_pollutant_concentration | 45                   \n",
      " timestamp                   | 2022-04-07T14:39:... \n",
      " lat                         | 34.25628             \n",
      " long                        | -78.04471            \n",
      " city                        | Leland               \n",
      " country                     | US                   \n",
      " timezone                    | America/New_York     \n",
      " air_quality_category        | 4                    \n",
      "only showing top 2 rows\n",
      "\n"
     ]
    }
   ],
   "source": [
    "df.show(2, vertical=True)"
   ]
  },
  {
   "cell_type": "markdown",
   "metadata": {
    "application/vnd.databricks.v1+cell": {
     "cellMetadata": {},
     "inputWidgets": {},
     "nuid": "1484d325-e30f-4722-abc9-edd980b6e110",
     "showTitle": false,
     "title": ""
    }
   },
   "source": [
    "To reduce precision in Spark, take a look at F.pys_round !"
   ]
  },
  {
   "cell_type": "code",
   "execution_count": null,
   "metadata": {
    "application/vnd.databricks.v1+cell": {
     "cellMetadata": {},
     "inputWidgets": {},
     "nuid": "353bc260-b3e0-4642-9362-924213fb10e2",
     "showTitle": false,
     "title": ""
    }
   },
   "outputs": [
    {
     "name": "stdout",
     "output_type": "stream",
     "text": [
      "All tests passed :)\n"
     ]
    }
   ],
   "source": [
    "#TODO reduce precision for the lat and long columns!\n",
    "def remove_column_precision(df,column_name):\n",
    "    #TODO\n",
    "    pass"
   ]
  },
  {
   "cell_type": "code",
   "execution_count": null,
   "metadata": {
    "application/vnd.databricks.v1+cell": {
     "cellMetadata": {},
     "inputWidgets": {},
     "nuid": "806be8b4-4d5d-4230-a01c-a585d45f7607",
     "showTitle": false,
     "title": ""
    }
   },
   "outputs": [
    {
     "name": "stdout",
     "output_type": "stream",
     "text": [
      "All tests passed :)\n"
     ]
    }
   ],
   "source": [
    "def test_remove_column_precision():\n",
    "  pandas_df = pd.DataFrame(\n",
    "      {\n",
    "          'id':  pd.Series([1, 2, 3]),\n",
    "          'lat': pd.Series([40.1234567, 42.9876543, 45.67890]),\n",
    "      }\n",
    "  )\n",
    "  expected_pandas_df = pd.DataFrame(\n",
    "      {\n",
    "          'id':  pd.Series([1, 2, 3]),\n",
    "          'lat': pd.Series([40.123, 42.988, 45.679]),\n",
    "      }\n",
    "  )\n",
    "  spark_df = spark.createDataFrame(pandas_df)\n",
    "  expected_df = spark.createDataFrame(expected_pandas_df)\n",
    "\n",
    "  fixed_df = remove_column_precision(spark_df,'lat')\n",
    "\n",
    "  assert fixed_df.schema == expected_df.schema\n",
    "  assert fixed_df.collect() == expected_df.collect()\n",
    "\n",
    "  print(\"All tests passed :)\")\n",
    "  \n",
    "test_remove_column_precision()"
   ]
  },
  {
   "cell_type": "markdown",
   "metadata": {
    "application/vnd.databricks.v1+cell": {
     "cellMetadata": {},
     "inputWidgets": {},
     "nuid": "57808e91-4bf0-4f24-b559-912c76dee2de",
     "showTitle": false,
     "title": ""
    }
   },
   "source": [
    "##### Solution"
   ]
  },
  {
   "cell_type": "code",
   "execution_count": null,
   "metadata": {
    "application/vnd.databricks.v1+cell": {
     "cellMetadata": {},
     "inputWidgets": {},
     "nuid": "62b2b673-ae8e-4de9-9c80-d42ee7423906",
     "showTitle": false,
     "title": ""
    }
   },
   "outputs": [],
   "source": [
    "#TODO reduce precision for the lat and long columns!\n",
    "def remove_column_precision(df,column_name):\n",
    "    return df.withColumn(column_name, F.round(column_name, 3))"
   ]
  },
  {
   "cell_type": "markdown",
   "metadata": {
    "application/vnd.databricks.v1+cell": {
     "cellMetadata": {},
     "inputWidgets": {},
     "nuid": "c7d8b083-9f34-45db-82fe-3647831f7289",
     "showTitle": false,
     "title": ""
    }
   },
   "source": [
    "Once you get the above working without error, you can fix the lat and long columns in your dataframe."
   ]
  },
  {
   "cell_type": "code",
   "execution_count": null,
   "metadata": {
    "application/vnd.databricks.v1+cell": {
     "cellMetadata": {},
     "inputWidgets": {},
     "nuid": "4d5acfb1-51ec-4af3-a659-2cd42e1821d2",
     "showTitle": false,
     "title": ""
    }
   },
   "outputs": [],
   "source": [
    "df = remove_column_precision(df,'lat')\n",
    "df = remove_column_precision(df,'long')"
   ]
  },
  {
   "cell_type": "markdown",
   "metadata": {
    "application/vnd.databricks.v1+cell": {
     "cellMetadata": {},
     "inputWidgets": {},
     "nuid": "6e93cfc4-f19e-4667-973e-06669762d2c9",
     "showTitle": false,
     "title": ""
    }
   },
   "source": [
    "What type of risk should we be aware of with regard to timestamp precision? When and how do we need to de-risk this  type of information?"
   ]
  },
  {
   "cell_type": "code",
   "execution_count": null,
   "metadata": {
    "application/vnd.databricks.v1+cell": {
     "cellMetadata": {},
     "inputWidgets": {},
     "nuid": "f836e490-7f82-4042-a182-0ad09425d774",
     "showTitle": false,
     "title": ""
    }
   },
   "outputs": [],
   "source": [
    "df = df.withColumn('timestamp', F.to_timestamp('timestamp'))\n"
   ]
  },
  {
   "cell_type": "markdown",
   "metadata": {
    "application/vnd.databricks.v1+cell": {
     "cellMetadata": {},
     "inputWidgets": {},
     "nuid": "ddd33a55-e8e5-4929-9932-06d22dacfa06",
     "showTitle": false,
     "title": ""
    }
   },
   "source": [
    "Try adding a new column called new_timestamp where you use F.unix_timestamp and F.rand to build a small amount of noise..."
   ]
  },
  {
   "cell_type": "code",
   "execution_count": null,
   "metadata": {
    "application/vnd.databricks.v1+cell": {
     "cellMetadata": {},
     "inputWidgets": {},
     "nuid": "1ed18a72-c0f5-491d-917a-2934c061a1fc",
     "showTitle": false,
     "title": ""
    }
   },
   "outputs": [],
   "source": [
    "new_df = cleaned_df\n",
    "  .withColumn(\"new_timestamp\", #TODO: finish this to add the column to your DF once you have experimented and like the result!)\n",
    "  .select(col(\"timestamp\"), col(\"new_timestamp\"))\n",
    "\n",
    "new_df.show(false)"
   ]
  },
  {
   "cell_type": "code",
   "execution_count": null,
   "metadata": {
    "application/vnd.databricks.v1+cell": {
     "cellMetadata": {},
     "inputWidgets": {},
     "nuid": "f9e1beed-58c7-41ae-9d03-3d5f33e85310",
     "showTitle": false,
     "title": ""
    }
   },
   "outputs": [],
   "source": [
    "from pyspark.sql.functions import to_timestamp, unix_timestamp, rand\n",
    "\n",
    "def test_add_random_time_intervals(spark):\n",
    "    # create a sample DataFrame\n",
    "    df = spark.createDataFrame([\n",
    "        ('2022-01-01 00:00:00', 1),\n",
    "        ('2022-01-01 01:00:00', 2),\n",
    "        ('2022-01-01 02:00:00', 3),\n",
    "        ('2022-01-01 03:00:00', 4),\n",
    "        ('2022-01-01 04:00:00', 5),\n",
    "    ], ['timestamp', 'value'])\n",
    "    cleaned_df = df.withColumn('timestamp', (unix_timestamp('timestamp') + \n",
    "                            (rand() * 60) + (rand() * 60 * 20)).cast('timestamp'))\n",
    "    assert 'timestamp' in cleaned_df.columns\n",
    "    assert 'value' in cleaned_df.columns\n",
    "    assert cleaned_df.filter(cleaned_df.timestamp != df.timestamp).count() == df.count()"
   ]
  },
  {
   "cell_type": "markdown",
   "metadata": {
    "application/vnd.databricks.v1+cell": {
     "cellMetadata": {},
     "inputWidgets": {},
     "nuid": "cab1566d-db75-4e12-8a1e-0c1988413de1",
     "showTitle": false,
     "title": ""
    }
   },
   "source": [
    "##### Solution"
   ]
  },
  {
   "cell_type": "code",
   "execution_count": null,
   "metadata": {
    "application/vnd.databricks.v1+cell": {
     "cellMetadata": {},
     "inputWidgets": {},
     "nuid": "ef8121e3-2a21-4295-b419-776d7a10f6e3",
     "showTitle": false,
     "title": ""
    }
   },
   "outputs": [],
   "source": [
    "df = df.withColumn(\"timestamp\", (unix_timestamp(col(\"timestamp\")) +\n",
    "                  (rand() * 60) + (rand() * 60 * 20)).cast(\"timestamp\"))"
   ]
  },
  {
   "cell_type": "markdown",
   "metadata": {
    "application/vnd.databricks.v1+cell": {
     "cellMetadata": {},
     "inputWidgets": {},
     "nuid": "b569611a-5261-455a-9642-615ec62deba6",
     "showTitle": false,
     "title": ""
    }
   },
   "source": [
    "Now we want to reorder so the data comes into the map in the proper order (for timeseries analysis)"
   ]
  },
  {
   "cell_type": "code",
   "execution_count": null,
   "metadata": {
    "application/vnd.databricks.v1+cell": {
     "cellMetadata": {},
     "inputWidgets": {},
     "nuid": "b76d5856-a256-4215-9a11-d9cde3f09ba1",
     "showTitle": false,
     "title": ""
    }
   },
   "outputs": [],
   "source": [
    "df = df.orderBy(df.timestamp.asc())\n"
   ]
  },
  {
   "cell_type": "code",
   "execution_count": null,
   "metadata": {
    "application/vnd.databricks.v1+cell": {
     "cellMetadata": {},
     "inputWidgets": {},
     "nuid": "8f9a24b2-9f22-4957-b9c8-99c3422d266a",
     "showTitle": false,
     "title": ""
    }
   },
   "outputs": [],
   "source": [
    "df.write.format('csv').save(f'{root_dir}/data/data_for_map.csv')"
   ]
  },
  {
   "cell_type": "markdown",
   "metadata": {
    "application/vnd.databricks.v1+cell": {
     "cellMetadata": {},
     "inputWidgets": {},
     "nuid": "9de7fdef-ff40-4a00-8719-b0f5641bde9e",
     "showTitle": false,
     "title": ""
    }
   },
   "source": [
    "This is a graphic from Wikipedia showing the so-called \"CIA\" triad, showing some of the core concepts we want to ensure to guarantee data security. Let's review them together:\n",
    "\n",
    "- **Confidentiality:** Data is kept confidential, meaning only those who should be able to access it can do so, and fine-tuned access is available and enforced.\n",
    "- **Integrity:** Data is accurate and cannot easily be changed or tampered with by internal or external actors in a malicious way.\n",
    "- **Availability:** Data fulfills any service-level objectives (SLOs) or service-level agreements (SLAs) and is made available in a secure and user-friendly manner. \n",
    "\n",
    "So translated into data engineering context, this means that:\n",
    "\n",
    "- Our data workflows enforce access-control restrictions, data protections or minimizations related to confidentiality and ensure sinks and sources match the encryption requirements we expect for the data sensitivity.\n",
    "- Our data workflows do not mangle data, maintain data quality principles outlined by governance processes and alert should malicious activity be detected.\n",
    "- Our data wofkflows meet SLOs/SLAs outlined by the data consumers and dependant data products."
   ]
  },
  {
   "cell_type": "markdown",
   "metadata": {
    "application/vnd.databricks.v1+cell": {
     "cellMetadata": {},
     "inputWidgets": {},
     "nuid": "7adbd130-830b-4239-9527-651f18387dc6",
     "showTitle": false,
     "title": ""
    }
   },
   "source": [
    "### What about Privacy? 🦹🏻\n",
    "\n",
    "A foundational concept when it comes to designing privacy-respecting systems is the Privacy by Design principles outlined by [Anne Cavoukian in 2006](https://iapp.org/media/pdf/resource_center/pbd_implement_7found_principles.pdf).\n",
    "\n",
    "Let's pull out a few of the principles that relate to our work as data engineers...\n",
    "\n",
    "- **Proactive not Reactive; Preventative not Remedial:** Privacy is built into our architecture and data flows as we start building them. Think of this as the privacy version of TDD -- we write the privacy requirements first and design and build systems to fit them, not the other way around!\n",
    "- **Privacy as the Default Setting:** We optimize systems so that privacy is on by default, and changes to that are user-driven! This means tracking things like consent, implementing processes for data minimization and ensuring lineage and governance data is available to data consumers or dependant data products.\n",
    "- **Full Functionality – Positive-Sum, not Zero-Sum:** Data privacy is a benefit for the business, technologists and users, meaning we ensure that it is not a tradeoff in our product design. Users who choose privacy protections (or users who have them on automatically, by default, right?) receive full functionality.\n",
    "- **End-to-End Security – Full Lifecycle Protection:** Data is secured properly and for it's entire lifecycle (from collection endpoint to deletion!). Here is our big intersection with the security requirements.\n",
    "\n",
    "\n",
    "What does this mean for our data engineering work?\n",
    "\n",
    "- Our data workflows have privacy protections outlined and architected in before any code is written. We test for these and ensure they are working properly, should anything change.\n",
    "- Privacy is turned on by default, and any \"unknown\" data flows have privacy added to them when they enter into our systems or are discovered (e.g. in cases of unknown data storages or data from third parties).\n",
    "- We work directly with data producers and consumers (and other stakeholders, such as legal or privacy professionals) to find sweet spots that offer the appropriate protection for users and utility for business needs. Approach this as a postive-sum game and remember that user-centric choices are always a good business investment.\n",
    "- We design secure workflows that ensure that all user-related or person-related data is properly secured using standards from data security best practices (like our CIA triad!)\n",
    "\n",
    "\n",
    "#### Privacy and Information Continuum\n",
    "\n",
    "One useful way to begin shifting your understanding of privacy is to start thinking about it as a point on a spectrum instead of something that is \"on\" or \"off\". Here we can see that we can have a full range of points on a continuum, where privacy and information are somewhat at odds with one another. When we have full information, we have no privacy guarantees. When we have complete privacy, we cannot do our job as data people! Finding the right balance is the difficult and fun part of privacy in data science!"
   ]
  },
  {
   "cell_type": "markdown",
   "metadata": {
    "application/vnd.databricks.v1+cell": {
     "cellMetadata": {},
     "inputWidgets": {},
     "nuid": "5d6983e4-ff33-4fa8-a51d-15e25e4c94b3",
     "showTitle": false,
     "title": ""
    }
   },
   "source": [
    "### Congratulations!! \n",
    "\n",
    "You've walked through potential privacy snags and helped increase the protection for the individuals sending you their air quality details! Now developers can use this dataset and we have ensured that there are some base protections. As you may have noticed, it wasn't always obvious what we should do -- but by thinking through each data type and determining what worked to balance the utility of the data and the privacy we want to offer, we were able to find some ways to protect individuals. \n",
    "\n",
    "A good set of questions to ask for guidance is:\n",
    "\n",
    "- Where will this data be accessed and used? How safe is this environment?\n",
    "- What person-related data do we actually need to use to deliver this service or product? (data minimization!)\n",
    "- What other protections will be added to this data before it is seen or used? (i.e. encryption at rest, access control systems, or other protections when it reaches another processing point or sink!)\n",
    "- What privacy and security expectations do we want to set for the individuals in this dataset?\n",
    "- Where can we opportunistically add more protection while not hindering the work of data scientists, data analysts, software engineers and other colleagues?\n",
    "\n",
    "\n",
    "As you continue on in your data engineering journey, you'll likely encounter many more situations where you'll need to make privacy and security decisions. If you'd like to learn more and even work as a privacy or security champion -- feel free to join in your organizations' programs to support topics like this!"
   ]
  },
  {
   "cell_type": "code",
   "execution_count": null,
   "metadata": {
    "application/vnd.databricks.v1+cell": {
     "cellMetadata": {},
     "inputWidgets": {},
     "nuid": "4432fbaf-023f-4848-bc22-7cca4a8bc4e2",
     "showTitle": false,
     "title": ""
    }
   },
   "outputs": [],
   "source": []
  },
  {
   "cell_type": "code",
   "execution_count": null,
   "metadata": {
    "application/vnd.databricks.v1+cell": {
     "cellMetadata": {},
     "inputWidgets": {},
     "nuid": "ec34615b-740a-48c1-8961-be5e59067605",
     "showTitle": false,
     "title": ""
    }
   },
   "outputs": [],
   "source": []
  }
 ],
 "metadata": {
  "application/vnd.databricks.v1+notebook": {
   "dashboards": [],
   "language": "python",
   "notebookMetadata": {
    "pythonIndentUnit": 4
   },
   "notebookName": "Security and Privacy in Data Engineering",
   "notebookOrigID": 2812539252775309,
   "widgets": {}
  },
  "kernelspec": {
   "display_name": "Python 3.7.15 64-bit ('3.7.15')",
   "language": "python",
   "name": "python3"
  },
  "language_info": {
   "codemirror_mode": {
    "name": "ipython",
    "version": 3
   },
   "file_extension": ".py",
   "mimetype": "text/x-python",
   "name": "python",
   "nbconvert_exporter": "python",
   "pygments_lexer": "ipython3",
   "version": "3.7.15"
  },
  "vscode": {
   "interpreter": {
    "hash": "e1754bd76ad55f657f0f06e45786eb0039857ccaca0a92f6e80f8ff4a9b231b8"
   }
  }
 },
 "nbformat": 4,
 "nbformat_minor": 0
}
